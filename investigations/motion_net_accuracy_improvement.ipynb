{
 "cells": [
  {
   "cell_type": "markdown",
   "metadata": {},
   "source": [
    "## Improving accuracy\n",
    "\n",
    "    Its difficult to imagine what else to do to improve results. Will try with a stack size of 1 (L=1), which is a 2 channel image effectively. Need to look at the \n",
    "    1. Whether the channels are effectively represented need to look \n",
    "    2. Attempt cross modality to use image net weights\n",
    "    3.\n",
    "    "
   ]
  },
  {
   "cell_type": "code",
   "execution_count": 1,
   "metadata": {},
   "outputs": [],
   "source": [
    "import os\n",
    "import sys\n",
    "\n",
    "\n",
    "up1 = os.path.abspath('../utils/') \n",
    "up2 = os.path.abspath('../models/') \n",
    "sys.path.insert(0, up1)\n",
    "sys.path.insert(0, up2)"
   ]
  },
  {
   "cell_type": "code",
   "execution_count": 2,
   "metadata": {},
   "outputs": [
    {
     "name": "stderr",
     "output_type": "stream",
     "text": [
      "/home/ubuntu/anaconda3/envs/tensorflow_p36/lib/python3.6/site-packages/h5py/__init__.py:36: FutureWarning: Conversion of the second argument of issubdtype from `float` to `np.floating` is deprecated. In future, it will be treated as `np.float64 == np.dtype(float).type`.\n",
      "  from ._conv import register_converters as _register_converters\n",
      "Using TensorFlow backend.\n",
      "/home/ubuntu/anaconda3/envs/tensorflow_p36/lib/python3.6/site-packages/matplotlib/__init__.py:1067: UserWarning: Duplicate key in file \"/home/ubuntu/.config/matplotlib/matplotlibrc\", line #2\n",
      "  (fname, cnt))\n",
      "/home/ubuntu/anaconda3/envs/tensorflow_p36/lib/python3.6/site-packages/matplotlib/__init__.py:1067: UserWarning: Duplicate key in file \"/home/ubuntu/.config/matplotlib/matplotlibrc\", line #3\n",
      "  (fname, cnt))\n"
     ]
    }
   ],
   "source": [
    "from optical_flow_data_gen import DataGenerator\n",
    "from ucf101_data_utils import get_test_data_opt_flow, get_train_data_opt_flow\n",
    "from motion_network import getVggMotionModel\n",
    "from spatial_network import getVggModel\n",
    "from keras.optimizers import SGD\n",
    "from matplotlib import pyplot as plt\n",
    "from keras.optimizers import SGD\n",
    "import cv2 "
   ]
  },
  {
   "cell_type": "markdown",
   "metadata": {},
   "source": [
    "# Cross Modality "
   ]
  },
  {
   "cell_type": "code",
   "execution_count": 1,
   "metadata": {},
   "outputs": [
    {
     "ename": "NameError",
     "evalue": "name 'getVggMotionModel' is not defined",
     "output_type": "error",
     "traceback": [
      "\u001b[0;31m---------------------------------------------------------------------------\u001b[0m",
      "\u001b[0;31mNameError\u001b[0m                                 Traceback (most recent call last)",
      "\u001b[0;32m<ipython-input-1-d5982bc1fd3f>\u001b[0m in \u001b[0;36m<module>\u001b[0;34m()\u001b[0m\n\u001b[0;32m----> 1\u001b[0;31m \u001b[0mmotion_model\u001b[0m\u001b[0;34m=\u001b[0m\u001b[0mgetVggMotionModel\u001b[0m\u001b[0;34m(\u001b[0m\u001b[0;34m(\u001b[0m\u001b[0;36m224\u001b[0m\u001b[0;34m,\u001b[0m\u001b[0;36m224\u001b[0m\u001b[0;34m,\u001b[0m\u001b[0;36m2\u001b[0m\u001b[0;34m)\u001b[0m\u001b[0;34m,\u001b[0m \u001b[0;36m101\u001b[0m\u001b[0;34m)\u001b[0m\u001b[0;34m\u001b[0m\u001b[0m\n\u001b[0m",
      "\u001b[0;31mNameError\u001b[0m: name 'getVggMotionModel' is not defined"
     ]
    }
   ],
   "source": [
    "motion_model=getVggMotionModel((224,224,2), 101)"
   ]
  },
  {
   "cell_type": "code",
   "execution_count": 4,
   "metadata": {},
   "outputs": [],
   "source": [
    "v  = motion_model.layers[1].get_weights()"
   ]
  },
  {
   "cell_type": "code",
   "execution_count": 5,
   "metadata": {},
   "outputs": [
    {
     "data": {
      "text/plain": [
       "2"
      ]
     },
     "execution_count": 5,
     "metadata": {},
     "output_type": "execute_result"
    }
   ],
   "source": [
    "len(v)"
   ]
  },
  {
   "cell_type": "code",
   "execution_count": 6,
   "metadata": {},
   "outputs": [
    {
     "data": {
      "text/plain": [
       "(3, 3, 2, 64)"
      ]
     },
     "execution_count": 6,
     "metadata": {},
     "output_type": "execute_result"
    }
   ],
   "source": [
    "v[0].shape"
   ]
  },
  {
   "cell_type": "code",
   "execution_count": 7,
   "metadata": {},
   "outputs": [
    {
     "data": {
      "text/plain": [
       "(64,)"
      ]
     },
     "execution_count": 7,
     "metadata": {},
     "output_type": "execute_result"
    }
   ],
   "source": [
    "v[1].shape"
   ]
  },
  {
   "cell_type": "code",
   "execution_count": 4,
   "metadata": {},
   "outputs": [
    {
     "name": "stdout",
     "output_type": "stream",
     "text": [
      "_________________________________________________________________\n",
      "Layer (type)                 Output Shape              Param #   \n",
      "=================================================================\n",
      "input_2 (InputLayer)         (None, 224, 224, 3)       0         \n",
      "_________________________________________________________________\n",
      "block1_conv1 (Conv2D)        (None, 224, 224, 64)      1792      \n",
      "_________________________________________________________________\n",
      "block1_conv2 (Conv2D)        (None, 224, 224, 64)      36928     \n",
      "_________________________________________________________________\n",
      "block1_pool (MaxPooling2D)   (None, 112, 112, 64)      0         \n",
      "_________________________________________________________________\n",
      "block2_conv1 (Conv2D)        (None, 112, 112, 128)     73856     \n",
      "_________________________________________________________________\n",
      "block2_conv2 (Conv2D)        (None, 112, 112, 128)     147584    \n",
      "_________________________________________________________________\n",
      "block2_pool (MaxPooling2D)   (None, 56, 56, 128)       0         \n",
      "_________________________________________________________________\n",
      "block3_conv1 (Conv2D)        (None, 56, 56, 256)       295168    \n",
      "_________________________________________________________________\n",
      "block3_conv2 (Conv2D)        (None, 56, 56, 256)       590080    \n",
      "_________________________________________________________________\n",
      "block3_conv3 (Conv2D)        (None, 56, 56, 256)       590080    \n",
      "_________________________________________________________________\n",
      "block3_pool (MaxPooling2D)   (None, 28, 28, 256)       0         \n",
      "_________________________________________________________________\n",
      "block4_conv1 (Conv2D)        (None, 28, 28, 512)       1180160   \n",
      "_________________________________________________________________\n",
      "block4_conv2 (Conv2D)        (None, 28, 28, 512)       2359808   \n",
      "_________________________________________________________________\n",
      "block4_conv3 (Conv2D)        (None, 28, 28, 512)       2359808   \n",
      "_________________________________________________________________\n",
      "block4_pool (MaxPooling2D)   (None, 14, 14, 512)       0         \n",
      "_________________________________________________________________\n",
      "block5_conv1 (Conv2D)        (None, 14, 14, 512)       2359808   \n",
      "_________________________________________________________________\n",
      "block5_conv2 (Conv2D)        (None, 14, 14, 512)       2359808   \n",
      "_________________________________________________________________\n",
      "block5_conv3 (Conv2D)        (None, 14, 14, 512)       2359808   \n",
      "_________________________________________________________________\n",
      "block5_pool (MaxPooling2D)   (None, 7, 7, 512)         0         \n",
      "_________________________________________________________________\n",
      "flatten_2 (Flatten)          (None, 25088)             0         \n",
      "_________________________________________________________________\n",
      "dense_3 (Dense)              (None, 256)               6422784   \n",
      "_________________________________________________________________\n",
      "dense_4 (Dense)              (None, 101)               25957     \n",
      "=================================================================\n",
      "Total params: 21,163,429\n",
      "Trainable params: 6,448,741\n",
      "Non-trainable params: 14,714,688\n",
      "_________________________________________________________________\n"
     ]
    }
   ],
   "source": [
    "spatial_model=getVggModel((224,224,3))"
   ]
  },
  {
   "cell_type": "code",
   "execution_count": 7,
   "metadata": {},
   "outputs": [
    {
     "name": "stdout",
     "output_type": "stream",
     "text": [
      "(3, 3, 3, 64)\n",
      "[ 0.73429835  0.09340367  0.06775674  0.8862966   0.25994542  0.66426694\n",
      " -0.01582893  0.3249065   0.68600726  0.06247932  0.58156496  0.2361475\n",
      "  0.69694996  0.19451167  0.4858922   0.44571847  0.5113422   0.208576\n",
      "  0.57557714  0.33199573  0.4997983   0.7117759   0.30284074  0.7082712\n",
      "  0.04548979  0.7446502   0.29845494  0.48211655  0.81658626  0.62603897\n",
      "  0.3768093   2.064037    0.77311045  0.3459577   0.6130958   0.65459156\n",
      "  0.39045632  0.50869167  0.2625384   0.23669638  0.07971057  1.1179353\n",
      "  0.26129362  0.8697589   0.21543622  0.78007823  0.37015367  0.47993386\n",
      "  0.4313978   0.5084194   0.23049663  0.7636527   0.35419866  0.45794216\n",
      "  0.4662595   0.09850298  0.3803252   0.66880196  0.4015123   0.90510356\n",
      "  0.43166816  1.302014    0.5306885   0.48993504]\n"
     ]
    }
   ],
   "source": [
    "v  = spatial_model.layers[1].get_weights()\n",
    "len(v)\n",
    "print(v[0].shape)\n",
    "print(v[1])"
   ]
  },
  {
   "cell_type": "markdown",
   "metadata": {},
   "source": [
    "# Stacking Correctness \n",
    "\n",
    "    One question I have is if stacking is being done correctly. An aside to this is there a recognizable pattern for classese in their stack frames (Could you sequence them for better accuracy??) "
   ]
  },
  {
   "cell_type": "code",
   "execution_count": 5,
   "metadata": {},
   "outputs": [],
   "source": [
    "params_train = { 'data_dir' : \"/data/tvl1_flow\",\n",
    "          'dim': (224,224),\n",
    "          'batch_size': 32,\n",
    "          'n_frames': 1,\n",
    "          'n_frequency': 1,\n",
    "          'shuffle': True, \n",
    "           'validation' : False}\n",
    "\n",
    "params_valid = { 'data_dir' : \"/data/tvl1_flow\",\n",
    "          'dim': (224,224),\n",
    "          'batch_size': 32,\n",
    "          'n_frames': 1,\n",
    "          'n_frequency': 1,\n",
    "          'shuffle': True, \n",
    "           'validation' : True}"
   ]
  },
  {
   "cell_type": "code",
   "execution_count": 6,
   "metadata": {},
   "outputs": [],
   "source": [
    "id_labels_train = get_train_data_opt_flow('../data/ucf101_splits/trainlist01.txt')\n",
    "labels = id_labels_train[1]\n",
    "id_test = get_test_data_opt_flow('../data/ucf101_splits/testlist01.txt', \\\n",
    "                       '../data/ucf101_splits/classInd.txt')\n",
    "\n",
    "training_generator = DataGenerator(*id_labels_train, **params_train)\n",
    "\n",
    "\n",
    "validation_generator = DataGenerator(id_test[0], id_test[1], **params_valid)"
   ]
  },
  {
   "cell_type": "code",
   "execution_count": 7,
   "metadata": {},
   "outputs": [
    {
     "data": {
      "text/plain": [
       "(32, 224, 224, 2)"
      ]
     },
     "execution_count": 7,
     "metadata": {},
     "output_type": "execute_result"
    }
   ],
   "source": [
    "X = None\n",
    "y = None\n",
    "dirs = None\n",
    "\n",
    "for (_x, _y) in validation_generator:\n",
    "    X = _x\n",
    "    y = _y\n",
    "    break\n",
    "X.shape"
   ]
  },
  {
   "cell_type": "code",
   "execution_count": 20,
   "metadata": {},
   "outputs": [
    {
     "data": {
      "text/plain": [
       "<matplotlib.image.AxesImage at 0x7f9f37383da0>"
      ]
     },
     "execution_count": 20,
     "metadata": {},
     "output_type": "execute_result"
    },
    {
     "data": {
      "image/png": "[encoded data removed]",
      "text/plain": [
       "<Figure size 432x288 with 1 Axes>"
      ]
     },
     "metadata": {},
     "output_type": "display_data"
    }
   ],
   "source": [
    "plt.imshow(X[2,:,:,2])"
   ]
  },
  {
   "cell_type": "code",
   "execution_count": 17,
   "metadata": {},
   "outputs": [
    {
     "data": {
      "text/plain": [
       "[['/data/tvl1_flow/u/v_RockClimbingIndoor_g05_c04/frame000307.jpg',\n",
       "  '/data/tvl1_flow/u/v_RockClimbingIndoor_g05_c04/frame000308.jpg',\n",
       "  '/data/tvl1_flow/u/v_RockClimbingIndoor_g05_c04/frame000309.jpg',\n",
       "  '/data/tvl1_flow/u/v_RockClimbingIndoor_g05_c04/frame000310.jpg',\n",
       "  '/data/tvl1_flow/u/v_RockClimbingIndoor_g05_c04/frame000311.jpg'],\n",
       " ['/data/tvl1_flow/u/v_HeadMassage_g03_c04/frame000193.jpg',\n",
       "  '/data/tvl1_flow/u/v_HeadMassage_g03_c04/frame000194.jpg',\n",
       "  '/data/tvl1_flow/u/v_HeadMassage_g03_c04/frame000195.jpg',\n",
       "  '/data/tvl1_flow/u/v_HeadMassage_g03_c04/frame000196.jpg',\n",
       "  '/data/tvl1_flow/u/v_HeadMassage_g03_c04/frame000197.jpg'],\n",
       " ['/data/tvl1_flow/u/v_YoYo_g01_c05/frame000152.jpg',\n",
       "  '/data/tvl1_flow/u/v_YoYo_g01_c05/frame000153.jpg',\n",
       "  '/data/tvl1_flow/u/v_YoYo_g01_c05/frame000154.jpg',\n",
       "  '/data/tvl1_flow/u/v_YoYo_g01_c05/frame000155.jpg',\n",
       "  '/data/tvl1_flow/u/v_YoYo_g01_c05/frame000156.jpg'],\n",
       " ['/data/tvl1_flow/u/v_CuttingInKitchen_g03_c02/frame000059.jpg',\n",
       "  '/data/tvl1_flow/u/v_CuttingInKitchen_g03_c02/frame000060.jpg',\n",
       "  '/data/tvl1_flow/u/v_CuttingInKitchen_g03_c02/frame000061.jpg',\n",
       "  '/data/tvl1_flow/u/v_CuttingInKitchen_g03_c02/frame000062.jpg',\n",
       "  '/data/tvl1_flow/u/v_CuttingInKitchen_g03_c02/frame000063.jpg'],\n",
       " ['/data/tvl1_flow/u/v_WritingOnBoard_g01_c07/frame000060.jpg',\n",
       "  '/data/tvl1_flow/u/v_WritingOnBoard_g01_c07/frame000061.jpg',\n",
       "  '/data/tvl1_flow/u/v_WritingOnBoard_g01_c07/frame000062.jpg',\n",
       "  '/data/tvl1_flow/u/v_WritingOnBoard_g01_c07/frame000063.jpg',\n",
       "  '/data/tvl1_flow/u/v_WritingOnBoard_g01_c07/frame000064.jpg'],\n",
       " ['/data/tvl1_flow/u/v_RockClimbingIndoor_g06_c03/frame000102.jpg',\n",
       "  '/data/tvl1_flow/u/v_RockClimbingIndoor_g06_c03/frame000103.jpg',\n",
       "  '/data/tvl1_flow/u/v_RockClimbingIndoor_g06_c03/frame000104.jpg',\n",
       "  '/data/tvl1_flow/u/v_RockClimbingIndoor_g06_c03/frame000105.jpg',\n",
       "  '/data/tvl1_flow/u/v_RockClimbingIndoor_g06_c03/frame000106.jpg'],\n",
       " ['/data/tvl1_flow/u/v_Billiards_g03_c03/frame000053.jpg',\n",
       "  '/data/tvl1_flow/u/v_Billiards_g03_c03/frame000054.jpg',\n",
       "  '/data/tvl1_flow/u/v_Billiards_g03_c03/frame000055.jpg',\n",
       "  '/data/tvl1_flow/u/v_Billiards_g03_c03/frame000056.jpg',\n",
       "  '/data/tvl1_flow/u/v_Billiards_g03_c03/frame000057.jpg'],\n",
       " ['/data/tvl1_flow/u/v_YoYo_g01_c07/frame000078.jpg',\n",
       "  '/data/tvl1_flow/u/v_YoYo_g01_c07/frame000079.jpg',\n",
       "  '/data/tvl1_flow/u/v_YoYo_g01_c07/frame000080.jpg',\n",
       "  '/data/tvl1_flow/u/v_YoYo_g01_c07/frame000081.jpg',\n",
       "  '/data/tvl1_flow/u/v_YoYo_g01_c07/frame000082.jpg'],\n",
       " ['/data/tvl1_flow/u/v_TennisSwing_g05_c01/frame000010.jpg',\n",
       "  '/data/tvl1_flow/u/v_TennisSwing_g05_c01/frame000011.jpg',\n",
       "  '/data/tvl1_flow/u/v_TennisSwing_g05_c01/frame000012.jpg',\n",
       "  '/data/tvl1_flow/u/v_TennisSwing_g05_c01/frame000013.jpg',\n",
       "  '/data/tvl1_flow/u/v_TennisSwing_g05_c01/frame000014.jpg'],\n",
       " ['/data/tvl1_flow/u/v_Drumming_g02_c03/frame000269.jpg',\n",
       "  '/data/tvl1_flow/u/v_Drumming_g02_c03/frame000270.jpg',\n",
       "  '/data/tvl1_flow/u/v_Drumming_g02_c03/frame000271.jpg',\n",
       "  '/data/tvl1_flow/u/v_Drumming_g02_c03/frame000272.jpg',\n",
       "  '/data/tvl1_flow/u/v_Drumming_g02_c03/frame000273.jpg'],\n",
       " ['/data/tvl1_flow/u/v_HammerThrow_g02_c05/frame000046.jpg',\n",
       "  '/data/tvl1_flow/u/v_HammerThrow_g02_c05/frame000047.jpg',\n",
       "  '/data/tvl1_flow/u/v_HammerThrow_g02_c05/frame000048.jpg',\n",
       "  '/data/tvl1_flow/u/v_HammerThrow_g02_c05/frame000049.jpg',\n",
       "  '/data/tvl1_flow/u/v_HammerThrow_g02_c05/frame000050.jpg'],\n",
       " ['/data/tvl1_flow/u/v_PlayingDaf_g05_c05/frame000131.jpg',\n",
       "  '/data/tvl1_flow/u/v_PlayingDaf_g05_c05/frame000132.jpg',\n",
       "  '/data/tvl1_flow/u/v_PlayingDaf_g05_c05/frame000133.jpg',\n",
       "  '/data/tvl1_flow/u/v_PlayingDaf_g05_c05/frame000134.jpg',\n",
       "  '/data/tvl1_flow/u/v_PlayingDaf_g05_c05/frame000135.jpg'],\n",
       " ['/data/tvl1_flow/u/v_Swing_g05_c01/frame000072.jpg',\n",
       "  '/data/tvl1_flow/u/v_Swing_g05_c01/frame000073.jpg',\n",
       "  '/data/tvl1_flow/u/v_Swing_g05_c01/frame000074.jpg',\n",
       "  '/data/tvl1_flow/u/v_Swing_g05_c01/frame000075.jpg',\n",
       "  '/data/tvl1_flow/u/v_Swing_g05_c01/frame000076.jpg'],\n",
       " ['/data/tvl1_flow/u/v_BasketballDunk_g07_c01/frame000004.jpg',\n",
       "  '/data/tvl1_flow/u/v_BasketballDunk_g07_c01/frame000005.jpg',\n",
       "  '/data/tvl1_flow/u/v_BasketballDunk_g07_c01/frame000006.jpg',\n",
       "  '/data/tvl1_flow/u/v_BasketballDunk_g07_c01/frame000007.jpg',\n",
       "  '/data/tvl1_flow/u/v_BasketballDunk_g07_c01/frame000008.jpg'],\n",
       " ['/data/tvl1_flow/u/v_Swing_g02_c05/frame000069.jpg',\n",
       "  '/data/tvl1_flow/u/v_Swing_g02_c05/frame000070.jpg',\n",
       "  '/data/tvl1_flow/u/v_Swing_g02_c05/frame000071.jpg',\n",
       "  '/data/tvl1_flow/u/v_Swing_g02_c05/frame000072.jpg',\n",
       "  '/data/tvl1_flow/u/v_Swing_g02_c05/frame000073.jpg'],\n",
       " ['/data/tvl1_flow/u/v_HulaHoop_g04_c03/frame000029.jpg',\n",
       "  '/data/tvl1_flow/u/v_HulaHoop_g04_c03/frame000030.jpg',\n",
       "  '/data/tvl1_flow/u/v_HulaHoop_g04_c03/frame000031.jpg',\n",
       "  '/data/tvl1_flow/u/v_HulaHoop_g04_c03/frame000032.jpg',\n",
       "  '/data/tvl1_flow/u/v_HulaHoop_g04_c03/frame000033.jpg'],\n",
       " ['/data/tvl1_flow/u/v_PlayingGuitar_g06_c03/frame000196.jpg',\n",
       "  '/data/tvl1_flow/u/v_PlayingGuitar_g06_c03/frame000197.jpg',\n",
       "  '/data/tvl1_flow/u/v_PlayingGuitar_g06_c03/frame000198.jpg',\n",
       "  '/data/tvl1_flow/u/v_PlayingGuitar_g06_c03/frame000199.jpg',\n",
       "  '/data/tvl1_flow/u/v_PlayingGuitar_g06_c03/frame000200.jpg'],\n",
       " ['/data/tvl1_flow/u/v_JumpRope_g02_c04/frame000115.jpg',\n",
       "  '/data/tvl1_flow/u/v_JumpRope_g02_c04/frame000116.jpg',\n",
       "  '/data/tvl1_flow/u/v_JumpRope_g02_c04/frame000117.jpg',\n",
       "  '/data/tvl1_flow/u/v_JumpRope_g02_c04/frame000118.jpg',\n",
       "  '/data/tvl1_flow/u/v_JumpRope_g02_c04/frame000119.jpg'],\n",
       " ['/data/tvl1_flow/u/v_MilitaryParade_g01_c01/frame000052.jpg',\n",
       "  '/data/tvl1_flow/u/v_MilitaryParade_g01_c01/frame000053.jpg',\n",
       "  '/data/tvl1_flow/u/v_MilitaryParade_g01_c01/frame000054.jpg',\n",
       "  '/data/tvl1_flow/u/v_MilitaryParade_g01_c01/frame000055.jpg',\n",
       "  '/data/tvl1_flow/u/v_MilitaryParade_g01_c01/frame000056.jpg'],\n",
       " ['/data/tvl1_flow/u/v_PizzaTossing_g06_c05/frame000099.jpg',\n",
       "  '/data/tvl1_flow/u/v_PizzaTossing_g06_c05/frame000100.jpg',\n",
       "  '/data/tvl1_flow/u/v_PizzaTossing_g06_c05/frame000101.jpg',\n",
       "  '/data/tvl1_flow/u/v_PizzaTossing_g06_c05/frame000102.jpg',\n",
       "  '/data/tvl1_flow/u/v_PizzaTossing_g06_c05/frame000103.jpg'],\n",
       " ['/data/tvl1_flow/u/v_RopeClimbing_g06_c04/frame000089.jpg',\n",
       "  '/data/tvl1_flow/u/v_RopeClimbing_g06_c04/frame000090.jpg',\n",
       "  '/data/tvl1_flow/u/v_RopeClimbing_g06_c04/frame000091.jpg',\n",
       "  '/data/tvl1_flow/u/v_RopeClimbing_g06_c04/frame000092.jpg',\n",
       "  '/data/tvl1_flow/u/v_RopeClimbing_g06_c04/frame000093.jpg'],\n",
       " ['/data/tvl1_flow/u/v_CliffDiving_g06_c06/frame000039.jpg',\n",
       "  '/data/tvl1_flow/u/v_CliffDiving_g06_c06/frame000040.jpg',\n",
       "  '/data/tvl1_flow/u/v_CliffDiving_g06_c06/frame000041.jpg',\n",
       "  '/data/tvl1_flow/u/v_CliffDiving_g06_c06/frame000042.jpg',\n",
       "  '/data/tvl1_flow/u/v_CliffDiving_g06_c06/frame000043.jpg'],\n",
       " ['/data/tvl1_flow/u/v_SoccerPenalty_g06_c03/frame000040.jpg',\n",
       "  '/data/tvl1_flow/u/v_SoccerPenalty_g06_c03/frame000041.jpg',\n",
       "  '/data/tvl1_flow/u/v_SoccerPenalty_g06_c03/frame000042.jpg',\n",
       "  '/data/tvl1_flow/u/v_SoccerPenalty_g06_c03/frame000043.jpg',\n",
       "  '/data/tvl1_flow/u/v_SoccerPenalty_g06_c03/frame000044.jpg'],\n",
       " ['/data/tvl1_flow/u/v_RockClimbingIndoor_g06_c05/frame000284.jpg',\n",
       "  '/data/tvl1_flow/u/v_RockClimbingIndoor_g06_c05/frame000285.jpg',\n",
       "  '/data/tvl1_flow/u/v_RockClimbingIndoor_g06_c05/frame000286.jpg',\n",
       "  '/data/tvl1_flow/u/v_RockClimbingIndoor_g06_c05/frame000287.jpg',\n",
       "  '/data/tvl1_flow/u/v_RockClimbingIndoor_g06_c05/frame000288.jpg'],\n",
       " ['/data/tvl1_flow/u/v_BoxingPunchingBag_g07_c04/frame000238.jpg',\n",
       "  '/data/tvl1_flow/u/v_BoxingPunchingBag_g07_c04/frame000239.jpg',\n",
       "  '/data/tvl1_flow/u/v_BoxingPunchingBag_g07_c04/frame000240.jpg',\n",
       "  '/data/tvl1_flow/u/v_BoxingPunchingBag_g07_c04/frame000241.jpg',\n",
       "  '/data/tvl1_flow/u/v_BoxingPunchingBag_g07_c04/frame000242.jpg'],\n",
       " ['/data/tvl1_flow/u/v_CleanAndJerk_g06_c03/frame000064.jpg',\n",
       "  '/data/tvl1_flow/u/v_CleanAndJerk_g06_c03/frame000065.jpg',\n",
       "  '/data/tvl1_flow/u/v_CleanAndJerk_g06_c03/frame000066.jpg',\n",
       "  '/data/tvl1_flow/u/v_CleanAndJerk_g06_c03/frame000067.jpg',\n",
       "  '/data/tvl1_flow/u/v_CleanAndJerk_g06_c03/frame000068.jpg'],\n",
       " ['/data/tvl1_flow/u/v_Archery_g07_c02/frame000047.jpg',\n",
       "  '/data/tvl1_flow/u/v_Archery_g07_c02/frame000048.jpg',\n",
       "  '/data/tvl1_flow/u/v_Archery_g07_c02/frame000049.jpg',\n",
       "  '/data/tvl1_flow/u/v_Archery_g07_c02/frame000050.jpg',\n",
       "  '/data/tvl1_flow/u/v_Archery_g07_c02/frame000051.jpg'],\n",
       " ['/data/tvl1_flow/u/v_PlayingDaf_g02_c05/frame000192.jpg',\n",
       "  '/data/tvl1_flow/u/v_PlayingDaf_g02_c05/frame000193.jpg',\n",
       "  '/data/tvl1_flow/u/v_PlayingDaf_g02_c05/frame000194.jpg',\n",
       "  '/data/tvl1_flow/u/v_PlayingDaf_g02_c05/frame000195.jpg',\n",
       "  '/data/tvl1_flow/u/v_PlayingDaf_g02_c05/frame000196.jpg'],\n",
       " ['/data/tvl1_flow/u/v_TrampolineJumping_g07_c03/frame000120.jpg',\n",
       "  '/data/tvl1_flow/u/v_TrampolineJumping_g07_c03/frame000121.jpg',\n",
       "  '/data/tvl1_flow/u/v_TrampolineJumping_g07_c03/frame000122.jpg',\n",
       "  '/data/tvl1_flow/u/v_TrampolineJumping_g07_c03/frame000123.jpg',\n",
       "  '/data/tvl1_flow/u/v_TrampolineJumping_g07_c03/frame000124.jpg'],\n",
       " ['/data/tvl1_flow/u/v_PlayingSitar_g01_c03/frame000020.jpg',\n",
       "  '/data/tvl1_flow/u/v_PlayingSitar_g01_c03/frame000021.jpg',\n",
       "  '/data/tvl1_flow/u/v_PlayingSitar_g01_c03/frame000022.jpg',\n",
       "  '/data/tvl1_flow/u/v_PlayingSitar_g01_c03/frame000023.jpg',\n",
       "  '/data/tvl1_flow/u/v_PlayingSitar_g01_c03/frame000024.jpg'],\n",
       " ['/data/tvl1_flow/u/v_Biking_g05_c01/frame000165.jpg',\n",
       "  '/data/tvl1_flow/u/v_Biking_g05_c01/frame000166.jpg',\n",
       "  '/data/tvl1_flow/u/v_Biking_g05_c01/frame000167.jpg',\n",
       "  '/data/tvl1_flow/u/v_Biking_g05_c01/frame000168.jpg',\n",
       "  '/data/tvl1_flow/u/v_Biking_g05_c01/frame000169.jpg'],\n",
       " ['/data/tvl1_flow/u/v_SoccerPenalty_g06_c06/frame000056.jpg',\n",
       "  '/data/tvl1_flow/u/v_SoccerPenalty_g06_c06/frame000057.jpg',\n",
       "  '/data/tvl1_flow/u/v_SoccerPenalty_g06_c06/frame000058.jpg',\n",
       "  '/data/tvl1_flow/u/v_SoccerPenalty_g06_c06/frame000059.jpg',\n",
       "  '/data/tvl1_flow/u/v_SoccerPenalty_g06_c06/frame000060.jpg']]"
      ]
     },
     "execution_count": 17,
     "metadata": {},
     "output_type": "execute_result"
    }
   ],
   "source": [
    "dirs"
   ]
  },
  {
   "cell_type": "code",
   "execution_count": 22,
   "metadata": {},
   "outputs": [
    {
     "data": {
      "text/plain": [
       "<matplotlib.image.AxesImage at 0x7f9f37d09c50>"
      ]
     },
     "execution_count": 22,
     "metadata": {},
     "output_type": "execute_result"
    },
    {
     "data": {
      "image/png": "[encoded data removed]",
      "text/plain": [
       "<Figure size 432x288 with 1 Axes>"
      ]
     },
     "metadata": {},
     "output_type": "display_data"
    }
   ],
   "source": [
    "img = cv2.imread('/data/jpegs_256/v_YoYo_g01_c05/frame000154.jpg')\n",
    "plt.imshow(img)"
   ]
  },
  {
   "cell_type": "markdown",
   "metadata": {},
   "source": [
    "## Getting back to cross modality"
   ]
  },
  {
   "cell_type": "code",
   "execution_count": 56,
   "metadata": {},
   "outputs": [],
   "source": [
    "l = spatial_model.layers[1]"
   ]
  },
  {
   "cell_type": "code",
   "execution_count": 57,
   "metadata": {},
   "outputs": [
    {
     "data": {
      "text/plain": [
       "'block1_conv1'"
      ]
     },
     "execution_count": 57,
     "metadata": {},
     "output_type": "execute_result"
    }
   ],
   "source": [
    "l.name"
   ]
  },
  {
   "cell_type": "code",
   "execution_count": 8,
   "metadata": {},
   "outputs": [],
   "source": [
    "def weight_transform(model_weight, pretrain_weight, num_channels):\n",
    "    S=0\n",
    "    # first average weights for kernel \n",
    "    kw = pretrain_weight[0]\n",
    "    for i  in range(3):\n",
    "        S += kw[:,:,i,:]\n",
    "    avg = S/3.\n",
    "    \n",
    "    new_model_weight = model_weight.copy()\n",
    "    nkw = new_model_weight[0]\n",
    "    for i in range(num_channels):\n",
    "        nkw[:,:,i,:] = avg\n",
    "    \n",
    "    new_model_weight[1] = pretrain_weight[1]\n",
    "    return new_model_weight"
   ]
  },
  {
   "cell_type": "code",
   "execution_count": 9,
   "metadata": {},
   "outputs": [],
   "source": [
    "for motion_model_layer in motion_model.layers:\n",
    "    for spatial_model_layer in spatial_model.layers:\n",
    "        if (motion_model_layer.name == spatial_model_layer.name) and 'conv' in motion_model_layer.name  :\n",
    "            if motion_model_layer.name == 'block1_conv1':\n",
    "                motion_model_layer.set_weights(weight_transform(motion_model_layer.get_weights(), \\\n",
    "                                                                spatial_model_layer.get_weights(), 2))\n",
    "            else:\n",
    "                motion_model_layer.set_weights(spatial_model_layer.get_weights())"
   ]
  },
  {
   "cell_type": "code",
   "execution_count": 10,
   "metadata": {},
   "outputs": [],
   "source": [
    "mypotim = SGD(lr=1e-4, momentum=0.9)\n",
    "motion_model.compile(loss='categorical_crossentropy',\n",
    "              optimizer=mypotim,\n",
    "              metrics=['accuracy'])"
   ]
  },
  {
   "cell_type": "code",
   "execution_count": 11,
   "metadata": {},
   "outputs": [
    {
     "name": "stdout",
     "output_type": "stream",
     "text": [
      "Epoch 1/10\n",
      "298/298 [==============================] - 122s 408ms/step - loss: 4.6157 - acc: 0.0137 - val_loss: 4.5852 - val_acc: 0.0167\n",
      "Epoch 2/10\n",
      "298/298 [==============================] - 119s 400ms/step - loss: 4.5670 - acc: 0.0209 - val_loss: 4.5597 - val_acc: 0.0254\n",
      "Epoch 3/10\n",
      "298/298 [==============================] - 119s 401ms/step - loss: 4.5313 - acc: 0.0282 - val_loss: 4.5348 - val_acc: 0.0225\n",
      "Epoch 4/10\n",
      "298/298 [==============================] - 119s 401ms/step - loss: 4.4906 - acc: 0.0358 - val_loss: 4.5009 - val_acc: 0.0381\n",
      "Epoch 5/10\n",
      "298/298 [==============================] - 119s 400ms/step - loss: 4.4483 - acc: 0.0439 - val_loss: 4.4569 - val_acc: 0.0445\n",
      "Epoch 6/10\n",
      "298/298 [==============================] - 119s 400ms/step - loss: 4.4098 - acc: 0.0497 - val_loss: 4.4301 - val_acc: 0.0524\n",
      "Epoch 7/10\n",
      "298/298 [==============================] - 119s 400ms/step - loss: 4.3653 - acc: 0.0600 - val_loss: 4.3974 - val_acc: 0.0532\n",
      "Epoch 8/10\n",
      "298/298 [==============================] - 119s 401ms/step - loss: 4.3271 - acc: 0.0688 - val_loss: 4.3594 - val_acc: 0.0524\n",
      "Epoch 9/10\n",
      "298/298 [==============================] - 119s 400ms/step - loss: 4.2836 - acc: 0.0754 - val_loss: 4.3210 - val_acc: 0.0702\n",
      "Epoch 10/10\n",
      "298/298 [==============================] - 119s 400ms/step - loss: 4.2507 - acc: 0.0836 - val_loss: 4.3021 - val_acc: 0.0694\n"
     ]
    }
   ],
   "source": [
    "mod1 = motion_model.fit_generator(generator=training_generator,\n",
    "                    validation_data=validation_generator,\n",
    "                    use_multiprocessing=True,\n",
    "                    workers=4, epochs=10,\n",
    "                    verbose=1)"
   ]
  },
  {
   "cell_type": "code",
   "execution_count": 12,
   "metadata": {},
   "outputs": [],
   "source": [
    "motion_model.save_weights(filepath='../data/weights/motion_model_weights_epoch10.hdf5')"
   ]
  },
  {
   "cell_type": "code",
   "execution_count": 14,
   "metadata": {},
   "outputs": [
    {
     "data": {
      "text/plain": [
       "[<matplotlib.lines.Line2D at 0x7f2ab1039ac8>]"
      ]
     },
     "execution_count": 14,
     "metadata": {},
     "output_type": "execute_result"
    },
    {
     "data": {
      "image/png": "[encoded data removed]",
      "text/plain": [
       "<Figure size 432x288 with 1 Axes>"
      ]
     },
     "metadata": {},
     "output_type": "display_data"
    }
   ],
   "source": [
    "plt.plot(mod1.history['val_acc'])"
   ]
  },
  {
   "cell_type": "code",
   "execution_count": 15,
   "metadata": {},
   "outputs": [
    {
     "name": "stdout",
     "output_type": "stream",
     "text": [
      "Epoch 1/20\n",
      "298/298 [==============================] - 118s 397ms/step - loss: 4.2148 - acc: 0.0883 - val_loss: 4.2592 - val_acc: 0.0734\n",
      "Epoch 2/20\n",
      "298/298 [==============================] - 119s 399ms/step - loss: 4.1744 - acc: 0.0996 - val_loss: 4.2354 - val_acc: 0.0773\n",
      "Epoch 3/20\n",
      "298/298 [==============================] - 119s 399ms/step - loss: 4.1356 - acc: 0.1053 - val_loss: 4.2031 - val_acc: 0.0874\n",
      "Epoch 4/20\n",
      "298/298 [==============================] - 119s 400ms/step - loss: 4.1097 - acc: 0.1122 - val_loss: 4.1774 - val_acc: 0.1014\n",
      "Epoch 5/20\n",
      "298/298 [==============================] - 119s 399ms/step - loss: 4.0709 - acc: 0.1184 - val_loss: 4.1641 - val_acc: 0.1004\n",
      "Epoch 6/20\n",
      "298/298 [==============================] - 119s 400ms/step - loss: 4.0463 - acc: 0.1177 - val_loss: 4.1450 - val_acc: 0.1086\n",
      "Epoch 7/20\n",
      "298/298 [==============================] - 119s 399ms/step - loss: 4.0098 - acc: 0.1241 - val_loss: 4.1182 - val_acc: 0.0908\n",
      "Epoch 8/20\n",
      "298/298 [==============================] - 119s 399ms/step - loss: 3.9883 - acc: 0.1336 - val_loss: 4.1018 - val_acc: 0.1012\n",
      "Epoch 9/20\n",
      "298/298 [==============================] - 119s 399ms/step - loss: 3.9680 - acc: 0.1394 - val_loss: 4.0737 - val_acc: 0.1176\n",
      "Epoch 10/20\n",
      "298/298 [==============================] - 119s 399ms/step - loss: 3.9379 - acc: 0.1408 - val_loss: 4.0834 - val_acc: 0.1046\n",
      "Epoch 11/20\n",
      "298/298 [==============================] - 119s 399ms/step - loss: 3.9207 - acc: 0.1429 - val_loss: 4.0399 - val_acc: 0.1186\n",
      "Epoch 12/20\n",
      "298/298 [==============================] - 119s 399ms/step - loss: 3.9039 - acc: 0.1480 - val_loss: 4.0339 - val_acc: 0.1073\n",
      "Epoch 13/20\n",
      "298/298 [==============================] - 119s 399ms/step - loss: 3.8713 - acc: 0.1493 - val_loss: 4.0292 - val_acc: 0.1038\n",
      "Epoch 14/20\n",
      "298/298 [==============================] - 119s 399ms/step - loss: 3.8529 - acc: 0.1527 - val_loss: 3.9737 - val_acc: 0.1298\n",
      "Epoch 15/20\n",
      "298/298 [==============================] - 119s 399ms/step - loss: 3.8248 - acc: 0.1619 - val_loss: 3.9494 - val_acc: 0.1345\n",
      "Epoch 16/20\n",
      "298/298 [==============================] - 119s 399ms/step - loss: 3.8145 - acc: 0.1600 - val_loss: 3.9387 - val_acc: 0.1274\n",
      "Epoch 17/20\n",
      "298/298 [==============================] - 119s 400ms/step - loss: 3.7955 - acc: 0.1642 - val_loss: 3.9214 - val_acc: 0.1332\n",
      "Epoch 18/20\n",
      "298/298 [==============================] - 119s 400ms/step - loss: 3.7609 - acc: 0.1702 - val_loss: 3.9453 - val_acc: 0.1306\n",
      "Epoch 19/20\n",
      "298/298 [==============================] - 119s 399ms/step - loss: 3.7396 - acc: 0.1746 - val_loss: 3.9353 - val_acc: 0.1173\n",
      "Epoch 20/20\n",
      "298/298 [==============================] - 119s 400ms/step - loss: 3.7388 - acc: 0.1718 - val_loss: 3.9078 - val_acc: 0.1351\n"
     ]
    }
   ],
   "source": [
    "mod1 = motion_model.fit_generator(generator=training_generator,\n",
    "                    validation_data=validation_generator,\n",
    "                    use_multiprocessing=True,\n",
    "                    workers=2, epochs=20,\n",
    "                    verbose=1)"
   ]
  },
  {
   "cell_type": "code",
   "execution_count": 16,
   "metadata": {},
   "outputs": [],
   "source": [
    "motion_model.save_weights(filepath='../data/weights/motion_model_weights_epoch30.hdf5')"
   ]
  },
  {
   "cell_type": "code",
   "execution_count": 18,
   "metadata": {},
   "outputs": [],
   "source": [
    "motion_model2=getVggMotionModel((224,224,2), printmod=0)\n",
    "motion_model2.load_weights('../data/weights/motion_model_weights_epoch30.hdf5')"
   ]
  },
  {
   "cell_type": "code",
   "execution_count": 19,
   "metadata": {},
   "outputs": [],
   "source": [
    "mypotim = SGD(lr=1e-3, momentum=0.9)\n",
    "motion_model2.compile(loss='categorical_crossentropy',\n",
    "              optimizer=mypotim,\n",
    "              metrics=['accuracy'])"
   ]
  },
  {
   "cell_type": "code",
   "execution_count": 20,
   "metadata": {},
   "outputs": [
    {
     "name": "stdout",
     "output_type": "stream",
     "text": [
      "Epoch 1/5\n",
      "297/298 [============================>.] - ETA: 0s - loss: 4.0216 - acc: 0.1086Epoch 1/5\n",
      "298/298 [==============================] - 119s 399ms/step - loss: 4.0215 - acc: 0.1082 - val_loss: 4.1028 - val_acc: 0.0903\n",
      "Epoch 2/5\n",
      "298/298 [==============================] - 119s 400ms/step - loss: 3.9027 - acc: 0.1241 - val_loss: 3.9955 - val_acc: 0.0959\n",
      "Epoch 3/5\n",
      "298/298 [==============================] - 119s 400ms/step - loss: 3.8273 - acc: 0.1355 - val_loss: 3.9638 - val_acc: 0.1102\n",
      "Epoch 4/5\n",
      "298/298 [==============================] - 119s 400ms/step - loss: 3.7633 - acc: 0.1431 - val_loss: 3.8222 - val_acc: 0.1335\n",
      "Epoch 5/5\n",
      "298/298 [==============================] - 119s 400ms/step - loss: 3.6628 - acc: 0.1592 - val_loss: 3.8224 - val_acc: 0.1380\n"
     ]
    }
   ],
   "source": [
    "mod3 = motion_model2.fit_generator(generator=training_generator,\n",
    "                    validation_data=validation_generator,\n",
    "                    use_multiprocessing=True,\n",
    "                    workers=2, epochs=5,\n",
    "                    verbose=1)"
   ]
  },
  {
   "cell_type": "code",
   "execution_count": 21,
   "metadata": {},
   "outputs": [],
   "source": [
    "motion_model2.save_weights(filepath='../data/weights/motion_model_weights_epoch35.hdf5')"
   ]
  },
  {
   "cell_type": "code",
   "execution_count": null,
   "metadata": {},
   "outputs": [],
   "source": []
  }
 ],
 "metadata": {
  "kernelspec": {
   "display_name": "Environment (conda_tensorflow_p36)",
   "language": "python",
   "name": "conda_tensorflow_p36"
  },
  "language_info": {
   "codemirror_mode": {
    "name": "ipython",
    "version": 3
   },
   "file_extension": ".py",
   "mimetype": "text/x-python",
   "name": "python",
   "nbconvert_exporter": "python",
   "pygments_lexer": "ipython3",
   "version": "3.6.4"
  }
 },
 "nbformat": 4,
 "nbformat_minor": 2
}
