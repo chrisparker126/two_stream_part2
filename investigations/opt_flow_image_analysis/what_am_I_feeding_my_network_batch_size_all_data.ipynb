{
 "cells": [
  {
   "cell_type": "markdown",
   "metadata": {},
   "source": [
    "# Am I feeding my network crap\n",
    "\n",
    "Given that my research on the image content of optical flow images shows such huge variety is my image generation doing  anything useful to it??? Perhaps experiment with a very small network for say only 10 classes?? \n",
    "\n",
    "First lets look at the output for something relatively easy like cricket "
   ]
  },
  {
   "cell_type": "code",
   "execution_count": 1,
   "metadata": {},
   "outputs": [],
   "source": [
    "import os\n",
    "import sys\n",
    "\n",
    "\n",
    "up1 = os.path.abspath('../../utils/') \n",
    "up2 = os.path.abspath('../../models/') \n",
    "sys.path.insert(0, up1)\n",
    "sys.path.insert(0, up2)"
   ]
  },
  {
   "cell_type": "code",
   "execution_count": 2,
   "metadata": {},
   "outputs": [
    {
     "name": "stderr",
     "output_type": "stream",
     "text": [
      "/home/ubuntu/anaconda3/envs/tensorflow_p36/lib/python3.6/site-packages/h5py/__init__.py:36: FutureWarning: Conversion of the second argument of issubdtype from `float` to `np.floating` is deprecated. In future, it will be treated as `np.float64 == np.dtype(float).type`.\n",
      "  from ._conv import register_converters as _register_converters\n",
      "Using TensorFlow backend.\n",
      "/home/ubuntu/anaconda3/envs/tensorflow_p36/lib/python3.6/site-packages/matplotlib/__init__.py:1067: UserWarning: Duplicate key in file \"/home/ubuntu/.config/matplotlib/matplotlibrc\", line #2\n",
      "  (fname, cnt))\n",
      "/home/ubuntu/anaconda3/envs/tensorflow_p36/lib/python3.6/site-packages/matplotlib/__init__.py:1067: UserWarning: Duplicate key in file \"/home/ubuntu/.config/matplotlib/matplotlibrc\", line #3\n",
      "  (fname, cnt))\n"
     ]
    }
   ],
   "source": [
    "from optical_flow_data_gen import DataGenerator\n",
    "from ucf101_data_utils import get_test_data_opt_flow, get_train_data_opt_flow\n",
    "from motion_network import getKerasCifarMotionModel2, getKerasCifarMotionModelOnly\n",
    "from keras.optimizers import SGD\n",
    "from matplotlib import pyplot as plt\n",
    "from keras.optimizers import SGD\n",
    "import cv2 \n",
    "import numpy as np\n"
   ]
  },
  {
   "cell_type": "markdown",
   "metadata": {},
   "source": [
    "# Is it the data or my classifier\n",
    "\n",
    "I am starting to wonder what it is about my optical flow data that might be causing so much easier. Regardless about the unconverged flow images I feel the author of the data still managed with it. So there's essentially two things I can either get a large amount of improvement simply on how I train my classifier (slower?), or my data set is not quite right. I've already seen that I wasn't even doing any random transforms on my opt flow images courtesy my badly written opt flow data generator. \n",
    "Any how what I am aiming to do is use a stinkingly cheap data model to explore what might be wrong. "
   ]
  },
  {
   "cell_type": "code",
   "execution_count": 3,
   "metadata": {},
   "outputs": [],
   "source": [
    "from keras.models import Sequential\n",
    "from keras.layers import Conv2D, MaxPooling2D\n",
    "from keras.layers import Activation, Dropout, Flatten, Dense\n",
    "from keras.initializers import Ones\n",
    "from keras import optimizers\n",
    "\n",
    "def getModel(lr=1e-2):\n",
    "    model = Sequential()\n",
    "    model.add(Conv2D(32, (3, 3), input_shape=(224, 224, 2)))\n",
    "    model.add(Activation('relu'))\n",
    "    model.add(MaxPooling2D(pool_size=(2, 2)))\n",
    "\n",
    "    model.add(Conv2D(32, (3, 3)))\n",
    "    model.add(Activation('relu'))\n",
    "    model.add(MaxPooling2D(pool_size=(2, 2)))\n",
    "\n",
    "    model.add(Conv2D(64, (3, 3)))\n",
    "    model.add(Activation('relu'))\n",
    "    model.add(MaxPooling2D(pool_size=(2, 2)))\n",
    "\n",
    "    model.add(Flatten())  # this converts our 3D feature maps to 1D feature vectors\n",
    "    model.add(Dense(64))\n",
    "    model.add(Activation('relu'))\n",
    "    model.add(Dropout(0.5))\n",
    "    model.add(Dense(101))\n",
    "    model.add(Activation('sigmoid'))\n",
    "\n",
    "    optimizers.SGD(lr=lr)\n",
    "    model.compile(loss='categorical_crossentropy',\n",
    "                  optimizer='sgd',\n",
    "                  metrics=['accuracy'])\n",
    "    return model"
   ]
  },
  {
   "cell_type": "code",
   "execution_count": 8,
   "metadata": {},
   "outputs": [],
   "source": [
    "model_fast_lr = getModel(lr=1e-2)"
   ]
  },
  {
   "cell_type": "code",
   "execution_count": 9,
   "metadata": {},
   "outputs": [],
   "source": [
    "from optical_flow_data_gen import DataGenerator\n",
    "from ucf101_data_utils import get_test_data_opt_flow, get_train_data_opt_flow\n",
    "\n",
    "training_options = { 'rescale' : 1./255, \n",
    "                            'shear_range' : 0.2, \n",
    "                            'zoom_range' : 0.2, \n",
    "                            'horizontal_flip' : True,\n",
    "                             'rotation_range':20,\n",
    "                             'width_shift_range':0.2,\n",
    "                             'height_shift_range':0.2}\n",
    "\n",
    "validation_options = { 'rescale' : 1./255 }\n",
    "\n",
    "\n",
    "\n",
    "\n",
    "params_train = { 'data_dir' : \"/data/tvl1_flow\",\n",
    "          'dim': (224,224),\n",
    "          'batch_size': 128,\n",
    "          'n_frames': 1,\n",
    "          'n_frequency': 1,\n",
    "          'shuffle': True, \n",
    "                'n_classes' : 101,\n",
    "           'validation' : False}\n",
    "\n",
    "params_valid = { 'data_dir' : \"/data/tvl1_flow\",\n",
    "          'dim': (224,224),\n",
    "          'batch_size':128,\n",
    "          'n_frames': 1,\n",
    "          'n_frequency': 1,\n",
    "          'shuffle': True, \n",
    "                'n_classes' : 101,\n",
    "           'validation' : True}\n",
    "\n",
    "id_labels_train = get_train_data_opt_flow('../../data/ucf101_splits/trainlist01.txt')\n",
    "labels = id_labels_train[1]\n",
    "id_test = get_test_data_opt_flow('../../data/ucf101_splits/testlist01.txt', \\\n",
    "                       '../../data/ucf101_splits/classInd.txt')\n",
    "\n",
    "training_generator = DataGenerator(*id_labels_train, **params_train)\n",
    "\n",
    "\n",
    "validation_generator = DataGenerator(id_test[0], id_test[1], **params_valid)"
   ]
  },
  {
   "cell_type": "code",
   "execution_count": 10,
   "metadata": {},
   "outputs": [
    {
     "name": "stdout",
     "output_type": "stream",
     "text": [
      "Epoch 1/5\n",
      "64/64 [==============================] - 101s 2s/step - loss: 4.6109 - acc: 0.0098 - val_loss: 4.6060 - val_acc: 0.0059\n",
      "Epoch 2/5\n",
      "64/64 [==============================] - 90s 1s/step - loss: 4.6041 - acc: 0.0123 - val_loss: 4.6013 - val_acc: 0.0096\n",
      "Epoch 3/5\n",
      "64/64 [==============================] - 100s 2s/step - loss: 4.6013 - acc: 0.0132 - val_loss: 4.5965 - val_acc: 0.0146\n",
      "Epoch 4/5\n",
      "64/64 [==============================] - 95s 1s/step - loss: 4.5950 - acc: 0.0133 - val_loss: 4.5938 - val_acc: 0.0131\n",
      "Epoch 5/5\n",
      "64/64 [==============================] - 94s 1s/step - loss: 4.5930 - acc: 0.0184 - val_loss: 4.5885 - val_acc: 0.0210\n"
     ]
    }
   ],
   "source": [
    "mod1 = model_fast_lr.fit_generator(generator=training_generator, steps_per_epoch=64,\n",
    "                    validation_data=validation_generator, validation_steps=64,\n",
    "                    use_multiprocessing=True,\n",
    "                    workers=2, epochs=5,\n",
    "                    verbose=1)"
   ]
  },
  {
   "cell_type": "code",
   "execution_count": 11,
   "metadata": {},
   "outputs": [
    {
     "data": {
      "text/plain": [
       "[<matplotlib.lines.Line2D at 0x7ff558099cc0>]"
      ]
     },
     "execution_count": 11,
     "metadata": {},
     "output_type": "execute_result"
    },
    {
     "data": {
      "image/png": "[encoded data removed]",
      "text/plain": [
       "<Figure size 432x288 with 1 Axes>"
      ]
     },
     "metadata": {},
     "output_type": "display_data"
    }
   ],
   "source": [
    "plt.plot(mod1.history['acc'])\n",
    "plt.plot(mod1.history['val_acc'])"
   ]
  },
  {
   "cell_type": "code",
   "execution_count": 12,
   "metadata": {},
   "outputs": [
    {
     "name": "stdout",
     "output_type": "stream",
     "text": [
      "Epoch 1/20\n",
      "64/64 [==============================] - 71s 1s/step - loss: 4.5923 - acc: 0.0161 - val_loss: 4.5857 - val_acc: 0.0164\n",
      "Epoch 2/20\n",
      "64/64 [==============================] - 71s 1s/step - loss: 4.5885 - acc: 0.0206 - val_loss: 4.5818 - val_acc: 0.0203\n",
      "Epoch 3/20\n",
      "64/64 [==============================] - 64s 996ms/step - loss: 4.5866 - acc: 0.0199 - val_loss: 4.5799 - val_acc: 0.0244\n",
      "Epoch 4/20\n",
      "64/64 [==============================] - 67s 1s/step - loss: 4.5814 - acc: 0.0236 - val_loss: 4.5793 - val_acc: 0.0322\n",
      "Epoch 5/20\n",
      "64/64 [==============================] - 69s 1s/step - loss: 4.5771 - acc: 0.0217 - val_loss: 4.5772 - val_acc: 0.0293\n",
      "Epoch 6/20\n",
      "64/64 [==============================] - 70s 1s/step - loss: 4.5747 - acc: 0.0242 - val_loss: 4.5675 - val_acc: 0.0327\n",
      "Epoch 7/20\n",
      "64/64 [==============================] - 65s 1s/step - loss: 4.5720 - acc: 0.0233 - val_loss: 4.5656 - val_acc: 0.0295\n",
      "Epoch 8/20\n",
      "64/64 [==============================] - 62s 971ms/step - loss: 4.5711 - acc: 0.0228 - val_loss: 4.5625 - val_acc: 0.0332\n",
      "Epoch 9/20\n",
      "64/64 [==============================] - 71s 1s/step - loss: 4.5633 - acc: 0.0245 - val_loss: 4.5534 - val_acc: 0.0356\n",
      "Epoch 10/20\n",
      "64/64 [==============================] - 61s 959ms/step - loss: 4.5622 - acc: 0.0265 - val_loss: 4.5521 - val_acc: 0.0327\n",
      "Epoch 11/20\n",
      "64/64 [==============================] - 66s 1s/step - loss: 4.5550 - acc: 0.0260 - val_loss: 4.5453 - val_acc: 0.0378\n",
      "Epoch 12/20\n",
      "64/64 [==============================] - 61s 953ms/step - loss: 4.5505 - acc: 0.0258 - val_loss: 4.5393 - val_acc: 0.0393\n",
      "Epoch 13/20\n",
      "64/64 [==============================] - 75s 1s/step - loss: 4.5459 - acc: 0.0240 - val_loss: 4.5363 - val_acc: 0.0312\n",
      "Epoch 14/20\n",
      "64/64 [==============================] - 65s 1s/step - loss: 4.5452 - acc: 0.0287 - val_loss: 4.5293 - val_acc: 0.0344\n",
      "Epoch 15/20\n",
      "64/64 [==============================] - 65s 1s/step - loss: 4.5344 - acc: 0.0265 - val_loss: 4.5213 - val_acc: 0.0349\n",
      "Epoch 16/20\n",
      "64/64 [==============================] - 63s 986ms/step - loss: 4.5289 - acc: 0.0293 - val_loss: 4.5128 - val_acc: 0.0435\n",
      "Epoch 17/20\n",
      "64/64 [==============================] - 61s 952ms/step - loss: 4.5304 - acc: 0.0278 - val_loss: 4.5158 - val_acc: 0.0320\n",
      "Epoch 18/20\n",
      "64/64 [==============================] - 60s 938ms/step - loss: 4.5241 - acc: 0.0295 - val_loss: 4.5099 - val_acc: 0.0388\n",
      "Epoch 19/20\n",
      "64/64 [==============================] - 59s 925ms/step - loss: 4.5162 - acc: 0.0270 - val_loss: 4.4975 - val_acc: 0.0300\n",
      "Epoch 20/20\n",
      "64/64 [==============================] - 62s 962ms/step - loss: 4.5119 - acc: 0.0303 - val_loss: 4.4990 - val_acc: 0.0339\n"
     ]
    }
   ],
   "source": [
    "mod2 = model_fast_lr.fit_generator(generator=training_generator, steps_per_epoch=64,\n",
    "                    validation_data=validation_generator, validation_steps=32,\n",
    "                    use_multiprocessing=True,\n",
    "                    workers=2, epochs=20,\n",
    "                    verbose=1)"
   ]
  },
  {
   "cell_type": "code",
   "execution_count": 14,
   "metadata": {},
   "outputs": [
    {
     "data": {
      "text/plain": [
       "[<matplotlib.lines.Line2D at 0x7ff60cd3b358>]"
      ]
     },
     "execution_count": 14,
     "metadata": {},
     "output_type": "execute_result"
    },
    {
     "data": {
      "image/png": "[encoded data removed]",
      "text/plain": [
       "<Figure size 432x288 with 1 Axes>"
      ]
     },
     "metadata": {},
     "output_type": "display_data"
    }
   ],
   "source": [
    "plt.plot(mod2.history['acc'])\n",
    "plt.plot(mod2.history['val_acc'])"
   ]
  },
  {
   "cell_type": "code",
   "execution_count": 15,
   "metadata": {},
   "outputs": [],
   "source": [
    "from motion_network import getSimonyanOxfordModel\n",
    "from keras.optimizers import SGD"
   ]
  },
  {
   "cell_type": "code",
   "execution_count": 21,
   "metadata": {},
   "outputs": [],
   "source": [
    "simonyan_model=getSimonyanOxfordModel((224,224,2), 101, printmod=0)"
   ]
  },
  {
   "cell_type": "code",
   "execution_count": 22,
   "metadata": {},
   "outputs": [],
   "source": [
    "mypotim = SGD(lr=0.5e-2, momentum=0.9)\n",
    "simonyan_model.compile(loss='categorical_crossentropy',\n",
    "              optimizer=mypotim,\n",
    "              metrics=['accuracy'])"
   ]
  },
  {
   "cell_type": "code",
   "execution_count": 26,
   "metadata": {},
   "outputs": [],
   "source": [
    "from optical_flow_data_gen import DataGenerator\n",
    "from ucf101_data_utils import get_test_data_opt_flow, get_train_data_opt_flow\n",
    "\n",
    "params_train = { 'data_dir' : \"/data/tvl1_flow\",\n",
    "          'dim': (224,224),\n",
    "          'batch_size': 256,\n",
    "          'n_frames': 1,\n",
    "          'n_frequency': 1,\n",
    "          'shuffle': True, \n",
    "                'n_classes' : 101,\n",
    "           'validation' : False}\n",
    "\n",
    "params_valid = { 'data_dir' : \"/data/tvl1_flow\",\n",
    "          'dim': (224,224),\n",
    "          'batch_size':256,\n",
    "          'n_frames': 1,\n",
    "          'n_frequency': 1,\n",
    "          'shuffle': True, \n",
    "                'n_classes' : 101,\n",
    "           'validation' : True}\n",
    "\n",
    "id_labels_train = get_train_data_opt_flow('../../data/ucf101_splits/trainlist01.txt')\n",
    "labels = id_labels_train[1]\n",
    "id_test = get_test_data_opt_flow('../../data/ucf101_splits/testlist01.txt', \\\n",
    "                       '../../data/ucf101_splits/classInd.txt')\n",
    "\n",
    "training_generator = DataGenerator(*id_labels_train, **params_train)\n",
    "\n",
    "\n",
    "validation_generator = DataGenerator(id_test[0], id_test[1], **params_valid)"
   ]
  },
  {
   "cell_type": "code",
   "execution_count": 24,
   "metadata": {},
   "outputs": [
    {
     "name": "stdout",
     "output_type": "stream",
     "text": [
      "Epoch 1/5\n",
      "37/37 [==============================] - 87s 2s/step - loss: 4.8016 - acc: 0.0096 - val_loss: 4.7630 - val_acc: 0.0092\n",
      "Epoch 2/5\n",
      "37/37 [==============================] - 73s 2s/step - loss: 4.7630 - acc: 0.0105 - val_loss: 4.7625 - val_acc: 0.0103\n",
      "Epoch 3/5\n",
      "37/37 [==============================] - 74s 2s/step - loss: 4.7624 - acc: 0.0115 - val_loss: 4.7619 - val_acc: 0.0126\n",
      "Epoch 4/5\n",
      "37/37 [==============================] - 84s 2s/step - loss: 4.7616 - acc: 0.0098 - val_loss: 4.7613 - val_acc: 0.0098\n",
      "Epoch 5/5\n",
      "37/37 [==============================] - 74s 2s/step - loss: 4.7611 - acc: 0.0119 - val_loss: 4.7610 - val_acc: 0.0098\n"
     ]
    }
   ],
   "source": [
    "mod2 = simonyan_model.fit_generator(generator=training_generator,\n",
    "                    validation_data=validation_generator, \n",
    "                    use_multiprocessing=True,\n",
    "                    workers=2, epochs=5,\n",
    "                    verbose=1)"
   ]
  },
  {
   "cell_type": "code",
   "execution_count": 25,
   "metadata": {},
   "outputs": [
    {
     "name": "stdout",
     "output_type": "stream",
     "text": [
      "Epoch 1/20\n",
      "37/37 [==============================] - 77s 2s/step - loss: 4.7614 - acc: 0.0117 - val_loss: 4.7604 - val_acc: 0.0100\n",
      "Epoch 2/20\n",
      "37/37 [==============================] - 71s 2s/step - loss: 4.7606 - acc: 0.0109 - val_loss: 4.7599 - val_acc: 0.0100\n",
      "Epoch 3/20\n",
      "37/37 [==============================] - 74s 2s/step - loss: 4.7595 - acc: 0.0103 - val_loss: 4.7596 - val_acc: 0.0098\n",
      "Epoch 4/20\n",
      "37/37 [==============================] - 74s 2s/step - loss: 4.7599 - acc: 0.0105 - val_loss: 4.7589 - val_acc: 0.0106\n",
      "Epoch 5/20\n",
      "37/37 [==============================] - 73s 2s/step - loss: 4.7583 - acc: 0.0125 - val_loss: 4.7589 - val_acc: 0.0114\n",
      "Epoch 6/20\n",
      "37/37 [==============================] - 73s 2s/step - loss: 4.7584 - acc: 0.0132 - val_loss: 4.7583 - val_acc: 0.0106\n",
      "Epoch 7/20\n",
      "37/37 [==============================] - 73s 2s/step - loss: 4.7581 - acc: 0.0115 - val_loss: 4.7578 - val_acc: 0.0112\n",
      "Epoch 8/20\n",
      "37/37 [==============================] - 71s 2s/step - loss: 4.7583 - acc: 0.0114 - val_loss: 4.7578 - val_acc: 0.0120\n",
      "Epoch 9/20\n",
      "37/37 [==============================] - 74s 2s/step - loss: 4.7575 - acc: 0.0137 - val_loss: 4.7574 - val_acc: 0.0109\n",
      "Epoch 10/20\n",
      "37/37 [==============================] - 72s 2s/step - loss: 4.7569 - acc: 0.0113 - val_loss: 4.7569 - val_acc: 0.0114\n",
      "Epoch 11/20\n",
      "37/37 [==============================] - 71s 2s/step - loss: 4.7576 - acc: 0.0131 - val_loss: 4.7570 - val_acc: 0.0100\n",
      "Epoch 12/20\n",
      "37/37 [==============================] - 70s 2s/step - loss: 4.7569 - acc: 0.0100 - val_loss: 4.7567 - val_acc: 0.0098\n",
      "Epoch 13/20\n",
      "37/37 [==============================] - 71s 2s/step - loss: 4.7572 - acc: 0.0125 - val_loss: 4.7564 - val_acc: 0.0106\n",
      "Epoch 14/20\n",
      "37/37 [==============================] - 72s 2s/step - loss: 4.7566 - acc: 0.0113 - val_loss: 4.7559 - val_acc: 0.0103\n",
      "Epoch 15/20\n",
      "37/37 [==============================] - 71s 2s/step - loss: 4.7567 - acc: 0.0102 - val_loss: 4.7555 - val_acc: 0.0103\n",
      "Epoch 16/20\n",
      "37/37 [==============================] - 72s 2s/step - loss: 4.7556 - acc: 0.0129 - val_loss: 4.7555 - val_acc: 0.0106\n",
      "Epoch 17/20\n",
      "37/37 [==============================] - 72s 2s/step - loss: 4.7548 - acc: 0.0133 - val_loss: 4.7552 - val_acc: 0.0106\n",
      "Epoch 18/20\n",
      "37/37 [==============================] - 70s 2s/step - loss: 4.7550 - acc: 0.0111 - val_loss: 4.7552 - val_acc: 0.0103\n",
      "Epoch 19/20\n",
      "37/37 [==============================] - 71s 2s/step - loss: 4.7537 - acc: 0.0115 - val_loss: 4.7548 - val_acc: 0.0103\n",
      "Epoch 20/20\n",
      "37/37 [==============================] - 71s 2s/step - loss: 4.7539 - acc: 0.0140 - val_loss: 4.7546 - val_acc: 0.0100\n"
     ]
    }
   ],
   "source": [
    "mod2 = simonyan_model.fit_generator(generator=training_generator,\n",
    "                    validation_data=validation_generator, \n",
    "                    use_multiprocessing=True,\n",
    "                    workers=2, epochs=20,\n",
    "                    verbose=1)"
   ]
  },
  {
   "cell_type": "code",
   "execution_count": 29,
   "metadata": {},
   "outputs": [],
   "source": [
    "from optical_flow_data_gen import DataGenerator\n",
    "from ucf101_data_utils import get_test_data_opt_flow, get_train_data_opt_flow\n",
    "\n",
    "params_train = { 'data_dir' : \"/data/tvl1_flow\",\n",
    "          'dim': (224,224),\n",
    "          'batch_size': 32,\n",
    "          'n_frames': 1,\n",
    "          'n_frequency': 1,\n",
    "          'shuffle': True, \n",
    "                'n_classes' : 101,\n",
    "           'validation' : False}\n",
    "\n",
    "params_valid = { 'data_dir' : \"/data/tvl1_flow\",\n",
    "          'dim': (224,224),\n",
    "          'batch_size':32,\n",
    "          'n_frames': 1,\n",
    "          'n_frequency': 1,\n",
    "          'shuffle': True, \n",
    "                'n_classes' : 101,\n",
    "           'validation' : True}\n",
    "\n",
    "id_labels_train = get_train_data_opt_flow('../../data/ucf101_splits/trainlist01.txt')\n",
    "labels = id_labels_train[1]\n",
    "id_test = get_test_data_opt_flow('../../data/ucf101_splits/testlist01.txt', \\\n",
    "                       '../../data/ucf101_splits/classInd.txt')\n",
    "\n",
    "training_generator = DataGenerator(*id_labels_train, **params_train)\n",
    "\n",
    "\n",
    "validation_generator = DataGenerator(id_test[0], id_test[1], **params_valid)"
   ]
  },
  {
   "cell_type": "code",
   "execution_count": 30,
   "metadata": {},
   "outputs": [],
   "source": [
    "simonyan_model2=getSimonyanOxfordModel((224,224,2), 101, printmod=0)"
   ]
  },
  {
   "cell_type": "code",
   "execution_count": 34,
   "metadata": {},
   "outputs": [
    {
     "name": "stdout",
     "output_type": "stream",
     "text": [
      "Epoch 1/20\n",
      "298/298 [==============================] - 84s 283ms/step - loss: 4.7782 - acc: 0.0113 - val_loss: 4.7620 - val_acc: 0.0140\n",
      "Epoch 2/20\n",
      "298/298 [==============================] - 79s 266ms/step - loss: 4.7634 - acc: 0.0100 - val_loss: 4.7613 - val_acc: 0.0098\n",
      "Epoch 3/20\n",
      "298/298 [==============================] - 81s 270ms/step - loss: 4.7625 - acc: 0.0113 - val_loss: 4.7607 - val_acc: 0.0101\n",
      "Epoch 4/20\n",
      "298/298 [==============================] - 78s 262ms/step - loss: 4.7601 - acc: 0.0127 - val_loss: 4.7599 - val_acc: 0.0103\n",
      "Epoch 5/20\n",
      "298/298 [==============================] - 81s 273ms/step - loss: 4.7599 - acc: 0.0114 - val_loss: 4.7589 - val_acc: 0.0159\n",
      "Epoch 6/20\n",
      "298/298 [==============================] - 76s 254ms/step - loss: 4.7601 - acc: 0.0123 - val_loss: 4.7586 - val_acc: 0.0138\n",
      "Epoch 7/20\n",
      "298/298 [==============================] - 73s 244ms/step - loss: 4.7605 - acc: 0.0099 - val_loss: 4.7580 - val_acc: 0.0117\n",
      "Epoch 8/20\n",
      "298/298 [==============================] - 75s 251ms/step - loss: 4.7585 - acc: 0.0120 - val_loss: 4.7576 - val_acc: 0.0114\n",
      "Epoch 9/20\n",
      "298/298 [==============================] - 77s 257ms/step - loss: 4.7583 - acc: 0.0127 - val_loss: 4.7570 - val_acc: 0.0114\n",
      "Epoch 10/20\n",
      "298/298 [==============================] - 74s 250ms/step - loss: 4.7579 - acc: 0.0130 - val_loss: 4.7566 - val_acc: 0.0114\n",
      "Epoch 11/20\n",
      "298/298 [==============================] - 78s 260ms/step - loss: 4.7566 - acc: 0.0118 - val_loss: 4.7561 - val_acc: 0.0114\n",
      "Epoch 12/20\n",
      "298/298 [==============================] - 75s 251ms/step - loss: 4.7560 - acc: 0.0124 - val_loss: 4.7558 - val_acc: 0.0114\n",
      "Epoch 13/20\n",
      "298/298 [==============================] - 74s 250ms/step - loss: 4.7572 - acc: 0.0107 - val_loss: 4.7556 - val_acc: 0.0114\n",
      "Epoch 14/20\n",
      "298/298 [==============================] - 74s 250ms/step - loss: 4.7559 - acc: 0.0110 - val_loss: 4.7551 - val_acc: 0.0117\n",
      "Epoch 15/20\n",
      "298/298 [==============================] - 74s 247ms/step - loss: 4.7551 - acc: 0.0124 - val_loss: 4.7548 - val_acc: 0.0117\n",
      "Epoch 16/20\n",
      "298/298 [==============================] - 73s 244ms/step - loss: 4.7546 - acc: 0.0130 - val_loss: 4.7545 - val_acc: 0.0117\n",
      "Epoch 17/20\n",
      "298/298 [==============================] - 73s 245ms/step - loss: 4.7530 - acc: 0.0131 - val_loss: 4.7542 - val_acc: 0.0117\n",
      "Epoch 18/20\n",
      "298/298 [==============================] - 74s 248ms/step - loss: 4.7544 - acc: 0.0123 - val_loss: 4.7540 - val_acc: 0.0117\n",
      "Epoch 19/20\n",
      "298/298 [==============================] - 74s 249ms/step - loss: 4.7538 - acc: 0.0137 - val_loss: 4.7538 - val_acc: 0.0103\n",
      "Epoch 20/20\n",
      "298/298 [==============================] - 72s 242ms/step - loss: 4.7527 - acc: 0.0128 - val_loss: 4.7535 - val_acc: 0.0103\n"
     ]
    }
   ],
   "source": [
    "mypotim = SGD(lr=1e-3, momentum=0.9)\n",
    "simonyan_model2.compile(loss='categorical_crossentropy',\n",
    "              optimizer=mypotim,\n",
    "              metrics=['accuracy'])\n",
    "mod2 = simonyan_model2.fit_generator(generator=training_generator,\n",
    "                    validation_data=validation_generator, \n",
    "                    use_multiprocessing=True,\n",
    "                    workers=2, epochs=20,\n",
    "                    verbose=1)"
   ]
  },
  {
   "cell_type": "code",
   "execution_count": 38,
   "metadata": {},
   "outputs": [],
   "source": [
    "from keras import regularizers\n",
    "def getSimonyanOxfordModelNoBN(input_shape, n_classes, printmod=1, dropout=1):\n",
    "    model = Sequential()\n",
    "    weight_decay = 1e-4\n",
    "    model.add(Conv2D(96, (7,7), strides=2, padding='same', kernel_regularizer=regularizers.l2(weight_decay), input_shape=input_shape))\n",
    "    model.add(Activation('relu'))\n",
    "    model.add(MaxPooling2D(pool_size=(2,2)))\n",
    "    \n",
    "    model.add(Conv2D(256, (5,5), strides=2, padding='same'))\n",
    "    model.add(Activation('relu'))\n",
    "    model.add(MaxPooling2D(pool_size=(2,2)))\n",
    "\n",
    "    model.add(Conv2D(512, (3,3), padding='same', kernel_regularizer=regularizers.l2(weight_decay)))\n",
    "    model.add(Activation('relu'))\n",
    "    \n",
    "    model.add(Conv2D(512, (3,3), padding='same', kernel_regularizer=regularizers.l2(weight_decay)))\n",
    "    model.add(Activation('relu'))\n",
    "    \n",
    "    model.add(Conv2D(512, (3,3), padding='same', kernel_regularizer=regularizers.l2(weight_decay)))\n",
    "    model.add(Activation('relu'))\n",
    "    \n",
    "    model.add(Conv2D(64, (3,3), padding='same', kernel_regularizer=regularizers.l2(weight_decay)))\n",
    "    model.add(Activation('relu'))\n",
    "    model.add(MaxPooling2D(pool_size=(2,2)))\n",
    "    \n",
    "    \n",
    "    model.add(Flatten())\n",
    "    model.add(Dense(4096))\n",
    "    model.add(Activation('relu'))\n",
    "    model.add(Dropout(0.9))\n",
    "    \n",
    "    model.add(Dense(2048))\n",
    "    model.add(Activation('relu'))\n",
    "    model.add(Dropout(0.9))      \n",
    "    \n",
    "    model.add(Dense(n_classes, activation='softmax'))\n",
    "                         \n",
    "    if (printmod==1 ):\n",
    "        model.summary()\n",
    "    \n",
    "    return model"
   ]
  },
  {
   "cell_type": "code",
   "execution_count": 41,
   "metadata": {},
   "outputs": [],
   "source": [
    "simonyan_model_no_bn=getSimonyanOxfordModelNoBN((224,224,2), 101, printmod=0)"
   ]
  },
  {
   "cell_type": "code",
   "execution_count": 42,
   "metadata": {},
   "outputs": [
    {
     "name": "stdout",
     "output_type": "stream",
     "text": [
      "Epoch 1/20\n",
      "298/298 [==============================] - 71s 238ms/step - loss: 4.7745 - acc: 0.0122 - val_loss: 4.7559 - val_acc: 0.0130\n",
      "Epoch 2/20\n",
      "298/298 [==============================] - 67s 226ms/step - loss: 4.7689 - acc: 0.0106 - val_loss: 4.7536 - val_acc: 0.0130\n",
      "Epoch 3/20\n",
      "298/298 [==============================] - 67s 225ms/step - loss: 4.7616 - acc: 0.0127 - val_loss: 4.7514 - val_acc: 0.0114\n",
      "Epoch 4/20\n",
      "298/298 [==============================] - 68s 227ms/step - loss: 4.7556 - acc: 0.0128 - val_loss: 4.7496 - val_acc: 0.0117\n",
      "Epoch 5/20\n",
      "298/298 [==============================] - 69s 233ms/step - loss: 4.7546 - acc: 0.0118 - val_loss: 4.7480 - val_acc: 0.0117\n",
      "Epoch 6/20\n",
      "298/298 [==============================] - 69s 233ms/step - loss: 4.7493 - acc: 0.0111 - val_loss: 4.7464 - val_acc: 0.0117\n",
      "Epoch 7/20\n",
      "298/298 [==============================] - 69s 232ms/step - loss: 4.7473 - acc: 0.0110 - val_loss: 4.7446 - val_acc: 0.0117\n",
      "Epoch 8/20\n",
      "298/298 [==============================] - 70s 235ms/step - loss: 4.7453 - acc: 0.0101 - val_loss: 4.7430 - val_acc: 0.0117\n",
      "Epoch 9/20\n",
      "162/298 [===============>..............] - ETA: 23s - loss: 4.7455 - acc: 0.0135"
     ]
    },
    {
     "name": "stderr",
     "output_type": "stream",
     "text": [
      "Process ForkPoolWorker-554:\n",
      "Process ForkPoolWorker-553:\n",
      "Traceback (most recent call last):\n",
      "Traceback (most recent call last):\n",
      "  File \"/home/ubuntu/anaconda3/envs/tensorflow_p36/lib/python3.6/multiprocessing/process.py\", line 93, in run\n",
      "    self._target(*self._args, **self._kwargs)\n",
      "  File \"/home/ubuntu/anaconda3/envs/tensorflow_p36/lib/python3.6/multiprocessing/process.py\", line 258, in _bootstrap\n",
      "    self.run()\n",
      "  File \"/home/ubuntu/anaconda3/envs/tensorflow_p36/lib/python3.6/multiprocessing/process.py\", line 258, in _bootstrap\n",
      "    self.run()\n",
      "  File \"/home/ubuntu/anaconda3/envs/tensorflow_p36/lib/python3.6/multiprocessing/pool.py\", line 119, in worker\n",
      "    result = (True, func(*args, **kwds))\n",
      "  File \"/home/ubuntu/anaconda3/envs/tensorflow_p36/lib/python3.6/multiprocessing/process.py\", line 93, in run\n",
      "    self._target(*self._args, **self._kwargs)\n",
      "  File \"/home/ubuntu/anaconda3/envs/tensorflow_p36/lib/python3.6/multiprocessing/pool.py\", line 119, in worker\n",
      "    result = (True, func(*args, **kwds))\n",
      "  File \"/home/ubuntu/anaconda3/envs/tensorflow_p36/lib/python3.6/site-packages/keras/utils/data_utils.py\", line 401, in get_index\n",
      "    return _SHARED_SEQUENCES[uid][i]\n",
      "  File \"/data/su_buildup/two_stream_part2/utils/optical_flow_data_gen.py\", line 58, in __getitem__\n",
      "    X, y, dirs = self.__data_generation(list_IDs_temp)\n",
      "  File \"/data/su_buildup/two_stream_part2/utils/optical_flow_data_gen.py\", line 79, in __data_generation\n",
      "    data = self.__data_load(ID)\n",
      "  File \"/data/su_buildup/two_stream_part2/utils/optical_flow_data_gen.py\", line 113, in __data_load\n",
      "    u_img = cv2.imread(u_file, 0)\n",
      "KeyboardInterrupt\n",
      "  File \"/home/ubuntu/anaconda3/envs/tensorflow_p36/lib/python3.6/site-packages/keras/utils/data_utils.py\", line 401, in get_index\n",
      "    return _SHARED_SEQUENCES[uid][i]\n",
      "  File \"/data/su_buildup/two_stream_part2/utils/optical_flow_data_gen.py\", line 58, in __getitem__\n",
      "    X, y, dirs = self.__data_generation(list_IDs_temp)\n"
     ]
    },
    {
     "ename": "KeyboardInterrupt",
     "evalue": "",
     "output_type": "error",
     "traceback": [
      "\u001b[0;31m---------------------------------------------------------------------------\u001b[0m",
      "\u001b[0;31mKeyboardInterrupt\u001b[0m                         Traceback (most recent call last)",
      "\u001b[0;32m<ipython-input-42-6b005b15de28>\u001b[0m in \u001b[0;36m<module>\u001b[0;34m()\u001b[0m\n\u001b[1;32m      7\u001b[0m                     \u001b[0muse_multiprocessing\u001b[0m\u001b[0;34m=\u001b[0m\u001b[0;32mTrue\u001b[0m\u001b[0;34m,\u001b[0m\u001b[0;34m\u001b[0m\u001b[0m\n\u001b[1;32m      8\u001b[0m                     \u001b[0mworkers\u001b[0m\u001b[0;34m=\u001b[0m\u001b[0;36m2\u001b[0m\u001b[0;34m,\u001b[0m \u001b[0mepochs\u001b[0m\u001b[0;34m=\u001b[0m\u001b[0;36m20\u001b[0m\u001b[0;34m,\u001b[0m\u001b[0;34m\u001b[0m\u001b[0m\n\u001b[0;32m----> 9\u001b[0;31m                     verbose=1)\n\u001b[0m",
      "\u001b[0;32m~/anaconda3/envs/tensorflow_p36/lib/python3.6/site-packages/keras/legacy/interfaces.py\u001b[0m in \u001b[0;36mwrapper\u001b[0;34m(*args, **kwargs)\u001b[0m\n\u001b[1;32m     89\u001b[0m                 warnings.warn('Update your `' + object_name +\n\u001b[1;32m     90\u001b[0m                               '` call to the Keras 2 API: ' + signature, stacklevel=2)\n\u001b[0;32m---> 91\u001b[0;31m             \u001b[0;32mreturn\u001b[0m \u001b[0mfunc\u001b[0m\u001b[0;34m(\u001b[0m\u001b[0;34m*\u001b[0m\u001b[0margs\u001b[0m\u001b[0;34m,\u001b[0m \u001b[0;34m**\u001b[0m\u001b[0mkwargs\u001b[0m\u001b[0;34m)\u001b[0m\u001b[0;34m\u001b[0m\u001b[0m\n\u001b[0m\u001b[1;32m     92\u001b[0m         \u001b[0mwrapper\u001b[0m\u001b[0;34m.\u001b[0m\u001b[0m_original_function\u001b[0m \u001b[0;34m=\u001b[0m \u001b[0mfunc\u001b[0m\u001b[0;34m\u001b[0m\u001b[0m\n\u001b[1;32m     93\u001b[0m         \u001b[0;32mreturn\u001b[0m \u001b[0mwrapper\u001b[0m\u001b[0;34m\u001b[0m\u001b[0m\n",
      "\u001b[0;32m~/anaconda3/envs/tensorflow_p36/lib/python3.6/site-packages/keras/models.py\u001b[0m in \u001b[0;36mfit_generator\u001b[0;34m(self, generator, steps_per_epoch, epochs, verbose, callbacks, validation_data, validation_steps, class_weight, max_queue_size, workers, use_multiprocessing, shuffle, initial_epoch)\u001b[0m\n\u001b[1;32m   1274\u001b[0m                                         \u001b[0muse_multiprocessing\u001b[0m\u001b[0;34m=\u001b[0m\u001b[0muse_multiprocessing\u001b[0m\u001b[0;34m,\u001b[0m\u001b[0;34m\u001b[0m\u001b[0m\n\u001b[1;32m   1275\u001b[0m                                         \u001b[0mshuffle\u001b[0m\u001b[0;34m=\u001b[0m\u001b[0mshuffle\u001b[0m\u001b[0;34m,\u001b[0m\u001b[0;34m\u001b[0m\u001b[0m\n\u001b[0;32m-> 1276\u001b[0;31m                                         initial_epoch=initial_epoch)\n\u001b[0m\u001b[1;32m   1277\u001b[0m \u001b[0;34m\u001b[0m\u001b[0m\n\u001b[1;32m   1278\u001b[0m     \u001b[0;34m@\u001b[0m\u001b[0minterfaces\u001b[0m\u001b[0;34m.\u001b[0m\u001b[0mlegacy_generator_methods_support\u001b[0m\u001b[0;34m\u001b[0m\u001b[0m\n",
      "\u001b[0;32m~/anaconda3/envs/tensorflow_p36/lib/python3.6/site-packages/keras/legacy/interfaces.py\u001b[0m in \u001b[0;36mwrapper\u001b[0;34m(*args, **kwargs)\u001b[0m\n\u001b[1;32m     89\u001b[0m                 warnings.warn('Update your `' + object_name +\n\u001b[1;32m     90\u001b[0m                               '` call to the Keras 2 API: ' + signature, stacklevel=2)\n\u001b[0;32m---> 91\u001b[0;31m             \u001b[0;32mreturn\u001b[0m \u001b[0mfunc\u001b[0m\u001b[0;34m(\u001b[0m\u001b[0;34m*\u001b[0m\u001b[0margs\u001b[0m\u001b[0;34m,\u001b[0m \u001b[0;34m**\u001b[0m\u001b[0mkwargs\u001b[0m\u001b[0;34m)\u001b[0m\u001b[0;34m\u001b[0m\u001b[0m\n\u001b[0m\u001b[1;32m     92\u001b[0m         \u001b[0mwrapper\u001b[0m\u001b[0;34m.\u001b[0m\u001b[0m_original_function\u001b[0m \u001b[0;34m=\u001b[0m \u001b[0mfunc\u001b[0m\u001b[0;34m\u001b[0m\u001b[0m\n\u001b[1;32m     93\u001b[0m         \u001b[0;32mreturn\u001b[0m \u001b[0mwrapper\u001b[0m\u001b[0;34m\u001b[0m\u001b[0m\n",
      "\u001b[0;32m~/anaconda3/envs/tensorflow_p36/lib/python3.6/site-packages/keras/engine/training.py\u001b[0m in \u001b[0;36mfit_generator\u001b[0;34m(self, generator, steps_per_epoch, epochs, verbose, callbacks, validation_data, validation_steps, class_weight, max_queue_size, workers, use_multiprocessing, shuffle, initial_epoch)\u001b[0m\n\u001b[1;32m   2222\u001b[0m                     outs = self.train_on_batch(x, y,\n\u001b[1;32m   2223\u001b[0m                                                \u001b[0msample_weight\u001b[0m\u001b[0;34m=\u001b[0m\u001b[0msample_weight\u001b[0m\u001b[0;34m,\u001b[0m\u001b[0;34m\u001b[0m\u001b[0m\n\u001b[0;32m-> 2224\u001b[0;31m                                                class_weight=class_weight)\n\u001b[0m\u001b[1;32m   2225\u001b[0m \u001b[0;34m\u001b[0m\u001b[0m\n\u001b[1;32m   2226\u001b[0m                     \u001b[0;32mif\u001b[0m \u001b[0;32mnot\u001b[0m \u001b[0misinstance\u001b[0m\u001b[0;34m(\u001b[0m\u001b[0mouts\u001b[0m\u001b[0;34m,\u001b[0m \u001b[0mlist\u001b[0m\u001b[0;34m)\u001b[0m\u001b[0;34m:\u001b[0m\u001b[0;34m\u001b[0m\u001b[0m\n",
      "\u001b[0;32m~/anaconda3/envs/tensorflow_p36/lib/python3.6/site-packages/keras/engine/training.py\u001b[0m in \u001b[0;36mtrain_on_batch\u001b[0;34m(self, x, y, sample_weight, class_weight)\u001b[0m\n\u001b[1;32m   1881\u001b[0m             \u001b[0mins\u001b[0m \u001b[0;34m=\u001b[0m \u001b[0mx\u001b[0m \u001b[0;34m+\u001b[0m \u001b[0my\u001b[0m \u001b[0;34m+\u001b[0m \u001b[0msample_weights\u001b[0m\u001b[0;34m\u001b[0m\u001b[0m\n\u001b[1;32m   1882\u001b[0m         \u001b[0mself\u001b[0m\u001b[0;34m.\u001b[0m\u001b[0m_make_train_function\u001b[0m\u001b[0;34m(\u001b[0m\u001b[0;34m)\u001b[0m\u001b[0;34m\u001b[0m\u001b[0m\n\u001b[0;32m-> 1883\u001b[0;31m         \u001b[0moutputs\u001b[0m \u001b[0;34m=\u001b[0m \u001b[0mself\u001b[0m\u001b[0;34m.\u001b[0m\u001b[0mtrain_function\u001b[0m\u001b[0;34m(\u001b[0m\u001b[0mins\u001b[0m\u001b[0;34m)\u001b[0m\u001b[0;34m\u001b[0m\u001b[0m\n\u001b[0m\u001b[1;32m   1884\u001b[0m         \u001b[0;32mif\u001b[0m \u001b[0mlen\u001b[0m\u001b[0;34m(\u001b[0m\u001b[0moutputs\u001b[0m\u001b[0;34m)\u001b[0m \u001b[0;34m==\u001b[0m \u001b[0;36m1\u001b[0m\u001b[0;34m:\u001b[0m\u001b[0;34m\u001b[0m\u001b[0m\n\u001b[1;32m   1885\u001b[0m             \u001b[0;32mreturn\u001b[0m \u001b[0moutputs\u001b[0m\u001b[0;34m[\u001b[0m\u001b[0;36m0\u001b[0m\u001b[0;34m]\u001b[0m\u001b[0;34m\u001b[0m\u001b[0m\n",
      "\u001b[0;32m~/anaconda3/envs/tensorflow_p36/lib/python3.6/site-packages/keras/backend/tensorflow_backend.py\u001b[0m in \u001b[0;36m__call__\u001b[0;34m(self, inputs)\u001b[0m\n\u001b[1;32m   2476\u001b[0m         \u001b[0msession\u001b[0m \u001b[0;34m=\u001b[0m \u001b[0mget_session\u001b[0m\u001b[0;34m(\u001b[0m\u001b[0;34m)\u001b[0m\u001b[0;34m\u001b[0m\u001b[0m\n\u001b[1;32m   2477\u001b[0m         updated = session.run(fetches=fetches, feed_dict=feed_dict,\n\u001b[0;32m-> 2478\u001b[0;31m                               **self.session_kwargs)\n\u001b[0m\u001b[1;32m   2479\u001b[0m         \u001b[0;32mreturn\u001b[0m \u001b[0mupdated\u001b[0m\u001b[0;34m[\u001b[0m\u001b[0;34m:\u001b[0m\u001b[0mlen\u001b[0m\u001b[0;34m(\u001b[0m\u001b[0mself\u001b[0m\u001b[0;34m.\u001b[0m\u001b[0moutputs\u001b[0m\u001b[0;34m)\u001b[0m\u001b[0;34m]\u001b[0m\u001b[0;34m\u001b[0m\u001b[0m\n\u001b[1;32m   2480\u001b[0m \u001b[0;34m\u001b[0m\u001b[0m\n",
      "\u001b[0;32m~/anaconda3/envs/tensorflow_p36/lib/python3.6/site-packages/tensorflow/python/client/session.py\u001b[0m in \u001b[0;36mrun\u001b[0;34m(self, fetches, feed_dict, options, run_metadata)\u001b[0m\n\u001b[1;32m    903\u001b[0m     \u001b[0;32mtry\u001b[0m\u001b[0;34m:\u001b[0m\u001b[0;34m\u001b[0m\u001b[0m\n\u001b[1;32m    904\u001b[0m       result = self._run(None, fetches, feed_dict, options_ptr,\n\u001b[0;32m--> 905\u001b[0;31m                          run_metadata_ptr)\n\u001b[0m\u001b[1;32m    906\u001b[0m       \u001b[0;32mif\u001b[0m \u001b[0mrun_metadata\u001b[0m\u001b[0;34m:\u001b[0m\u001b[0;34m\u001b[0m\u001b[0m\n\u001b[1;32m    907\u001b[0m         \u001b[0mproto_data\u001b[0m \u001b[0;34m=\u001b[0m \u001b[0mtf_session\u001b[0m\u001b[0;34m.\u001b[0m\u001b[0mTF_GetBuffer\u001b[0m\u001b[0;34m(\u001b[0m\u001b[0mrun_metadata_ptr\u001b[0m\u001b[0;34m)\u001b[0m\u001b[0;34m\u001b[0m\u001b[0m\n",
      "\u001b[0;32m~/anaconda3/envs/tensorflow_p36/lib/python3.6/site-packages/tensorflow/python/client/session.py\u001b[0m in \u001b[0;36m_run\u001b[0;34m(self, handle, fetches, feed_dict, options, run_metadata)\u001b[0m\n\u001b[1;32m   1138\u001b[0m     \u001b[0;32mif\u001b[0m \u001b[0mfinal_fetches\u001b[0m \u001b[0;32mor\u001b[0m \u001b[0mfinal_targets\u001b[0m \u001b[0;32mor\u001b[0m \u001b[0;34m(\u001b[0m\u001b[0mhandle\u001b[0m \u001b[0;32mand\u001b[0m \u001b[0mfeed_dict_tensor\u001b[0m\u001b[0;34m)\u001b[0m\u001b[0;34m:\u001b[0m\u001b[0;34m\u001b[0m\u001b[0m\n\u001b[1;32m   1139\u001b[0m       results = self._do_run(handle, final_targets, final_fetches,\n\u001b[0;32m-> 1140\u001b[0;31m                              feed_dict_tensor, options, run_metadata)\n\u001b[0m\u001b[1;32m   1141\u001b[0m     \u001b[0;32melse\u001b[0m\u001b[0;34m:\u001b[0m\u001b[0;34m\u001b[0m\u001b[0m\n\u001b[1;32m   1142\u001b[0m       \u001b[0mresults\u001b[0m \u001b[0;34m=\u001b[0m \u001b[0;34m[\u001b[0m\u001b[0;34m]\u001b[0m\u001b[0;34m\u001b[0m\u001b[0m\n",
      "\u001b[0;32m~/anaconda3/envs/tensorflow_p36/lib/python3.6/site-packages/tensorflow/python/client/session.py\u001b[0m in \u001b[0;36m_do_run\u001b[0;34m(self, handle, target_list, fetch_list, feed_dict, options, run_metadata)\u001b[0m\n\u001b[1;32m   1319\u001b[0m     \u001b[0;32mif\u001b[0m \u001b[0mhandle\u001b[0m \u001b[0;32mis\u001b[0m \u001b[0;32mNone\u001b[0m\u001b[0;34m:\u001b[0m\u001b[0;34m\u001b[0m\u001b[0m\n\u001b[1;32m   1320\u001b[0m       return self._do_call(_run_fn, feeds, fetches, targets, options,\n\u001b[0;32m-> 1321\u001b[0;31m                            run_metadata)\n\u001b[0m\u001b[1;32m   1322\u001b[0m     \u001b[0;32melse\u001b[0m\u001b[0;34m:\u001b[0m\u001b[0;34m\u001b[0m\u001b[0m\n\u001b[1;32m   1323\u001b[0m       \u001b[0;32mreturn\u001b[0m \u001b[0mself\u001b[0m\u001b[0;34m.\u001b[0m\u001b[0m_do_call\u001b[0m\u001b[0;34m(\u001b[0m\u001b[0m_prun_fn\u001b[0m\u001b[0;34m,\u001b[0m \u001b[0mhandle\u001b[0m\u001b[0;34m,\u001b[0m \u001b[0mfeeds\u001b[0m\u001b[0;34m,\u001b[0m \u001b[0mfetches\u001b[0m\u001b[0;34m)\u001b[0m\u001b[0;34m\u001b[0m\u001b[0m\n",
      "\u001b[0;32m~/anaconda3/envs/tensorflow_p36/lib/python3.6/site-packages/tensorflow/python/client/session.py\u001b[0m in \u001b[0;36m_do_call\u001b[0;34m(self, fn, *args)\u001b[0m\n\u001b[1;32m   1325\u001b[0m   \u001b[0;32mdef\u001b[0m \u001b[0m_do_call\u001b[0m\u001b[0;34m(\u001b[0m\u001b[0mself\u001b[0m\u001b[0;34m,\u001b[0m \u001b[0mfn\u001b[0m\u001b[0;34m,\u001b[0m \u001b[0;34m*\u001b[0m\u001b[0margs\u001b[0m\u001b[0;34m)\u001b[0m\u001b[0;34m:\u001b[0m\u001b[0;34m\u001b[0m\u001b[0m\n\u001b[1;32m   1326\u001b[0m     \u001b[0;32mtry\u001b[0m\u001b[0;34m:\u001b[0m\u001b[0;34m\u001b[0m\u001b[0m\n\u001b[0;32m-> 1327\u001b[0;31m       \u001b[0;32mreturn\u001b[0m \u001b[0mfn\u001b[0m\u001b[0;34m(\u001b[0m\u001b[0;34m*\u001b[0m\u001b[0margs\u001b[0m\u001b[0;34m)\u001b[0m\u001b[0;34m\u001b[0m\u001b[0m\n\u001b[0m\u001b[1;32m   1328\u001b[0m     \u001b[0;32mexcept\u001b[0m \u001b[0merrors\u001b[0m\u001b[0;34m.\u001b[0m\u001b[0mOpError\u001b[0m \u001b[0;32mas\u001b[0m \u001b[0me\u001b[0m\u001b[0;34m:\u001b[0m\u001b[0;34m\u001b[0m\u001b[0m\n\u001b[1;32m   1329\u001b[0m       \u001b[0mmessage\u001b[0m \u001b[0;34m=\u001b[0m \u001b[0mcompat\u001b[0m\u001b[0;34m.\u001b[0m\u001b[0mas_text\u001b[0m\u001b[0;34m(\u001b[0m\u001b[0me\u001b[0m\u001b[0;34m.\u001b[0m\u001b[0mmessage\u001b[0m\u001b[0;34m)\u001b[0m\u001b[0;34m\u001b[0m\u001b[0m\n",
      "\u001b[0;32m~/anaconda3/envs/tensorflow_p36/lib/python3.6/site-packages/tensorflow/python/client/session.py\u001b[0m in \u001b[0;36m_run_fn\u001b[0;34m(feed_dict, fetch_list, target_list, options, run_metadata)\u001b[0m\n\u001b[1;32m   1310\u001b[0m       \u001b[0mself\u001b[0m\u001b[0;34m.\u001b[0m\u001b[0m_extend_graph\u001b[0m\u001b[0;34m(\u001b[0m\u001b[0;34m)\u001b[0m\u001b[0;34m\u001b[0m\u001b[0m\n\u001b[1;32m   1311\u001b[0m       return self._call_tf_sessionrun(\n\u001b[0;32m-> 1312\u001b[0;31m           options, feed_dict, fetch_list, target_list, run_metadata)\n\u001b[0m\u001b[1;32m   1313\u001b[0m \u001b[0;34m\u001b[0m\u001b[0m\n\u001b[1;32m   1314\u001b[0m     \u001b[0;32mdef\u001b[0m \u001b[0m_prun_fn\u001b[0m\u001b[0;34m(\u001b[0m\u001b[0mhandle\u001b[0m\u001b[0;34m,\u001b[0m \u001b[0mfeed_dict\u001b[0m\u001b[0;34m,\u001b[0m \u001b[0mfetch_list\u001b[0m\u001b[0;34m)\u001b[0m\u001b[0;34m:\u001b[0m\u001b[0;34m\u001b[0m\u001b[0m\n",
      "\u001b[0;32m~/anaconda3/envs/tensorflow_p36/lib/python3.6/site-packages/tensorflow/python/client/session.py\u001b[0m in \u001b[0;36m_call_tf_sessionrun\u001b[0;34m(self, options, feed_dict, fetch_list, target_list, run_metadata)\u001b[0m\n\u001b[1;32m   1418\u001b[0m         return tf_session.TF_Run(\n\u001b[1;32m   1419\u001b[0m             \u001b[0mself\u001b[0m\u001b[0;34m.\u001b[0m\u001b[0m_session\u001b[0m\u001b[0;34m,\u001b[0m \u001b[0moptions\u001b[0m\u001b[0;34m,\u001b[0m \u001b[0mfeed_dict\u001b[0m\u001b[0;34m,\u001b[0m \u001b[0mfetch_list\u001b[0m\u001b[0;34m,\u001b[0m \u001b[0mtarget_list\u001b[0m\u001b[0;34m,\u001b[0m\u001b[0;34m\u001b[0m\u001b[0m\n\u001b[0;32m-> 1420\u001b[0;31m             status, run_metadata)\n\u001b[0m\u001b[1;32m   1421\u001b[0m \u001b[0;34m\u001b[0m\u001b[0m\n\u001b[1;32m   1422\u001b[0m   \u001b[0;32mdef\u001b[0m \u001b[0m_call_tf_sessionprun\u001b[0m\u001b[0;34m(\u001b[0m\u001b[0mself\u001b[0m\u001b[0;34m,\u001b[0m \u001b[0mhandle\u001b[0m\u001b[0;34m,\u001b[0m \u001b[0mfeed_dict\u001b[0m\u001b[0;34m,\u001b[0m \u001b[0mfetch_list\u001b[0m\u001b[0;34m)\u001b[0m\u001b[0;34m:\u001b[0m\u001b[0;34m\u001b[0m\u001b[0m\n",
      "\u001b[0;31mKeyboardInterrupt\u001b[0m: "
     ]
    },
    {
     "name": "stderr",
     "output_type": "stream",
     "text": [
      "  File \"/data/su_buildup/two_stream_part2/utils/optical_flow_data_gen.py\", line 79, in __data_generation\n",
      "    data = self.__data_load(ID)\n",
      "KeyboardInterrupt\n",
      "  File \"/data/su_buildup/two_stream_part2/utils/optical_flow_data_gen.py\", line 116, in __data_load\n",
      "    v_img = cv2.imread(v_file, 0)\n"
     ]
    }
   ],
   "source": [
    "mypotim = SGD(lr=1e-2, momentum=0.9)\n",
    "simonyan_model_no_bn.compile(loss='categorical_crossentropy',\n",
    "              optimizer=mypotim,\n",
    "              metrics=['accuracy'])\n",
    "mod2 = simonyan_model_no_bn.fit_generator(generator=training_generator,\n",
    "                    validation_data=validation_generator, \n",
    "                    use_multiprocessing=True,\n",
    "                    workers=2, epochs=20,\n",
    "                    verbose=1)"
   ]
  },
  {
   "cell_type": "code",
   "execution_count": null,
   "metadata": {},
   "outputs": [],
   "source": []
  }
 ],
 "metadata": {
  "kernelspec": {
   "display_name": "Environment (conda_tensorflow_p36)",
   "language": "python",
   "name": "conda_tensorflow_p36"
  },
  "language_info": {
   "codemirror_mode": {
    "name": "ipython",
    "version": 3
   },
   "file_extension": ".py",
   "mimetype": "text/x-python",
   "name": "python",
   "nbconvert_exporter": "python",
   "pygments_lexer": "ipython3",
   "version": "3.6.4"
  }
 },
 "nbformat": 4,
 "nbformat_minor": 2
}
