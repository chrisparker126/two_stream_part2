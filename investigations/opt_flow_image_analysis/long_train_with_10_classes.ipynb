{
 "cells": [
  {
   "cell_type": "markdown",
   "metadata": {},
   "source": [
    "# Train smarter and longer\n",
    "\n",
    "After the original \"what am I feeding my network batch size and  video level accuracy. What I've seen is that it should be possible to reach a much higher level. In the com"
   ]
  },
  {
   "cell_type": "code",
   "execution_count": 1,
   "metadata": {},
   "outputs": [],
   "source": [
    "import os\n",
    "import sys\n",
    "\n",
    "\n",
    "up1 = os.path.abspath('../../utils/') \n",
    "up2 = os.path.abspath('../../models/') \n",
    "sys.path.insert(0, up1)\n",
    "sys.path.insert(0, up2)"
   ]
  },
  {
   "cell_type": "code",
   "execution_count": 2,
   "metadata": {},
   "outputs": [
    {
     "name": "stderr",
     "output_type": "stream",
     "text": [
      "/home/ubuntu/anaconda3/envs/tensorflow_p36/lib/python3.6/site-packages/h5py/__init__.py:36: FutureWarning: Conversion of the second argument of issubdtype from `float` to `np.floating` is deprecated. In future, it will be treated as `np.float64 == np.dtype(float).type`.\n",
      "  from ._conv import register_converters as _register_converters\n",
      "Using TensorFlow backend.\n",
      "/home/ubuntu/anaconda3/envs/tensorflow_p36/lib/python3.6/site-packages/matplotlib/__init__.py:1067: UserWarning: Duplicate key in file \"/home/ubuntu/.config/matplotlib/matplotlibrc\", line #2\n",
      "  (fname, cnt))\n",
      "/home/ubuntu/anaconda3/envs/tensorflow_p36/lib/python3.6/site-packages/matplotlib/__init__.py:1067: UserWarning: Duplicate key in file \"/home/ubuntu/.config/matplotlib/matplotlibrc\", line #3\n",
      "  (fname, cnt))\n"
     ]
    }
   ],
   "source": [
    "from optical_flow_data_gen import DataGenerator\n",
    "from ucf101_data_utils import get_test_data_opt_flow, get_train_data_opt_flow\n",
    "from motion_network import getKerasCifarMotionModel2, getKerasCifarMotionModelOnly\n",
    "from keras.optimizers import SGD\n",
    "from matplotlib import pyplot as plt\n",
    "from keras.optimizers import SGD\n",
    "import cv2 \n",
    "import numpy as np\n",
    "import keras"
   ]
  },
  {
   "cell_type": "code",
   "execution_count": null,
   "metadata": {},
   "outputs": [],
   "source": []
  },
  {
   "cell_type": "markdown",
   "metadata": {},
   "source": [
    "# Is it the data or my classifier\n",
    "\n",
    "I am starting to wonder what it is about my optical flow data that might be causing so much easier. Regardless about the unconverged flow images I feel the author of the data still managed with it. So there's essentially two things I can either get a large amount of improvement simply on how I train my classifier (slower?), or my data set is not quite right. I've already seen that I wasn't even doing any random transforms on my opt flow images courtesy my badly written opt flow data generator. \n",
    "Any how what I am aiming to do is use a stinkingly cheap data model to explore what might be wrong. "
   ]
  },
  {
   "cell_type": "code",
   "execution_count": 9,
   "metadata": {},
   "outputs": [],
   "source": [
    "from keras.models import Sequential\n",
    "from keras.layers import Conv2D, MaxPooling2D\n",
    "from keras.layers import Activation, Dropout, Flatten, Dense\n",
    "from keras.initializers import Ones\n",
    "from keras import optimizers\n",
    "\n",
    "def getModel(lr=1e-2):\n",
    "    model = Sequential()\n",
    "    model.add(Conv2D(32, (3, 3), input_shape=(224, 224, 2)))\n",
    "    model.add(Activation('relu'))\n",
    "    model.add(MaxPooling2D(pool_size=(2, 2)))\n",
    "\n",
    "    model.add(Conv2D(32, (3, 3)))\n",
    "    model.add(Activation('relu'))\n",
    "    model.add(MaxPooling2D(pool_size=(2, 2)))\n",
    "\n",
    "    model.add(Conv2D(64, (3, 3)))\n",
    "    model.add(Activation('relu'))\n",
    "    model.add(MaxPooling2D(pool_size=(2, 2)))\n",
    "\n",
    "    model.add(Flatten())  # this converts our 3D feature maps to 1D feature vectors\n",
    "    model.add(Dense(64))\n",
    "    model.add(Activation('relu'))\n",
    "    model.add(Dropout(0.5))\n",
    "    model.add(Dense(10))\n",
    "    model.add(Activation('sigmoid'))\n",
    "\n",
    "    optimizers.SGD(lr=lr)\n",
    "    model.compile(loss='categorical_crossentropy',\n",
    "                  optimizer='sgd',\n",
    "                  metrics=['accuracy'])\n",
    "    return model"
   ]
  },
  {
   "cell_type": "code",
   "execution_count": 10,
   "metadata": {},
   "outputs": [],
   "source": [
    "model_fast_lr = getModel(lr=1e-2)"
   ]
  },
  {
   "cell_type": "code",
   "execution_count": 11,
   "metadata": {},
   "outputs": [],
   "source": [
    "from optical_flow_data_gen import DataGenerator\n",
    "from ucf101_data_utils import get_test_data_opt_flow, get_train_data_opt_flow\n",
    "\n",
    "training_options = { 'rescale' : 1./255, \n",
    "                     'samplewise_center': True, \n",
    "                         'samplewise_std_normalization':True,\n",
    "                            'zoom_range' : 0.2, \n",
    "                            'horizontal_flip' : True}\n",
    "\n",
    "validation_options = { 'rescale' : 1./255,\n",
    "                     'samplewise_center': True, \n",
    "                         'samplewise_std_normalization':True}\n",
    "\n",
    "\n",
    "\n",
    "\n",
    "params_train = { 'data_dir' : \"/data/tvl1_flow\",\n",
    "          'dim': (224,224),\n",
    "          'batch_size': 128,\n",
    "          'n_frames': 1,\n",
    "          'n_frequency': 1,\n",
    "          'shuffle': True, \n",
    "                'n_classes' : 10,\n",
    "           'validation' : False,\n",
    "                'enable_augmentation' : True,\n",
    "               'training_opts' : training_options}\n",
    "\n",
    "params_valid = { 'data_dir' : \"/data/tvl1_flow\",\n",
    "          'dim': (224,224),\n",
    "          'batch_size':128,\n",
    "          'n_frames': 1,\n",
    "          'n_frequency': 1,\n",
    "          'shuffle': True, \n",
    "                'n_classes' : 10,\n",
    "           'validation' : True,\n",
    "               'validation_opts' : validation_options}\n",
    "\n",
    "id_labels_train = get_train_data_opt_flow('../../data/ucf101_splits/trainlist01_small.txt')\n",
    "labels = id_labels_train[1]\n",
    "id_test = get_test_data_opt_flow('../../data/ucf101_splits/testlist01_small.txt', \\\n",
    "                       '../../data/ucf101_splits/classInd_small.txt')\n",
    "\n",
    "training_generator = DataGenerator(*id_labels_train, **params_train)\n",
    "\n",
    "\n",
    "validation_generator = DataGenerator(id_test[0], id_test[1], **params_valid)"
   ]
  },
  {
   "cell_type": "markdown",
   "metadata": {},
   "source": [
    "# With Augmentation"
   ]
  },
  {
   "cell_type": "code",
   "execution_count": 12,
   "metadata": {},
   "outputs": [
    {
     "name": "stdout",
     "output_type": "stream",
     "text": [
      "Epoch 1/5\n",
      "64/64 [==============================] - 107s 2s/step - loss: 2.2618 - acc: 0.1385 - val_loss: 2.2421 - val_acc: 0.2026\n",
      "Epoch 2/5\n",
      "64/64 [==============================] - 107s 2s/step - loss: 2.2097 - acc: 0.2037 - val_loss: 2.1872 - val_acc: 0.2521\n",
      "Epoch 3/5\n",
      "64/64 [==============================] - 99s 2s/step - loss: 2.1595 - acc: 0.2393 - val_loss: 2.1423 - val_acc: 0.2833\n",
      "Epoch 4/5\n",
      "64/64 [==============================] - 93s 1s/step - loss: 2.1254 - acc: 0.2654 - val_loss: 2.1007 - val_acc: 0.3154\n",
      "Epoch 5/5\n",
      "64/64 [==============================] - 99s 2s/step - loss: 2.0843 - acc: 0.2784 - val_loss: 2.0944 - val_acc: 0.3096\n"
     ]
    }
   ],
   "source": [
    "mod1 = model_fast_lr.fit_generator(generator=training_generator, steps_per_epoch=64,\n",
    "                    validation_data=validation_generator, validation_steps=64,\n",
    "                    use_multiprocessing=True,\n",
    "                    workers=2, epochs=5,\n",
    "                    verbose=1)"
   ]
  },
  {
   "cell_type": "markdown",
   "metadata": {},
   "source": [
    "# Without Augmentation\n"
   ]
  },
  {
   "cell_type": "code",
   "execution_count": 7,
   "metadata": {},
   "outputs": [],
   "source": [
    "params_train = { 'data_dir' : \"/data/tvl1_flow\",\n",
    "          'dim': (224,224),\n",
    "          'batch_size': 128,\n",
    "          'n_frames': 1,\n",
    "          'n_frequency': 1,\n",
    "          'shuffle': True, \n",
    "                'n_classes' : 10,\n",
    "           'validation' : False,\n",
    "                'enable_augmentation' : False,\n",
    "               'training_opts' : training_options}\n",
    "\n",
    "training_generator = DataGenerator(*id_labels_train, **params_train)\n",
    "\n",
    "model_fast_lr = getModel(lr=1e-2)\n"
   ]
  },
  {
   "cell_type": "code",
   "execution_count": 8,
   "metadata": {},
   "outputs": [
    {
     "name": "stdout",
     "output_type": "stream",
     "text": [
      "Epoch 1/5\n",
      "64/64 [==============================] - 63s 985ms/step - loss: 2.2386 - acc: 0.1510 - val_loss: 2.2132 - val_acc: 0.1897\n",
      "Epoch 2/5\n",
      "64/64 [==============================] - 62s 963ms/step - loss: 2.1650 - acc: 0.2238 - val_loss: 2.1443 - val_acc: 0.2300\n",
      "Epoch 3/5\n",
      "64/64 [==============================] - 60s 938ms/step - loss: 2.0883 - acc: 0.2601 - val_loss: 2.0870 - val_acc: 0.3040\n",
      "Epoch 4/5\n",
      "64/64 [==============================] - 60s 936ms/step - loss: 2.0346 - acc: 0.2836 - val_loss: 2.0424 - val_acc: 0.3174\n",
      "Epoch 5/5\n",
      "64/64 [==============================] - 60s 933ms/step - loss: 1.9951 - acc: 0.2933 - val_loss: 2.0482 - val_acc: 0.3444\n"
     ]
    }
   ],
   "source": [
    "mod1 = model_fast_lr.fit_generator(generator=training_generator, steps_per_epoch=64,\n",
    "                    validation_data=validation_generator, validation_steps=64,\n",
    "                    use_multiprocessing=True,\n",
    "                    workers=2, epochs=5,\n",
    "                    verbose=1)"
   ]
  },
  {
   "cell_type": "markdown",
   "metadata": {},
   "source": [
    "## Long run with agumentation\n",
    "\n",
    "The idea here is to run for  180 epochs which should be about  12,000 iterations. But the learning rate will be regulated to try  to maximize convergence"
   ]
  },
  {
   "cell_type": "code",
   "execution_count": 13,
   "metadata": {},
   "outputs": [],
   "source": [
    "params_train = { 'data_dir' : \"/data/tvl1_flow\",\n",
    "          'dim': (224,224),\n",
    "          'batch_size': 128,\n",
    "          'n_frames': 1,\n",
    "          'n_frequency': 1,\n",
    "          'shuffle': True, \n",
    "                'n_classes' : 10,\n",
    "           'validation' : False,\n",
    "                'enable_augmentation' : True,\n",
    "               'training_opts' : training_options}\n",
    "\n",
    "training_generator = DataGenerator(*id_labels_train, **params_train)\n",
    "\n",
    "model_fast_lr = getModel(lr=1e-2)"
   ]
  },
  {
   "cell_type": "code",
   "execution_count": null,
   "metadata": {},
   "outputs": [
    {
     "name": "stdout",
     "output_type": "stream",
     "text": [
      "Epoch 1/60\n",
      "64/64 [==============================] - 105s 2s/step - loss: 2.2382 - acc: 0.1262 - val_loss: 2.2333 - val_acc: 0.1855\n",
      "Epoch 2/60\n",
      "64/64 [==============================] - 97s 2s/step - loss: 2.1782 - acc: 0.2043 - val_loss: 2.1670 - val_acc: 0.2777\n",
      "Epoch 3/60\n",
      "64/64 [==============================] - 93s 1s/step - loss: 2.1403 - acc: 0.2579 - val_loss: 2.1217 - val_acc: 0.3157\n",
      "Epoch 4/60\n",
      "64/64 [==============================] - 94s 1s/step - loss: 2.1016 - acc: 0.2795 - val_loss: 2.0963 - val_acc: 0.3297\n",
      "Epoch 5/60\n",
      "64/64 [==============================] - 96s 2s/step - loss: 2.0586 - acc: 0.2848 - val_loss: 2.0553 - val_acc: 0.3229\n",
      "Epoch 6/60\n",
      "64/64 [==============================] - 95s 1s/step - loss: 2.0290 - acc: 0.2959 - val_loss: 2.0189 - val_acc: 0.3282\n",
      "Epoch 7/60\n",
      "64/64 [==============================] - 99s 2s/step - loss: 1.9858 - acc: 0.2991 - val_loss: 1.9977 - val_acc: 0.3181\n",
      "Epoch 8/60\n",
      "64/64 [==============================] - 95s 1s/step - loss: 1.9739 - acc: 0.3032 - val_loss: 1.9836 - val_acc: 0.3177\n",
      "Epoch 9/60\n",
      "64/64 [==============================] - 93s 1s/step - loss: 1.9531 - acc: 0.3090 - val_loss: 1.9858 - val_acc: 0.3370\n",
      "Epoch 10/60\n",
      "64/64 [==============================] - 95s 1s/step - loss: 1.9422 - acc: 0.3240 - val_loss: 1.9450 - val_acc: 0.3354\n",
      "Epoch 11/60\n",
      "64/64 [==============================] - 95s 1s/step - loss: 1.9270 - acc: 0.3217 - val_loss: 1.9481 - val_acc: 0.3292\n",
      "Epoch 12/60\n",
      "64/64 [==============================] - 97s 2s/step - loss: 1.9298 - acc: 0.3270 - val_loss: 1.9262 - val_acc: 0.3506\n",
      "Epoch 13/60\n",
      "64/64 [==============================] - 98s 2s/step - loss: 1.8936 - acc: 0.3381 - val_loss: 1.9142 - val_acc: 0.3629\n",
      "Epoch 14/60\n",
      "64/64 [==============================] - 96s 2s/step - loss: 1.8889 - acc: 0.3413 - val_loss: 1.9052 - val_acc: 0.3522\n",
      "Epoch 15/60\n",
      "64/64 [==============================] - 92s 1s/step - loss: 1.8846 - acc: 0.3527 - val_loss: 1.9275 - val_acc: 0.3579\n",
      "Epoch 16/60\n",
      "64/64 [==============================] - 95s 1s/step - loss: 1.8719 - acc: 0.3431 - val_loss: 1.9057 - val_acc: 0.3567\n",
      "Epoch 17/60\n",
      "64/64 [==============================] - 94s 1s/step - loss: 1.8484 - acc: 0.3542 - val_loss: 1.9191 - val_acc: 0.3516\n",
      "Epoch 18/60\n",
      "64/64 [==============================] - 92s 1s/step - loss: 1.8521 - acc: 0.3522 - val_loss: 1.8795 - val_acc: 0.3628\n",
      "Epoch 19/60\n",
      "64/64 [==============================] - 92s 1s/step - loss: 1.8490 - acc: 0.3594 - val_loss: 1.8972 - val_acc: 0.3635\n",
      "Epoch 20/60\n",
      "64/64 [==============================] - 95s 1s/step - loss: 1.8473 - acc: 0.3605 - val_loss: 1.8449 - val_acc: 0.3756\n",
      "Epoch 21/60\n",
      "22/64 [=========>....................] - ETA: 42s - loss: 1.8428 - acc: 0.3558"
     ]
    }
   ],
   "source": [
    "mod1 = model_fast_lr.fit_generator(generator=training_generator, steps_per_epoch=64,\n",
    "                    validation_data=validation_generator, validation_steps=64,\n",
    "                    use_multiprocessing=True,\n",
    "                    workers=2, epochs=60,\n",
    "                    verbose=1)"
   ]
  },
  {
   "cell_type": "code",
   "execution_count": null,
   "metadata": {},
   "outputs": [],
   "source": []
  },
  {
   "cell_type": "code",
   "execution_count": null,
   "metadata": {},
   "outputs": [],
   "source": []
  }
 ],
 "metadata": {
  "kernelspec": {
   "display_name": "Environment (conda_tensorflow_p36)",
   "language": "python",
   "name": "conda_tensorflow_p36"
  },
  "language_info": {
   "codemirror_mode": {
    "name": "ipython",
    "version": 3
   },
   "file_extension": ".py",
   "mimetype": "text/x-python",
   "name": "python",
   "nbconvert_exporter": "python",
   "pygments_lexer": "ipython3",
   "version": "3.6.4"
  }
 },
 "nbformat": 4,
 "nbformat_minor": 2
}
