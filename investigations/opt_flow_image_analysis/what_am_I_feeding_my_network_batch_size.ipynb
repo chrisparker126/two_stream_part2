{
 "cells": [
  {
   "cell_type": "markdown",
   "metadata": {},
   "source": [
    "# Am I feeding my network crap\n",
    "\n",
    "Given that my research on the image content of optical flow images shows such huge variety is my image generation doing  anything useful to it??? Perhaps experiment with a very small network for say only 10 classes?? \n",
    "\n",
    "First lets look at the output for something relatively easy like cricket "
   ]
  },
  {
   "cell_type": "code",
   "execution_count": 1,
   "metadata": {},
   "outputs": [],
   "source": [
    "import os\n",
    "import sys\n",
    "\n",
    "\n",
    "up1 = os.path.abspath('../../utils/') \n",
    "up2 = os.path.abspath('../../models/') \n",
    "sys.path.insert(0, up1)\n",
    "sys.path.insert(0, up2)"
   ]
  },
  {
   "cell_type": "code",
   "execution_count": 2,
   "metadata": {},
   "outputs": [
    {
     "name": "stderr",
     "output_type": "stream",
     "text": [
      "/home/ubuntu/anaconda3/envs/tensorflow_p36/lib/python3.6/site-packages/h5py/__init__.py:36: FutureWarning: Conversion of the second argument of issubdtype from `float` to `np.floating` is deprecated. In future, it will be treated as `np.float64 == np.dtype(float).type`.\n",
      "  from ._conv import register_converters as _register_converters\n",
      "Using TensorFlow backend.\n",
      "/home/ubuntu/anaconda3/envs/tensorflow_p36/lib/python3.6/site-packages/matplotlib/__init__.py:1067: UserWarning: Duplicate key in file \"/home/ubuntu/.config/matplotlib/matplotlibrc\", line #2\n",
      "  (fname, cnt))\n",
      "/home/ubuntu/anaconda3/envs/tensorflow_p36/lib/python3.6/site-packages/matplotlib/__init__.py:1067: UserWarning: Duplicate key in file \"/home/ubuntu/.config/matplotlib/matplotlibrc\", line #3\n",
      "  (fname, cnt))\n"
     ]
    }
   ],
   "source": [
    "from optical_flow_data_gen import DataGenerator\n",
    "from ucf101_data_utils import get_test_data_opt_flow, get_train_data_opt_flow\n",
    "from motion_network import getKerasCifarMotionModel2, getKerasCifarMotionModelOnly\n",
    "from keras.optimizers import SGD\n",
    "from matplotlib import pyplot as plt\n",
    "from keras.optimizers import SGD\n",
    "import cv2 \n",
    "import numpy as np\n"
   ]
  },
  {
   "cell_type": "markdown",
   "metadata": {},
   "source": [
    "# Is it the data or my classifier\n",
    "\n",
    "I am starting to wonder what it is about my optical flow data that might be causing so much easier. Regardless about the unconverged flow images I feel the author of the data still managed with it. So there's essentially two things I can either get a large amount of improvement simply on how I train my classifier (slower?), or my data set is not quite right. I've already seen that I wasn't even doing any random transforms on my opt flow images courtesy my badly written opt flow data generator. \n",
    "Any how what I am aiming to do is use a stinkingly cheap data model to explore what might be wrong. "
   ]
  },
  {
   "cell_type": "code",
   "execution_count": 3,
   "metadata": {},
   "outputs": [],
   "source": [
    "from keras.models import Sequential\n",
    "from keras.layers import Conv2D, MaxPooling2D\n",
    "from keras.layers import Activation, Dropout, Flatten, Dense\n",
    "from keras.initializers import Ones\n",
    "from keras import optimizers\n",
    "\n",
    "def getModel(lr=1e-2):\n",
    "    model = Sequential()\n",
    "    model.add(Conv2D(32, (3, 3), input_shape=(224, 224, 2)))\n",
    "    model.add(Activation('relu'))\n",
    "    model.add(MaxPooling2D(pool_size=(2, 2)))\n",
    "\n",
    "    model.add(Conv2D(32, (3, 3)))\n",
    "    model.add(Activation('relu'))\n",
    "    model.add(MaxPooling2D(pool_size=(2, 2)))\n",
    "\n",
    "    model.add(Conv2D(64, (3, 3)))\n",
    "    model.add(Activation('relu'))\n",
    "    model.add(MaxPooling2D(pool_size=(2, 2)))\n",
    "\n",
    "    model.add(Flatten())  # this converts our 3D feature maps to 1D feature vectors\n",
    "    model.add(Dense(64))\n",
    "    model.add(Activation('relu'))\n",
    "    model.add(Dropout(0.5))\n",
    "    model.add(Dense(10))\n",
    "    model.add(Activation('sigmoid'))\n",
    "\n",
    "    optimizers.SGD(lr=lr)\n",
    "    model.compile(loss='categorical_crossentropy',\n",
    "                  optimizer='sgd',\n",
    "                  metrics=['accuracy'])\n",
    "    return model"
   ]
  },
  {
   "cell_type": "code",
   "execution_count": 4,
   "metadata": {},
   "outputs": [],
   "source": [
    "model_fast_lr = getModel(lr=1e-4)"
   ]
  },
  {
   "cell_type": "code",
   "execution_count": 4,
   "metadata": {},
   "outputs": [],
   "source": [
    "from optical_flow_data_gen import DataGenerator\n",
    "from ucf101_data_utils import get_test_data_opt_flow, get_train_data_opt_flow\n",
    "\n",
    "training_options = { 'rescale' : 1./255, \n",
    "                            'shear_range' : 0.2, \n",
    "                            'zoom_range' : 0.2, \n",
    "                            'horizontal_flip' : True,\n",
    "                             'rotation_range':20,\n",
    "                             'width_shift_range':0.2,\n",
    "                             'height_shift_range':0.2}\n",
    "\n",
    "validation_options = { 'rescale' : 1./255 }\n",
    "\n",
    "\n",
    "\n",
    "\n",
    "params_train = { 'data_dir' : \"/data/tvl1_flow\",\n",
    "          'dim': (224,224),\n",
    "          'batch_size': 64,\n",
    "          'n_frames': 1,\n",
    "          'n_frequency': 1,\n",
    "          'shuffle': True, \n",
    "                'n_classes' : 10,\n",
    "           'validation' : False}\n",
    "\n",
    "params_valid = { 'data_dir' : \"/data/tvl1_flow\",\n",
    "          'dim': (224,224),\n",
    "          'batch_size':64,\n",
    "          'n_frames': 1,\n",
    "          'n_frequency': 1,\n",
    "          'shuffle': True, \n",
    "                'n_classes' : 10,\n",
    "           'validation' : True}\n",
    "\n",
    "id_labels_train = get_train_data_opt_flow('../../data/ucf101_splits/trainlist01_small.txt')\n",
    "labels = id_labels_train[1]\n",
    "id_test = get_test_data_opt_flow('../../data/ucf101_splits/testlist01_small.txt', \\\n",
    "                       '../../data/ucf101_splits/classInd_small.txt')\n",
    "\n",
    "training_generator = DataGenerator(*id_labels_train, **params_train)\n",
    "\n",
    "\n",
    "validation_generator = DataGenerator(id_test[0], id_test[1], **params_valid)"
   ]
  },
  {
   "cell_type": "code",
   "execution_count": 15,
   "metadata": {},
   "outputs": [
    {
     "name": "stdout",
     "output_type": "stream",
     "text": [
      "Epoch 1/50\n",
      "14/64 [=====>........................] - ETA: 14s - loss: 2.2881 - acc: 0.1016\n",
      "64/64 [==============================] - 39s 613ms/step - loss: 2.2698 - acc: 0.1316 - val_loss: 2.2504 - val_acc: 0.1575\n",
      "Epoch 2/50\n",
      "64/64 [==============================] - 34s 539ms/step - loss: 2.2207 - acc: 0.1746 - val_loss: 2.2031 - val_acc: 0.1953\n",
      "Epoch 3/50\n",
      "64/64 [==============================] - 36s 568ms/step - loss: 2.1723 - acc: 0.2234 - val_loss: 2.1443 - val_acc: 0.2695\n",
      "Epoch 4/50\n",
      "64/64 [==============================] - 38s 593ms/step - loss: 2.1123 - acc: 0.2705 - val_loss: 2.1225 - val_acc: 0.2676\n",
      "Epoch 5/50\n",
      "64/64 [==============================] - 34s 533ms/step - loss: 2.0839 - acc: 0.2866 - val_loss: 2.0952 - val_acc: 0.3008\n",
      "Epoch 6/50\n",
      "64/64 [==============================] - 34s 533ms/step - loss: 2.0549 - acc: 0.2786 - val_loss: 2.0538 - val_acc: 0.3074\n",
      "Epoch 7/50\n",
      "64/64 [==============================] - 32s 500ms/step - loss: 1.9815 - acc: 0.3086 - val_loss: 2.0219 - val_acc: 0.3171\n",
      "Epoch 8/50\n",
      "64/64 [==============================] - 34s 538ms/step - loss: 1.9755 - acc: 0.3149 - val_loss: 2.0308 - val_acc: 0.2676\n",
      "Epoch 9/50\n",
      "64/64 [==============================] - 30s 471ms/step - loss: 1.9554 - acc: 0.3218 - val_loss: 1.9651 - val_acc: 0.3206\n",
      "Epoch 10/50\n",
      "64/64 [==============================] - 34s 525ms/step - loss: 1.9167 - acc: 0.3381 - val_loss: 1.9984 - val_acc: 0.3159\n",
      "Epoch 11/50\n",
      "64/64 [==============================] - 35s 541ms/step - loss: 1.8988 - acc: 0.3425 - val_loss: 1.9628 - val_acc: 0.3252\n",
      "Epoch 12/50\n",
      "64/64 [==============================] - 33s 513ms/step - loss: 1.9035 - acc: 0.3489 - val_loss: 1.9243 - val_acc: 0.3533\n",
      "Epoch 13/50\n",
      "64/64 [==============================] - 33s 511ms/step - loss: 1.8859 - acc: 0.3577 - val_loss: 2.0019 - val_acc: 0.3247\n",
      "Epoch 14/50\n",
      "64/64 [==============================] - 32s 493ms/step - loss: 1.8815 - acc: 0.3420 - val_loss: 1.9647 - val_acc: 0.3215\n",
      "Epoch 15/50\n",
      "64/64 [==============================] - 30s 476ms/step - loss: 1.8551 - acc: 0.3716 - val_loss: 1.9357 - val_acc: 0.3533\n",
      "Epoch 16/50\n",
      "64/64 [==============================] - 30s 470ms/step - loss: 1.8671 - acc: 0.3560 - val_loss: 1.8894 - val_acc: 0.3477\n",
      "Epoch 17/50\n",
      "64/64 [==============================] - 30s 466ms/step - loss: 1.8231 - acc: 0.3689 - val_loss: 1.9025 - val_acc: 0.3496\n",
      "Epoch 18/50\n",
      "64/64 [==============================] - 31s 481ms/step - loss: 1.8111 - acc: 0.3694 - val_loss: 1.9153 - val_acc: 0.3455\n",
      "Epoch 19/50\n",
      "64/64 [==============================] - 30s 475ms/step - loss: 1.8351 - acc: 0.3689 - val_loss: 1.9208 - val_acc: 0.3645\n",
      "Epoch 20/50\n",
      "64/64 [==============================] - 31s 481ms/step - loss: 1.7916 - acc: 0.3789 - val_loss: 1.8916 - val_acc: 0.3643\n",
      "Epoch 21/50\n",
      "64/64 [==============================] - 31s 481ms/step - loss: 1.7968 - acc: 0.3884 - val_loss: 1.8868 - val_acc: 0.3752\n",
      "Epoch 22/50\n",
      "64/64 [==============================] - 29s 461ms/step - loss: 1.7853 - acc: 0.3738 - val_loss: 1.8985 - val_acc: 0.3479\n",
      "Epoch 23/50\n",
      "64/64 [==============================] - 31s 485ms/step - loss: 1.7733 - acc: 0.3862 - val_loss: 1.8748 - val_acc: 0.3665\n",
      "Epoch 24/50\n",
      "64/64 [==============================] - 29s 459ms/step - loss: 1.7643 - acc: 0.4089 - val_loss: 1.8268 - val_acc: 0.3823\n",
      "Epoch 25/50\n",
      "64/64 [==============================] - 28s 432ms/step - loss: 1.7296 - acc: 0.4060 - val_loss: 1.8577 - val_acc: 0.3794\n",
      "Epoch 26/50\n",
      "64/64 [==============================] - 27s 427ms/step - loss: 1.7317 - acc: 0.4170 - val_loss: 1.8678 - val_acc: 0.3770\n",
      "Epoch 27/50\n",
      "64/64 [==============================] - 32s 498ms/step - loss: 1.7351 - acc: 0.4150 - val_loss: 1.8370 - val_acc: 0.3745\n",
      "Epoch 28/50\n",
      "64/64 [==============================] - 29s 447ms/step - loss: 1.7335 - acc: 0.4023 - val_loss: 1.8262 - val_acc: 0.3848\n",
      "Epoch 29/50\n",
      "64/64 [==============================] - 28s 444ms/step - loss: 1.7242 - acc: 0.4060 - val_loss: 1.8607 - val_acc: 0.4165\n",
      "Epoch 30/50\n",
      "64/64 [==============================] - 30s 472ms/step - loss: 1.7278 - acc: 0.4258 - val_loss: 1.8464 - val_acc: 0.3845\n",
      "Epoch 31/50\n",
      "64/64 [==============================] - 28s 434ms/step - loss: 1.6933 - acc: 0.4265 - val_loss: 1.8342 - val_acc: 0.3916\n",
      "Epoch 32/50\n",
      "64/64 [==============================] - 28s 435ms/step - loss: 1.7110 - acc: 0.4141 - val_loss: 1.8771 - val_acc: 0.3730\n",
      "Epoch 33/50\n",
      "64/64 [==============================] - 28s 441ms/step - loss: 1.6844 - acc: 0.4243 - val_loss: 1.8131 - val_acc: 0.4146\n",
      "Epoch 34/50\n",
      "64/64 [==============================] - 29s 451ms/step - loss: 1.6639 - acc: 0.4304 - val_loss: 1.8150 - val_acc: 0.4116\n",
      "Epoch 35/50\n",
      "64/64 [==============================] - 29s 448ms/step - loss: 1.6995 - acc: 0.4238 - val_loss: 1.8076 - val_acc: 0.4141\n",
      "Epoch 36/50\n",
      "64/64 [==============================] - 28s 438ms/step - loss: 1.6631 - acc: 0.4333 - val_loss: 1.8467 - val_acc: 0.3704\n",
      "Epoch 37/50\n",
      "64/64 [==============================] - 28s 443ms/step - loss: 1.6658 - acc: 0.4407 - val_loss: 1.8088 - val_acc: 0.3904\n",
      "Epoch 38/50\n",
      "64/64 [==============================] - 29s 453ms/step - loss: 1.6635 - acc: 0.4294 - val_loss: 1.8264 - val_acc: 0.4143\n",
      "Epoch 39/50\n",
      "64/64 [==============================] - 27s 428ms/step - loss: 1.6550 - acc: 0.4363 - val_loss: 1.8083 - val_acc: 0.4016\n",
      "Epoch 40/50\n",
      "64/64 [==============================] - 28s 430ms/step - loss: 1.6215 - acc: 0.4431 - val_loss: 1.8069 - val_acc: 0.4080\n",
      "Epoch 41/50\n",
      "64/64 [==============================] - 27s 423ms/step - loss: 1.6676 - acc: 0.4333 - val_loss: 1.8313 - val_acc: 0.3867\n",
      "Epoch 42/50\n",
      "64/64 [==============================] - 28s 441ms/step - loss: 1.6247 - acc: 0.4390 - val_loss: 1.7948 - val_acc: 0.4062\n",
      "Epoch 43/50\n",
      "64/64 [==============================] - 29s 450ms/step - loss: 1.5989 - acc: 0.4597 - val_loss: 1.7782 - val_acc: 0.4133\n",
      "Epoch 44/50\n",
      "64/64 [==============================] - 28s 442ms/step - loss: 1.6078 - acc: 0.4421 - val_loss: 1.7805 - val_acc: 0.4214\n",
      "Epoch 45/50\n",
      "64/64 [==============================] - 28s 445ms/step - loss: 1.5833 - acc: 0.4587 - val_loss: 1.7967 - val_acc: 0.4048\n",
      "Epoch 46/50\n",
      "64/64 [==============================] - 28s 439ms/step - loss: 1.6120 - acc: 0.4539 - val_loss: 1.7527 - val_acc: 0.4463\n",
      "Epoch 47/50\n",
      "64/64 [==============================] - 28s 436ms/step - loss: 1.5527 - acc: 0.4739 - val_loss: 1.7408 - val_acc: 0.4531\n",
      "Epoch 48/50\n",
      "64/64 [==============================] - 27s 422ms/step - loss: 1.5815 - acc: 0.4607 - val_loss: 1.7405 - val_acc: 0.4468\n",
      "Epoch 49/50\n",
      "64/64 [==============================] - 28s 434ms/step - loss: 1.5982 - acc: 0.4561 - val_loss: 1.7458 - val_acc: 0.4053\n",
      "Epoch 50/50\n",
      "64/64 [==============================] - 27s 422ms/step - loss: 1.5409 - acc: 0.4626 - val_loss: 1.7156 - val_acc: 0.4380\n"
     ]
    }
   ],
   "source": [
    "mod1 = model_fast_lr.fit_generator(generator=training_generator, steps_per_epoch=64,\n",
    "                    validation_data=validation_generator, validation_steps=64,\n",
    "                    use_multiprocessing=True,\n",
    "                    workers=2, epochs=50,\n",
    "                    verbose=1)"
   ]
  },
  {
   "cell_type": "code",
   "execution_count": 20,
   "metadata": {},
   "outputs": [
    {
     "data": {
      "text/plain": [
       "[<matplotlib.lines.Line2D at 0x7f8665085da0>]"
      ]
     },
     "execution_count": 20,
     "metadata": {},
     "output_type": "execute_result"
    },
    {
     "data": {
      "image/png": "[encoded data removed]",
      "text/plain": [
       "<Figure size 432x288 with 1 Axes>"
      ]
     },
     "metadata": {},
     "output_type": "display_data"
    }
   ],
   "source": [
    "plt.plot(mod1.history['acc'])\n",
    "plt.plot(mod1.history['val_acc'])"
   ]
  },
  {
   "cell_type": "code",
   "execution_count": 22,
   "metadata": {},
   "outputs": [
    {
     "name": "stdout",
     "output_type": "stream",
     "text": [
      "Epoch 1/20\n",
      "64/64 [==============================] - 28s 444ms/step - loss: 1.5202 - acc: 0.4705 - val_loss: 1.7185 - val_acc: 0.4272\n",
      "Epoch 2/20\n",
      "64/64 [==============================] - 26s 404ms/step - loss: 1.5222 - acc: 0.4795 - val_loss: 1.6620 - val_acc: 0.4624\n",
      "Epoch 3/20\n",
      "64/64 [==============================] - 28s 444ms/step - loss: 1.4845 - acc: 0.4902 - val_loss: 1.7207 - val_acc: 0.4424\n",
      "Epoch 4/20\n",
      "64/64 [==============================] - 28s 437ms/step - loss: 1.5069 - acc: 0.4939 - val_loss: 1.6602 - val_acc: 0.4382\n",
      "Epoch 5/20\n",
      "64/64 [==============================] - 28s 433ms/step - loss: 1.4981 - acc: 0.4946 - val_loss: 1.6323 - val_acc: 0.4485\n",
      "Epoch 6/20\n",
      "64/64 [==============================] - 28s 431ms/step - loss: 1.4747 - acc: 0.5000 - val_loss: 1.6657 - val_acc: 0.4531\n",
      "Epoch 7/20\n",
      "64/64 [==============================] - 26s 404ms/step - loss: 1.4796 - acc: 0.5037 - val_loss: 1.6763 - val_acc: 0.4661\n",
      "Epoch 8/20\n",
      "64/64 [==============================] - 27s 428ms/step - loss: 1.4454 - acc: 0.5024 - val_loss: 1.6877 - val_acc: 0.4551\n",
      "Epoch 9/20\n",
      "64/64 [==============================] - 27s 415ms/step - loss: 1.4364 - acc: 0.5129 - val_loss: 1.7006 - val_acc: 0.4514\n",
      "Epoch 10/20\n",
      "64/64 [==============================] - 26s 412ms/step - loss: 1.4396 - acc: 0.5151 - val_loss: 1.6153 - val_acc: 0.4651\n",
      "Epoch 11/20\n",
      "64/64 [==============================] - 27s 429ms/step - loss: 1.4092 - acc: 0.5168 - val_loss: 1.7206 - val_acc: 0.4231\n",
      "Epoch 12/20\n",
      "64/64 [==============================] - 29s 451ms/step - loss: 1.4444 - acc: 0.5120 - val_loss: 1.6293 - val_acc: 0.4856\n",
      "Epoch 13/20\n",
      "64/64 [==============================] - 28s 435ms/step - loss: 1.4381 - acc: 0.5149 - val_loss: 1.6421 - val_acc: 0.4358\n",
      "Epoch 14/20\n",
      "64/64 [==============================] - 26s 400ms/step - loss: 1.3527 - acc: 0.5339 - val_loss: 1.6945 - val_acc: 0.4414\n",
      "Epoch 15/20\n",
      "64/64 [==============================] - 27s 419ms/step - loss: 1.4091 - acc: 0.5298 - val_loss: 1.5703 - val_acc: 0.4854\n",
      "Epoch 16/20\n",
      "64/64 [==============================] - 27s 423ms/step - loss: 1.4105 - acc: 0.5334 - val_loss: 1.6120 - val_acc: 0.4614\n",
      "Epoch 17/20\n",
      "64/64 [==============================] - 26s 413ms/step - loss: 1.4044 - acc: 0.5264 - val_loss: 1.5937 - val_acc: 0.4731\n",
      "Epoch 18/20\n",
      "64/64 [==============================] - 26s 413ms/step - loss: 1.3640 - acc: 0.5417 - val_loss: 1.5970 - val_acc: 0.5085\n",
      "Epoch 19/20\n",
      "64/64 [==============================] - 28s 439ms/step - loss: 1.3776 - acc: 0.5420 - val_loss: 1.5818 - val_acc: 0.4976\n",
      "Epoch 20/20\n",
      "64/64 [==============================] - 30s 462ms/step - loss: 1.3684 - acc: 0.5371 - val_loss: 1.5465 - val_acc: 0.4639\n"
     ]
    }
   ],
   "source": [
    "mod2 = model_fast_lr.fit_generator(generator=training_generator, steps_per_epoch=64,\n",
    "                    validation_data=validation_generator, validation_steps=64,\n",
    "                    use_multiprocessing=True,\n",
    "                    workers=2, epochs=20,\n",
    "                    verbose=1)"
   ]
  },
  {
   "cell_type": "code",
   "execution_count": 23,
   "metadata": {},
   "outputs": [
    {
     "data": {
      "text/plain": [
       "[<matplotlib.lines.Line2D at 0x7f864d581a20>]"
      ]
     },
     "execution_count": 23,
     "metadata": {},
     "output_type": "execute_result"
    },
    {
     "data": {
      "image/png": "[encoded data removed]",
      "text/plain": [
       "<Figure size 432x288 with 1 Axes>"
      ]
     },
     "metadata": {},
     "output_type": "display_data"
    }
   ],
   "source": [
    "plt.plot(mod2.history['acc'])\n",
    "plt.plot(mod2.history['val_acc'])"
   ]
  },
  {
   "cell_type": "code",
   "execution_count": 24,
   "metadata": {},
   "outputs": [],
   "source": [
    "model_fast_lr.save_weights('../../data/weights/model_slow_lr_big_batch.hdf5')"
   ]
  },
  {
   "cell_type": "code",
   "execution_count": 25,
   "metadata": {},
   "outputs": [
    {
     "name": "stdout",
     "output_type": "stream",
     "text": [
      "Epoch 1/50\n",
      "64/64 [==============================] - 27s 427ms/step - loss: 1.3474 - acc: 0.5393 - val_loss: 1.6043 - val_acc: 0.4961\n",
      "Epoch 2/50\n",
      "64/64 [==============================] - 27s 417ms/step - loss: 1.3589 - acc: 0.5447 - val_loss: 1.5808 - val_acc: 0.4768\n",
      "Epoch 3/50\n",
      "64/64 [==============================] - 26s 399ms/step - loss: 1.3513 - acc: 0.5452 - val_loss: 1.5626 - val_acc: 0.4700\n",
      "Epoch 4/50\n",
      "64/64 [==============================] - 28s 430ms/step - loss: 1.3422 - acc: 0.5403 - val_loss: 1.5262 - val_acc: 0.4978\n",
      "Epoch 5/50\n",
      "64/64 [==============================] - 28s 433ms/step - loss: 1.3432 - acc: 0.5500 - val_loss: 1.6045 - val_acc: 0.4800\n",
      "Epoch 6/50\n",
      "64/64 [==============================] - 26s 408ms/step - loss: 1.3173 - acc: 0.5449 - val_loss: 1.5146 - val_acc: 0.5078\n",
      "Epoch 7/50\n",
      "64/64 [==============================] - 26s 401ms/step - loss: 1.3386 - acc: 0.5432 - val_loss: 1.5653 - val_acc: 0.4902\n",
      "Epoch 8/50\n",
      "64/64 [==============================] - 28s 431ms/step - loss: 1.3199 - acc: 0.5383 - val_loss: 1.5692 - val_acc: 0.4783\n",
      "Epoch 9/50\n",
      "64/64 [==============================] - 26s 413ms/step - loss: 1.3117 - acc: 0.5552 - val_loss: 1.5608 - val_acc: 0.5063\n",
      "Epoch 10/50\n",
      "64/64 [==============================] - 27s 420ms/step - loss: 1.3015 - acc: 0.5684 - val_loss: 1.5435 - val_acc: 0.4915\n",
      "Epoch 11/50\n",
      "64/64 [==============================] - 26s 408ms/step - loss: 1.3238 - acc: 0.5471 - val_loss: 1.5505 - val_acc: 0.5061\n",
      "Epoch 12/50\n",
      "64/64 [==============================] - 28s 442ms/step - loss: 1.3145 - acc: 0.5591 - val_loss: 1.4916 - val_acc: 0.4915\n",
      "Epoch 13/50\n",
      "64/64 [==============================] - 26s 409ms/step - loss: 1.2860 - acc: 0.5586 - val_loss: 1.5828 - val_acc: 0.4673\n",
      "Epoch 14/50\n",
      "64/64 [==============================] - 27s 425ms/step - loss: 1.2513 - acc: 0.5784 - val_loss: 1.5663 - val_acc: 0.4868\n",
      "Epoch 15/50\n",
      "64/64 [==============================] - 26s 404ms/step - loss: 1.2871 - acc: 0.5537 - val_loss: 1.5705 - val_acc: 0.4832\n",
      "Epoch 16/50\n",
      "64/64 [==============================] - 27s 418ms/step - loss: 1.2600 - acc: 0.5715 - val_loss: 1.5280 - val_acc: 0.4897\n",
      "Epoch 17/50\n",
      "64/64 [==============================] - 26s 402ms/step - loss: 1.2836 - acc: 0.5581 - val_loss: 1.5488 - val_acc: 0.4863\n",
      "Epoch 18/50\n",
      "64/64 [==============================] - 25s 393ms/step - loss: 1.2181 - acc: 0.5901 - val_loss: 1.4991 - val_acc: 0.4792\n",
      "Epoch 19/50\n",
      "64/64 [==============================] - 27s 417ms/step - loss: 1.2285 - acc: 0.5842 - val_loss: 1.5409 - val_acc: 0.5022\n",
      "Epoch 20/50\n",
      "64/64 [==============================] - 27s 423ms/step - loss: 1.2459 - acc: 0.5698 - val_loss: 1.5288 - val_acc: 0.4924\n",
      "Epoch 21/50\n",
      "64/64 [==============================] - 25s 391ms/step - loss: 1.2545 - acc: 0.5732 - val_loss: 1.4803 - val_acc: 0.4990\n",
      "Epoch 22/50\n",
      "64/64 [==============================] - 27s 417ms/step - loss: 1.2098 - acc: 0.5872 - val_loss: 1.4830 - val_acc: 0.5120\n",
      "Epoch 23/50\n",
      "64/64 [==============================] - 27s 415ms/step - loss: 1.2429 - acc: 0.5854 - val_loss: 1.4866 - val_acc: 0.4988\n",
      "Epoch 24/50\n",
      "64/64 [==============================] - 25s 393ms/step - loss: 1.2581 - acc: 0.5776 - val_loss: 1.4759 - val_acc: 0.5276\n",
      "Epoch 25/50\n",
      "64/64 [==============================] - 26s 404ms/step - loss: 1.1970 - acc: 0.5864 - val_loss: 1.5100 - val_acc: 0.5193\n",
      "Epoch 26/50\n",
      "64/64 [==============================] - 26s 400ms/step - loss: 1.2145 - acc: 0.5864 - val_loss: 1.4790 - val_acc: 0.4954\n",
      "Epoch 27/50\n",
      "64/64 [==============================] - 27s 427ms/step - loss: 1.2101 - acc: 0.5984 - val_loss: 1.5025 - val_acc: 0.5171\n",
      "Epoch 28/50\n",
      "64/64 [==============================] - 25s 394ms/step - loss: 1.2198 - acc: 0.5793 - val_loss: 1.5261 - val_acc: 0.5129\n",
      "Epoch 29/50\n",
      "64/64 [==============================] - 25s 393ms/step - loss: 1.2090 - acc: 0.5786 - val_loss: 1.4945 - val_acc: 0.5063\n",
      "Epoch 30/50\n",
      "64/64 [==============================] - 26s 406ms/step - loss: 1.2143 - acc: 0.5852 - val_loss: 1.4569 - val_acc: 0.5378\n",
      "Epoch 31/50\n",
      "64/64 [==============================] - 26s 401ms/step - loss: 1.1777 - acc: 0.5928 - val_loss: 1.5219 - val_acc: 0.5251\n",
      "Epoch 32/50\n",
      "64/64 [==============================] - 26s 406ms/step - loss: 1.1960 - acc: 0.5974 - val_loss: 1.5332 - val_acc: 0.4807\n",
      "Epoch 33/50\n",
      "64/64 [==============================] - 25s 396ms/step - loss: 1.1649 - acc: 0.6104 - val_loss: 1.4785 - val_acc: 0.5271\n",
      "Epoch 34/50\n",
      "64/64 [==============================] - 27s 418ms/step - loss: 1.1733 - acc: 0.6074 - val_loss: 1.4445 - val_acc: 0.5220\n",
      "Epoch 35/50\n",
      "64/64 [==============================] - 26s 402ms/step - loss: 1.1909 - acc: 0.5935 - val_loss: 1.4739 - val_acc: 0.5110\n",
      "Epoch 36/50\n",
      "64/64 [==============================] - 26s 405ms/step - loss: 1.1696 - acc: 0.6057 - val_loss: 1.4208 - val_acc: 0.5110\n",
      "Epoch 37/50\n",
      "64/64 [==============================] - 25s 397ms/step - loss: 1.1433 - acc: 0.6023 - val_loss: 1.5259 - val_acc: 0.5200\n",
      "Epoch 38/50\n",
      "64/64 [==============================] - 26s 412ms/step - loss: 1.1685 - acc: 0.6047 - val_loss: 1.4917 - val_acc: 0.5244\n",
      "Epoch 39/50\n",
      "64/64 [==============================] - 26s 406ms/step - loss: 1.1474 - acc: 0.6008 - val_loss: 1.5085 - val_acc: 0.5020\n",
      "Epoch 40/50\n",
      "64/64 [==============================] - 26s 402ms/step - loss: 1.1472 - acc: 0.6121 - val_loss: 1.4848 - val_acc: 0.5349\n",
      "Epoch 41/50\n",
      "64/64 [==============================] - 25s 390ms/step - loss: 1.1565 - acc: 0.6111 - val_loss: 1.4529 - val_acc: 0.5354\n",
      "Epoch 42/50\n",
      "64/64 [==============================] - 26s 410ms/step - loss: 1.1452 - acc: 0.6130 - val_loss: 1.5476 - val_acc: 0.5232\n",
      "Epoch 43/50\n",
      "64/64 [==============================] - 25s 398ms/step - loss: 1.1291 - acc: 0.6113 - val_loss: 1.4673 - val_acc: 0.5149\n",
      "Epoch 44/50\n",
      "64/64 [==============================] - 26s 405ms/step - loss: 1.1073 - acc: 0.6252 - val_loss: 1.4876 - val_acc: 0.5193\n",
      "Epoch 45/50\n",
      "64/64 [==============================] - 26s 410ms/step - loss: 1.1525 - acc: 0.6099 - val_loss: 1.5402 - val_acc: 0.5322\n",
      "Epoch 46/50\n",
      "64/64 [==============================] - 26s 400ms/step - loss: 1.1236 - acc: 0.6272 - val_loss: 1.5300 - val_acc: 0.5022\n",
      "Epoch 47/50\n",
      "64/64 [==============================] - 26s 406ms/step - loss: 1.1350 - acc: 0.6184 - val_loss: 1.5688 - val_acc: 0.4968\n",
      "Epoch 48/50\n",
      "64/64 [==============================] - 25s 391ms/step - loss: 1.1146 - acc: 0.6138 - val_loss: 1.4851 - val_acc: 0.5139\n",
      "Epoch 49/50\n",
      "64/64 [==============================] - 26s 410ms/step - loss: 1.1207 - acc: 0.6055 - val_loss: 1.4497 - val_acc: 0.5286\n",
      "Epoch 50/50\n",
      "64/64 [==============================] - 25s 396ms/step - loss: 1.1180 - acc: 0.6118 - val_loss: 1.4681 - val_acc: 0.5244\n"
     ]
    }
   ],
   "source": [
    "mod3 = model_fast_lr.fit_generator(generator=training_generator, steps_per_epoch=64,\n",
    "                    validation_data=validation_generator, validation_steps=64,\n",
    "                    use_multiprocessing=True,\n",
    "                    workers=2, epochs=50,\n",
    "                    verbose=1)"
   ]
  },
  {
   "cell_type": "code",
   "execution_count": 26,
   "metadata": {},
   "outputs": [
    {
     "data": {
      "text/plain": [
       "[<matplotlib.lines.Line2D at 0x7f86e8c655f8>]"
      ]
     },
     "execution_count": 26,
     "metadata": {},
     "output_type": "execute_result"
    },
    {
     "data": {
      "image/png": "[encoded data removed]",
      "text/plain": [
       "<Figure size 432x288 with 1 Axes>"
      ]
     },
     "metadata": {},
     "output_type": "display_data"
    }
   ],
   "source": [
    "plt.plot(mod3.history['acc'])\n",
    "plt.plot(mod3.history['val_acc'])"
   ]
  },
  {
   "cell_type": "code",
   "execution_count": 27,
   "metadata": {},
   "outputs": [],
   "source": [
    "model_fast_lr.save_weights('../../data/weights/model_slow_lr_big_batch.hdf5')"
   ]
  },
  {
   "cell_type": "code",
   "execution_count": 28,
   "metadata": {
    "scrolled": true
   },
   "outputs": [
    {
     "name": "stdout",
     "output_type": "stream",
     "text": [
      "Epoch 1/30\n",
      "64/64 [==============================] - 27s 419ms/step - loss: 1.1064 - acc: 0.6196 - val_loss: 1.5142 - val_acc: 0.5273\n",
      "Epoch 2/30\n",
      "64/64 [==============================] - 25s 391ms/step - loss: 1.1164 - acc: 0.6184 - val_loss: 1.5017 - val_acc: 0.5266\n",
      "Epoch 3/30\n",
      "64/64 [==============================] - 26s 400ms/step - loss: 1.1375 - acc: 0.6169 - val_loss: 1.4519 - val_acc: 0.5122\n",
      "Epoch 4/30\n",
      "64/64 [==============================] - 26s 408ms/step - loss: 1.0954 - acc: 0.6292 - val_loss: 1.5010 - val_acc: 0.5227\n",
      "Epoch 5/30\n",
      "64/64 [==============================] - 25s 393ms/step - loss: 1.0938 - acc: 0.6245 - val_loss: 1.4880 - val_acc: 0.5327\n",
      "Epoch 6/30\n",
      "64/64 [==============================] - 25s 395ms/step - loss: 1.0890 - acc: 0.6272 - val_loss: 1.4573 - val_acc: 0.5249\n",
      "Epoch 7/30\n",
      "64/64 [==============================] - 25s 394ms/step - loss: 1.0916 - acc: 0.6304 - val_loss: 1.4469 - val_acc: 0.5344\n",
      "Epoch 8/30\n",
      "64/64 [==============================] - 27s 421ms/step - loss: 1.1013 - acc: 0.6191 - val_loss: 1.4492 - val_acc: 0.5366\n",
      "Epoch 9/30\n",
      "64/64 [==============================] - 26s 408ms/step - loss: 1.0854 - acc: 0.6323 - val_loss: 1.4899 - val_acc: 0.5300\n",
      "Epoch 10/30\n",
      "64/64 [==============================] - 26s 408ms/step - loss: 1.1002 - acc: 0.6245 - val_loss: 1.4544 - val_acc: 0.5369\n",
      "Epoch 11/30\n",
      "64/64 [==============================] - 26s 405ms/step - loss: 1.0724 - acc: 0.6367 - val_loss: 1.4463 - val_acc: 0.5359\n",
      "Epoch 12/30\n",
      "64/64 [==============================] - 26s 409ms/step - loss: 1.0913 - acc: 0.6282 - val_loss: 1.4057 - val_acc: 0.5359\n",
      "Epoch 13/30\n",
      "64/64 [==============================] - 26s 411ms/step - loss: 1.0782 - acc: 0.6267 - val_loss: 1.4489 - val_acc: 0.5317\n",
      "Epoch 14/30\n",
      "64/64 [==============================] - 25s 392ms/step - loss: 1.0309 - acc: 0.6382 - val_loss: 1.4346 - val_acc: 0.5481\n",
      "Epoch 15/30\n",
      "64/64 [==============================] - 27s 423ms/step - loss: 1.0637 - acc: 0.6335 - val_loss: 1.4204 - val_acc: 0.5376\n",
      "Epoch 16/30\n",
      "64/64 [==============================] - 26s 402ms/step - loss: 1.0857 - acc: 0.6348 - val_loss: 1.4503 - val_acc: 0.5435\n",
      "Epoch 17/30\n",
      "64/64 [==============================] - 26s 412ms/step - loss: 1.0682 - acc: 0.6353 - val_loss: 1.4213 - val_acc: 0.5337\n",
      "Epoch 18/30\n",
      "64/64 [==============================] - 26s 399ms/step - loss: 1.0341 - acc: 0.6477 - val_loss: 1.4223 - val_acc: 0.5376\n",
      "Epoch 19/30\n",
      "64/64 [==============================] - 26s 411ms/step - loss: 1.0262 - acc: 0.6560 - val_loss: 1.4525 - val_acc: 0.5479\n",
      "Epoch 20/30\n",
      "64/64 [==============================] - 25s 397ms/step - loss: 1.0479 - acc: 0.6479 - val_loss: 1.5285 - val_acc: 0.5405\n",
      "Epoch 21/30\n",
      "64/64 [==============================] - 26s 404ms/step - loss: 1.0495 - acc: 0.6375 - val_loss: 1.4154 - val_acc: 0.5178\n",
      "Epoch 22/30\n",
      "64/64 [==============================] - 25s 393ms/step - loss: 1.0746 - acc: 0.6267 - val_loss: 1.4714 - val_acc: 0.5415\n",
      "Epoch 23/30\n",
      "64/64 [==============================] - 26s 409ms/step - loss: 1.0390 - acc: 0.6423 - val_loss: 1.4309 - val_acc: 0.5256\n",
      "Epoch 24/30\n",
      "64/64 [==============================] - 26s 399ms/step - loss: 1.0369 - acc: 0.6440 - val_loss: 1.4926 - val_acc: 0.5344\n",
      "Epoch 25/30\n",
      "64/64 [==============================] - 26s 399ms/step - loss: 1.0470 - acc: 0.6372 - val_loss: 1.4312 - val_acc: 0.5403\n",
      "Epoch 26/30\n",
      "64/64 [==============================] - 26s 405ms/step - loss: 1.0546 - acc: 0.6335 - val_loss: 1.4042 - val_acc: 0.5518\n",
      "Epoch 27/30\n",
      "64/64 [==============================] - 27s 415ms/step - loss: 1.0015 - acc: 0.6589 - val_loss: 1.4686 - val_acc: 0.5364\n",
      "Epoch 28/30\n",
      "64/64 [==============================] - 26s 400ms/step - loss: 1.0216 - acc: 0.6509 - val_loss: 1.5075 - val_acc: 0.5103\n",
      "Epoch 29/30\n",
      "64/64 [==============================] - 26s 406ms/step - loss: 1.0263 - acc: 0.6477 - val_loss: 1.4441 - val_acc: 0.5286\n",
      "Epoch 30/30\n",
      "64/64 [==============================] - 26s 405ms/step - loss: 1.0105 - acc: 0.6458 - val_loss: 1.5141 - val_acc: 0.5239\n"
     ]
    }
   ],
   "source": [
    "mod4 = model_fast_lr.fit_generator(generator=training_generator, steps_per_epoch=64,\n",
    "                    validation_data=validation_generator, validation_steps=64,\n",
    "                    use_multiprocessing=True,\n",
    "                    workers=2, epochs=30,\n",
    "                    verbose=1)"
   ]
  },
  {
   "cell_type": "code",
   "execution_count": 29,
   "metadata": {},
   "outputs": [],
   "source": [
    "model_fast_lr.save_weights('../../data/weights/model_slow_lr_big_batch.hdf5')"
   ]
  },
  {
   "cell_type": "markdown",
   "metadata": {},
   "source": [
    "## Good model!\n",
    "\n",
    "    Unsurprisingly the accuracy of this model is a lot better, but I think its fair to say training low number class model is easier than a high number class model. My feeling is I could probably get to 60% with this model. Over fitting starts to set in further down the line. I wonder what the simonyan model would make of this. "
   ]
  },
  {
   "cell_type": "markdown",
   "metadata": {},
   "source": [
    "I wonder how much what the diversity in classes looks like per batch. Is it equally weighted??"
   ]
  },
  {
   "cell_type": "code",
   "execution_count": 21,
   "metadata": {},
   "outputs": [],
   "source": [
    "_X = None\n",
    "_y = None\n",
    "\n",
    "for i, (X, y) in enumerate(training_generator):\n",
    "    _X = X\n",
    "    _y = y\n",
    "    if i > 10:\n",
    "        break"
   ]
  },
  {
   "cell_type": "code",
   "execution_count": 22,
   "metadata": {},
   "outputs": [
    {
     "data": {
      "text/plain": [
       "array([ 7.,  2.,  5.,  7.,  7., 11.,  8.,  5.,  6.,  6.])"
      ]
     },
     "execution_count": 22,
     "metadata": {},
     "output_type": "execute_result"
    }
   ],
   "source": [
    "_y.sum(axis=0)"
   ]
  },
  {
   "cell_type": "code",
   "execution_count": 29,
   "metadata": {},
   "outputs": [],
   "source": [
    "\n",
    "params_train = { 'data_dir' : \"/data/tvl1_flow\",\n",
    "          'dim': (224,224),\n",
    "          'batch_size': 256,\n",
    "          'n_frames': 1,\n",
    "          'n_frequency': 1,\n",
    "          'shuffle': True, \n",
    "                'n_classes' : 101,\n",
    "           'validation' : False}\n",
    "\n",
    "id_labels_train = get_train_data_opt_flow('../../data/ucf101_splits/trainlist01.txt')\n",
    "training_generator = DataGenerator(*id_labels_train, **params_train)\n",
    "\n"
   ]
  },
  {
   "cell_type": "code",
   "execution_count": 34,
   "metadata": {},
   "outputs": [],
   "source": [
    "_X = None\n",
    "_y = None\n",
    "\n",
    "for i, (X, y) in enumerate(training_generator):\n",
    "    _X = X\n",
    "    _y = y\n",
    "    if i > 3:\n",
    "        break"
   ]
  },
  {
   "cell_type": "code",
   "execution_count": 35,
   "metadata": {},
   "outputs": [
    {
     "data": {
      "text/plain": [
       "array([2., 1., 3., 3., 2., 2., 5., 3., 1., 4., 1., 6., 3., 3., 3., 0., 3.,\n",
       "       6., 0., 4., 3., 3., 1., 2., 2., 4., 2., 1., 3., 4., 1., 2., 3., 4.,\n",
       "       3., 1., 2., 3., 4., 4., 2., 3., 2., 6., 0., 3., 3., 1., 2., 3., 5.,\n",
       "       1., 3., 3., 2., 1., 2., 0., 4., 3., 2., 6., 3., 5., 2., 2., 4., 2.,\n",
       "       4., 1., 3., 0., 1., 4., 2., 2., 3., 3., 4., 0., 1., 3., 2., 1., 2.,\n",
       "       3., 2., 2., 3., 3., 1., 4., 1., 4., 1., 4., 4., 1., 0., 4., 1.])"
      ]
     },
     "execution_count": 35,
     "metadata": {},
     "output_type": "execute_result"
    }
   ],
   "source": [
    "_y.sum(axis=0)"
   ]
  },
  {
   "cell_type": "markdown",
   "metadata": {},
   "source": [
    "# Data augmentation \n",
    "\n",
    "lets enable data augmentation  and see if we can nick a few more percentage points quickly. "
   ]
  },
  {
   "cell_type": "code",
   "execution_count": 5,
   "metadata": {},
   "outputs": [],
   "source": [
    "from optical_flow_data_gen import DataGenerator\n",
    "from ucf101_data_utils import get_test_data_opt_flow, get_train_data_opt_flow\n",
    "\n",
    "training_options = { 'rescale' : 1./255, \n",
    "                            'shear_range' : 0.2, \n",
    "                            'zoom_range' : 0.2, \n",
    "                            'horizontal_flip' : True,\n",
    "                             'rotation_range':20,\n",
    "                             'width_shift_range':0.2,\n",
    "                             'height_shift_range':0.2}\n",
    "\n",
    "validation_options = { 'rescale' : 1./255 }\n",
    "\n",
    "\n",
    "\n",
    "\n",
    "params_train = { 'data_dir' : \"/data/tvl1_flow\",\n",
    "          'dim': (224,224),\n",
    "          'batch_size': 64,\n",
    "          'n_frames': 1,\n",
    "          'n_frequency': 1,\n",
    "          'shuffle': True, \n",
    "                'enable_augmentation':True,\n",
    "                'n_classes' : 10,\n",
    "           'validation' : False}\n",
    "\n",
    "params_valid = { 'data_dir' : \"/data/tvl1_flow\",\n",
    "          'dim': (224,224),\n",
    "          'batch_size':64,\n",
    "          'n_frames': 1,\n",
    "          'n_frequency': 1,\n",
    "          'shuffle': True, \n",
    "                'enable_augmentation':True,\n",
    "                'n_classes' : 10,\n",
    "           'validation' : True}\n",
    "\n",
    "id_labels_train = get_train_data_opt_flow('../../data/ucf101_splits/trainlist01_small.txt')\n",
    "labels = id_labels_train[1]\n",
    "id_test = get_test_data_opt_flow('../../data/ucf101_splits/testlist01_small.txt', \\\n",
    "                       '../../data/ucf101_splits/classInd_small.txt')\n",
    "\n",
    "training_generator = DataGenerator(*id_labels_train, **params_train)\n",
    "\n",
    "\n",
    "validation_generator = DataGenerator(id_test[0], id_test[1], **params_valid)"
   ]
  },
  {
   "cell_type": "code",
   "execution_count": 7,
   "metadata": {},
   "outputs": [],
   "source": [
    "model_slow_lr_big_batch_data_aug = getModel(lr=1e-3)"
   ]
  },
  {
   "cell_type": "code",
   "execution_count": 8,
   "metadata": {},
   "outputs": [],
   "source": [
    "model_slow_lr_big_batch_data_aug.load_weights('../../data/weights/model_slow_lr_big_batch.hdf5')"
   ]
  },
  {
   "cell_type": "code",
   "execution_count": 9,
   "metadata": {},
   "outputs": [
    {
     "name": "stdout",
     "output_type": "stream",
     "text": [
      "Epoch 1/20\n",
      "64/64 [==============================] - 50s 777ms/step - loss: 2.3491 - acc: 0.1831 - val_loss: 1.9207 - val_acc: 0.4092\n",
      "Epoch 2/20\n",
      "64/64 [==============================] - 43s 674ms/step - loss: 2.2726 - acc: 0.1724 - val_loss: 1.9555 - val_acc: 0.4023\n",
      "Epoch 3/20\n",
      "64/64 [==============================] - 44s 680ms/step - loss: 2.2522 - acc: 0.1868 - val_loss: 1.8665 - val_acc: 0.4309\n",
      "Epoch 4/20\n",
      "64/64 [==============================] - 48s 743ms/step - loss: 2.2777 - acc: 0.1768 - val_loss: 2.0072 - val_acc: 0.4016\n",
      "Epoch 5/20\n",
      "64/64 [==============================] - 46s 721ms/step - loss: 2.2513 - acc: 0.1882 - val_loss: 2.0010 - val_acc: 0.4229\n",
      "Epoch 6/20\n",
      "64/64 [==============================] - 44s 692ms/step - loss: 2.2607 - acc: 0.1787 - val_loss: 1.9133 - val_acc: 0.4539\n",
      "Epoch 7/20\n",
      "64/64 [==============================] - 46s 723ms/step - loss: 2.2248 - acc: 0.1997 - val_loss: 1.9265 - val_acc: 0.4365\n",
      "Epoch 8/20\n",
      "64/64 [==============================] - 49s 760ms/step - loss: 2.2337 - acc: 0.2104 - val_loss: 1.8787 - val_acc: 0.4524\n",
      "Epoch 9/20\n",
      "64/64 [==============================] - 43s 671ms/step - loss: 2.2400 - acc: 0.2007 - val_loss: 1.9324 - val_acc: 0.4307\n",
      "Epoch 10/20\n",
      "64/64 [==============================] - 44s 689ms/step - loss: 2.2676 - acc: 0.1836 - val_loss: 1.9477 - val_acc: 0.4360\n",
      "Epoch 11/20\n",
      "22/64 [=========>....................] - ETA: 18s - loss: 2.2322 - acc: 0.2017"
     ]
    },
    {
     "name": "stderr",
     "output_type": "stream",
     "text": [
      "Process ForkPoolWorker-309:\n",
      "Process ForkPoolWorker-310:\n",
      "Traceback (most recent call last):\n",
      "Traceback (most recent call last):\n",
      "  File \"/home/ubuntu/anaconda3/envs/tensorflow_p36/lib/python3.6/multiprocessing/process.py\", line 258, in _bootstrap\n",
      "    self.run()\n",
      "  File \"/home/ubuntu/anaconda3/envs/tensorflow_p36/lib/python3.6/multiprocessing/process.py\", line 258, in _bootstrap\n",
      "    self.run()\n",
      "  File \"/home/ubuntu/anaconda3/envs/tensorflow_p36/lib/python3.6/multiprocessing/process.py\", line 93, in run\n",
      "    self._target(*self._args, **self._kwargs)\n",
      "  File \"/home/ubuntu/anaconda3/envs/tensorflow_p36/lib/python3.6/multiprocessing/process.py\", line 93, in run\n",
      "    self._target(*self._args, **self._kwargs)\n",
      "  File \"/home/ubuntu/anaconda3/envs/tensorflow_p36/lib/python3.6/multiprocessing/pool.py\", line 119, in worker\n",
      "    result = (True, func(*args, **kwds))\n",
      "  File \"/home/ubuntu/anaconda3/envs/tensorflow_p36/lib/python3.6/multiprocessing/pool.py\", line 125, in worker\n",
      "    put((job, i, result))\n",
      "  File \"/home/ubuntu/anaconda3/envs/tensorflow_p36/lib/python3.6/site-packages/keras/utils/data_utils.py\", line 401, in get_index\n",
      "    return _SHARED_SEQUENCES[uid][i]\n",
      "  File \"/data/su_buildup/two_stream_part2/utils/optical_flow_data_gen.py\", line 58, in __getitem__\n",
      "    X, y, dirs = self.__data_generation(list_IDs_temp)\n",
      "  File \"/home/ubuntu/anaconda3/envs/tensorflow_p36/lib/python3.6/multiprocessing/queues.py\", line 347, in put\n",
      "    self._writer.send_bytes(obj)\n",
      "  File \"/home/ubuntu/anaconda3/envs/tensorflow_p36/lib/python3.6/multiprocessing/connection.py\", line 200, in send_bytes\n",
      "    self._send_bytes(m[offset:offset + size])\n",
      "  File \"/data/su_buildup/two_stream_part2/utils/optical_flow_data_gen.py\", line 79, in __data_generation\n",
      "    data = self.__data_load(ID)\n",
      "  File \"/home/ubuntu/anaconda3/envs/tensorflow_p36/lib/python3.6/multiprocessing/connection.py\", line 398, in _send_bytes\n",
      "    self._send(buf)\n",
      "  File \"/data/su_buildup/two_stream_part2/utils/optical_flow_data_gen.py\", line 116, in __data_load\n",
      "    v_img = cv2.imread(v_file, 0)\n",
      "  File \"/home/ubuntu/anaconda3/envs/tensorflow_p36/lib/python3.6/multiprocessing/connection.py\", line 368, in _send\n",
      "    n = write(self._handle, buf)\n",
      "KeyboardInterrupt\n",
      "KeyboardInterrupt\n"
     ]
    },
    {
     "ename": "KeyboardInterrupt",
     "evalue": "",
     "output_type": "error",
     "traceback": [
      "\u001b[0;31m---------------------------------------------------------------------------\u001b[0m",
      "\u001b[0;31mKeyboardInterrupt\u001b[0m                         Traceback (most recent call last)",
      "\u001b[0;32m<ipython-input-9-46b693ef4271>\u001b[0m in \u001b[0;36m<module>\u001b[0;34m()\u001b[0m\n\u001b[1;32m      3\u001b[0m                     \u001b[0muse_multiprocessing\u001b[0m\u001b[0;34m=\u001b[0m\u001b[0;32mTrue\u001b[0m\u001b[0;34m,\u001b[0m\u001b[0;34m\u001b[0m\u001b[0m\n\u001b[1;32m      4\u001b[0m                     \u001b[0mworkers\u001b[0m\u001b[0;34m=\u001b[0m\u001b[0;36m2\u001b[0m\u001b[0;34m,\u001b[0m \u001b[0mepochs\u001b[0m\u001b[0;34m=\u001b[0m\u001b[0;36m20\u001b[0m\u001b[0;34m,\u001b[0m\u001b[0;34m\u001b[0m\u001b[0m\n\u001b[0;32m----> 5\u001b[0;31m                     verbose=1)\n\u001b[0m",
      "\u001b[0;32m~/anaconda3/envs/tensorflow_p36/lib/python3.6/site-packages/keras/legacy/interfaces.py\u001b[0m in \u001b[0;36mwrapper\u001b[0;34m(*args, **kwargs)\u001b[0m\n\u001b[1;32m     89\u001b[0m                 warnings.warn('Update your `' + object_name +\n\u001b[1;32m     90\u001b[0m                               '` call to the Keras 2 API: ' + signature, stacklevel=2)\n\u001b[0;32m---> 91\u001b[0;31m             \u001b[0;32mreturn\u001b[0m \u001b[0mfunc\u001b[0m\u001b[0;34m(\u001b[0m\u001b[0;34m*\u001b[0m\u001b[0margs\u001b[0m\u001b[0;34m,\u001b[0m \u001b[0;34m**\u001b[0m\u001b[0mkwargs\u001b[0m\u001b[0;34m)\u001b[0m\u001b[0;34m\u001b[0m\u001b[0m\n\u001b[0m\u001b[1;32m     92\u001b[0m         \u001b[0mwrapper\u001b[0m\u001b[0;34m.\u001b[0m\u001b[0m_original_function\u001b[0m \u001b[0;34m=\u001b[0m \u001b[0mfunc\u001b[0m\u001b[0;34m\u001b[0m\u001b[0m\n\u001b[1;32m     93\u001b[0m         \u001b[0;32mreturn\u001b[0m \u001b[0mwrapper\u001b[0m\u001b[0;34m\u001b[0m\u001b[0m\n",
      "\u001b[0;32m~/anaconda3/envs/tensorflow_p36/lib/python3.6/site-packages/keras/models.py\u001b[0m in \u001b[0;36mfit_generator\u001b[0;34m(self, generator, steps_per_epoch, epochs, verbose, callbacks, validation_data, validation_steps, class_weight, max_queue_size, workers, use_multiprocessing, shuffle, initial_epoch)\u001b[0m\n\u001b[1;32m   1274\u001b[0m                                         \u001b[0muse_multiprocessing\u001b[0m\u001b[0;34m=\u001b[0m\u001b[0muse_multiprocessing\u001b[0m\u001b[0;34m,\u001b[0m\u001b[0;34m\u001b[0m\u001b[0m\n\u001b[1;32m   1275\u001b[0m                                         \u001b[0mshuffle\u001b[0m\u001b[0;34m=\u001b[0m\u001b[0mshuffle\u001b[0m\u001b[0;34m,\u001b[0m\u001b[0;34m\u001b[0m\u001b[0m\n\u001b[0;32m-> 1276\u001b[0;31m                                         initial_epoch=initial_epoch)\n\u001b[0m\u001b[1;32m   1277\u001b[0m \u001b[0;34m\u001b[0m\u001b[0m\n\u001b[1;32m   1278\u001b[0m     \u001b[0;34m@\u001b[0m\u001b[0minterfaces\u001b[0m\u001b[0;34m.\u001b[0m\u001b[0mlegacy_generator_methods_support\u001b[0m\u001b[0;34m\u001b[0m\u001b[0m\n",
      "\u001b[0;32m~/anaconda3/envs/tensorflow_p36/lib/python3.6/site-packages/keras/legacy/interfaces.py\u001b[0m in \u001b[0;36mwrapper\u001b[0;34m(*args, **kwargs)\u001b[0m\n\u001b[1;32m     89\u001b[0m                 warnings.warn('Update your `' + object_name +\n\u001b[1;32m     90\u001b[0m                               '` call to the Keras 2 API: ' + signature, stacklevel=2)\n\u001b[0;32m---> 91\u001b[0;31m             \u001b[0;32mreturn\u001b[0m \u001b[0mfunc\u001b[0m\u001b[0;34m(\u001b[0m\u001b[0;34m*\u001b[0m\u001b[0margs\u001b[0m\u001b[0;34m,\u001b[0m \u001b[0;34m**\u001b[0m\u001b[0mkwargs\u001b[0m\u001b[0;34m)\u001b[0m\u001b[0;34m\u001b[0m\u001b[0m\n\u001b[0m\u001b[1;32m     92\u001b[0m         \u001b[0mwrapper\u001b[0m\u001b[0;34m.\u001b[0m\u001b[0m_original_function\u001b[0m \u001b[0;34m=\u001b[0m \u001b[0mfunc\u001b[0m\u001b[0;34m\u001b[0m\u001b[0m\n\u001b[1;32m     93\u001b[0m         \u001b[0;32mreturn\u001b[0m \u001b[0mwrapper\u001b[0m\u001b[0;34m\u001b[0m\u001b[0m\n",
      "\u001b[0;32m~/anaconda3/envs/tensorflow_p36/lib/python3.6/site-packages/keras/engine/training.py\u001b[0m in \u001b[0;36mfit_generator\u001b[0;34m(self, generator, steps_per_epoch, epochs, verbose, callbacks, validation_data, validation_steps, class_weight, max_queue_size, workers, use_multiprocessing, shuffle, initial_epoch)\u001b[0m\n\u001b[1;32m   2190\u001b[0m                 \u001b[0mbatch_index\u001b[0m \u001b[0;34m=\u001b[0m \u001b[0;36m0\u001b[0m\u001b[0;34m\u001b[0m\u001b[0m\n\u001b[1;32m   2191\u001b[0m                 \u001b[0;32mwhile\u001b[0m \u001b[0msteps_done\u001b[0m \u001b[0;34m<\u001b[0m \u001b[0msteps_per_epoch\u001b[0m\u001b[0;34m:\u001b[0m\u001b[0;34m\u001b[0m\u001b[0m\n\u001b[0;32m-> 2192\u001b[0;31m                     \u001b[0mgenerator_output\u001b[0m \u001b[0;34m=\u001b[0m \u001b[0mnext\u001b[0m\u001b[0;34m(\u001b[0m\u001b[0moutput_generator\u001b[0m\u001b[0;34m)\u001b[0m\u001b[0;34m\u001b[0m\u001b[0m\n\u001b[0m\u001b[1;32m   2193\u001b[0m \u001b[0;34m\u001b[0m\u001b[0m\n\u001b[1;32m   2194\u001b[0m                     \u001b[0;32mif\u001b[0m \u001b[0;32mnot\u001b[0m \u001b[0mhasattr\u001b[0m\u001b[0;34m(\u001b[0m\u001b[0mgenerator_output\u001b[0m\u001b[0;34m,\u001b[0m \u001b[0;34m'__len__'\u001b[0m\u001b[0;34m)\u001b[0m\u001b[0;34m:\u001b[0m\u001b[0;34m\u001b[0m\u001b[0m\n",
      "\u001b[0;32m~/anaconda3/envs/tensorflow_p36/lib/python3.6/site-packages/keras/utils/data_utils.py\u001b[0m in \u001b[0;36mget\u001b[0;34m(self)\u001b[0m\n\u001b[1;32m    576\u001b[0m         \u001b[0;32mtry\u001b[0m\u001b[0;34m:\u001b[0m\u001b[0;34m\u001b[0m\u001b[0m\n\u001b[1;32m    577\u001b[0m             \u001b[0;32mwhile\u001b[0m \u001b[0mself\u001b[0m\u001b[0;34m.\u001b[0m\u001b[0mis_running\u001b[0m\u001b[0;34m(\u001b[0m\u001b[0;34m)\u001b[0m\u001b[0;34m:\u001b[0m\u001b[0;34m\u001b[0m\u001b[0m\n\u001b[0;32m--> 578\u001b[0;31m                 \u001b[0minputs\u001b[0m \u001b[0;34m=\u001b[0m \u001b[0mself\u001b[0m\u001b[0;34m.\u001b[0m\u001b[0mqueue\u001b[0m\u001b[0;34m.\u001b[0m\u001b[0mget\u001b[0m\u001b[0;34m(\u001b[0m\u001b[0mblock\u001b[0m\u001b[0;34m=\u001b[0m\u001b[0;32mTrue\u001b[0m\u001b[0;34m)\u001b[0m\u001b[0;34m.\u001b[0m\u001b[0mget\u001b[0m\u001b[0;34m(\u001b[0m\u001b[0;34m)\u001b[0m\u001b[0;34m\u001b[0m\u001b[0m\n\u001b[0m\u001b[1;32m    579\u001b[0m                 \u001b[0mself\u001b[0m\u001b[0;34m.\u001b[0m\u001b[0mqueue\u001b[0m\u001b[0;34m.\u001b[0m\u001b[0mtask_done\u001b[0m\u001b[0;34m(\u001b[0m\u001b[0;34m)\u001b[0m\u001b[0;34m\u001b[0m\u001b[0m\n\u001b[1;32m    580\u001b[0m                 \u001b[0;32mif\u001b[0m \u001b[0minputs\u001b[0m \u001b[0;32mis\u001b[0m \u001b[0;32mnot\u001b[0m \u001b[0;32mNone\u001b[0m\u001b[0;34m:\u001b[0m\u001b[0;34m\u001b[0m\u001b[0m\n",
      "\u001b[0;32m~/anaconda3/envs/tensorflow_p36/lib/python3.6/multiprocessing/pool.py\u001b[0m in \u001b[0;36mget\u001b[0;34m(self, timeout)\u001b[0m\n\u001b[1;32m    636\u001b[0m \u001b[0;34m\u001b[0m\u001b[0m\n\u001b[1;32m    637\u001b[0m     \u001b[0;32mdef\u001b[0m \u001b[0mget\u001b[0m\u001b[0;34m(\u001b[0m\u001b[0mself\u001b[0m\u001b[0;34m,\u001b[0m \u001b[0mtimeout\u001b[0m\u001b[0;34m=\u001b[0m\u001b[0;32mNone\u001b[0m\u001b[0;34m)\u001b[0m\u001b[0;34m:\u001b[0m\u001b[0;34m\u001b[0m\u001b[0m\n\u001b[0;32m--> 638\u001b[0;31m         \u001b[0mself\u001b[0m\u001b[0;34m.\u001b[0m\u001b[0mwait\u001b[0m\u001b[0;34m(\u001b[0m\u001b[0mtimeout\u001b[0m\u001b[0;34m)\u001b[0m\u001b[0;34m\u001b[0m\u001b[0m\n\u001b[0m\u001b[1;32m    639\u001b[0m         \u001b[0;32mif\u001b[0m \u001b[0;32mnot\u001b[0m \u001b[0mself\u001b[0m\u001b[0;34m.\u001b[0m\u001b[0mready\u001b[0m\u001b[0;34m(\u001b[0m\u001b[0;34m)\u001b[0m\u001b[0;34m:\u001b[0m\u001b[0;34m\u001b[0m\u001b[0m\n\u001b[1;32m    640\u001b[0m             \u001b[0;32mraise\u001b[0m \u001b[0mTimeoutError\u001b[0m\u001b[0;34m\u001b[0m\u001b[0m\n",
      "\u001b[0;32m~/anaconda3/envs/tensorflow_p36/lib/python3.6/multiprocessing/pool.py\u001b[0m in \u001b[0;36mwait\u001b[0;34m(self, timeout)\u001b[0m\n\u001b[1;32m    633\u001b[0m \u001b[0;34m\u001b[0m\u001b[0m\n\u001b[1;32m    634\u001b[0m     \u001b[0;32mdef\u001b[0m \u001b[0mwait\u001b[0m\u001b[0;34m(\u001b[0m\u001b[0mself\u001b[0m\u001b[0;34m,\u001b[0m \u001b[0mtimeout\u001b[0m\u001b[0;34m=\u001b[0m\u001b[0;32mNone\u001b[0m\u001b[0;34m)\u001b[0m\u001b[0;34m:\u001b[0m\u001b[0;34m\u001b[0m\u001b[0m\n\u001b[0;32m--> 635\u001b[0;31m         \u001b[0mself\u001b[0m\u001b[0;34m.\u001b[0m\u001b[0m_event\u001b[0m\u001b[0;34m.\u001b[0m\u001b[0mwait\u001b[0m\u001b[0;34m(\u001b[0m\u001b[0mtimeout\u001b[0m\u001b[0;34m)\u001b[0m\u001b[0;34m\u001b[0m\u001b[0m\n\u001b[0m\u001b[1;32m    636\u001b[0m \u001b[0;34m\u001b[0m\u001b[0m\n\u001b[1;32m    637\u001b[0m     \u001b[0;32mdef\u001b[0m \u001b[0mget\u001b[0m\u001b[0;34m(\u001b[0m\u001b[0mself\u001b[0m\u001b[0;34m,\u001b[0m \u001b[0mtimeout\u001b[0m\u001b[0;34m=\u001b[0m\u001b[0;32mNone\u001b[0m\u001b[0;34m)\u001b[0m\u001b[0;34m:\u001b[0m\u001b[0;34m\u001b[0m\u001b[0m\n",
      "\u001b[0;32m~/anaconda3/envs/tensorflow_p36/lib/python3.6/threading.py\u001b[0m in \u001b[0;36mwait\u001b[0;34m(self, timeout)\u001b[0m\n\u001b[1;32m    549\u001b[0m             \u001b[0msignaled\u001b[0m \u001b[0;34m=\u001b[0m \u001b[0mself\u001b[0m\u001b[0;34m.\u001b[0m\u001b[0m_flag\u001b[0m\u001b[0;34m\u001b[0m\u001b[0m\n\u001b[1;32m    550\u001b[0m             \u001b[0;32mif\u001b[0m \u001b[0;32mnot\u001b[0m \u001b[0msignaled\u001b[0m\u001b[0;34m:\u001b[0m\u001b[0;34m\u001b[0m\u001b[0m\n\u001b[0;32m--> 551\u001b[0;31m                 \u001b[0msignaled\u001b[0m \u001b[0;34m=\u001b[0m \u001b[0mself\u001b[0m\u001b[0;34m.\u001b[0m\u001b[0m_cond\u001b[0m\u001b[0;34m.\u001b[0m\u001b[0mwait\u001b[0m\u001b[0;34m(\u001b[0m\u001b[0mtimeout\u001b[0m\u001b[0;34m)\u001b[0m\u001b[0;34m\u001b[0m\u001b[0m\n\u001b[0m\u001b[1;32m    552\u001b[0m             \u001b[0;32mreturn\u001b[0m \u001b[0msignaled\u001b[0m\u001b[0;34m\u001b[0m\u001b[0m\n\u001b[1;32m    553\u001b[0m \u001b[0;34m\u001b[0m\u001b[0m\n",
      "\u001b[0;32m~/anaconda3/envs/tensorflow_p36/lib/python3.6/threading.py\u001b[0m in \u001b[0;36mwait\u001b[0;34m(self, timeout)\u001b[0m\n\u001b[1;32m    293\u001b[0m         \u001b[0;32mtry\u001b[0m\u001b[0;34m:\u001b[0m    \u001b[0;31m# restore state no matter what (e.g., KeyboardInterrupt)\u001b[0m\u001b[0;34m\u001b[0m\u001b[0m\n\u001b[1;32m    294\u001b[0m             \u001b[0;32mif\u001b[0m \u001b[0mtimeout\u001b[0m \u001b[0;32mis\u001b[0m \u001b[0;32mNone\u001b[0m\u001b[0;34m:\u001b[0m\u001b[0;34m\u001b[0m\u001b[0m\n\u001b[0;32m--> 295\u001b[0;31m                 \u001b[0mwaiter\u001b[0m\u001b[0;34m.\u001b[0m\u001b[0macquire\u001b[0m\u001b[0;34m(\u001b[0m\u001b[0;34m)\u001b[0m\u001b[0;34m\u001b[0m\u001b[0m\n\u001b[0m\u001b[1;32m    296\u001b[0m                 \u001b[0mgotit\u001b[0m \u001b[0;34m=\u001b[0m \u001b[0;32mTrue\u001b[0m\u001b[0;34m\u001b[0m\u001b[0m\n\u001b[1;32m    297\u001b[0m             \u001b[0;32melse\u001b[0m\u001b[0;34m:\u001b[0m\u001b[0;34m\u001b[0m\u001b[0m\n",
      "\u001b[0;31mKeyboardInterrupt\u001b[0m: "
     ]
    }
   ],
   "source": [
    "mod2 = model_slow_lr_big_batch_data_aug.fit_generator(generator=training_generator, steps_per_epoch=64,\n",
    "                    validation_data=validation_generator, validation_steps=64,\n",
    "                    use_multiprocessing=True,\n",
    "                    workers=2, epochs=20,\n",
    "                    verbose=1)"
   ]
  },
  {
   "cell_type": "code",
   "execution_count": 10,
   "metadata": {},
   "outputs": [],
   "source": [
    "from optical_flow_data_gen import DataGenerator\n",
    "from ucf101_data_utils import get_test_data_opt_flow, get_train_data_opt_flow\n",
    "\n",
    "training_options = { 'rescale' : 1./255, \n",
    "                            'shear_range' : 0.2, \n",
    "                            'zoom_range' : 0.2, \n",
    "                            'horizontal_flip' : True,\n",
    "                             'rotation_range':20,\n",
    "                             'width_shift_range':0.2,\n",
    "                             'height_shift_range':0.2}\n",
    "\n",
    "validation_options = { 'rescale' : 1./255 }\n",
    "\n",
    "\n",
    "\n",
    "\n",
    "params_train = { 'data_dir' : \"/data/tvl1_flow\",\n",
    "          'dim': (224,224),\n",
    "          'batch_size': 64,\n",
    "          'n_frames': 1,\n",
    "          'n_frequency': 1,\n",
    "          'shuffle': True, \n",
    "                'enable_augmentation':False,\n",
    "                'n_classes' : 10,\n",
    "           'validation' : False}\n",
    "\n",
    "params_valid = { 'data_dir' : \"/data/tvl1_flow\",\n",
    "          'dim': (224,224),\n",
    "          'batch_size':64,\n",
    "          'n_frames': 1,\n",
    "          'n_frequency': 1,\n",
    "          'shuffle': True, \n",
    "                'enable_augmentation':False,\n",
    "                'n_classes' : 10,\n",
    "           'validation' : True}\n",
    "\n",
    "id_labels_train = get_train_data_opt_flow('../../data/ucf101_splits/trainlist01_small.txt')\n",
    "labels = id_labels_train[1]\n",
    "id_test = get_test_data_opt_flow('../../data/ucf101_splits/testlist01_small.txt', \\\n",
    "                       '../../data/ucf101_splits/classInd_small.txt')\n",
    "\n",
    "training_generator = DataGenerator(*id_labels_train, **params_train)\n",
    "\n",
    "\n",
    "validation_generator = DataGenerator(id_test[0], id_test[1], **params_valid)"
   ]
  },
  {
   "cell_type": "code",
   "execution_count": 11,
   "metadata": {},
   "outputs": [],
   "source": [
    "model_slow_lr_big_batch_data_aug = getModel(lr=1e-3)\n",
    "model_slow_lr_big_batch_data_aug.load_weights('../../data/weights/model_slow_lr_big_batch.hdf5')"
   ]
  },
  {
   "cell_type": "code",
   "execution_count": 12,
   "metadata": {},
   "outputs": [
    {
     "name": "stdout",
     "output_type": "stream",
     "text": [
      "Epoch 1/20\n",
      "64/64 [==============================] - 27s 427ms/step - loss: 1.0209 - acc: 0.6531 - val_loss: 1.4300 - val_acc: 0.5383\n",
      "Epoch 2/20\n",
      "64/64 [==============================] - 26s 400ms/step - loss: 0.9859 - acc: 0.6638 - val_loss: 1.4529 - val_acc: 0.5371\n",
      "Epoch 3/20\n",
      "64/64 [==============================] - 25s 388ms/step - loss: 1.0222 - acc: 0.6492 - val_loss: 1.4523 - val_acc: 0.5317\n",
      "Epoch 4/20\n",
      "64/64 [==============================] - 26s 407ms/step - loss: 0.9902 - acc: 0.6587 - val_loss: 1.4617 - val_acc: 0.5422\n",
      "Epoch 5/20\n",
      "64/64 [==============================] - 25s 391ms/step - loss: 1.0036 - acc: 0.6594 - val_loss: 1.4484 - val_acc: 0.5371\n",
      "Epoch 6/20\n",
      "64/64 [==============================] - 25s 395ms/step - loss: 0.9977 - acc: 0.6587 - val_loss: 1.4256 - val_acc: 0.5388\n",
      "Epoch 7/20\n",
      "64/64 [==============================] - 25s 390ms/step - loss: 1.0206 - acc: 0.6531 - val_loss: 1.4573 - val_acc: 0.5249\n",
      "Epoch 8/20\n",
      "64/64 [==============================] - 26s 401ms/step - loss: 0.9771 - acc: 0.6672 - val_loss: 1.4324 - val_acc: 0.5488\n",
      "Epoch 9/20\n",
      "64/64 [==============================] - 26s 400ms/step - loss: 1.0040 - acc: 0.6448 - val_loss: 1.4382 - val_acc: 0.5466\n",
      "Epoch 10/20\n",
      "64/64 [==============================] - 25s 392ms/step - loss: 0.9858 - acc: 0.6624 - val_loss: 1.4550 - val_acc: 0.5320\n",
      "Epoch 11/20\n",
      "64/64 [==============================] - 25s 395ms/step - loss: 0.9752 - acc: 0.6602 - val_loss: 1.5336 - val_acc: 0.5264\n",
      "Epoch 12/20\n",
      "64/64 [==============================] - 26s 408ms/step - loss: 0.9830 - acc: 0.6614 - val_loss: 1.4560 - val_acc: 0.5532\n",
      "Epoch 13/20\n",
      "64/64 [==============================] - 25s 396ms/step - loss: 0.9528 - acc: 0.6702 - val_loss: 1.4200 - val_acc: 0.5535\n",
      "Epoch 14/20\n",
      "64/64 [==============================] - 25s 387ms/step - loss: 0.9832 - acc: 0.6638 - val_loss: 1.4378 - val_acc: 0.5491\n",
      "Epoch 15/20\n",
      "64/64 [==============================] - 26s 403ms/step - loss: 0.9753 - acc: 0.6641 - val_loss: 1.4355 - val_acc: 0.5515\n",
      "Epoch 16/20\n",
      "64/64 [==============================] - 26s 403ms/step - loss: 0.9412 - acc: 0.6785 - val_loss: 1.4185 - val_acc: 0.5347\n",
      "Epoch 17/20\n",
      "64/64 [==============================] - 25s 392ms/step - loss: 0.9785 - acc: 0.6655 - val_loss: 1.4627 - val_acc: 0.5415\n",
      "Epoch 18/20\n",
      "64/64 [==============================] - 25s 390ms/step - loss: 0.9671 - acc: 0.6628 - val_loss: 1.4891 - val_acc: 0.5337\n",
      "Epoch 19/20\n",
      "64/64 [==============================] - 26s 411ms/step - loss: 0.9498 - acc: 0.6768 - val_loss: 1.4880 - val_acc: 0.5239\n",
      "Epoch 20/20\n",
      "64/64 [==============================] - 25s 395ms/step - loss: 0.9368 - acc: 0.6709 - val_loss: 1.5144 - val_acc: 0.5378\n"
     ]
    }
   ],
   "source": [
    "mod2 = model_slow_lr_big_batch_data_aug.fit_generator(generator=training_generator, steps_per_epoch=64,\n",
    "                    validation_data=validation_generator, validation_steps=64,\n",
    "                    use_multiprocessing=True,\n",
    "                    workers=2, epochs=20,\n",
    "                    verbose=1)"
   ]
  },
  {
   "cell_type": "code",
   "execution_count": 13,
   "metadata": {},
   "outputs": [],
   "source": [
    "_X = None\n",
    "_y = None\n",
    "\n",
    "for i, (X, y) in enumerate(training_generator):\n",
    "    _X = X\n",
    "    _y = y\n",
    "    if i > 3:\n",
    "        break"
   ]
  },
  {
   "cell_type": "code",
   "execution_count": 19,
   "metadata": {},
   "outputs": [
    {
     "data": {
      "text/plain": [
       "array([[1., 0., 0., 0., 0., 0., 0., 0., 0., 0.],\n",
       "       [0., 0., 0., 1., 0., 0., 0., 0., 0., 0.],\n",
       "       [0., 0., 0., 0., 0., 0., 0., 0., 0., 1.],\n",
       "       [0., 0., 0., 0., 0., 0., 0., 0., 1., 0.],\n",
       "       [0., 0., 0., 0., 1., 0., 0., 0., 0., 0.],\n",
       "       [1., 0., 0., 0., 0., 0., 0., 0., 0., 0.],\n",
       "       [0., 0., 0., 0., 0., 0., 0., 0., 0., 1.],\n",
       "       [0., 0., 1., 0., 0., 0., 0., 0., 0., 0.],\n",
       "       [0., 0., 0., 0., 0., 0., 0., 0., 1., 0.],\n",
       "       [0., 0., 0., 1., 0., 0., 0., 0., 0., 0.],\n",
       "       [0., 0., 0., 0., 0., 0., 0., 0., 0., 1.],\n",
       "       [0., 0., 0., 1., 0., 0., 0., 0., 0., 0.],\n",
       "       [0., 0., 0., 0., 0., 0., 1., 0., 0., 0.],\n",
       "       [0., 0., 0., 0., 0., 1., 0., 0., 0., 0.],\n",
       "       [0., 0., 0., 0., 0., 0., 1., 0., 0., 0.],\n",
       "       [0., 0., 0., 0., 0., 0., 0., 0., 1., 0.],\n",
       "       [0., 0., 0., 0., 0., 1., 0., 0., 0., 0.],\n",
       "       [0., 0., 0., 0., 0., 1., 0., 0., 0., 0.],\n",
       "       [0., 0., 1., 0., 0., 0., 0., 0., 0., 0.],\n",
       "       [0., 0., 0., 1., 0., 0., 0., 0., 0., 0.],\n",
       "       [0., 0., 0., 0., 0., 0., 0., 1., 0., 0.],\n",
       "       [0., 0., 1., 0., 0., 0., 0., 0., 0., 0.],\n",
       "       [0., 0., 0., 0., 0., 0., 0., 0., 0., 1.],\n",
       "       [0., 0., 0., 1., 0., 0., 0., 0., 0., 0.],\n",
       "       [0., 0., 0., 0., 0., 0., 1., 0., 0., 0.],\n",
       "       [0., 0., 0., 0., 0., 0., 0., 0., 0., 1.],\n",
       "       [0., 1., 0., 0., 0., 0., 0., 0., 0., 0.],\n",
       "       [0., 0., 0., 0., 0., 0., 0., 0., 0., 1.],\n",
       "       [1., 0., 0., 0., 0., 0., 0., 0., 0., 0.],\n",
       "       [0., 0., 0., 0., 0., 0., 0., 0., 0., 1.],\n",
       "       [0., 0., 0., 0., 0., 0., 0., 0., 0., 1.],\n",
       "       [0., 0., 0., 0., 0., 0., 0., 0., 1., 0.],\n",
       "       [0., 0., 0., 1., 0., 0., 0., 0., 0., 0.],\n",
       "       [0., 0., 0., 0., 0., 0., 0., 1., 0., 0.],\n",
       "       [0., 0., 0., 0., 0., 1., 0., 0., 0., 0.],\n",
       "       [1., 0., 0., 0., 0., 0., 0., 0., 0., 0.],\n",
       "       [0., 0., 0., 0., 0., 0., 0., 0., 0., 1.],\n",
       "       [1., 0., 0., 0., 0., 0., 0., 0., 0., 0.],\n",
       "       [0., 0., 1., 0., 0., 0., 0., 0., 0., 0.],\n",
       "       [0., 0., 0., 0., 0., 0., 0., 0., 0., 1.],\n",
       "       [0., 0., 1., 0., 0., 0., 0., 0., 0., 0.],\n",
       "       [0., 0., 0., 0., 0., 0., 0., 0., 1., 0.],\n",
       "       [0., 0., 0., 1., 0., 0., 0., 0., 0., 0.],\n",
       "       [0., 0., 0., 0., 1., 0., 0., 0., 0., 0.],\n",
       "       [0., 0., 0., 0., 0., 1., 0., 0., 0., 0.],\n",
       "       [0., 0., 0., 0., 0., 0., 1., 0., 0., 0.],\n",
       "       [0., 0., 0., 1., 0., 0., 0., 0., 0., 0.],\n",
       "       [0., 0., 0., 0., 0., 0., 1., 0., 0., 0.],\n",
       "       [0., 0., 0., 0., 0., 0., 1., 0., 0., 0.],\n",
       "       [1., 0., 0., 0., 0., 0., 0., 0., 0., 0.],\n",
       "       [0., 0., 1., 0., 0., 0., 0., 0., 0., 0.],\n",
       "       [0., 0., 0., 0., 0., 1., 0., 0., 0., 0.],\n",
       "       [0., 0., 0., 0., 1., 0., 0., 0., 0., 0.],\n",
       "       [0., 0., 1., 0., 0., 0., 0., 0., 0., 0.],\n",
       "       [1., 0., 0., 0., 0., 0., 0., 0., 0., 0.],\n",
       "       [0., 0., 0., 0., 0., 0., 1., 0., 0., 0.],\n",
       "       [0., 0., 0., 0., 0., 0., 1., 0., 0., 0.],\n",
       "       [0., 1., 0., 0., 0., 0., 0., 0., 0., 0.],\n",
       "       [0., 0., 0., 0., 0., 0., 0., 0., 0., 1.],\n",
       "       [0., 0., 0., 0., 0., 0., 0., 0., 1., 0.],\n",
       "       [1., 0., 0., 0., 0., 0., 0., 0., 0., 0.],\n",
       "       [0., 0., 0., 0., 0., 0., 1., 0., 0., 0.],\n",
       "       [0., 1., 0., 0., 0., 0., 0., 0., 0., 0.],\n",
       "       [0., 0., 0., 0., 0., 0., 0., 1., 0., 0.]])"
      ]
     },
     "execution_count": 19,
     "metadata": {},
     "output_type": "execute_result"
    }
   ],
   "source": [
    "_y # 1 9 11"
   ]
  },
  {
   "cell_type": "code",
   "execution_count": 22,
   "metadata": {},
   "outputs": [],
   "source": [
    "p1 = model_slow_lr_big_batch_data_aug.predict(_X[1,:,:,:].reshape(1,224,224,2))"
   ]
  },
  {
   "cell_type": "code",
   "execution_count": 23,
   "metadata": {},
   "outputs": [],
   "source": [
    "p2 = model_slow_lr_big_batch_data_aug.predict(_X[9,:,:,:].reshape(1,224,224,2))"
   ]
  },
  {
   "cell_type": "code",
   "execution_count": 24,
   "metadata": {},
   "outputs": [],
   "source": [
    "p3 = model_slow_lr_big_batch_data_aug.predict(_X[11,:,:,:].reshape(1,224,224,2))"
   ]
  },
  {
   "cell_type": "code",
   "execution_count": 25,
   "metadata": {},
   "outputs": [],
   "source": [
    "psum = p1 + p2 + p3"
   ]
  },
  {
   "cell_type": "code",
   "execution_count": 26,
   "metadata": {},
   "outputs": [
    {
     "data": {
      "text/plain": [
       "array([[7.4812262e-03, 1.6016760e-03, 2.4383859e-01, 1.6087725e+00,\n",
       "        9.5887780e-02, 4.6954453e-02, 9.6634054e-04, 1.9480094e-01,\n",
       "        5.7962519e-04, 2.1964456e-03]], dtype=float32)"
      ]
     },
     "execution_count": 26,
     "metadata": {},
     "output_type": "execute_result"
    }
   ],
   "source": [
    "psum"
   ]
  },
  {
   "cell_type": "code",
   "execution_count": null,
   "metadata": {},
   "outputs": [],
   "source": []
  }
 ],
 "metadata": {
  "kernelspec": {
   "display_name": "Python [conda env:tensorflow_p36]",
   "language": "python",
   "name": "conda-env-tensorflow_p36-py"
  },
  "language_info": {
   "codemirror_mode": {
    "name": "ipython",
    "version": 3
   },
   "file_extension": ".py",
   "mimetype": "text/x-python",
   "name": "python",
   "nbconvert_exporter": "python",
   "pygments_lexer": "ipython3",
   "version": "3.6.4"
  }
 },
 "nbformat": 4,
 "nbformat_minor": 2
}
