{
 "cells": [
  {
   "cell_type": "markdown",
   "metadata": {},
   "source": [
    "# Am I feeding my network crap\n",
    "\n",
    "Given that my research on the image content of optical flow images shows such huge variety is my image generation doing  anything useful to it??? Perhaps experiment with a very small network for say only 10 classes?? \n",
    "\n",
    "First lets look at the output for something relatively easy like cricket "
   ]
  },
  {
   "cell_type": "code",
   "execution_count": 1,
   "metadata": {},
   "outputs": [],
   "source": [
    "import os\n",
    "import sys\n",
    "\n",
    "\n",
    "up1 = os.path.abspath('../../utils/') \n",
    "up2 = os.path.abspath('../../models/') \n",
    "sys.path.insert(0, up1)\n",
    "sys.path.insert(0, up2)"
   ]
  },
  {
   "cell_type": "code",
   "execution_count": 2,
   "metadata": {},
   "outputs": [
    {
     "name": "stderr",
     "output_type": "stream",
     "text": [
      "/home/ubuntu/anaconda3/envs/tensorflow_p36/lib/python3.6/site-packages/h5py/__init__.py:36: FutureWarning: Conversion of the second argument of issubdtype from `float` to `np.floating` is deprecated. In future, it will be treated as `np.float64 == np.dtype(float).type`.\n",
      "  from ._conv import register_converters as _register_converters\n",
      "Using TensorFlow backend.\n",
      "/home/ubuntu/anaconda3/envs/tensorflow_p36/lib/python3.6/site-packages/matplotlib/__init__.py:1067: UserWarning: Duplicate key in file \"/home/ubuntu/.config/matplotlib/matplotlibrc\", line #2\n",
      "  (fname, cnt))\n",
      "/home/ubuntu/anaconda3/envs/tensorflow_p36/lib/python3.6/site-packages/matplotlib/__init__.py:1067: UserWarning: Duplicate key in file \"/home/ubuntu/.config/matplotlib/matplotlibrc\", line #3\n",
      "  (fname, cnt))\n"
     ]
    }
   ],
   "source": [
    "from optical_flow_data_gen import DataGenerator\n",
    "from ucf101_data_utils import get_test_data_opt_flow, get_train_data_opt_flow\n",
    "from motion_network import getKerasCifarMotionModel2, getKerasCifarMotionModelOnly\n",
    "from keras.optimizers import SGD\n",
    "from matplotlib import pyplot as plt\n",
    "from keras.optimizers import SGD\n",
    "import cv2 \n",
    "import numpy as np\n"
   ]
  },
  {
   "cell_type": "markdown",
   "metadata": {},
   "source": [
    "# Is it the data or my classifier\n",
    "\n",
    "I am starting to wonder what it is about my optical flow data that might be causing so much easier. Regardless about the unconverged flow images I feel the author of the data still managed with it. So there's essentially two things I can either get a large amount of improvement simply on how I train my classifier (slower?), or my data set is not quite right. I've already seen that I wasn't even doing any random transforms on my opt flow images courtesy my badly written opt flow data generator. \n",
    "Any how what I am aiming to do is use a stinkingly cheap data model to explore what might be wrong. "
   ]
  },
  {
   "cell_type": "code",
   "execution_count": 3,
   "metadata": {},
   "outputs": [],
   "source": [
    "from keras.models import Sequential\n",
    "from keras.layers import Conv2D, MaxPooling2D\n",
    "from keras.layers import Activation, Dropout, Flatten, Dense\n",
    "from keras.initializers import Ones\n",
    "from keras import optimizers\n",
    "\n",
    "def getModel(lr=1e-2):\n",
    "    model = Sequential()\n",
    "    model.add(Conv2D(32, (3, 3), input_shape=(224, 224, 2)))\n",
    "    model.add(Activation('relu'))\n",
    "    model.add(MaxPooling2D(pool_size=(2, 2)))\n",
    "\n",
    "    model.add(Conv2D(32, (3, 3)))\n",
    "    model.add(Activation('relu'))\n",
    "    model.add(MaxPooling2D(pool_size=(2, 2)))\n",
    "\n",
    "    model.add(Conv2D(64, (3, 3)))\n",
    "    model.add(Activation('relu'))\n",
    "    model.add(MaxPooling2D(pool_size=(2, 2)))\n",
    "\n",
    "    model.add(Flatten())  # this converts our 3D feature maps to 1D feature vectors\n",
    "    model.add(Dense(64))\n",
    "    model.add(Activation('relu'))\n",
    "    model.add(Dropout(0.5))\n",
    "    model.add(Dense(10))\n",
    "    model.add(Activation('sigmoid'))\n",
    "\n",
    "    optimizers.SGD(lr=lr)\n",
    "    model.compile(loss='categorical_crossentropy',\n",
    "                  optimizer='sgd',\n",
    "                  metrics=['accuracy'])\n",
    "    return model"
   ]
  },
  {
   "cell_type": "code",
   "execution_count": 4,
   "metadata": {},
   "outputs": [],
   "source": [
    "from optical_flow_data_gen import DataGenerator\n",
    "from ucf101_data_utils import get_test_data_opt_flow, get_train_data_opt_flow\n",
    "\n",
    "training_options = { 'rescale' : 1./255, \n",
    "                            'shear_range' : 0.2, \n",
    "                            'zoom_range' : 0.2, \n",
    "                            'horizontal_flip' : True,\n",
    "                             'rotation_range':20,\n",
    "                             'width_shift_range':0.2,\n",
    "                             'height_shift_range':0.2}\n",
    "\n",
    "validation_options = { 'rescale' : 1./255 }\n",
    "\n",
    "\n",
    "\n",
    "\n",
    "params_train = { 'data_dir' : \"/data/tvl1_flow\",\n",
    "          'dim': (224,224),\n",
    "          'batch_size': 16,\n",
    "          'n_frames': 1,\n",
    "          'n_frequency': 1,\n",
    "          'shuffle': True, \n",
    "                'n_classes' : 10,\n",
    "           'validation' : False,\n",
    "               'enable_augmentation' : True}\n",
    "\n",
    "params_valid = { 'data_dir' : \"/data/tvl1_flow\",\n",
    "          'dim': (224,224),\n",
    "          'batch_size': 16,\n",
    "          'n_frames': 1,\n",
    "          'n_frequency': 1,\n",
    "          'shuffle': True, \n",
    "                'n_classes' : 10,\n",
    "           'validation' : True,\n",
    "               'enable_augmentation' : False}\n",
    "\n",
    "id_labels_train = get_train_data_opt_flow('../../data/ucf101_splits/trainlist01_small.txt')\n",
    "labels = id_labels_train[1]\n",
    "id_test = get_test_data_opt_flow('../../data/ucf101_splits/testlist01_small.txt', \\\n",
    "                       '../../data/ucf101_splits/classInd_small.txt')\n",
    "\n",
    "training_generator = DataGenerator(*id_labels_train, **params_train)\n",
    "\n",
    "\n",
    "validation_generator = DataGenerator(id_test[0], id_test[1], **params_valid)"
   ]
  },
  {
   "cell_type": "code",
   "execution_count": 5,
   "metadata": {},
   "outputs": [],
   "source": [
    "model_with_data_aug = getModel(lr=1e-2)"
   ]
  },
  {
   "cell_type": "code",
   "execution_count": 6,
   "metadata": {},
   "outputs": [
    {
     "name": "stdout",
     "output_type": "stream",
     "text": [
      "Epoch 1/5\n",
      "60/61 [============================>.] - ETA: 3s - loss: 2.3010 - acc: 0.1344Epoch 1/5\n",
      "61/61 [==============================] - 221s 4s/step - loss: 2.3007 - acc: 0.1332 - val_loss: 2.2582 - val_acc: 0.1953\n",
      "Epoch 2/5\n",
      "61/61 [==============================] - 218s 4s/step - loss: 2.2782 - acc: 0.1373 - val_loss: 2.2355 - val_acc: 0.1901\n",
      "Epoch 3/5\n",
      "61/61 [==============================] - 215s 4s/step - loss: 2.2612 - acc: 0.1629 - val_loss: 2.2031 - val_acc: 0.2083\n",
      "Epoch 4/5\n",
      "61/61 [==============================] - 216s 4s/step - loss: 2.2366 - acc: 0.1721 - val_loss: 2.1732 - val_acc: 0.2448\n",
      "Epoch 5/5\n",
      "61/61 [==============================] - 214s 4s/step - loss: 2.2536 - acc: 0.2008 - val_loss: 2.1967 - val_acc: 0.2891\n"
     ]
    }
   ],
   "source": [
    "mod1 = model_with_data_aug.fit_generator(generator=training_generator,\n",
    "                    validation_data=validation_generator,\n",
    "                    use_multiprocessing=True,\n",
    "                    workers=2, epochs=5,\n",
    "                    verbose=1)"
   ]
  },
  {
   "cell_type": "code",
   "execution_count": 116,
   "metadata": {},
   "outputs": [
    {
     "name": "stdout",
     "output_type": "stream",
     "text": [
      "Epoch 1/10\n",
      "61/61 [==============================] - 106s 2s/step - loss: 2.1143 - acc: 0.2336 - val_loss: 2.1589 - val_acc: 0.2917\n",
      "Epoch 2/10\n",
      "61/61 [==============================] - 105s 2s/step - loss: 2.0810 - acc: 0.2725 - val_loss: 2.1807 - val_acc: 0.3099\n",
      "Epoch 3/10\n",
      "61/61 [==============================] - 105s 2s/step - loss: 2.0970 - acc: 0.2500 - val_loss: 2.1218 - val_acc: 0.3021\n",
      "Epoch 4/10\n",
      "61/61 [==============================] - 105s 2s/step - loss: 2.0891 - acc: 0.2766 - val_loss: 2.0654 - val_acc: 0.2812\n",
      "Epoch 5/10\n",
      "61/61 [==============================] - 105s 2s/step - loss: 2.0911 - acc: 0.2766 - val_loss: 2.0201 - val_acc: 0.3568\n",
      "Epoch 6/10\n",
      "61/61 [==============================] - 106s 2s/step - loss: 2.0885 - acc: 0.2664 - val_loss: 2.0363 - val_acc: 0.2839\n",
      "Epoch 7/10\n",
      "61/61 [==============================] - 105s 2s/step - loss: 2.0375 - acc: 0.2602 - val_loss: 2.1034 - val_acc: 0.2839\n",
      "Epoch 8/10\n",
      "61/61 [==============================] - 105s 2s/step - loss: 2.0689 - acc: 0.2777 - val_loss: 1.9622 - val_acc: 0.2865\n",
      "Epoch 9/10\n",
      "61/61 [==============================] - 105s 2s/step - loss: 1.9914 - acc: 0.2900 - val_loss: 1.9829 - val_acc: 0.3255\n",
      "Epoch 10/10\n",
      "61/61 [==============================] - 105s 2s/step - loss: 1.9956 - acc: 0.2982 - val_loss: 1.9943 - val_acc: 0.3203\n"
     ]
    }
   ],
   "source": [
    "mod1 = model_fast_lr.fit_generator(generator=training_generator,\n",
    "                    validation_data=validation_generator,\n",
    "                    use_multiprocessing=True,\n",
    "                    workers=2, epochs=10,\n",
    "                    verbose=1)"
   ]
  },
  {
   "cell_type": "code",
   "execution_count": 120,
   "metadata": {},
   "outputs": [
    {
     "data": {
      "text/plain": [
       "[<matplotlib.lines.Line2D at 0x7fe3d0c25cf8>]"
      ]
     },
     "execution_count": 120,
     "metadata": {},
     "output_type": "execute_result"
    },
    {
     "data": {
      "image/png": "[encoded data removed]",
      "text/plain": [
       "<Figure size 432x288 with 1 Axes>"
      ]
     },
     "metadata": {},
     "output_type": "display_data"
    }
   ],
   "source": [
    "plt.plot(mod1.history['acc'])"
   ]
  },
  {
   "cell_type": "code",
   "execution_count": 122,
   "metadata": {},
   "outputs": [],
   "source": [
    "model_slow_lr = getModel(lr=1e-4)"
   ]
  },
  {
   "cell_type": "code",
   "execution_count": null,
   "metadata": {},
   "outputs": [
    {
     "name": "stdout",
     "output_type": "stream",
     "text": [
      "Epoch 1/15\n",
      "60/61 [============================>.] - ETA: 1s - loss: 2.2802 - acc: 0.1313\n",
      "61/61 [==============================] - 106s 2s/step - loss: 2.2813 - acc: 0.1291 - val_loss: 2.2528 - val_acc: 0.1927\n",
      "Epoch 2/15\n",
      "61/61 [==============================] - 105s 2s/step - loss: 2.2385 - acc: 0.1701 - val_loss: 2.2406 - val_acc: 0.2031\n",
      "Epoch 3/15\n",
      "61/61 [==============================] - 104s 2s/step - loss: 2.2098 - acc: 0.1947 - val_loss: 2.2271 - val_acc: 0.1823\n",
      "Epoch 4/15\n",
      "14/61 [=====>........................] - ETA: 1:11 - loss: 2.1920 - acc: 0.2768"
     ]
    }
   ],
   "source": [
    "mod1 = model_slow_lr.fit_generator(generator=training_generator,\n",
    "                    validation_data=validation_generator,\n",
    "                    use_multiprocessing=True,\n",
    "                    workers=2, epochs=15,\n",
    "                    verbose=1)"
   ]
  },
  {
   "cell_type": "code",
   "execution_count": null,
   "metadata": {},
   "outputs": [],
   "source": []
  }
 ],
 "metadata": {
  "kernelspec": {
   "display_name": "Python [conda env:tensorflow_p36]",
   "language": "python",
   "name": "conda-env-tensorflow_p36-py"
  },
  "language_info": {
   "codemirror_mode": {
    "name": "ipython",
    "version": 3
   },
   "file_extension": ".py",
   "mimetype": "text/x-python",
   "name": "python",
   "nbconvert_exporter": "python",
   "pygments_lexer": "ipython3",
   "version": "3.6.4"
  }
 },
 "nbformat": 4,
 "nbformat_minor": 2
}
