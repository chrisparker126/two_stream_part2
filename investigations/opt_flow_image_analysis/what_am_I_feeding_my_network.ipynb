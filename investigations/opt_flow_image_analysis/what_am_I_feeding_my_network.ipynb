{
 "cells": [
  {
   "cell_type": "markdown",
   "metadata": {},
   "source": [
    "# Am I feeding my network crap\n",
    "\n",
    "Given that my research on the image content of optical flow images shows such huge variety is my image generation doing  anything useful to it??? Perhaps experiment with a very small network for say only 10 classes?? \n",
    "\n",
    "First lets look at the output for something relatively easy like cricket "
   ]
  },
  {
   "cell_type": "code",
   "execution_count": 1,
   "metadata": {},
   "outputs": [],
   "source": [
    "import os\n",
    "import sys\n",
    "\n",
    "\n",
    "up1 = os.path.abspath('../../utils/') \n",
    "up2 = os.path.abspath('../../models/') \n",
    "sys.path.insert(0, up1)\n",
    "sys.path.insert(0, up2)"
   ]
  },
  {
   "cell_type": "code",
   "execution_count": 2,
   "metadata": {},
   "outputs": [
    {
     "name": "stderr",
     "output_type": "stream",
     "text": [
      "/home/ubuntu/anaconda3/envs/tensorflow_p36/lib/python3.6/site-packages/h5py/__init__.py:36: FutureWarning: Conversion of the second argument of issubdtype from `float` to `np.floating` is deprecated. In future, it will be treated as `np.float64 == np.dtype(float).type`.\n",
      "  from ._conv import register_converters as _register_converters\n",
      "Using TensorFlow backend.\n",
      "/home/ubuntu/anaconda3/envs/tensorflow_p36/lib/python3.6/site-packages/matplotlib/__init__.py:1067: UserWarning: Duplicate key in file \"/home/ubuntu/.config/matplotlib/matplotlibrc\", line #2\n",
      "  (fname, cnt))\n",
      "/home/ubuntu/anaconda3/envs/tensorflow_p36/lib/python3.6/site-packages/matplotlib/__init__.py:1067: UserWarning: Duplicate key in file \"/home/ubuntu/.config/matplotlib/matplotlibrc\", line #3\n",
      "  (fname, cnt))\n"
     ]
    }
   ],
   "source": [
    "from optical_flow_data_gen import DataGenerator\n",
    "from ucf101_data_utils import get_test_data_opt_flow, get_train_data_opt_flow\n",
    "from motion_network import getKerasCifarMotionModel2, getKerasCifarMotionModelOnly\n",
    "from keras.optimizers import SGD\n",
    "from matplotlib import pyplot as plt\n",
    "from keras.optimizers import SGD\n",
    "import cv2 \n",
    "import numpy as np\n"
   ]
  },
  {
   "cell_type": "code",
   "execution_count": 15,
   "metadata": {},
   "outputs": [],
   "source": [
    "\n",
    "training_options = { 'rescale' : 1./255, \\\n",
    "                            'shear_range' : 0.2, \\\n",
    "                            'zoom_range' : 0.2, \\\n",
    "                         'samplewise_center' : True, \\\n",
    "                         'samplewise_std_normalization' : True \\\n",
    "    }\n",
    "\n",
    "\n",
    "\n",
    "\n",
    "params_train = { 'data_dir' : \"/data/tvl1_flow\",\n",
    "          'dim': (224,224),\n",
    "          'batch_size': 256,\n",
    "          'n_frames': 1,\n",
    "          'n_frequency': 1,\n",
    "          'shuffle': False, \n",
    "           'validation' : False,\n",
    "               'training_opts' : training_options }\n"
   ]
  },
  {
   "cell_type": "code",
   "execution_count": 16,
   "metadata": {},
   "outputs": [],
   "source": [
    "id_labels_train = get_train_data_opt_flow('../../data/ucf101_splits/trainlist01.txt')\n",
    "\n",
    "training_generator = DataGenerator(*id_labels_train, **params_train)\n",
    "\n"
   ]
  },
  {
   "cell_type": "code",
   "execution_count": 17,
   "metadata": {},
   "outputs": [],
   "source": [
    "_X = None\n",
    "_y = None\n",
    "\n",
    "for (X, y) in training_generator:\n",
    "    _X = X\n",
    "    _y = y\n",
    "    break"
   ]
  },
  {
   "cell_type": "code",
   "execution_count": 6,
   "metadata": {},
   "outputs": [
    {
     "data": {
      "text/plain": [
       "(256, 224, 224, 2)"
      ]
     },
     "execution_count": 6,
     "metadata": {},
     "output_type": "execute_result"
    }
   ],
   "source": [
    "_X.shape"
   ]
  },
  {
   "cell_type": "code",
   "execution_count": 7,
   "metadata": {},
   "outputs": [
    {
     "data": {
      "text/plain": [
       "<matplotlib.image.AxesImage at 0x7f5d0adaeac8>"
      ]
     },
     "execution_count": 7,
     "metadata": {},
     "output_type": "execute_result"
    },
    {
     "data": {
      "image/png": "[encoded data removed]",
      "text/plain": [
       "<Figure size 432x288 with 1 Axes>"
      ]
     },
     "metadata": {},
     "output_type": "display_data"
    }
   ],
   "source": [
    "plt.imshow(_X[0,:,:,0])"
   ]
  },
  {
   "cell_type": "code",
   "execution_count": 35,
   "metadata": {},
   "outputs": [
    {
     "data": {
      "text/plain": [
       "-0.049472440473817075"
      ]
     },
     "execution_count": 35,
     "metadata": {},
     "output_type": "execute_result"
    }
   ],
   "source": [
    "_X[0,5,5,0]"
   ]
  },
  {
   "cell_type": "code",
   "execution_count": 36,
   "metadata": {},
   "outputs": [],
   "source": [
    "\n",
    "training_options = { 'rescale' : 1./255\n",
    "    }\n",
    "\n",
    "\n",
    "\n",
    "\n",
    "params_train = { 'data_dir' : \"/data/tvl1_flow\",\n",
    "          'dim': (224,224),\n",
    "          'batch_size': 256,\n",
    "          'n_frames': 1,\n",
    "          'n_frequency': 1,\n",
    "          'shuffle': False, \n",
    "           'validation' : False,\n",
    "               'training_opts' : training_options }\n",
    "\n",
    "id_labels_train = get_train_data_opt_flow('../../data/ucf101_splits/trainlist01.txt')\n",
    "\n",
    "training_generator = DataGenerator(*id_labels_train, **params_train)\n"
   ]
  },
  {
   "cell_type": "code",
   "execution_count": 23,
   "metadata": {},
   "outputs": [],
   "source": [
    "_X = None\n",
    "_y = None\n",
    "\n",
    "for (X, y) in training_generator:\n",
    "    _X = X\n",
    "    _y = y\n",
    "    break"
   ]
  },
  {
   "cell_type": "code",
   "execution_count": 38,
   "metadata": {},
   "outputs": [
    {
     "data": {
      "text/plain": [
       "<matplotlib.image.AxesImage at 0x7fc26fbeb048>"
      ]
     },
     "execution_count": 38,
     "metadata": {},
     "output_type": "execute_result"
    },
    {
     "data": {
      "image/png": "[encoded data removed]",
      "text/plain": [
       "<Figure size 432x288 with 1 Axes>"
      ]
     },
     "metadata": {},
     "output_type": "display_data"
    }
   ],
   "source": [
    "plt.imshow(_X[0,:,:,0])"
   ]
  },
  {
   "cell_type": "code",
   "execution_count": 39,
   "metadata": {},
   "outputs": [
    {
     "data": {
      "text/plain": [
       "0.4980392156862745"
      ]
     },
     "execution_count": 39,
     "metadata": {},
     "output_type": "execute_result"
    }
   ],
   "source": [
    "_X[0,5,5,0]"
   ]
  },
  {
   "cell_type": "markdown",
   "metadata": {},
   "source": [
    "# Is it the data or my classifier\n",
    "\n",
    "I am starting to wonder what it is about my optical flow data that might be causing so much easier. Regardless about the unconverged flow images I feel the author of the data still managed with it. So there's essentially two things I can either get a large amount of improvement simply on how I train my classifier (slower?), or my data set is not quite right. I've already seen that I wasn't even doing any random transforms on my opt flow images courtesy my badly written opt flow data generator. \n",
    "Any how what I am aiming to do is use a stinkingly cheap data model to explore what might be wrong. "
   ]
  },
  {
   "cell_type": "code",
   "execution_count": 3,
   "metadata": {},
   "outputs": [],
   "source": [
    "from keras.models import Sequential\n",
    "from keras.layers import Conv2D, MaxPooling2D\n",
    "from keras.layers import Activation, Dropout, Flatten, Dense\n",
    "from keras.initializers import Ones\n",
    "from keras import optimizers\n",
    "\n",
    "def getModel(lr=1e-2):\n",
    "    model = Sequential()\n",
    "    model.add(Conv2D(32, (3, 3), input_shape=(224, 224, 2)))\n",
    "    model.add(Activation('relu'))\n",
    "    model.add(MaxPooling2D(pool_size=(2, 2)))\n",
    "\n",
    "    model.add(Conv2D(32, (3, 3)))\n",
    "    model.add(Activation('relu'))\n",
    "    model.add(MaxPooling2D(pool_size=(2, 2)))\n",
    "\n",
    "    model.add(Conv2D(64, (3, 3)))\n",
    "    model.add(Activation('relu'))\n",
    "    model.add(MaxPooling2D(pool_size=(2, 2)))\n",
    "\n",
    "    model.add(Flatten())  # this converts our 3D feature maps to 1D feature vectors\n",
    "    model.add(Dense(64))\n",
    "    model.add(Activation('relu'))\n",
    "    model.add(Dropout(0.5))\n",
    "    model.add(Dense(10))\n",
    "    model.add(Activation('sigmoid'))\n",
    "\n",
    "    optimizers.SGD(lr=lr)\n",
    "    model.compile(loss='categorical_crossentropy',\n",
    "                  optimizer='sgd',\n",
    "                  metrics=['accuracy'])\n",
    "    return model"
   ]
  },
  {
   "cell_type": "code",
   "execution_count": 4,
   "metadata": {},
   "outputs": [],
   "source": [
    "model_fast_lr = getModel(lr=1e-2)"
   ]
  },
  {
   "cell_type": "code",
   "execution_count": 5,
   "metadata": {},
   "outputs": [],
   "source": [
    "from optical_flow_data_gen import DataGenerator\n",
    "from ucf101_data_utils import get_test_data_opt_flow, get_train_data_opt_flow\n",
    "\n",
    "training_options = { 'rescale' : 1./255, \n",
    "                            'shear_range' : 0.2, \n",
    "                            'zoom_range' : 0.2, \n",
    "                            'horizontal_flip' : True,\n",
    "                             'rotation_range':20,\n",
    "                             'width_shift_range':0.2,\n",
    "                             'height_shift_range':0.2}\n",
    "\n",
    "validation_options = { 'rescale' : 1./255 }\n",
    "\n",
    "\n",
    "\n",
    "\n",
    "params_train = { 'data_dir' : \"/data/tvl1_flow\",\n",
    "          'dim': (224,224),\n",
    "          'batch_size': 16,\n",
    "          'n_frames': 1,\n",
    "          'n_frequency': 1,\n",
    "          'shuffle': True, \n",
    "                'n_classes' : 10,\n",
    "           'validation' : False}\n",
    "\n",
    "params_valid = { 'data_dir' : \"/data/tvl1_flow\",\n",
    "          'dim': (224,224),\n",
    "          'batch_size': 16,\n",
    "          'n_frames': 1,\n",
    "          'n_frequency': 1,\n",
    "          'shuffle': True, \n",
    "                'n_classes' : 10,\n",
    "           'validation' : True}\n",
    "\n",
    "id_labels_train = get_train_data_opt_flow('../../data/ucf101_splits/trainlist01_small.txt')\n",
    "labels = id_labels_train[1]\n",
    "id_test = get_test_data_opt_flow('../../data/ucf101_splits/testlist01_small.txt', \\\n",
    "                       '../../data/ucf101_splits/classInd_small.txt')\n",
    "\n",
    "training_generator = DataGenerator(*id_labels_train, **params_train)\n",
    "\n",
    "\n",
    "validation_generator = DataGenerator(id_test[0], id_test[1], **params_valid)"
   ]
  },
  {
   "cell_type": "code",
   "execution_count": 6,
   "metadata": {},
   "outputs": [
    {
     "name": "stdout",
     "output_type": "stream",
     "text": [
      "Epoch 1/15\n",
      "61/61 [==============================] - 101s 2s/step - loss: 2.2726 - acc: 0.1014 - val_loss: 2.2543 - val_acc: 0.1667\n",
      "Epoch 2/15\n",
      "61/61 [==============================] - 7s 113ms/step - loss: 2.2296 - acc: 0.1916 - val_loss: 2.2324 - val_acc: 0.2526\n",
      "Epoch 3/15\n",
      "61/61 [==============================] - 8s 128ms/step - loss: 2.1817 - acc: 0.2336 - val_loss: 2.1831 - val_acc: 0.2500\n",
      "Epoch 4/15\n",
      "61/61 [==============================] - 7s 117ms/step - loss: 2.1584 - acc: 0.2428 - val_loss: 2.1564 - val_acc: 0.2552\n",
      "Epoch 5/15\n",
      "61/61 [==============================] - 6s 100ms/step - loss: 2.1087 - acc: 0.2336 - val_loss: 2.1668 - val_acc: 0.2839\n",
      "Epoch 6/15\n",
      "61/61 [==============================] - 7s 109ms/step - loss: 2.0815 - acc: 0.2439 - val_loss: 2.0929 - val_acc: 0.2786\n",
      "Epoch 7/15\n",
      "61/61 [==============================] - 8s 134ms/step - loss: 2.1100 - acc: 0.2500 - val_loss: 2.0715 - val_acc: 0.2917\n",
      "Epoch 8/15\n",
      "61/61 [==============================] - 6s 98ms/step - loss: 2.0217 - acc: 0.2725 - val_loss: 2.0820 - val_acc: 0.2786\n",
      "Epoch 9/15\n",
      "61/61 [==============================] - 6s 95ms/step - loss: 2.0022 - acc: 0.2797 - val_loss: 2.0533 - val_acc: 0.3438\n",
      "Epoch 10/15\n",
      "61/61 [==============================] - 8s 134ms/step - loss: 2.0377 - acc: 0.2807 - val_loss: 2.0002 - val_acc: 0.3203\n",
      "Epoch 11/15\n",
      "61/61 [==============================] - 8s 128ms/step - loss: 2.0009 - acc: 0.2961 - val_loss: 2.1603 - val_acc: 0.2839\n",
      "Epoch 12/15\n",
      "61/61 [==============================] - 7s 115ms/step - loss: 2.0268 - acc: 0.3023 - val_loss: 2.0904 - val_acc: 0.2604\n",
      "Epoch 13/15\n",
      "61/61 [==============================] - 6s 102ms/step - loss: 2.0472 - acc: 0.2684 - val_loss: 2.0106 - val_acc: 0.2917\n",
      "Epoch 14/15\n",
      "61/61 [==============================] - 6s 104ms/step - loss: 1.9827 - acc: 0.3115 - val_loss: 1.9788 - val_acc: 0.3542\n",
      "Epoch 15/15\n",
      "61/61 [==============================] - 7s 112ms/step - loss: 1.9420 - acc: 0.2982 - val_loss: 2.0332 - val_acc: 0.3646\n"
     ]
    }
   ],
   "source": [
    "mod1 = model_fast_lr.fit_generator(generator=training_generator,\n",
    "                    validation_data=validation_generator,\n",
    "                    use_multiprocessing=True,\n",
    "                    workers=2, epochs=15,\n",
    "                    verbose=1)"
   ]
  },
  {
   "cell_type": "code",
   "execution_count": 7,
   "metadata": {},
   "outputs": [
    {
     "data": {
      "text/plain": [
       "[<matplotlib.lines.Line2D at 0x7f3be0cc2240>]"
      ]
     },
     "execution_count": 7,
     "metadata": {},
     "output_type": "execute_result"
    },
    {
     "data": {
      "image/png": "[encoded data removed]",
      "text/plain": [
       "<Figure size 432x288 with 1 Axes>"
      ]
     },
     "metadata": {},
     "output_type": "display_data"
    }
   ],
   "source": [
    "plt.plot(mod1.history['acc'])"
   ]
  },
  {
   "cell_type": "code",
   "execution_count": 8,
   "metadata": {
    "scrolled": true
   },
   "outputs": [
    {
     "name": "stdout",
     "output_type": "stream",
     "text": [
      "Epoch 1/15\n",
      "61/61 [==============================] - 7s 122ms/step - loss: 1.9850 - acc: 0.3023 - val_loss: 2.0750 - val_acc: 0.3177\n",
      "Epoch 2/15\n",
      "61/61 [==============================] - 6s 93ms/step - loss: 1.9833 - acc: 0.3207 - val_loss: 1.9595 - val_acc: 0.3620\n",
      "Epoch 3/15\n",
      "61/61 [==============================] - 6s 99ms/step - loss: 1.9938 - acc: 0.3115 - val_loss: 1.9471 - val_acc: 0.3646\n",
      "Epoch 4/15\n",
      "61/61 [==============================] - 6s 104ms/step - loss: 1.8720 - acc: 0.3371 - val_loss: 1.9647 - val_acc: 0.3490\n",
      "Epoch 5/15\n",
      "61/61 [==============================] - 7s 113ms/step - loss: 1.9206 - acc: 0.3084 - val_loss: 1.9263 - val_acc: 0.3672\n",
      "Epoch 6/15\n",
      "61/61 [==============================] - 6s 97ms/step - loss: 1.8648 - acc: 0.3484 - val_loss: 1.9005 - val_acc: 0.3333\n",
      "Epoch 7/15\n",
      "61/61 [==============================] - 7s 110ms/step - loss: 1.8812 - acc: 0.3381 - val_loss: 1.9387 - val_acc: 0.3359\n",
      "Epoch 8/15\n",
      "61/61 [==============================] - 6s 99ms/step - loss: 1.9235 - acc: 0.3064 - val_loss: 1.9088 - val_acc: 0.3411\n",
      "Epoch 9/15\n",
      "61/61 [==============================] - 6s 102ms/step - loss: 1.9522 - acc: 0.3186 - val_loss: 2.0428 - val_acc: 0.3568\n",
      "Epoch 10/15\n",
      "61/61 [==============================] - 7s 112ms/step - loss: 1.8896 - acc: 0.3555 - val_loss: 1.9441 - val_acc: 0.3229\n",
      "Epoch 11/15\n",
      "61/61 [==============================] - 7s 121ms/step - loss: 1.8810 - acc: 0.3668 - val_loss: 1.8773 - val_acc: 0.3438\n",
      "Epoch 12/15\n",
      "61/61 [==============================] - 6s 105ms/step - loss: 1.8559 - acc: 0.3340 - val_loss: 1.9716 - val_acc: 0.4089\n",
      "Epoch 13/15\n",
      "61/61 [==============================] - 6s 99ms/step - loss: 1.8934 - acc: 0.3432 - val_loss: 1.9609 - val_acc: 0.3411\n",
      "Epoch 14/15\n",
      "61/61 [==============================] - 6s 99ms/step - loss: 1.8804 - acc: 0.3545 - val_loss: 1.9122 - val_acc: 0.3411\n",
      "Epoch 15/15\n",
      "61/61 [==============================] - 6s 102ms/step - loss: 1.8829 - acc: 0.3525 - val_loss: 2.0615 - val_acc: 0.3229\n"
     ]
    }
   ],
   "source": [
    "mod2 = model_fast_lr.fit_generator(generator=training_generator,\n",
    "                    validation_data=validation_generator,\n",
    "                    use_multiprocessing=True,\n",
    "                    workers=2, epochs=15,\n",
    "                    verbose=1)"
   ]
  },
  {
   "cell_type": "code",
   "execution_count": 9,
   "metadata": {},
   "outputs": [
    {
     "data": {
      "text/plain": [
       "[<matplotlib.lines.Line2D at 0x7f3be0c9a1d0>]"
      ]
     },
     "execution_count": 9,
     "metadata": {},
     "output_type": "execute_result"
    },
    {
     "data": {
      "image/png": "[encoded data removed]",
      "text/plain": [
       "<Figure size 432x288 with 1 Axes>"
      ]
     },
     "metadata": {},
     "output_type": "display_data"
    }
   ],
   "source": [
    "plt.plot(mod2.history['acc'])"
   ]
  },
  {
   "cell_type": "code",
   "execution_count": 10,
   "metadata": {},
   "outputs": [],
   "source": [
    "model_slow_lr = getModel(lr=1e-4)"
   ]
  },
  {
   "cell_type": "code",
   "execution_count": 11,
   "metadata": {},
   "outputs": [
    {
     "name": "stdout",
     "output_type": "stream",
     "text": [
      "Epoch 1/30\n",
      "61/61 [==============================] - 7s 112ms/step - loss: 2.2669 - acc: 0.1352 - val_loss: 2.2375 - val_acc: 0.2057\n",
      "Epoch 2/30\n",
      "61/61 [==============================] - 6s 106ms/step - loss: 2.2418 - acc: 0.1516 - val_loss: 2.2154 - val_acc: 0.2786\n",
      "Epoch 3/30\n",
      "61/61 [==============================] - 7s 113ms/step - loss: 2.1845 - acc: 0.2152 - val_loss: 2.2004 - val_acc: 0.2240\n",
      "Epoch 4/30\n",
      "61/61 [==============================] - 7s 108ms/step - loss: 2.1905 - acc: 0.2408 - val_loss: 2.1299 - val_acc: 0.2917\n",
      "Epoch 5/30\n",
      "61/61 [==============================] - 6s 99ms/step - loss: 2.1388 - acc: 0.2326 - val_loss: 2.2008 - val_acc: 0.2812\n",
      "Epoch 6/30\n",
      "61/61 [==============================] - 6s 96ms/step - loss: 2.1301 - acc: 0.2459 - val_loss: 2.1473 - val_acc: 0.2526\n",
      "Epoch 7/30\n",
      "61/61 [==============================] - 5s 83ms/step - loss: 2.1000 - acc: 0.2305 - val_loss: 2.0987 - val_acc: 0.2448\n",
      "Epoch 8/30\n",
      "61/61 [==============================] - 6s 94ms/step - loss: 2.1008 - acc: 0.2551 - val_loss: 2.1387 - val_acc: 0.2552\n",
      "Epoch 9/30\n",
      "61/61 [==============================] - 5s 82ms/step - loss: 2.0811 - acc: 0.2305 - val_loss: 2.0586 - val_acc: 0.2812\n",
      "Epoch 10/30\n",
      "61/61 [==============================] - 7s 107ms/step - loss: 2.0207 - acc: 0.2777 - val_loss: 2.0979 - val_acc: 0.3307\n",
      "Epoch 11/30\n",
      "61/61 [==============================] - 6s 102ms/step - loss: 2.0694 - acc: 0.2900 - val_loss: 2.0460 - val_acc: 0.2682\n",
      "Epoch 12/30\n",
      "61/61 [==============================] - 7s 107ms/step - loss: 1.9767 - acc: 0.2992 - val_loss: 2.0787 - val_acc: 0.3151\n",
      "Epoch 13/30\n",
      "61/61 [==============================] - 5s 86ms/step - loss: 2.0316 - acc: 0.2787 - val_loss: 2.0050 - val_acc: 0.3229\n",
      "Epoch 14/30\n",
      "61/61 [==============================] - 5s 83ms/step - loss: 2.0364 - acc: 0.2879 - val_loss: 2.0359 - val_acc: 0.3125\n",
      "Epoch 15/30\n",
      "61/61 [==============================] - 6s 104ms/step - loss: 2.0300 - acc: 0.2674 - val_loss: 2.0835 - val_acc: 0.3021\n",
      "Epoch 16/30\n",
      "61/61 [==============================] - 6s 95ms/step - loss: 1.9971 - acc: 0.2920 - val_loss: 1.9595 - val_acc: 0.2969\n",
      "Epoch 17/30\n",
      "61/61 [==============================] - 6s 94ms/step - loss: 2.0024 - acc: 0.3023 - val_loss: 1.9966 - val_acc: 0.2969\n",
      "Epoch 18/30\n",
      "61/61 [==============================] - 6s 102ms/step - loss: 1.9758 - acc: 0.3412 - val_loss: 2.0519 - val_acc: 0.2708\n",
      "Epoch 19/30\n",
      "61/61 [==============================] - 6s 101ms/step - loss: 2.0096 - acc: 0.3043 - val_loss: 1.9971 - val_acc: 0.2969\n",
      "Epoch 20/30\n",
      "61/61 [==============================] - 5s 89ms/step - loss: 1.9578 - acc: 0.3217 - val_loss: 1.9611 - val_acc: 0.3099\n",
      "Epoch 21/30\n",
      "61/61 [==============================] - 6s 101ms/step - loss: 1.9354 - acc: 0.3125 - val_loss: 2.0266 - val_acc: 0.3073\n",
      "Epoch 22/30\n",
      "61/61 [==============================] - 5s 87ms/step - loss: 1.9535 - acc: 0.3197 - val_loss: 1.9421 - val_acc: 0.3203\n",
      "Epoch 23/30\n",
      "61/61 [==============================] - 6s 101ms/step - loss: 1.9102 - acc: 0.3350 - val_loss: 1.9764 - val_acc: 0.3281\n",
      "Epoch 24/30\n",
      "61/61 [==============================] - 6s 104ms/step - loss: 1.9242 - acc: 0.3463 - val_loss: 1.9205 - val_acc: 0.3359\n",
      "Epoch 25/30\n",
      "61/61 [==============================] - 6s 96ms/step - loss: 1.8962 - acc: 0.3514 - val_loss: 1.9189 - val_acc: 0.3594\n",
      "Epoch 26/30\n",
      "61/61 [==============================] - 5s 84ms/step - loss: 1.9442 - acc: 0.3094 - val_loss: 1.9429 - val_acc: 0.3099\n",
      "Epoch 27/30\n",
      "61/61 [==============================] - 5s 86ms/step - loss: 1.9084 - acc: 0.3422 - val_loss: 1.9471 - val_acc: 0.3281\n",
      "Epoch 28/30\n",
      "61/61 [==============================] - 5s 88ms/step - loss: 1.9260 - acc: 0.3258 - val_loss: 2.0075 - val_acc: 0.3281\n",
      "Epoch 29/30\n",
      "61/61 [==============================] - 5s 87ms/step - loss: 1.9294 - acc: 0.3268 - val_loss: 1.9931 - val_acc: 0.2708\n",
      "Epoch 30/30\n",
      "61/61 [==============================] - 7s 111ms/step - loss: 1.8977 - acc: 0.3412 - val_loss: 1.9815 - val_acc: 0.3281\n"
     ]
    }
   ],
   "source": [
    "mod1 = model_slow_lr.fit_generator(generator=training_generator,\n",
    "                    validation_data=validation_generator,\n",
    "                    use_multiprocessing=True,\n",
    "                    workers=2, epochs=30,\n",
    "                    verbose=1)"
   ]
  },
  {
   "cell_type": "code",
   "execution_count": 12,
   "metadata": {},
   "outputs": [
    {
     "data": {
      "text/plain": [
       "[<matplotlib.lines.Line2D at 0x7f3be106fba8>]"
      ]
     },
     "execution_count": 12,
     "metadata": {},
     "output_type": "execute_result"
    },
    {
     "data": {
      "image/png": "[encoded data removed]",
      "text/plain": [
       "<Figure size 432x288 with 1 Axes>"
      ]
     },
     "metadata": {},
     "output_type": "display_data"
    }
   ],
   "source": [
    "plt.plot(mod1.history['acc'])"
   ]
  },
  {
   "cell_type": "code",
   "execution_count": 13,
   "metadata": {},
   "outputs": [
    {
     "name": "stdout",
     "output_type": "stream",
     "text": [
      "Epoch 1/30\n",
      "61/61 [==============================] - 6s 104ms/step - loss: 1.8978 - acc: 0.3412 - val_loss: 1.8948 - val_acc: 0.3151\n",
      "Epoch 2/30\n",
      "61/61 [==============================] - 5s 88ms/step - loss: 1.8544 - acc: 0.3525 - val_loss: 1.9496 - val_acc: 0.3464\n",
      "Epoch 3/30\n",
      "61/61 [==============================] - 5s 90ms/step - loss: 1.9235 - acc: 0.3289 - val_loss: 1.9195 - val_acc: 0.3802\n",
      "Epoch 4/30\n",
      "61/61 [==============================] - 6s 92ms/step - loss: 1.8677 - acc: 0.3719 - val_loss: 1.9481 - val_acc: 0.3620\n",
      "Epoch 5/30\n",
      "61/61 [==============================] - 6s 104ms/step - loss: 1.9005 - acc: 0.3463 - val_loss: 1.9675 - val_acc: 0.2969\n",
      "Epoch 6/30\n",
      "61/61 [==============================] - 7s 110ms/step - loss: 1.8262 - acc: 0.3443 - val_loss: 2.0103 - val_acc: 0.3073\n",
      "Epoch 7/30\n",
      "61/61 [==============================] - 5s 87ms/step - loss: 1.8413 - acc: 0.3402 - val_loss: 2.0154 - val_acc: 0.3255\n",
      "Epoch 8/30\n",
      "61/61 [==============================] - 5s 87ms/step - loss: 1.8591 - acc: 0.3535 - val_loss: 1.8947 - val_acc: 0.3828\n",
      "Epoch 9/30\n",
      "61/61 [==============================] - 5s 76ms/step - loss: 1.8329 - acc: 0.3811 - val_loss: 1.8939 - val_acc: 0.3464\n",
      "Epoch 10/30\n",
      "61/61 [==============================] - 5s 78ms/step - loss: 1.8664 - acc: 0.3668 - val_loss: 1.8530 - val_acc: 0.3646\n",
      "Epoch 11/30\n",
      "61/61 [==============================] - 5s 84ms/step - loss: 1.8349 - acc: 0.3350 - val_loss: 1.8808 - val_acc: 0.3464\n",
      "Epoch 12/30\n",
      "61/61 [==============================] - 5s 83ms/step - loss: 1.8521 - acc: 0.3566 - val_loss: 1.9159 - val_acc: 0.3307\n",
      "Epoch 13/30\n",
      "61/61 [==============================] - 5s 89ms/step - loss: 1.7913 - acc: 0.3791 - val_loss: 1.9012 - val_acc: 0.3307\n",
      "Epoch 14/30\n",
      "61/61 [==============================] - 5s 83ms/step - loss: 1.8922 - acc: 0.3586 - val_loss: 1.9488 - val_acc: 0.3281\n",
      "Epoch 15/30\n",
      "61/61 [==============================] - 5s 82ms/step - loss: 1.7675 - acc: 0.3689 - val_loss: 1.9059 - val_acc: 0.3672\n",
      "Epoch 16/30\n",
      "61/61 [==============================] - 5s 78ms/step - loss: 1.7563 - acc: 0.3781 - val_loss: 1.9718 - val_acc: 0.3281\n",
      "Epoch 17/30\n",
      "61/61 [==============================] - 6s 95ms/step - loss: 1.8552 - acc: 0.3719 - val_loss: 1.8925 - val_acc: 0.3594\n",
      "Epoch 18/30\n",
      "61/61 [==============================] - 6s 95ms/step - loss: 1.8082 - acc: 0.3658 - val_loss: 1.8720 - val_acc: 0.3255\n",
      "Epoch 19/30\n",
      "61/61 [==============================] - 4s 73ms/step - loss: 1.7884 - acc: 0.3852 - val_loss: 1.8710 - val_acc: 0.3802\n",
      "Epoch 20/30\n",
      "61/61 [==============================] - 6s 104ms/step - loss: 1.7796 - acc: 0.3893 - val_loss: 1.8681 - val_acc: 0.3698\n",
      "Epoch 21/30\n",
      "61/61 [==============================] - 7s 108ms/step - loss: 1.7580 - acc: 0.3934 - val_loss: 1.8782 - val_acc: 0.3385\n",
      "Epoch 22/30\n",
      "61/61 [==============================] - 7s 117ms/step - loss: 1.8422 - acc: 0.3678 - val_loss: 1.8364 - val_acc: 0.3698\n",
      "Epoch 23/30\n",
      "61/61 [==============================] - 5s 88ms/step - loss: 1.7903 - acc: 0.3791 - val_loss: 1.8142 - val_acc: 0.3646\n",
      "Epoch 24/30\n",
      "61/61 [==============================] - 5s 89ms/step - loss: 1.7666 - acc: 0.3924 - val_loss: 1.9012 - val_acc: 0.3724\n",
      "Epoch 25/30\n",
      "61/61 [==============================] - 6s 93ms/step - loss: 1.7637 - acc: 0.4078 - val_loss: 1.8123 - val_acc: 0.3880\n",
      "Epoch 26/30\n",
      "61/61 [==============================] - 5s 83ms/step - loss: 1.7631 - acc: 0.3996 - val_loss: 1.8270 - val_acc: 0.4010\n",
      "Epoch 27/30\n",
      "61/61 [==============================] - 5s 75ms/step - loss: 1.7836 - acc: 0.3668 - val_loss: 1.9045 - val_acc: 0.3411\n",
      "Epoch 28/30\n",
      "61/61 [==============================] - 5s 82ms/step - loss: 1.7650 - acc: 0.3852 - val_loss: 1.8942 - val_acc: 0.3672\n",
      "Epoch 29/30\n",
      "61/61 [==============================] - 5s 76ms/step - loss: 1.7706 - acc: 0.3893 - val_loss: 1.8582 - val_acc: 0.3932\n",
      "Epoch 30/30\n",
      "61/61 [==============================] - 5s 82ms/step - loss: 1.7598 - acc: 0.4037 - val_loss: 1.9524 - val_acc: 0.3411\n"
     ]
    }
   ],
   "source": [
    "mod2 = model_slow_lr.fit_generator(generator=training_generator,\n",
    "                    validation_data=validation_generator,\n",
    "                    use_multiprocessing=True,\n",
    "                    workers=2, epochs=30,\n",
    "                    verbose=1)"
   ]
  },
  {
   "cell_type": "code",
   "execution_count": 14,
   "metadata": {},
   "outputs": [
    {
     "data": {
      "text/plain": [
       "[<matplotlib.lines.Line2D at 0x7f3be0ffe0f0>]"
      ]
     },
     "execution_count": 14,
     "metadata": {},
     "output_type": "execute_result"
    },
    {
     "data": {
      "image/png": "[encoded data removed]",
      "text/plain": [
       "<Figure size 432x288 with 1 Axes>"
      ]
     },
     "metadata": {},
     "output_type": "display_data"
    }
   ],
   "source": [
    "plt.plot(mod2.history['acc'])"
   ]
  },
  {
   "cell_type": "code",
   "execution_count": 15,
   "metadata": {},
   "outputs": [],
   "source": [
    "model_slow_lr.save_weights(filepath='../../data/weights/model_slow_lr.hdf5')"
   ]
  },
  {
   "cell_type": "code",
   "execution_count": null,
   "metadata": {},
   "outputs": [],
   "source": []
  }
 ],
 "metadata": {
  "kernelspec": {
   "display_name": "Environment (conda_tensorflow_p36)",
   "language": "python",
   "name": "conda_tensorflow_p36"
  },
  "language_info": {
   "codemirror_mode": {
    "name": "ipython",
    "version": 3
   },
   "file_extension": ".py",
   "mimetype": "text/x-python",
   "name": "python",
   "nbconvert_exporter": "python",
   "pygments_lexer": "ipython3",
   "version": "3.6.4"
  }
 },
 "nbformat": 4,
 "nbformat_minor": 2
}
