{
 "cells": [
  {
   "cell_type": "markdown",
   "metadata": {},
   "source": [
    "# Train smarter and longer (and now slower)\n",
    "\n",
    "After the original \"what am I feeding my network batch size and  video level accuracy. What I've seen is that it should be possible to reach a much higher level. In the com"
   ]
  },
  {
   "cell_type": "code",
   "execution_count": 1,
   "metadata": {},
   "outputs": [],
   "source": [
    "import os\n",
    "import sys\n",
    "\n",
    "\n",
    "up1 = os.path.abspath('../../utils/') \n",
    "up2 = os.path.abspath('../../models/') \n",
    "sys.path.insert(0, up1)\n",
    "sys.path.insert(0, up2)"
   ]
  },
  {
   "cell_type": "code",
   "execution_count": 2,
   "metadata": {},
   "outputs": [
    {
     "name": "stderr",
     "output_type": "stream",
     "text": [
      "/home/ubuntu/anaconda3/envs/tensorflow_p36/lib/python3.6/site-packages/h5py/__init__.py:36: FutureWarning: Conversion of the second argument of issubdtype from `float` to `np.floating` is deprecated. In future, it will be treated as `np.float64 == np.dtype(float).type`.\n",
      "  from ._conv import register_converters as _register_converters\n",
      "Using TensorFlow backend.\n",
      "/home/ubuntu/anaconda3/envs/tensorflow_p36/lib/python3.6/site-packages/matplotlib/__init__.py:1067: UserWarning: Duplicate key in file \"/home/ubuntu/.config/matplotlib/matplotlibrc\", line #2\n",
      "  (fname, cnt))\n",
      "/home/ubuntu/anaconda3/envs/tensorflow_p36/lib/python3.6/site-packages/matplotlib/__init__.py:1067: UserWarning: Duplicate key in file \"/home/ubuntu/.config/matplotlib/matplotlibrc\", line #3\n",
      "  (fname, cnt))\n"
     ]
    }
   ],
   "source": [
    "from optical_flow_data_gen import DataGenerator\n",
    "from ucf101_data_utils import get_test_data_opt_flow, get_train_data_opt_flow\n",
    "from motion_network import getKerasCifarMotionModel2, getKerasCifarMotionModelOnly\n",
    "from keras.optimizers import SGD\n",
    "from matplotlib import pyplot as plt\n",
    "from keras.optimizers import SGD\n",
    "import cv2 \n",
    "import numpy as np\n",
    "import keras"
   ]
  },
  {
   "cell_type": "code",
   "execution_count": null,
   "metadata": {},
   "outputs": [],
   "source": []
  },
  {
   "cell_type": "markdown",
   "metadata": {},
   "source": [
    "# Is it the data or my classifier\n",
    "\n",
    "I am starting to wonder what it is about my optical flow data that might be causing so much easier. Regardless about the unconverged flow images I feel the author of the data still managed with it. So there's essentially two things I can either get a large amount of improvement simply on how I train my classifier (slower?), or my data set is not quite right. I've already seen that I wasn't even doing any random transforms on my opt flow images courtesy my badly written opt flow data generator. \n",
    "Any how what I am aiming to do is use a stinkingly cheap data model to explore what might be wrong. "
   ]
  },
  {
   "cell_type": "code",
   "execution_count": 3,
   "metadata": {},
   "outputs": [],
   "source": [
    "from keras.models import Sequential\n",
    "from keras.layers import Conv2D, MaxPooling2D\n",
    "from keras.layers import Activation, Dropout, Flatten, Dense\n",
    "from keras.initializers import Ones\n",
    "from keras import optimizers\n",
    "\n",
    "def getModel(lr=1e-2):\n",
    "    model = Sequential()\n",
    "    model.add(Conv2D(32, (3, 3), input_shape=(224, 224, 2)))\n",
    "    model.add(Activation('relu'))\n",
    "    model.add(MaxPooling2D(pool_size=(2, 2)))\n",
    "\n",
    "    model.add(Conv2D(32, (3, 3)))\n",
    "    model.add(Activation('relu'))\n",
    "    model.add(MaxPooling2D(pool_size=(2, 2)))\n",
    "\n",
    "    model.add(Conv2D(64, (3, 3)))\n",
    "    model.add(Activation('relu'))\n",
    "    model.add(MaxPooling2D(pool_size=(2, 2)))\n",
    "\n",
    "    model.add(Flatten())  # this converts our 3D feature maps to 1D feature vectors\n",
    "    model.add(Dense(64))\n",
    "    model.add(Activation('relu'))\n",
    "    model.add(Dropout(0.5))\n",
    "    model.add(Dense(10))\n",
    "    model.add(Activation('sigmoid'))\n",
    "\n",
    "    optimizers.SGD(lr=lr)\n",
    "    model.compile(loss='categorical_crossentropy',\n",
    "                  optimizer='sgd',\n",
    "                  metrics=['accuracy'])\n",
    "    return model"
   ]
  },
  {
   "cell_type": "code",
   "execution_count": 8,
   "metadata": {},
   "outputs": [],
   "source": [
    "from optical_flow_data_gen import DataGenerator\n",
    "from ucf101_data_utils import get_test_data_opt_flow, get_train_data_opt_flow\n",
    "\n",
    "training_options = { 'rescale' : 1./255, \n",
    "                     'samplewise_center': True, \n",
    "                         'samplewise_std_normalization':True,\n",
    "                            'zoom_range' : 0.2, \n",
    "                            'horizontal_flip' : True}\n",
    "\n",
    "validation_options = { 'rescale' : 1./255,\n",
    "                     'samplewise_center': True, \n",
    "                         'samplewise_std_normalization':True}\n",
    "\n",
    "\n",
    "\n",
    "\n",
    "params_train = { 'data_dir' : \"/data/tvl1_flow\",\n",
    "          'dim': (224,224),\n",
    "          'batch_size': 128,\n",
    "          'n_frames': 1,\n",
    "          'n_frequency': 1,\n",
    "          'shuffle': True, \n",
    "                'n_classes' : 10,\n",
    "           'validation' : False,\n",
    "                'enable_augmentation' : True,\n",
    "               'training_opts' : training_options}\n",
    "\n",
    "params_valid = { 'data_dir' : \"/data/tvl1_flow\",\n",
    "          'dim': (224,224),\n",
    "          'batch_size':128,\n",
    "          'n_frames': 1,\n",
    "          'n_frequency': 1,\n",
    "          'shuffle': True, \n",
    "                'n_classes' : 10,\n",
    "           'validation' : True,\n",
    "               'validation_opts' : validation_options}\n",
    "\n",
    "id_labels_train = get_train_data_opt_flow('../../data/ucf101_splits/trainlist01_small.txt')\n",
    "labels = id_labels_train[1]\n",
    "id_test = get_test_data_opt_flow('../../data/ucf101_splits/testlist01_small.txt', \\\n",
    "                       '../../data/ucf101_splits/classInd_small.txt')\n",
    "\n",
    "training_generator = DataGenerator(*id_labels_train, **params_train)\n",
    "\n",
    "\n",
    "validation_generator = DataGenerator(id_test[0], id_test[1], **params_valid)"
   ]
  },
  {
   "cell_type": "code",
   "execution_count": 9,
   "metadata": {},
   "outputs": [],
   "source": [
    "model_slow_lr = getModel(1e-3)"
   ]
  },
  {
   "cell_type": "code",
   "execution_count": 10,
   "metadata": {},
   "outputs": [
    {
     "name": "stdout",
     "output_type": "stream",
     "text": [
      "Epoch 1/60\n",
      "64/64 [==============================] - 110s 2s/step - loss: 2.2433 - acc: 0.1298 - val_loss: 2.2356 - val_acc: 0.1648\n",
      "Epoch 2/60\n",
      "64/64 [==============================] - 109s 2s/step - loss: 2.1934 - acc: 0.1945 - val_loss: 2.1868 - val_acc: 0.2393\n",
      "Epoch 3/60\n",
      "64/64 [==============================] - 106s 2s/step - loss: 2.1537 - acc: 0.2386 - val_loss: 2.1432 - val_acc: 0.2804\n",
      "Epoch 4/60\n",
      "64/64 [==============================] - 106s 2s/step - loss: 2.1085 - acc: 0.2618 - val_loss: 2.1546 - val_acc: 0.3082\n",
      "Epoch 5/60\n",
      "64/64 [==============================] - 107s 2s/step - loss: 2.0702 - acc: 0.2740 - val_loss: 2.0786 - val_acc: 0.3126\n",
      "Epoch 6/60\n",
      "64/64 [==============================] - 101s 2s/step - loss: 2.0304 - acc: 0.2803 - val_loss: 2.0734 - val_acc: 0.3093\n",
      "Epoch 7/60\n",
      "64/64 [==============================] - 107s 2s/step - loss: 2.0028 - acc: 0.2920 - val_loss: 2.0228 - val_acc: 0.3130\n",
      "Epoch 8/60\n",
      "64/64 [==============================] - 106s 2s/step - loss: 1.9861 - acc: 0.3004 - val_loss: 2.0113 - val_acc: 0.3080\n",
      "Epoch 9/60\n",
      "64/64 [==============================] - 103s 2s/step - loss: 1.9918 - acc: 0.3040 - val_loss: 2.0047 - val_acc: 0.3236\n",
      "Epoch 10/60\n",
      "64/64 [==============================] - 106s 2s/step - loss: 1.9335 - acc: 0.3137 - val_loss: 1.9358 - val_acc: 0.3464\n",
      "Epoch 11/60\n",
      "64/64 [==============================] - 104s 2s/step - loss: 1.9360 - acc: 0.3289 - val_loss: 1.9672 - val_acc: 0.3419\n",
      "Epoch 12/60\n",
      "64/64 [==============================] - 107s 2s/step - loss: 1.9329 - acc: 0.3221 - val_loss: 1.9499 - val_acc: 0.3481\n",
      "Epoch 13/60\n",
      "64/64 [==============================] - 106s 2s/step - loss: 1.9307 - acc: 0.3300 - val_loss: 1.9670 - val_acc: 0.3328\n",
      "Epoch 14/60\n",
      "64/64 [==============================] - 109s 2s/step - loss: 1.9234 - acc: 0.3318 - val_loss: 1.9508 - val_acc: 0.3506\n",
      "Epoch 15/60\n",
      "64/64 [==============================] - 103s 2s/step - loss: 1.9034 - acc: 0.3431 - val_loss: 1.9139 - val_acc: 0.3628\n",
      "Epoch 16/60\n",
      "64/64 [==============================] - 100s 2s/step - loss: 1.8976 - acc: 0.3423 - val_loss: 1.9145 - val_acc: 0.3481\n",
      "Epoch 17/60\n",
      "64/64 [==============================] - 105s 2s/step - loss: 1.8917 - acc: 0.3381 - val_loss: 1.9265 - val_acc: 0.3546\n",
      "Epoch 18/60\n",
      "64/64 [==============================] - 100s 2s/step - loss: 1.8737 - acc: 0.3588 - val_loss: 1.9125 - val_acc: 0.3616\n",
      "Epoch 19/60\n",
      "64/64 [==============================] - 102s 2s/step - loss: 1.8596 - acc: 0.3406 - val_loss: 1.8979 - val_acc: 0.3810\n",
      "Epoch 20/60\n",
      "64/64 [==============================] - 103s 2s/step - loss: 1.8588 - acc: 0.3549 - val_loss: 1.8839 - val_acc: 0.3943\n",
      "Epoch 21/60\n",
      "64/64 [==============================] - 104s 2s/step - loss: 1.8363 - acc: 0.3571 - val_loss: 1.9004 - val_acc: 0.3674\n",
      "Epoch 22/60\n",
      "64/64 [==============================] - 97s 2s/step - loss: 1.8403 - acc: 0.3652 - val_loss: 1.8814 - val_acc: 0.3915\n",
      "Epoch 23/60\n",
      "64/64 [==============================] - 100s 2s/step - loss: 1.8264 - acc: 0.3595 - val_loss: 1.8681 - val_acc: 0.3583\n",
      "Epoch 24/60\n",
      "64/64 [==============================] - 98s 2s/step - loss: 1.8404 - acc: 0.3589 - val_loss: 1.9053 - val_acc: 0.3716\n",
      "Epoch 25/60\n",
      "64/64 [==============================] - 102s 2s/step - loss: 1.8177 - acc: 0.3682 - val_loss: 1.8387 - val_acc: 0.4039\n",
      "Epoch 26/60\n",
      "64/64 [==============================] - 103s 2s/step - loss: 1.8012 - acc: 0.3726 - val_loss: 1.8541 - val_acc: 0.3964\n",
      "Epoch 27/60\n",
      "64/64 [==============================] - 105s 2s/step - loss: 1.8101 - acc: 0.3728 - val_loss: 1.8380 - val_acc: 0.3999\n",
      "Epoch 28/60\n",
      "64/64 [==============================] - 106s 2s/step - loss: 1.8215 - acc: 0.3643 - val_loss: 1.8641 - val_acc: 0.3967\n",
      "Epoch 29/60\n",
      "64/64 [==============================] - 99s 2s/step - loss: 1.7944 - acc: 0.3695 - val_loss: 1.8335 - val_acc: 0.3990\n",
      "Epoch 30/60\n",
      "64/64 [==============================] - 97s 2s/step - loss: 1.7971 - acc: 0.3806 - val_loss: 1.8348 - val_acc: 0.4142\n",
      "Epoch 31/60\n",
      "64/64 [==============================] - 97s 2s/step - loss: 1.7814 - acc: 0.3801 - val_loss: 1.8347 - val_acc: 0.4110\n",
      "Epoch 32/60\n",
      "64/64 [==============================] - 105s 2s/step - loss: 1.7855 - acc: 0.3848 - val_loss: 1.8177 - val_acc: 0.4092\n",
      "Epoch 33/60\n",
      "64/64 [==============================] - 100s 2s/step - loss: 1.8048 - acc: 0.3745 - val_loss: 1.8311 - val_acc: 0.3993\n",
      "Epoch 34/60\n",
      "64/64 [==============================] - 100s 2s/step - loss: 1.7662 - acc: 0.3922 - val_loss: 1.8299 - val_acc: 0.3954\n",
      "Epoch 35/60\n",
      "64/64 [==============================] - 101s 2s/step - loss: 1.7688 - acc: 0.3754 - val_loss: 1.8200 - val_acc: 0.3907\n",
      "Epoch 36/60\n",
      "64/64 [==============================] - 101s 2s/step - loss: 1.7524 - acc: 0.3926 - val_loss: 1.7976 - val_acc: 0.4054\n",
      "Epoch 37/60\n",
      "64/64 [==============================] - 98s 2s/step - loss: 1.7530 - acc: 0.3984 - val_loss: 1.7959 - val_acc: 0.4275\n",
      "Epoch 38/60\n",
      "64/64 [==============================] - 95s 1s/step - loss: 1.7371 - acc: 0.4026 - val_loss: 1.8078 - val_acc: 0.4226\n",
      "Epoch 39/60\n",
      "64/64 [==============================] - 98s 2s/step - loss: 1.7339 - acc: 0.4027 - val_loss: 1.7550 - val_acc: 0.4288\n",
      "Epoch 40/60\n",
      "64/64 [==============================] - 100s 2s/step - loss: 1.7355 - acc: 0.4028 - val_loss: 1.7716 - val_acc: 0.4325\n",
      "Epoch 41/60\n",
      "64/64 [==============================] - 98s 2s/step - loss: 1.7404 - acc: 0.3976 - val_loss: 1.7971 - val_acc: 0.4257\n",
      "Epoch 42/60\n",
      "64/64 [==============================] - 101s 2s/step - loss: 1.7167 - acc: 0.4124 - val_loss: 1.7598 - val_acc: 0.4203\n",
      "Epoch 43/60\n",
      "64/64 [==============================] - 96s 1s/step - loss: 1.7075 - acc: 0.4098 - val_loss: 1.7355 - val_acc: 0.4410\n",
      "Epoch 44/60\n",
      "64/64 [==============================] - 96s 1s/step - loss: 1.6990 - acc: 0.4067 - val_loss: 1.7367 - val_acc: 0.4105\n",
      "Epoch 45/60\n",
      "64/64 [==============================] - 97s 2s/step - loss: 1.6947 - acc: 0.4148 - val_loss: 1.7211 - val_acc: 0.4404\n",
      "Epoch 46/60\n",
      "64/64 [==============================] - 102s 2s/step - loss: 1.6815 - acc: 0.4214 - val_loss: 1.6793 - val_acc: 0.4397\n",
      "Epoch 47/60\n",
      "64/64 [==============================] - 99s 2s/step - loss: 1.6879 - acc: 0.4160 - val_loss: 1.7476 - val_acc: 0.4418\n",
      "Epoch 48/60\n",
      "64/64 [==============================] - 97s 2s/step - loss: 1.6833 - acc: 0.4170 - val_loss: 1.6843 - val_acc: 0.4456\n",
      "Epoch 49/60\n",
      "64/64 [==============================] - 100s 2s/step - loss: 1.6823 - acc: 0.4213 - val_loss: 1.7447 - val_acc: 0.4222\n",
      "Epoch 50/60\n",
      "64/64 [==============================] - 98s 2s/step - loss: 1.6714 - acc: 0.4261 - val_loss: 1.6883 - val_acc: 0.4523\n",
      "Epoch 51/60\n",
      "64/64 [==============================] - 98s 2s/step - loss: 1.6473 - acc: 0.4330 - val_loss: 1.7056 - val_acc: 0.4624\n",
      "Epoch 52/60\n",
      "64/64 [==============================] - 99s 2s/step - loss: 1.6515 - acc: 0.4403 - val_loss: 1.6762 - val_acc: 0.4460\n",
      "Epoch 53/60\n",
      "64/64 [==============================] - 96s 2s/step - loss: 1.6415 - acc: 0.4391 - val_loss: 1.6556 - val_acc: 0.4814\n",
      "Epoch 54/60\n",
      "64/64 [==============================] - 98s 2s/step - loss: 1.6193 - acc: 0.4469 - val_loss: 1.6668 - val_acc: 0.4481\n",
      "Epoch 55/60\n",
      "64/64 [==============================] - 95s 1s/step - loss: 1.6342 - acc: 0.4421 - val_loss: 1.6680 - val_acc: 0.4645\n",
      "Epoch 56/60\n",
      "64/64 [==============================] - 100s 2s/step - loss: 1.6017 - acc: 0.4515 - val_loss: 1.6859 - val_acc: 0.4583\n",
      "Epoch 57/60\n",
      "64/64 [==============================] - 95s 1s/step - loss: 1.6053 - acc: 0.4518 - val_loss: 1.6284 - val_acc: 0.4756\n",
      "Epoch 58/60\n",
      "64/64 [==============================] - 97s 2s/step - loss: 1.5977 - acc: 0.4581 - val_loss: 1.6261 - val_acc: 0.4669\n",
      "Epoch 59/60\n",
      "64/64 [==============================] - 97s 2s/step - loss: 1.5910 - acc: 0.4562 - val_loss: 1.5960 - val_acc: 0.4780\n",
      "Epoch 60/60\n",
      "64/64 [==============================] - 96s 2s/step - loss: 1.6031 - acc: 0.4506 - val_loss: 1.6096 - val_acc: 0.4546\n"
     ]
    }
   ],
   "source": [
    "mod1 = model_slow_lr.fit_generator(generator=training_generator, steps_per_epoch=64,\n",
    "                    validation_data=validation_generator, validation_steps=64,\n",
    "                    use_multiprocessing=True,\n",
    "                    workers=2, epochs=60,\n",
    "                    verbose=1)"
   ]
  },
  {
   "cell_type": "code",
   "execution_count": 11,
   "metadata": {},
   "outputs": [
    {
     "data": {
      "text/plain": [
       "[<matplotlib.lines.Line2D at 0x7f67567ad780>]"
      ]
     },
     "execution_count": 11,
     "metadata": {},
     "output_type": "execute_result"
    },
    {
     "data": {
      "image/png": "[encoded data removed]",
      "text/plain": [
       "<Figure size 432x288 with 1 Axes>"
      ]
     },
     "metadata": {},
     "output_type": "display_data"
    }
   ],
   "source": [
    "plt.plot(mod1.history['acc'])\n",
    "plt.plot(mod1.history['val_acc'])"
   ]
  },
  {
   "cell_type": "code",
   "execution_count": 20,
   "metadata": {},
   "outputs": [
    {
     "data": {
      "text/plain": [
       "[<matplotlib.lines.Line2D at 0x7ff54144a940>]"
      ]
     },
     "execution_count": 20,
     "metadata": {},
     "output_type": "execute_result"
    },
    {
     "data": {
      "image/png": "[encoded data removed]",
      "text/plain": [
       "<Figure size 432x288 with 1 Axes>"
      ]
     },
     "metadata": {},
     "output_type": "display_data"
    }
   ],
   "source": [
    "plt.plot(mod1.history['acc'])\n",
    "plt.plot(mod1.history['val_acc'])"
   ]
  },
  {
   "cell_type": "code",
   "execution_count": null,
   "metadata": {},
   "outputs": [],
   "source": []
  },
  {
   "cell_type": "code",
   "execution_count": 23,
   "metadata": {},
   "outputs": [],
   "source": [
    "model_medium_lr.load_weights('../../data/weights/model_10_class_60_epochs.hdf5')"
   ]
  },
  {
   "cell_type": "code",
   "execution_count": 24,
   "metadata": {},
   "outputs": [
    {
     "name": "stdout",
     "output_type": "stream",
     "text": [
      "Epoch 1/30\n",
      "64/64 [==============================] - 96s 1s/step - loss: 1.5367 - acc: 0.4744 - val_loss: 1.5528 - val_acc: 0.4875\n",
      "Epoch 2/30\n",
      "64/64 [==============================] - 93s 1s/step - loss: 1.5379 - acc: 0.4708 - val_loss: 1.5462 - val_acc: 0.4674\n",
      "Epoch 3/30\n",
      "64/64 [==============================] - 97s 2s/step - loss: 1.5236 - acc: 0.4724 - val_loss: 1.5063 - val_acc: 0.4943\n",
      "Epoch 4/30\n",
      "64/64 [==============================] - 96s 2s/step - loss: 1.5418 - acc: 0.4763 - val_loss: 1.5280 - val_acc: 0.4980\n",
      "Epoch 5/30\n",
      "64/64 [==============================] - 98s 2s/step - loss: 1.5237 - acc: 0.4824 - val_loss: 1.5245 - val_acc: 0.4872\n",
      "Epoch 6/30\n",
      "64/64 [==============================] - 95s 1s/step - loss: 1.5098 - acc: 0.4817 - val_loss: 1.5600 - val_acc: 0.4847\n",
      "Epoch 7/30\n",
      "64/64 [==============================] - 98s 2s/step - loss: 1.5232 - acc: 0.4818 - val_loss: 1.5332 - val_acc: 0.4865\n",
      "Epoch 8/30\n",
      "64/64 [==============================] - 93s 1s/step - loss: 1.5046 - acc: 0.4835 - val_loss: 1.5100 - val_acc: 0.5024\n",
      "Epoch 9/30\n",
      "64/64 [==============================] - 97s 2s/step - loss: 1.4872 - acc: 0.4851 - val_loss: 1.5041 - val_acc: 0.4849\n",
      "Epoch 10/30\n",
      "64/64 [==============================] - 93s 1s/step - loss: 1.4945 - acc: 0.4801 - val_loss: 1.4921 - val_acc: 0.4956\n",
      "Epoch 11/30\n",
      "64/64 [==============================] - 93s 1s/step - loss: 1.4952 - acc: 0.4855 - val_loss: 1.4913 - val_acc: 0.4852\n",
      "Epoch 12/30\n",
      "64/64 [==============================] - 96s 1s/step - loss: 1.4871 - acc: 0.4911 - val_loss: 1.5105 - val_acc: 0.4777\n",
      "Epoch 13/30\n",
      "64/64 [==============================] - 99s 2s/step - loss: 1.4698 - acc: 0.4938 - val_loss: 1.5246 - val_acc: 0.5020\n",
      "Epoch 14/30\n",
      "64/64 [==============================] - 98s 2s/step - loss: 1.4446 - acc: 0.4976 - val_loss: 1.5099 - val_acc: 0.4891\n",
      "Epoch 15/30\n",
      "64/64 [==============================] - 96s 2s/step - loss: 1.4577 - acc: 0.4990 - val_loss: 1.4905 - val_acc: 0.5175\n",
      "Epoch 16/30\n",
      "64/64 [==============================] - 94s 1s/step - loss: 1.4595 - acc: 0.5044 - val_loss: 1.4874 - val_acc: 0.4888\n",
      "Epoch 17/30\n",
      "64/64 [==============================] - 92s 1s/step - loss: 1.4580 - acc: 0.4993 - val_loss: 1.5209 - val_acc: 0.4790\n",
      "Epoch 18/30\n",
      "64/64 [==============================] - 96s 2s/step - loss: 1.4557 - acc: 0.4983 - val_loss: 1.4831 - val_acc: 0.5079\n",
      "Epoch 19/30\n",
      "64/64 [==============================] - 93s 1s/step - loss: 1.4547 - acc: 0.4963 - val_loss: 1.4812 - val_acc: 0.4973\n",
      "Epoch 20/30\n",
      "64/64 [==============================] - 97s 2s/step - loss: 1.4481 - acc: 0.4965 - val_loss: 1.5043 - val_acc: 0.5007\n",
      "Epoch 21/30\n",
      "64/64 [==============================] - 96s 2s/step - loss: 1.4468 - acc: 0.5090 - val_loss: 1.4462 - val_acc: 0.5081\n",
      "Epoch 22/30\n",
      "64/64 [==============================] - 92s 1s/step - loss: 1.4400 - acc: 0.5148 - val_loss: 1.4626 - val_acc: 0.5011\n",
      "Epoch 23/30\n",
      "64/64 [==============================] - 94s 1s/step - loss: 1.4300 - acc: 0.5186 - val_loss: 1.4567 - val_acc: 0.4908\n",
      "Epoch 24/30\n",
      "64/64 [==============================] - 95s 1s/step - loss: 1.4278 - acc: 0.5071 - val_loss: 1.4618 - val_acc: 0.5024\n",
      "Epoch 25/30\n",
      "64/64 [==============================] - 98s 2s/step - loss: 1.4208 - acc: 0.5092 - val_loss: 1.4681 - val_acc: 0.4863\n",
      "Epoch 26/30\n",
      "64/64 [==============================] - 95s 1s/step - loss: 1.4126 - acc: 0.5170 - val_loss: 1.4594 - val_acc: 0.5103\n",
      "Epoch 27/30\n",
      "64/64 [==============================] - 96s 1s/step - loss: 1.4051 - acc: 0.5159 - val_loss: 1.4482 - val_acc: 0.5200\n",
      "Epoch 28/30\n",
      "64/64 [==============================] - 95s 1s/step - loss: 1.4039 - acc: 0.5184 - val_loss: 1.4564 - val_acc: 0.5143\n",
      "Epoch 29/30\n",
      "64/64 [==============================] - 94s 1s/step - loss: 1.4240 - acc: 0.5126 - val_loss: 1.4343 - val_acc: 0.5140\n",
      "Epoch 30/30\n",
      "64/64 [==============================] - 96s 1s/step - loss: 1.4045 - acc: 0.5206 - val_loss: 1.4274 - val_acc: 0.5273\n"
     ]
    }
   ],
   "source": [
    "mod2 = model_medium_lr.fit_generator(generator=training_generator, steps_per_epoch=64,\n",
    "                    validation_data=validation_generator, validation_steps=64,\n",
    "                    use_multiprocessing=True,\n",
    "                    workers=2, epochs=30,\n",
    "                    verbose=1)"
   ]
  },
  {
   "cell_type": "code",
   "execution_count": 25,
   "metadata": {},
   "outputs": [],
   "source": [
    "model_medium_lr.save_weights('../../data/weights/model_10_class_90_epochs.hdf5')"
   ]
  },
  {
   "cell_type": "code",
   "execution_count": 26,
   "metadata": {},
   "outputs": [
    {
     "data": {
      "text/plain": [
       "[<matplotlib.lines.Line2D at 0x7ff5410309e8>]"
      ]
     },
     "execution_count": 26,
     "metadata": {},
     "output_type": "execute_result"
    },
    {
     "data": {
      "image/png": "[encoded data removed]",
      "text/plain": [
       "<Figure size 432x288 with 1 Axes>"
      ]
     },
     "metadata": {},
     "output_type": "display_data"
    }
   ],
   "source": [
    "plt.plot(mod2.history['acc'])\n",
    "plt.plot(mod2.history['val_acc'])"
   ]
  },
  {
   "cell_type": "code",
   "execution_count": 27,
   "metadata": {},
   "outputs": [
    {
     "name": "stdout",
     "output_type": "stream",
     "text": [
      "Epoch 1/60\n",
      "64/64 [==============================] - 100s 2s/step - loss: 1.3962 - acc: 0.5232 - val_loss: 1.4287 - val_acc: 0.5076\n",
      "Epoch 2/60\n",
      "64/64 [==============================] - 91s 1s/step - loss: 1.3814 - acc: 0.5231 - val_loss: 1.4142 - val_acc: 0.5181\n",
      "Epoch 3/60\n",
      "64/64 [==============================] - 95s 1s/step - loss: 1.3819 - acc: 0.5270 - val_loss: 1.4334 - val_acc: 0.5085\n",
      "Epoch 4/60\n",
      "64/64 [==============================] - 93s 1s/step - loss: 1.3961 - acc: 0.5240 - val_loss: 1.4288 - val_acc: 0.5182\n",
      "Epoch 5/60\n",
      "64/64 [==============================] - 93s 1s/step - loss: 1.3721 - acc: 0.5239 - val_loss: 1.4442 - val_acc: 0.5233\n",
      "Epoch 6/60\n",
      "64/64 [==============================] - 95s 1s/step - loss: 1.3611 - acc: 0.5282 - val_loss: 1.4444 - val_acc: 0.5170\n",
      "Epoch 7/60\n",
      "64/64 [==============================] - 99s 2s/step - loss: 1.3809 - acc: 0.5231 - val_loss: 1.4120 - val_acc: 0.5271\n",
      "Epoch 8/60\n",
      "64/64 [==============================] - 95s 1s/step - loss: 1.3691 - acc: 0.5315 - val_loss: 1.4292 - val_acc: 0.5194\n",
      "Epoch 9/60\n",
      "64/64 [==============================] - 94s 1s/step - loss: 1.3639 - acc: 0.5319 - val_loss: 1.4033 - val_acc: 0.5206\n",
      "Epoch 10/60\n",
      "64/64 [==============================] - 94s 1s/step - loss: 1.3597 - acc: 0.5303 - val_loss: 1.4350 - val_acc: 0.5011\n",
      "Epoch 11/60\n",
      "64/64 [==============================] - 94s 1s/step - loss: 1.3462 - acc: 0.5389 - val_loss: 1.3865 - val_acc: 0.5261\n",
      "Epoch 12/60\n",
      "64/64 [==============================] - 94s 1s/step - loss: 1.3562 - acc: 0.5345 - val_loss: 1.4421 - val_acc: 0.5144\n",
      "Epoch 13/60\n",
      "64/64 [==============================] - 93s 1s/step - loss: 1.3497 - acc: 0.5396 - val_loss: 1.3946 - val_acc: 0.5216\n",
      "Epoch 14/60\n",
      "64/64 [==============================] - 109s 2s/step - loss: 1.3426 - acc: 0.5388 - val_loss: 1.3896 - val_acc: 0.5347\n",
      "Epoch 15/60\n",
      "64/64 [==============================] - 94s 1s/step - loss: 1.3503 - acc: 0.5376 - val_loss: 1.4298 - val_acc: 0.5085\n",
      "Epoch 16/60\n",
      "64/64 [==============================] - 92s 1s/step - loss: 1.3154 - acc: 0.5465 - val_loss: 1.4224 - val_acc: 0.5065\n",
      "Epoch 17/60\n",
      "64/64 [==============================] - 96s 1s/step - loss: 1.3653 - acc: 0.5332 - val_loss: 1.4444 - val_acc: 0.5178\n",
      "Epoch 18/60\n",
      "64/64 [==============================] - 100s 2s/step - loss: 1.3254 - acc: 0.5424 - val_loss: 1.4054 - val_acc: 0.5221\n",
      "Epoch 19/60\n",
      "64/64 [==============================] - 100s 2s/step - loss: 1.3345 - acc: 0.5322 - val_loss: 1.3962 - val_acc: 0.5360\n",
      "Epoch 20/60\n",
      "64/64 [==============================] - 94s 1s/step - loss: 1.3428 - acc: 0.5337 - val_loss: 1.4092 - val_acc: 0.5265\n",
      "Epoch 21/60\n",
      "64/64 [==============================] - 97s 2s/step - loss: 1.3257 - acc: 0.5433 - val_loss: 1.3820 - val_acc: 0.5243\n",
      "Epoch 22/60\n",
      "64/64 [==============================] - 89s 1s/step - loss: 1.3295 - acc: 0.5393 - val_loss: 1.3880 - val_acc: 0.5315\n",
      "Epoch 23/60\n",
      "64/64 [==============================] - 93s 1s/step - loss: 1.3238 - acc: 0.5387 - val_loss: 1.4591 - val_acc: 0.5165\n",
      "Epoch 24/60\n",
      "64/64 [==============================] - 93s 1s/step - loss: 1.3340 - acc: 0.5431 - val_loss: 1.3981 - val_acc: 0.5378\n",
      "Epoch 25/60\n",
      "64/64 [==============================] - 95s 1s/step - loss: 1.3312 - acc: 0.5453 - val_loss: 1.4025 - val_acc: 0.5266\n",
      "Epoch 26/60\n",
      "64/64 [==============================] - 95s 1s/step - loss: 1.3463 - acc: 0.5426 - val_loss: 1.3917 - val_acc: 0.5327\n",
      "Epoch 27/60\n",
      "64/64 [==============================] - 96s 1s/step - loss: 1.3232 - acc: 0.5442 - val_loss: 1.3991 - val_acc: 0.5178\n",
      "Epoch 28/60\n",
      "64/64 [==============================] - 97s 2s/step - loss: 1.3245 - acc: 0.5327 - val_loss: 1.3861 - val_acc: 0.5248\n",
      "Epoch 29/60\n",
      "64/64 [==============================] - 93s 1s/step - loss: 1.3165 - acc: 0.5371 - val_loss: 1.4240 - val_acc: 0.5243\n",
      "Epoch 30/60\n",
      "64/64 [==============================] - 93s 1s/step - loss: 1.3206 - acc: 0.5454 - val_loss: 1.3672 - val_acc: 0.5403\n",
      "Epoch 31/60\n",
      "64/64 [==============================] - 93s 1s/step - loss: 1.2907 - acc: 0.5522 - val_loss: 1.4141 - val_acc: 0.5161\n",
      "Epoch 32/60\n",
      "64/64 [==============================] - 95s 1s/step - loss: 1.3200 - acc: 0.5464 - val_loss: 1.3682 - val_acc: 0.5447\n",
      "Epoch 33/60\n",
      "64/64 [==============================] - 95s 1s/step - loss: 1.3207 - acc: 0.5481 - val_loss: 1.3923 - val_acc: 0.5188\n",
      "Epoch 34/60\n",
      "64/64 [==============================] - 93s 1s/step - loss: 1.3136 - acc: 0.5519 - val_loss: 1.3413 - val_acc: 0.5397\n",
      "Epoch 35/60\n",
      "64/64 [==============================] - 102s 2s/step - loss: 1.2779 - acc: 0.5596 - val_loss: 1.3639 - val_acc: 0.5299\n",
      "Epoch 36/60\n",
      "64/64 [==============================] - 93s 1s/step - loss: 1.2831 - acc: 0.5588 - val_loss: 1.3641 - val_acc: 0.5427\n",
      "Epoch 37/60\n",
      "64/64 [==============================] - 98s 2s/step - loss: 1.2763 - acc: 0.5571 - val_loss: 1.3399 - val_acc: 0.5476\n",
      "Epoch 38/60\n",
      "64/64 [==============================] - 94s 1s/step - loss: 1.3046 - acc: 0.5480 - val_loss: 1.3358 - val_acc: 0.5383\n",
      "Epoch 39/60\n",
      "64/64 [==============================] - 91s 1s/step - loss: 1.3043 - acc: 0.5524 - val_loss: 1.3814 - val_acc: 0.5422\n",
      "Epoch 40/60\n",
      "64/64 [==============================] - 95s 1s/step - loss: 1.2758 - acc: 0.5511 - val_loss: 1.3424 - val_acc: 0.5399\n",
      "Epoch 41/60\n",
      "64/64 [==============================] - 94s 1s/step - loss: 1.2884 - acc: 0.5564 - val_loss: 1.3367 - val_acc: 0.5410\n",
      "Epoch 42/60\n",
      "64/64 [==============================] - 94s 1s/step - loss: 1.2723 - acc: 0.5604 - val_loss: 1.3547 - val_acc: 0.5482\n",
      "Epoch 43/60\n",
      "64/64 [==============================] - 94s 1s/step - loss: 1.2839 - acc: 0.5613 - val_loss: 1.4001 - val_acc: 0.5292\n",
      "Epoch 44/60\n",
      "64/64 [==============================] - 91s 1s/step - loss: 1.3045 - acc: 0.5483 - val_loss: 1.3762 - val_acc: 0.5400\n",
      "Epoch 45/60\n",
      "64/64 [==============================] - 94s 1s/step - loss: 1.2898 - acc: 0.5559 - val_loss: 1.3587 - val_acc: 0.5496\n",
      "Epoch 46/60\n",
      "64/64 [==============================] - 93s 1s/step - loss: 1.2597 - acc: 0.5588 - val_loss: 1.3611 - val_acc: 0.5372\n",
      "Epoch 47/60\n",
      "64/64 [==============================] - 97s 2s/step - loss: 1.2656 - acc: 0.5596 - val_loss: 1.3565 - val_acc: 0.5538\n",
      "Epoch 48/60\n",
      "64/64 [==============================] - 97s 2s/step - loss: 1.2521 - acc: 0.5593 - val_loss: 1.3592 - val_acc: 0.5336\n",
      "Epoch 49/60\n",
      "64/64 [==============================] - 94s 1s/step - loss: 1.2544 - acc: 0.5624 - val_loss: 1.3792 - val_acc: 0.5531\n",
      "Epoch 50/60\n",
      "64/64 [==============================] - 94s 1s/step - loss: 1.2807 - acc: 0.5530 - val_loss: 1.3411 - val_acc: 0.5430\n",
      "Epoch 51/60\n",
      "64/64 [==============================] - 94s 1s/step - loss: 1.2687 - acc: 0.5653 - val_loss: 1.3286 - val_acc: 0.5522\n",
      "Epoch 52/60\n",
      "64/64 [==============================] - 96s 2s/step - loss: 1.2620 - acc: 0.5627 - val_loss: 1.3687 - val_acc: 0.5426\n",
      "Epoch 53/60\n",
      "64/64 [==============================] - 94s 1s/step - loss: 1.2817 - acc: 0.5559 - val_loss: 1.3471 - val_acc: 0.5513\n",
      "Epoch 54/60\n",
      "64/64 [==============================] - 95s 1s/step - loss: 1.2587 - acc: 0.5651 - val_loss: 1.3202 - val_acc: 0.5580\n",
      "Epoch 55/60\n",
      "64/64 [==============================] - 95s 1s/step - loss: 1.2473 - acc: 0.5615 - val_loss: 1.3369 - val_acc: 0.5583\n",
      "Epoch 56/60\n",
      "64/64 [==============================] - 97s 2s/step - loss: 1.2615 - acc: 0.5602 - val_loss: 1.3375 - val_acc: 0.5475\n",
      "Epoch 57/60\n",
      "64/64 [==============================] - 91s 1s/step - loss: 1.2443 - acc: 0.5702 - val_loss: 1.3332 - val_acc: 0.5496\n",
      "Epoch 58/60\n",
      "64/64 [==============================] - 90s 1s/step - loss: 1.2444 - acc: 0.5625 - val_loss: 1.3676 - val_acc: 0.5433\n",
      "Epoch 59/60\n",
      "64/64 [==============================] - 94s 1s/step - loss: 1.2504 - acc: 0.5660 - val_loss: 1.3260 - val_acc: 0.5524\n",
      "Epoch 60/60\n",
      "64/64 [==============================] - 94s 1s/step - loss: 1.2610 - acc: 0.5607 - val_loss: 1.3209 - val_acc: 0.5388\n"
     ]
    }
   ],
   "source": [
    "mod3 = model_medium_lr.fit_generator(generator=training_generator, steps_per_epoch=64,\n",
    "                    validation_data=validation_generator, validation_steps=64,\n",
    "                    use_multiprocessing=True,\n",
    "                    workers=2, epochs=60,\n",
    "                    verbose=1)"
   ]
  },
  {
   "cell_type": "code",
   "execution_count": 28,
   "metadata": {},
   "outputs": [],
   "source": [
    "model_medium_lr.save_weights('../../data/weights/model_10_class_150_epochs.hdf5')"
   ]
  },
  {
   "cell_type": "code",
   "execution_count": 29,
   "metadata": {},
   "outputs": [],
   "source": [
    "model_fast_lr = getModel(lr=1e-2)\n",
    "model_fast_lr.load_weights('../../data/weights/model_10_class_60_epochs.hdf5')"
   ]
  },
  {
   "cell_type": "code",
   "execution_count": 30,
   "metadata": {},
   "outputs": [
    {
     "data": {
      "text/plain": [
       "[<matplotlib.lines.Line2D at 0x7ff4ae2fcba8>]"
      ]
     },
     "execution_count": 30,
     "metadata": {},
     "output_type": "execute_result"
    },
    {
     "data": {
      "image/png": "[encoded data removed]",
      "text/plain": [
       "<Figure size 432x288 with 1 Axes>"
      ]
     },
     "metadata": {},
     "output_type": "display_data"
    }
   ],
   "source": [
    "plt.plot(mod3.history['acc'])\n",
    "plt.plot(mod3.history['val_acc'])"
   ]
  },
  {
   "cell_type": "code",
   "execution_count": 31,
   "metadata": {},
   "outputs": [
    {
     "name": "stdout",
     "output_type": "stream",
     "text": [
      "Epoch 1/60\n",
      "64/64 [==============================] - 99s 2s/step - loss: 1.5569 - acc: 0.4662 - val_loss: 1.5662 - val_acc: 0.4839\n",
      "Epoch 2/60\n",
      "64/64 [==============================] - 92s 1s/step - loss: 1.5459 - acc: 0.4731 - val_loss: 1.5753 - val_acc: 0.4761\n",
      "Epoch 3/60\n",
      "64/64 [==============================] - 95s 1s/step - loss: 1.5153 - acc: 0.4791 - val_loss: 1.5475 - val_acc: 0.4855\n",
      "Epoch 4/60\n",
      "64/64 [==============================] - 93s 1s/step - loss: 1.5180 - acc: 0.4736 - val_loss: 1.5569 - val_acc: 0.4862\n",
      "Epoch 5/60\n",
      "64/64 [==============================] - 97s 2s/step - loss: 1.5076 - acc: 0.4851 - val_loss: 1.5313 - val_acc: 0.4757\n",
      "Epoch 6/60\n",
      "64/64 [==============================] - 92s 1s/step - loss: 1.4997 - acc: 0.4893 - val_loss: 1.5495 - val_acc: 0.4838\n",
      "Epoch 7/60\n",
      "64/64 [==============================] - 102s 2s/step - loss: 1.5260 - acc: 0.4790 - val_loss: 1.5409 - val_acc: 0.5013\n",
      "Epoch 8/60\n",
      "64/64 [==============================] - 94s 1s/step - loss: 1.4916 - acc: 0.4896 - val_loss: 1.5852 - val_acc: 0.4662\n",
      "Epoch 9/60\n",
      "64/64 [==============================] - 94s 1s/step - loss: 1.4957 - acc: 0.4847 - val_loss: 1.5352 - val_acc: 0.4884\n",
      "Epoch 10/60\n",
      "64/64 [==============================] - 94s 1s/step - loss: 1.5004 - acc: 0.4756 - val_loss: 1.5418 - val_acc: 0.4779\n",
      "Epoch 11/60\n",
      "64/64 [==============================] - 99s 2s/step - loss: 1.4804 - acc: 0.4922 - val_loss: 1.5266 - val_acc: 0.4814\n",
      "Epoch 12/60\n",
      "64/64 [==============================] - 91s 1s/step - loss: 1.4943 - acc: 0.4867 - val_loss: 1.4982 - val_acc: 0.4796\n",
      "Epoch 13/60\n",
      "64/64 [==============================] - 94s 1s/step - loss: 1.4782 - acc: 0.4946 - val_loss: 1.4930 - val_acc: 0.4995\n",
      "Epoch 14/60\n",
      "64/64 [==============================] - 94s 1s/step - loss: 1.4767 - acc: 0.5001 - val_loss: 1.4602 - val_acc: 0.4967\n",
      "Epoch 15/60\n",
      "64/64 [==============================] - 93s 1s/step - loss: 1.4674 - acc: 0.4852 - val_loss: 1.4752 - val_acc: 0.5028\n",
      "Epoch 16/60\n",
      "64/64 [==============================] - 94s 1s/step - loss: 1.4482 - acc: 0.5077 - val_loss: 1.5041 - val_acc: 0.4985\n",
      "Epoch 17/60\n",
      "64/64 [==============================] - 94s 1s/step - loss: 1.4421 - acc: 0.5029 - val_loss: 1.5325 - val_acc: 0.4884\n",
      "Epoch 18/60\n",
      "64/64 [==============================] - 95s 1s/step - loss: 1.4502 - acc: 0.5023 - val_loss: 1.4679 - val_acc: 0.5057\n",
      "Epoch 19/60\n",
      "64/64 [==============================] - 96s 2s/step - loss: 1.4487 - acc: 0.5016 - val_loss: 1.4780 - val_acc: 0.4974\n",
      "Epoch 20/60\n",
      "64/64 [==============================] - 94s 1s/step - loss: 1.4345 - acc: 0.5066 - val_loss: 1.4579 - val_acc: 0.5161\n",
      "Epoch 21/60\n",
      "64/64 [==============================] - 99s 2s/step - loss: 1.4385 - acc: 0.4980 - val_loss: 1.4811 - val_acc: 0.5176\n",
      "Epoch 22/60\n",
      "64/64 [==============================] - 95s 1s/step - loss: 1.4311 - acc: 0.5067 - val_loss: 1.4765 - val_acc: 0.4828\n",
      "Epoch 23/60\n",
      "64/64 [==============================] - 94s 1s/step - loss: 1.4260 - acc: 0.5153 - val_loss: 1.4942 - val_acc: 0.4969\n",
      "Epoch 24/60\n",
      "64/64 [==============================] - 93s 1s/step - loss: 1.4204 - acc: 0.5145 - val_loss: 1.4486 - val_acc: 0.5072\n",
      "Epoch 25/60\n",
      "64/64 [==============================] - 95s 1s/step - loss: 1.4207 - acc: 0.5201 - val_loss: 1.4445 - val_acc: 0.5115\n",
      "Epoch 26/60\n",
      "64/64 [==============================] - 94s 1s/step - loss: 1.4301 - acc: 0.5072 - val_loss: 1.4499 - val_acc: 0.4993\n",
      "Epoch 27/60\n",
      "64/64 [==============================] - 94s 1s/step - loss: 1.4192 - acc: 0.5055 - val_loss: 1.4687 - val_acc: 0.5022\n",
      "Epoch 28/60\n",
      "64/64 [==============================] - 97s 2s/step - loss: 1.4193 - acc: 0.5121 - val_loss: 1.4559 - val_acc: 0.5101\n",
      "Epoch 29/60\n",
      "64/64 [==============================] - 91s 1s/step - loss: 1.3948 - acc: 0.5212 - val_loss: 1.4181 - val_acc: 0.5198\n",
      "Epoch 30/60\n",
      "64/64 [==============================] - 93s 1s/step - loss: 1.3969 - acc: 0.5195 - val_loss: 1.4339 - val_acc: 0.5262\n",
      "Epoch 31/60\n",
      "64/64 [==============================] - 95s 1s/step - loss: 1.3983 - acc: 0.5116 - val_loss: 1.4463 - val_acc: 0.5253\n",
      "Epoch 32/60\n",
      "64/64 [==============================] - 93s 1s/step - loss: 1.3930 - acc: 0.5203 - val_loss: 1.4436 - val_acc: 0.5192\n",
      "Epoch 33/60\n",
      "64/64 [==============================] - 93s 1s/step - loss: 1.3749 - acc: 0.5288 - val_loss: 1.4450 - val_acc: 0.5132\n",
      "Epoch 34/60\n",
      "64/64 [==============================] - 93s 1s/step - loss: 1.3938 - acc: 0.5282 - val_loss: 1.4398 - val_acc: 0.5094\n",
      "Epoch 35/60\n",
      "64/64 [==============================] - 97s 2s/step - loss: 1.3923 - acc: 0.5214 - val_loss: 1.4402 - val_acc: 0.5160\n",
      "Epoch 36/60\n",
      "64/64 [==============================] - 94s 1s/step - loss: 1.3946 - acc: 0.5305 - val_loss: 1.4244 - val_acc: 0.5154\n",
      "Epoch 37/60\n",
      "64/64 [==============================] - 93s 1s/step - loss: 1.3922 - acc: 0.5208 - val_loss: 1.4204 - val_acc: 0.5337\n",
      "Epoch 38/60\n",
      "64/64 [==============================] - 95s 1s/step - loss: 1.3848 - acc: 0.5267 - val_loss: 1.4298 - val_acc: 0.5074\n",
      "Epoch 39/60\n",
      "64/64 [==============================] - 92s 1s/step - loss: 1.3694 - acc: 0.5258 - val_loss: 1.4247 - val_acc: 0.5217\n",
      "Epoch 40/60\n",
      "64/64 [==============================] - 98s 2s/step - loss: 1.3311 - acc: 0.5433 - val_loss: 1.4273 - val_acc: 0.5188\n",
      "Epoch 41/60\n",
      "64/64 [==============================] - 100s 2s/step - loss: 1.3554 - acc: 0.5309 - val_loss: 1.4254 - val_acc: 0.5172\n",
      "Epoch 42/60\n",
      "64/64 [==============================] - 100s 2s/step - loss: 1.3423 - acc: 0.5374 - val_loss: 1.4129 - val_acc: 0.5321\n",
      "Epoch 43/60\n",
      "64/64 [==============================] - 93s 1s/step - loss: 1.3572 - acc: 0.5339 - val_loss: 1.4412 - val_acc: 0.5197\n",
      "Epoch 44/60\n",
      "64/64 [==============================] - 92s 1s/step - loss: 1.3594 - acc: 0.5316 - val_loss: 1.4065 - val_acc: 0.5265\n",
      "Epoch 45/60\n",
      "64/64 [==============================] - 97s 2s/step - loss: 1.3689 - acc: 0.5242 - val_loss: 1.4401 - val_acc: 0.5171\n",
      "Epoch 46/60\n",
      "64/64 [==============================] - 92s 1s/step - loss: 1.3482 - acc: 0.5321 - val_loss: 1.4059 - val_acc: 0.5293\n",
      "Epoch 47/60\n",
      "64/64 [==============================] - 93s 1s/step - loss: 1.3442 - acc: 0.5391 - val_loss: 1.4119 - val_acc: 0.5312\n",
      "Epoch 48/60\n",
      "64/64 [==============================] - 95s 1s/step - loss: 1.3427 - acc: 0.5382 - val_loss: 1.3946 - val_acc: 0.5292\n",
      "Epoch 49/60\n",
      "64/64 [==============================] - 96s 1s/step - loss: 1.3587 - acc: 0.5322 - val_loss: 1.3968 - val_acc: 0.5161\n",
      "Epoch 50/60\n",
      "64/64 [==============================] - 98s 2s/step - loss: 1.3366 - acc: 0.5400 - val_loss: 1.3897 - val_acc: 0.5281\n",
      "Epoch 51/60\n",
      "64/64 [==============================] - 94s 1s/step - loss: 1.3380 - acc: 0.5349 - val_loss: 1.4039 - val_acc: 0.5271\n",
      "Epoch 52/60\n",
      "64/64 [==============================] - 92s 1s/step - loss: 1.3301 - acc: 0.5430 - val_loss: 1.3898 - val_acc: 0.5326\n",
      "Epoch 53/60\n",
      "64/64 [==============================] - 93s 1s/step - loss: 1.3338 - acc: 0.5443 - val_loss: 1.3932 - val_acc: 0.5293\n",
      "Epoch 54/60\n",
      "64/64 [==============================] - 95s 1s/step - loss: 1.3369 - acc: 0.5402 - val_loss: 1.3808 - val_acc: 0.5320\n",
      "Epoch 55/60\n",
      "64/64 [==============================] - 96s 1s/step - loss: 1.2993 - acc: 0.5480 - val_loss: 1.3984 - val_acc: 0.5309\n",
      "Epoch 56/60\n",
      "64/64 [==============================] - 99s 2s/step - loss: 1.3252 - acc: 0.5325 - val_loss: 1.3790 - val_acc: 0.5439\n",
      "Epoch 57/60\n",
      "64/64 [==============================] - 91s 1s/step - loss: 1.3116 - acc: 0.5444 - val_loss: 1.3806 - val_acc: 0.5428\n",
      "Epoch 58/60\n",
      "64/64 [==============================] - 93s 1s/step - loss: 1.3257 - acc: 0.5481 - val_loss: 1.3731 - val_acc: 0.5438\n",
      "Epoch 59/60\n",
      "64/64 [==============================] - 96s 1s/step - loss: 1.3106 - acc: 0.5446 - val_loss: 1.3850 - val_acc: 0.5365\n",
      "Epoch 60/60\n",
      "64/64 [==============================] - 93s 1s/step - loss: 1.3182 - acc: 0.5425 - val_loss: 1.3671 - val_acc: 0.5371\n"
     ]
    }
   ],
   "source": [
    "mod4 = model_fast_lr.fit_generator(generator=training_generator, steps_per_epoch=64,\n",
    "                    validation_data=validation_generator, validation_steps=64,\n",
    "                    use_multiprocessing=True,\n",
    "                    workers=2, epochs=60,\n",
    "                    verbose=1)"
   ]
  },
  {
   "cell_type": "code",
   "execution_count": 32,
   "metadata": {},
   "outputs": [],
   "source": [
    "model_fast_lr.save_weights('../../data/weights/model_10_class_120_fast_epochs.hdf5')"
   ]
  },
  {
   "cell_type": "code",
   "execution_count": 33,
   "metadata": {},
   "outputs": [
    {
     "data": {
      "text/plain": [
       "[<matplotlib.lines.Line2D at 0x7ff4adea08d0>]"
      ]
     },
     "execution_count": 33,
     "metadata": {},
     "output_type": "execute_result"
    },
    {
     "data": {
      "image/png": "[encoded data removed]",
      "text/plain": [
       "<Figure size 432x288 with 1 Axes>"
      ]
     },
     "metadata": {},
     "output_type": "display_data"
    }
   ],
   "source": [
    "plt.plot(mod4.history['acc'])\n",
    "plt.plot(mod4.history['val_acc'])"
   ]
  },
  {
   "cell_type": "code",
   "execution_count": 34,
   "metadata": {},
   "outputs": [
    {
     "name": "stdout",
     "output_type": "stream",
     "text": [
      "Epoch 1/30\n",
      "64/64 [==============================] - 99s 2s/step - loss: 1.2988 - acc: 0.5524 - val_loss: 1.3771 - val_acc: 0.5387\n",
      "Epoch 2/30\n",
      "64/64 [==============================] - 99s 2s/step - loss: 1.2827 - acc: 0.5544 - val_loss: 1.3781 - val_acc: 0.5371\n",
      "Epoch 3/30\n",
      "64/64 [==============================] - 96s 1s/step - loss: 1.3194 - acc: 0.5482 - val_loss: 1.3851 - val_acc: 0.5444\n",
      "Epoch 4/30\n",
      "64/64 [==============================] - 95s 1s/step - loss: 1.2889 - acc: 0.5544 - val_loss: 1.3809 - val_acc: 0.5402\n",
      "Epoch 5/30\n",
      "64/64 [==============================] - 96s 2s/step - loss: 1.2899 - acc: 0.5485 - val_loss: 1.3635 - val_acc: 0.5406\n",
      "Epoch 6/30\n",
      "64/64 [==============================] - 101s 2s/step - loss: 1.3091 - acc: 0.5433 - val_loss: 1.3719 - val_acc: 0.5425\n",
      "Epoch 7/30\n",
      "64/64 [==============================] - 96s 2s/step - loss: 1.2899 - acc: 0.5515 - val_loss: 1.3429 - val_acc: 0.5516\n",
      "Epoch 8/30\n",
      "64/64 [==============================] - 94s 1s/step - loss: 1.3048 - acc: 0.5544 - val_loss: 1.3813 - val_acc: 0.5248\n",
      "Epoch 9/30\n",
      "64/64 [==============================] - 97s 2s/step - loss: 1.2794 - acc: 0.5537 - val_loss: 1.4045 - val_acc: 0.5371\n",
      "Epoch 10/30\n",
      "64/64 [==============================] - 92s 1s/step - loss: 1.2930 - acc: 0.5503 - val_loss: 1.3687 - val_acc: 0.5396\n",
      "Epoch 11/30\n",
      "64/64 [==============================] - 93s 1s/step - loss: 1.2899 - acc: 0.5613 - val_loss: 1.3751 - val_acc: 0.5265\n",
      "Epoch 12/30\n",
      "64/64 [==============================] - 93s 1s/step - loss: 1.2780 - acc: 0.5520 - val_loss: 1.4052 - val_acc: 0.5370\n",
      "Epoch 13/30\n",
      "64/64 [==============================] - 94s 1s/step - loss: 1.2843 - acc: 0.5531 - val_loss: 1.3521 - val_acc: 0.5430\n",
      "Epoch 14/30\n",
      "64/64 [==============================] - 96s 2s/step - loss: 1.2756 - acc: 0.5631 - val_loss: 1.3831 - val_acc: 0.5400\n",
      "Epoch 15/30\n",
      "64/64 [==============================] - 91s 1s/step - loss: 1.2776 - acc: 0.5588 - val_loss: 1.3590 - val_acc: 0.5468\n",
      "Epoch 16/30\n",
      "64/64 [==============================] - 94s 1s/step - loss: 1.2756 - acc: 0.5582 - val_loss: 1.3746 - val_acc: 0.5405\n",
      "Epoch 17/30\n",
      "64/64 [==============================] - 92s 1s/step - loss: 1.2602 - acc: 0.5629 - val_loss: 1.3565 - val_acc: 0.5410\n",
      "Epoch 18/30\n",
      "64/64 [==============================] - 91s 1s/step - loss: 1.2500 - acc: 0.5604 - val_loss: 1.3589 - val_acc: 0.5475\n",
      "Epoch 19/30\n",
      "64/64 [==============================] - 95s 1s/step - loss: 1.2568 - acc: 0.5703 - val_loss: 1.3715 - val_acc: 0.5315\n",
      "Epoch 20/30\n",
      "64/64 [==============================] - 94s 1s/step - loss: 1.2632 - acc: 0.5525 - val_loss: 1.3480 - val_acc: 0.5552\n",
      "Epoch 21/30\n",
      "64/64 [==============================] - 96s 2s/step - loss: 1.2467 - acc: 0.5665 - val_loss: 1.3294 - val_acc: 0.5516\n",
      "Epoch 22/30\n",
      "64/64 [==============================] - 93s 1s/step - loss: 1.2625 - acc: 0.5619 - val_loss: 1.3353 - val_acc: 0.5425\n",
      "Epoch 23/30\n",
      "64/64 [==============================] - 95s 1s/step - loss: 1.2677 - acc: 0.5676 - val_loss: 1.3578 - val_acc: 0.5472\n",
      "Epoch 24/30\n",
      "64/64 [==============================] - 96s 1s/step - loss: 1.2659 - acc: 0.5615 - val_loss: 1.3767 - val_acc: 0.5411\n",
      "Epoch 25/30\n",
      "64/64 [==============================] - 95s 1s/step - loss: 1.2592 - acc: 0.5583 - val_loss: 1.3267 - val_acc: 0.5420\n",
      "Epoch 26/30\n",
      "64/64 [==============================] - 96s 1s/step - loss: 1.2651 - acc: 0.5631 - val_loss: 1.3538 - val_acc: 0.5460\n",
      "Epoch 27/30\n",
      "64/64 [==============================] - 94s 1s/step - loss: 1.2717 - acc: 0.5648 - val_loss: 1.3249 - val_acc: 0.5459\n",
      "Epoch 28/30\n",
      "64/64 [==============================] - 97s 2s/step - loss: 1.2478 - acc: 0.5605 - val_loss: 1.3485 - val_acc: 0.5314\n",
      "Epoch 29/30\n",
      "64/64 [==============================] - 93s 1s/step - loss: 1.2469 - acc: 0.5624 - val_loss: 1.3499 - val_acc: 0.5454\n",
      "Epoch 30/30\n",
      "64/64 [==============================] - 92s 1s/step - loss: 1.2542 - acc: 0.5679 - val_loss: 1.3088 - val_acc: 0.5538\n"
     ]
    }
   ],
   "source": [
    "mod4 = model_fast_lr.fit_generator(generator=training_generator, steps_per_epoch=64,\n",
    "                    validation_data=validation_generator, validation_steps=64,\n",
    "                    use_multiprocessing=True,\n",
    "                    workers=2, epochs=30,\n",
    "                    verbose=1)"
   ]
  },
  {
   "cell_type": "code",
   "execution_count": 35,
   "metadata": {},
   "outputs": [],
   "source": [
    "model_fast_lr.save_weights('../../data/weights/model_10_class_150_fast_epochs.hdf5')"
   ]
  },
  {
   "cell_type": "code",
   "execution_count": 37,
   "metadata": {},
   "outputs": [
    {
     "data": {
      "text/plain": [
       "[<matplotlib.lines.Line2D at 0x7ff4aeb3f8d0>]"
      ]
     },
     "execution_count": 37,
     "metadata": {},
     "output_type": "execute_result"
    },
    {
     "data": {
      "image/png": "[encoded data removed]",
      "text/plain": [
       "<Figure size 432x288 with 1 Axes>"
      ]
     },
     "metadata": {},
     "output_type": "display_data"
    }
   ],
   "source": [
    "plt.plot(mod4.history['acc'])\n",
    "plt.plot(mod4.history['val_acc'])"
   ]
  },
  {
   "cell_type": "code",
   "execution_count": 7,
   "metadata": {},
   "outputs": [],
   "source": [
    "model_medium_lr.load_weights('../../data/weights/model_10_class_150_epochs.hdf5')"
   ]
  },
  {
   "cell_type": "code",
   "execution_count": 8,
   "metadata": {},
   "outputs": [
    {
     "name": "stdout",
     "output_type": "stream",
     "text": [
      "Epoch 1/60\n",
      "64/64 [==============================] - 177s 3s/step - loss: 1.2572 - acc: 0.5693 - val_loss: 1.3387 - val_acc: 0.5579\n",
      "Epoch 2/60\n",
      "64/64 [==============================] - 111s 2s/step - loss: 1.2252 - acc: 0.5730 - val_loss: 1.3225 - val_acc: 0.5618\n",
      "Epoch 3/60\n",
      "64/64 [==============================] - 114s 2s/step - loss: 1.2333 - acc: 0.5767 - val_loss: 1.3302 - val_acc: 0.5575\n",
      "Epoch 4/60\n",
      "64/64 [==============================] - 111s 2s/step - loss: 1.2390 - acc: 0.5718 - val_loss: 1.3346 - val_acc: 0.5488\n",
      "Epoch 5/60\n",
      "64/64 [==============================] - 109s 2s/step - loss: 1.2206 - acc: 0.5787 - val_loss: 1.3411 - val_acc: 0.5502\n",
      "Epoch 6/60\n",
      "64/64 [==============================] - 110s 2s/step - loss: 1.2309 - acc: 0.5742 - val_loss: 1.3249 - val_acc: 0.5553\n",
      "Epoch 7/60\n",
      "64/64 [==============================] - 111s 2s/step - loss: 1.2473 - acc: 0.5665 - val_loss: 1.3214 - val_acc: 0.5586\n",
      "Epoch 8/60\n",
      "64/64 [==============================] - 108s 2s/step - loss: 1.2311 - acc: 0.5721 - val_loss: 1.3260 - val_acc: 0.5463\n",
      "Epoch 9/60\n",
      "64/64 [==============================] - 105s 2s/step - loss: 1.2339 - acc: 0.5709 - val_loss: 1.3382 - val_acc: 0.5444\n",
      "Epoch 10/60\n",
      "64/64 [==============================] - 107s 2s/step - loss: 1.2401 - acc: 0.5702 - val_loss: 1.3083 - val_acc: 0.5474\n",
      "Epoch 11/60\n",
      "64/64 [==============================] - 109s 2s/step - loss: 1.2152 - acc: 0.5763 - val_loss: 1.3568 - val_acc: 0.5499\n",
      "Epoch 12/60\n",
      "64/64 [==============================] - 106s 2s/step - loss: 1.2198 - acc: 0.5811 - val_loss: 1.3267 - val_acc: 0.5601\n",
      "Epoch 13/60\n",
      "64/64 [==============================] - 104s 2s/step - loss: 1.2317 - acc: 0.5741 - val_loss: 1.2938 - val_acc: 0.5634\n",
      "Epoch 14/60\n",
      "64/64 [==============================] - 108s 2s/step - loss: 1.2061 - acc: 0.5828 - val_loss: 1.3518 - val_acc: 0.5623\n",
      "Epoch 15/60\n",
      "64/64 [==============================] - 105s 2s/step - loss: 1.2256 - acc: 0.5811 - val_loss: 1.3342 - val_acc: 0.5570\n",
      "Epoch 16/60\n",
      "64/64 [==============================] - 107s 2s/step - loss: 1.2109 - acc: 0.5878 - val_loss: 1.3286 - val_acc: 0.5643\n",
      "Epoch 17/60\n",
      "64/64 [==============================] - 107s 2s/step - loss: 1.1991 - acc: 0.5853 - val_loss: 1.3275 - val_acc: 0.5587\n",
      "Epoch 18/60\n",
      "64/64 [==============================] - 104s 2s/step - loss: 1.2055 - acc: 0.5769 - val_loss: 1.3354 - val_acc: 0.5526\n",
      "Epoch 19/60\n",
      "64/64 [==============================] - 105s 2s/step - loss: 1.2047 - acc: 0.5858 - val_loss: 1.3410 - val_acc: 0.5356\n",
      "Epoch 20/60\n",
      "64/64 [==============================] - 104s 2s/step - loss: 1.2136 - acc: 0.5789 - val_loss: 1.3077 - val_acc: 0.5646\n",
      "Epoch 21/60\n",
      "64/64 [==============================] - 108s 2s/step - loss: 1.2109 - acc: 0.5702 - val_loss: 1.3205 - val_acc: 0.5651\n",
      "Epoch 22/60\n",
      "64/64 [==============================] - 101s 2s/step - loss: 1.1910 - acc: 0.5897 - val_loss: 1.3307 - val_acc: 0.5593\n",
      "Epoch 23/60\n",
      "64/64 [==============================] - 104s 2s/step - loss: 1.2089 - acc: 0.5842 - val_loss: 1.3499 - val_acc: 0.5515\n",
      "Epoch 24/60\n",
      "64/64 [==============================] - 108s 2s/step - loss: 1.1973 - acc: 0.5825 - val_loss: 1.3399 - val_acc: 0.5490\n",
      "Epoch 25/60\n",
      "64/64 [==============================] - 106s 2s/step - loss: 1.2088 - acc: 0.5825 - val_loss: 1.2877 - val_acc: 0.5657\n",
      "Epoch 26/60\n",
      "64/64 [==============================] - 102s 2s/step - loss: 1.2159 - acc: 0.5873 - val_loss: 1.3276 - val_acc: 0.5576\n",
      "Epoch 27/60\n",
      "64/64 [==============================] - 107s 2s/step - loss: 1.2098 - acc: 0.5791 - val_loss: 1.3087 - val_acc: 0.5637\n",
      "Epoch 28/60\n",
      "64/64 [==============================] - 106s 2s/step - loss: 1.2152 - acc: 0.5801 - val_loss: 1.3071 - val_acc: 0.5533\n",
      "Epoch 29/60\n",
      "64/64 [==============================] - 105s 2s/step - loss: 1.2068 - acc: 0.5854 - val_loss: 1.2968 - val_acc: 0.5588\n",
      "Epoch 30/60\n",
      "64/64 [==============================] - 104s 2s/step - loss: 1.1988 - acc: 0.5803 - val_loss: 1.3386 - val_acc: 0.5587\n",
      "Epoch 31/60\n",
      "64/64 [==============================] - 106s 2s/step - loss: 1.1816 - acc: 0.5878 - val_loss: 1.3089 - val_acc: 0.5660\n",
      "Epoch 32/60\n",
      "64/64 [==============================] - 106s 2s/step - loss: 1.1844 - acc: 0.5905 - val_loss: 1.2948 - val_acc: 0.5681\n",
      "Epoch 33/60\n",
      "64/64 [==============================] - 102s 2s/step - loss: 1.1954 - acc: 0.5862 - val_loss: 1.3491 - val_acc: 0.5547\n",
      "Epoch 34/60\n",
      "64/64 [==============================] - 107s 2s/step - loss: 1.1858 - acc: 0.5847 - val_loss: 1.2871 - val_acc: 0.5663\n",
      "Epoch 35/60\n",
      "64/64 [==============================] - 110s 2s/step - loss: 1.1544 - acc: 0.5990 - val_loss: 1.3033 - val_acc: 0.5641\n",
      "Epoch 36/60\n",
      "64/64 [==============================] - 104s 2s/step - loss: 1.1891 - acc: 0.5901 - val_loss: 1.2871 - val_acc: 0.5684\n",
      "Epoch 37/60\n",
      "64/64 [==============================] - 101s 2s/step - loss: 1.1893 - acc: 0.5858 - val_loss: 1.2809 - val_acc: 0.5641\n",
      "Epoch 38/60\n",
      "64/64 [==============================] - 105s 2s/step - loss: 1.1851 - acc: 0.5859 - val_loss: 1.2954 - val_acc: 0.5681\n",
      "Epoch 39/60\n",
      "64/64 [==============================] - 105s 2s/step - loss: 1.1920 - acc: 0.5864 - val_loss: 1.3090 - val_acc: 0.5607\n",
      "Epoch 40/60\n",
      "64/64 [==============================] - 105s 2s/step - loss: 1.2043 - acc: 0.5905 - val_loss: 1.2950 - val_acc: 0.5739\n",
      "Epoch 41/60\n",
      "64/64 [==============================] - 107s 2s/step - loss: 1.1834 - acc: 0.5872 - val_loss: 1.2888 - val_acc: 0.5663\n",
      "Epoch 42/60\n",
      "64/64 [==============================] - 104s 2s/step - loss: 1.1604 - acc: 0.5975 - val_loss: 1.2957 - val_acc: 0.5604\n",
      "Epoch 43/60\n",
      "64/64 [==============================] - 100s 2s/step - loss: 1.1685 - acc: 0.5956 - val_loss: 1.3043 - val_acc: 0.5753\n",
      "Epoch 44/60\n",
      "64/64 [==============================] - 104s 2s/step - loss: 1.1565 - acc: 0.5990 - val_loss: 1.3133 - val_acc: 0.5693\n",
      "Epoch 45/60\n",
      "64/64 [==============================] - 104s 2s/step - loss: 1.1800 - acc: 0.5946 - val_loss: 1.2913 - val_acc: 0.5693\n",
      "Epoch 46/60\n",
      "64/64 [==============================] - 102s 2s/step - loss: 1.1568 - acc: 0.5927 - val_loss: 1.2859 - val_acc: 0.5631\n",
      "Epoch 47/60\n",
      "16/64 [======>.......................] - ETA: 45s - loss: 1.1530 - acc: 0.5991"
     ]
    },
    {
     "name": "stderr",
     "output_type": "stream",
     "text": [
      "Process ForkPoolWorker-2869:\n",
      "Process ForkPoolWorker-2870:\n",
      "Traceback (most recent call last):\n",
      "  File \"/home/ubuntu/anaconda3/envs/tensorflow_p36/lib/python3.6/multiprocessing/process.py\", line 258, in _bootstrap\n",
      "    self.run()\n",
      "  File \"/home/ubuntu/anaconda3/envs/tensorflow_p36/lib/python3.6/multiprocessing/process.py\", line 93, in run\n",
      "    self._target(*self._args, **self._kwargs)\n",
      "Traceback (most recent call last):\n",
      "  File \"/home/ubuntu/anaconda3/envs/tensorflow_p36/lib/python3.6/multiprocessing/pool.py\", line 108, in worker\n",
      "    task = get()\n",
      "  File \"/home/ubuntu/anaconda3/envs/tensorflow_p36/lib/python3.6/multiprocessing/process.py\", line 258, in _bootstrap\n",
      "    self.run()\n",
      "  File \"/home/ubuntu/anaconda3/envs/tensorflow_p36/lib/python3.6/multiprocessing/process.py\", line 93, in run\n",
      "    self._target(*self._args, **self._kwargs)\n",
      "  File \"/home/ubuntu/anaconda3/envs/tensorflow_p36/lib/python3.6/multiprocessing/queues.py\", line 335, in get\n",
      "    res = self._reader.recv_bytes()\n",
      "  File \"/home/ubuntu/anaconda3/envs/tensorflow_p36/lib/python3.6/multiprocessing/pool.py\", line 119, in worker\n",
      "    result = (True, func(*args, **kwds))\n",
      "  File \"/home/ubuntu/anaconda3/envs/tensorflow_p36/lib/python3.6/multiprocessing/connection.py\", line 216, in recv_bytes\n",
      "    buf = self._recv_bytes(maxlength)\n",
      "  File \"/home/ubuntu/anaconda3/envs/tensorflow_p36/lib/python3.6/site-packages/keras/utils/data_utils.py\", line 401, in get_index\n",
      "    return _SHARED_SEQUENCES[uid][i]\n",
      "KeyboardInterrupt\n",
      "  File \"/home/ubuntu/anaconda3/envs/tensorflow_p36/lib/python3.6/multiprocessing/connection.py\", line 407, in _recv_bytes\n",
      "    buf = self._recv(4)\n",
      "  File \"/data/su_buildup/two_stream_part2/utils/optical_flow_data_gen.py\", line 58, in __getitem__\n",
      "    X, y, dirs = self.__data_generation(list_IDs_temp)\n",
      "  File \"/home/ubuntu/anaconda3/envs/tensorflow_p36/lib/python3.6/multiprocessing/connection.py\", line 379, in _recv\n",
      "    chunk = read(handle, remaining)\n",
      "  File \"/data/su_buildup/two_stream_part2/utils/optical_flow_data_gen.py\", line 88, in __data_generation\n",
      "    X[i,:,:,:] = self.data_gen.random_transform(X[i,:,:,:])\n",
      "KeyboardInterrupt\n",
      "  File \"/home/ubuntu/anaconda3/envs/tensorflow_p36/lib/python3.6/site-packages/keras/preprocessing/image.py\", line 696, in random_transform\n",
      "    fill_mode=self.fill_mode, cval=self.cval)\n",
      "  File \"/home/ubuntu/anaconda3/envs/tensorflow_p36/lib/python3.6/site-packages/keras/preprocessing/image.py\", line 239, in apply_transform\n",
      "    cval=cval) for x_channel in x]\n",
      "  File \"/home/ubuntu/anaconda3/envs/tensorflow_p36/lib/python3.6/site-packages/keras/preprocessing/image.py\", line 239, in <listcomp>\n",
      "    cval=cval) for x_channel in x]\n",
      "  File \"/home/ubuntu/anaconda3/envs/tensorflow_p36/lib/python3.6/site-packages/scipy/ndimage/interpolation.py\", line 486, in affine_transform\n",
      "    output, order, mode, cval, None, None)\n"
     ]
    },
    {
     "ename": "KeyboardInterrupt",
     "evalue": "",
     "output_type": "error",
     "traceback": [
      "\u001b[0;31m---------------------------------------------------------------------------\u001b[0m",
      "\u001b[0;31mKeyboardInterrupt\u001b[0m                         Traceback (most recent call last)",
      "\u001b[0;32m<ipython-input-8-6367a0c7034f>\u001b[0m in \u001b[0;36m<module>\u001b[0;34m()\u001b[0m\n\u001b[1;32m      3\u001b[0m                     \u001b[0muse_multiprocessing\u001b[0m\u001b[0;34m=\u001b[0m\u001b[0;32mTrue\u001b[0m\u001b[0;34m,\u001b[0m\u001b[0;34m\u001b[0m\u001b[0m\n\u001b[1;32m      4\u001b[0m                     \u001b[0mworkers\u001b[0m\u001b[0;34m=\u001b[0m\u001b[0;36m2\u001b[0m\u001b[0;34m,\u001b[0m \u001b[0mepochs\u001b[0m\u001b[0;34m=\u001b[0m\u001b[0;36m60\u001b[0m\u001b[0;34m,\u001b[0m\u001b[0;34m\u001b[0m\u001b[0m\n\u001b[0;32m----> 5\u001b[0;31m                     verbose=1)\n\u001b[0m",
      "\u001b[0;32m~/anaconda3/envs/tensorflow_p36/lib/python3.6/site-packages/keras/legacy/interfaces.py\u001b[0m in \u001b[0;36mwrapper\u001b[0;34m(*args, **kwargs)\u001b[0m\n\u001b[1;32m     89\u001b[0m                 warnings.warn('Update your `' + object_name +\n\u001b[1;32m     90\u001b[0m                               '` call to the Keras 2 API: ' + signature, stacklevel=2)\n\u001b[0;32m---> 91\u001b[0;31m             \u001b[0;32mreturn\u001b[0m \u001b[0mfunc\u001b[0m\u001b[0;34m(\u001b[0m\u001b[0;34m*\u001b[0m\u001b[0margs\u001b[0m\u001b[0;34m,\u001b[0m \u001b[0;34m**\u001b[0m\u001b[0mkwargs\u001b[0m\u001b[0;34m)\u001b[0m\u001b[0;34m\u001b[0m\u001b[0m\n\u001b[0m\u001b[1;32m     92\u001b[0m         \u001b[0mwrapper\u001b[0m\u001b[0;34m.\u001b[0m\u001b[0m_original_function\u001b[0m \u001b[0;34m=\u001b[0m \u001b[0mfunc\u001b[0m\u001b[0;34m\u001b[0m\u001b[0m\n\u001b[1;32m     93\u001b[0m         \u001b[0;32mreturn\u001b[0m \u001b[0mwrapper\u001b[0m\u001b[0;34m\u001b[0m\u001b[0m\n",
      "\u001b[0;32m~/anaconda3/envs/tensorflow_p36/lib/python3.6/site-packages/keras/models.py\u001b[0m in \u001b[0;36mfit_generator\u001b[0;34m(self, generator, steps_per_epoch, epochs, verbose, callbacks, validation_data, validation_steps, class_weight, max_queue_size, workers, use_multiprocessing, shuffle, initial_epoch)\u001b[0m\n\u001b[1;32m   1274\u001b[0m                                         \u001b[0muse_multiprocessing\u001b[0m\u001b[0;34m=\u001b[0m\u001b[0muse_multiprocessing\u001b[0m\u001b[0;34m,\u001b[0m\u001b[0;34m\u001b[0m\u001b[0m\n\u001b[1;32m   1275\u001b[0m                                         \u001b[0mshuffle\u001b[0m\u001b[0;34m=\u001b[0m\u001b[0mshuffle\u001b[0m\u001b[0;34m,\u001b[0m\u001b[0;34m\u001b[0m\u001b[0m\n\u001b[0;32m-> 1276\u001b[0;31m                                         initial_epoch=initial_epoch)\n\u001b[0m\u001b[1;32m   1277\u001b[0m \u001b[0;34m\u001b[0m\u001b[0m\n\u001b[1;32m   1278\u001b[0m     \u001b[0;34m@\u001b[0m\u001b[0minterfaces\u001b[0m\u001b[0;34m.\u001b[0m\u001b[0mlegacy_generator_methods_support\u001b[0m\u001b[0;34m\u001b[0m\u001b[0m\n",
      "\u001b[0;32m~/anaconda3/envs/tensorflow_p36/lib/python3.6/site-packages/keras/legacy/interfaces.py\u001b[0m in \u001b[0;36mwrapper\u001b[0;34m(*args, **kwargs)\u001b[0m\n\u001b[1;32m     89\u001b[0m                 warnings.warn('Update your `' + object_name +\n\u001b[1;32m     90\u001b[0m                               '` call to the Keras 2 API: ' + signature, stacklevel=2)\n\u001b[0;32m---> 91\u001b[0;31m             \u001b[0;32mreturn\u001b[0m \u001b[0mfunc\u001b[0m\u001b[0;34m(\u001b[0m\u001b[0;34m*\u001b[0m\u001b[0margs\u001b[0m\u001b[0;34m,\u001b[0m \u001b[0;34m**\u001b[0m\u001b[0mkwargs\u001b[0m\u001b[0;34m)\u001b[0m\u001b[0;34m\u001b[0m\u001b[0m\n\u001b[0m\u001b[1;32m     92\u001b[0m         \u001b[0mwrapper\u001b[0m\u001b[0;34m.\u001b[0m\u001b[0m_original_function\u001b[0m \u001b[0;34m=\u001b[0m \u001b[0mfunc\u001b[0m\u001b[0;34m\u001b[0m\u001b[0m\n\u001b[1;32m     93\u001b[0m         \u001b[0;32mreturn\u001b[0m \u001b[0mwrapper\u001b[0m\u001b[0;34m\u001b[0m\u001b[0m\n",
      "\u001b[0;32m~/anaconda3/envs/tensorflow_p36/lib/python3.6/site-packages/keras/engine/training.py\u001b[0m in \u001b[0;36mfit_generator\u001b[0;34m(self, generator, steps_per_epoch, epochs, verbose, callbacks, validation_data, validation_steps, class_weight, max_queue_size, workers, use_multiprocessing, shuffle, initial_epoch)\u001b[0m\n\u001b[1;32m   2190\u001b[0m                 \u001b[0mbatch_index\u001b[0m \u001b[0;34m=\u001b[0m \u001b[0;36m0\u001b[0m\u001b[0;34m\u001b[0m\u001b[0m\n\u001b[1;32m   2191\u001b[0m                 \u001b[0;32mwhile\u001b[0m \u001b[0msteps_done\u001b[0m \u001b[0;34m<\u001b[0m \u001b[0msteps_per_epoch\u001b[0m\u001b[0;34m:\u001b[0m\u001b[0;34m\u001b[0m\u001b[0m\n\u001b[0;32m-> 2192\u001b[0;31m                     \u001b[0mgenerator_output\u001b[0m \u001b[0;34m=\u001b[0m \u001b[0mnext\u001b[0m\u001b[0;34m(\u001b[0m\u001b[0moutput_generator\u001b[0m\u001b[0;34m)\u001b[0m\u001b[0;34m\u001b[0m\u001b[0m\n\u001b[0m\u001b[1;32m   2193\u001b[0m \u001b[0;34m\u001b[0m\u001b[0m\n\u001b[1;32m   2194\u001b[0m                     \u001b[0;32mif\u001b[0m \u001b[0;32mnot\u001b[0m \u001b[0mhasattr\u001b[0m\u001b[0;34m(\u001b[0m\u001b[0mgenerator_output\u001b[0m\u001b[0;34m,\u001b[0m \u001b[0;34m'__len__'\u001b[0m\u001b[0;34m)\u001b[0m\u001b[0;34m:\u001b[0m\u001b[0;34m\u001b[0m\u001b[0m\n",
      "\u001b[0;32m~/anaconda3/envs/tensorflow_p36/lib/python3.6/site-packages/keras/utils/data_utils.py\u001b[0m in \u001b[0;36mget\u001b[0;34m(self)\u001b[0m\n\u001b[1;32m    576\u001b[0m         \u001b[0;32mtry\u001b[0m\u001b[0;34m:\u001b[0m\u001b[0;34m\u001b[0m\u001b[0m\n\u001b[1;32m    577\u001b[0m             \u001b[0;32mwhile\u001b[0m \u001b[0mself\u001b[0m\u001b[0;34m.\u001b[0m\u001b[0mis_running\u001b[0m\u001b[0;34m(\u001b[0m\u001b[0;34m)\u001b[0m\u001b[0;34m:\u001b[0m\u001b[0;34m\u001b[0m\u001b[0m\n\u001b[0;32m--> 578\u001b[0;31m                 \u001b[0minputs\u001b[0m \u001b[0;34m=\u001b[0m \u001b[0mself\u001b[0m\u001b[0;34m.\u001b[0m\u001b[0mqueue\u001b[0m\u001b[0;34m.\u001b[0m\u001b[0mget\u001b[0m\u001b[0;34m(\u001b[0m\u001b[0mblock\u001b[0m\u001b[0;34m=\u001b[0m\u001b[0;32mTrue\u001b[0m\u001b[0;34m)\u001b[0m\u001b[0;34m.\u001b[0m\u001b[0mget\u001b[0m\u001b[0;34m(\u001b[0m\u001b[0;34m)\u001b[0m\u001b[0;34m\u001b[0m\u001b[0m\n\u001b[0m\u001b[1;32m    579\u001b[0m                 \u001b[0mself\u001b[0m\u001b[0;34m.\u001b[0m\u001b[0mqueue\u001b[0m\u001b[0;34m.\u001b[0m\u001b[0mtask_done\u001b[0m\u001b[0;34m(\u001b[0m\u001b[0;34m)\u001b[0m\u001b[0;34m\u001b[0m\u001b[0m\n\u001b[1;32m    580\u001b[0m                 \u001b[0;32mif\u001b[0m \u001b[0minputs\u001b[0m \u001b[0;32mis\u001b[0m \u001b[0;32mnot\u001b[0m \u001b[0;32mNone\u001b[0m\u001b[0;34m:\u001b[0m\u001b[0;34m\u001b[0m\u001b[0m\n",
      "\u001b[0;32m~/anaconda3/envs/tensorflow_p36/lib/python3.6/multiprocessing/pool.py\u001b[0m in \u001b[0;36mget\u001b[0;34m(self, timeout)\u001b[0m\n\u001b[1;32m    636\u001b[0m \u001b[0;34m\u001b[0m\u001b[0m\n\u001b[1;32m    637\u001b[0m     \u001b[0;32mdef\u001b[0m \u001b[0mget\u001b[0m\u001b[0;34m(\u001b[0m\u001b[0mself\u001b[0m\u001b[0;34m,\u001b[0m \u001b[0mtimeout\u001b[0m\u001b[0;34m=\u001b[0m\u001b[0;32mNone\u001b[0m\u001b[0;34m)\u001b[0m\u001b[0;34m:\u001b[0m\u001b[0;34m\u001b[0m\u001b[0m\n\u001b[0;32m--> 638\u001b[0;31m         \u001b[0mself\u001b[0m\u001b[0;34m.\u001b[0m\u001b[0mwait\u001b[0m\u001b[0;34m(\u001b[0m\u001b[0mtimeout\u001b[0m\u001b[0;34m)\u001b[0m\u001b[0;34m\u001b[0m\u001b[0m\n\u001b[0m\u001b[1;32m    639\u001b[0m         \u001b[0;32mif\u001b[0m \u001b[0;32mnot\u001b[0m \u001b[0mself\u001b[0m\u001b[0;34m.\u001b[0m\u001b[0mready\u001b[0m\u001b[0;34m(\u001b[0m\u001b[0;34m)\u001b[0m\u001b[0;34m:\u001b[0m\u001b[0;34m\u001b[0m\u001b[0m\n\u001b[1;32m    640\u001b[0m             \u001b[0;32mraise\u001b[0m \u001b[0mTimeoutError\u001b[0m\u001b[0;34m\u001b[0m\u001b[0m\n",
      "\u001b[0;32m~/anaconda3/envs/tensorflow_p36/lib/python3.6/multiprocessing/pool.py\u001b[0m in \u001b[0;36mwait\u001b[0;34m(self, timeout)\u001b[0m\n\u001b[1;32m    633\u001b[0m \u001b[0;34m\u001b[0m\u001b[0m\n\u001b[1;32m    634\u001b[0m     \u001b[0;32mdef\u001b[0m \u001b[0mwait\u001b[0m\u001b[0;34m(\u001b[0m\u001b[0mself\u001b[0m\u001b[0;34m,\u001b[0m \u001b[0mtimeout\u001b[0m\u001b[0;34m=\u001b[0m\u001b[0;32mNone\u001b[0m\u001b[0;34m)\u001b[0m\u001b[0;34m:\u001b[0m\u001b[0;34m\u001b[0m\u001b[0m\n\u001b[0;32m--> 635\u001b[0;31m         \u001b[0mself\u001b[0m\u001b[0;34m.\u001b[0m\u001b[0m_event\u001b[0m\u001b[0;34m.\u001b[0m\u001b[0mwait\u001b[0m\u001b[0;34m(\u001b[0m\u001b[0mtimeout\u001b[0m\u001b[0;34m)\u001b[0m\u001b[0;34m\u001b[0m\u001b[0m\n\u001b[0m\u001b[1;32m    636\u001b[0m \u001b[0;34m\u001b[0m\u001b[0m\n\u001b[1;32m    637\u001b[0m     \u001b[0;32mdef\u001b[0m \u001b[0mget\u001b[0m\u001b[0;34m(\u001b[0m\u001b[0mself\u001b[0m\u001b[0;34m,\u001b[0m \u001b[0mtimeout\u001b[0m\u001b[0;34m=\u001b[0m\u001b[0;32mNone\u001b[0m\u001b[0;34m)\u001b[0m\u001b[0;34m:\u001b[0m\u001b[0;34m\u001b[0m\u001b[0m\n",
      "\u001b[0;32m~/anaconda3/envs/tensorflow_p36/lib/python3.6/threading.py\u001b[0m in \u001b[0;36mwait\u001b[0;34m(self, timeout)\u001b[0m\n\u001b[1;32m    549\u001b[0m             \u001b[0msignaled\u001b[0m \u001b[0;34m=\u001b[0m \u001b[0mself\u001b[0m\u001b[0;34m.\u001b[0m\u001b[0m_flag\u001b[0m\u001b[0;34m\u001b[0m\u001b[0m\n\u001b[1;32m    550\u001b[0m             \u001b[0;32mif\u001b[0m \u001b[0;32mnot\u001b[0m \u001b[0msignaled\u001b[0m\u001b[0;34m:\u001b[0m\u001b[0;34m\u001b[0m\u001b[0m\n\u001b[0;32m--> 551\u001b[0;31m                 \u001b[0msignaled\u001b[0m \u001b[0;34m=\u001b[0m \u001b[0mself\u001b[0m\u001b[0;34m.\u001b[0m\u001b[0m_cond\u001b[0m\u001b[0;34m.\u001b[0m\u001b[0mwait\u001b[0m\u001b[0;34m(\u001b[0m\u001b[0mtimeout\u001b[0m\u001b[0;34m)\u001b[0m\u001b[0;34m\u001b[0m\u001b[0m\n\u001b[0m\u001b[1;32m    552\u001b[0m             \u001b[0;32mreturn\u001b[0m \u001b[0msignaled\u001b[0m\u001b[0;34m\u001b[0m\u001b[0m\n\u001b[1;32m    553\u001b[0m \u001b[0;34m\u001b[0m\u001b[0m\n",
      "\u001b[0;32m~/anaconda3/envs/tensorflow_p36/lib/python3.6/threading.py\u001b[0m in \u001b[0;36mwait\u001b[0;34m(self, timeout)\u001b[0m\n\u001b[1;32m    293\u001b[0m         \u001b[0;32mtry\u001b[0m\u001b[0;34m:\u001b[0m    \u001b[0;31m# restore state no matter what (e.g., KeyboardInterrupt)\u001b[0m\u001b[0;34m\u001b[0m\u001b[0m\n\u001b[1;32m    294\u001b[0m             \u001b[0;32mif\u001b[0m \u001b[0mtimeout\u001b[0m \u001b[0;32mis\u001b[0m \u001b[0;32mNone\u001b[0m\u001b[0;34m:\u001b[0m\u001b[0;34m\u001b[0m\u001b[0m\n\u001b[0;32m--> 295\u001b[0;31m                 \u001b[0mwaiter\u001b[0m\u001b[0;34m.\u001b[0m\u001b[0macquire\u001b[0m\u001b[0;34m(\u001b[0m\u001b[0;34m)\u001b[0m\u001b[0;34m\u001b[0m\u001b[0m\n\u001b[0m\u001b[1;32m    296\u001b[0m                 \u001b[0mgotit\u001b[0m \u001b[0;34m=\u001b[0m \u001b[0;32mTrue\u001b[0m\u001b[0;34m\u001b[0m\u001b[0m\n\u001b[1;32m    297\u001b[0m             \u001b[0;32melse\u001b[0m\u001b[0;34m:\u001b[0m\u001b[0;34m\u001b[0m\u001b[0m\n",
      "\u001b[0;31mKeyboardInterrupt\u001b[0m: "
     ]
    }
   ],
   "source": [
    "mod1 = model_medium_lr.fit_generator(generator=training_generator, steps_per_epoch=64,\n",
    "                    validation_data=validation_generator, validation_steps=64,\n",
    "                    use_multiprocessing=True,\n",
    "                    workers=2, epochs=60,\n",
    "                    verbose=1)"
   ]
  },
  {
   "cell_type": "code",
   "execution_count": 9,
   "metadata": {},
   "outputs": [],
   "source": [
    "model_medium_lr.save_weights('../../data/weights/model_10_class_195_interrrupted_epochs.hdf5')"
   ]
  },
  {
   "cell_type": "code",
   "execution_count": 6,
   "metadata": {},
   "outputs": [],
   "source": [
    "model_medium_lr.load_weights('../../data/weights/model_10_class_195_interrrupted_epochs.hdf5')"
   ]
  },
  {
   "cell_type": "code",
   "execution_count": 7,
   "metadata": {},
   "outputs": [
    {
     "name": "stdout",
     "output_type": "stream",
     "text": [
      "Epoch 1/60\n",
      "64/64 [==============================] - 164s 3s/step - loss: 1.1524 - acc: 0.5953 - val_loss: 1.3251 - val_acc: 0.5610\n",
      "Epoch 2/60\n",
      "64/64 [==============================] - 101s 2s/step - loss: 1.1600 - acc: 0.5923 - val_loss: 1.3199 - val_acc: 0.5570\n",
      "Epoch 3/60\n",
      "64/64 [==============================] - 102s 2s/step - loss: 1.1587 - acc: 0.5963 - val_loss: 1.2819 - val_acc: 0.5699\n",
      "Epoch 4/60\n",
      "64/64 [==============================] - 102s 2s/step - loss: 1.1657 - acc: 0.6006 - val_loss: 1.2819 - val_acc: 0.5704\n",
      "Epoch 5/60\n",
      "64/64 [==============================] - 104s 2s/step - loss: 1.1455 - acc: 0.5958 - val_loss: 1.2945 - val_acc: 0.5664\n",
      "Epoch 6/60\n",
      "64/64 [==============================] - 100s 2s/step - loss: 1.1555 - acc: 0.5952 - val_loss: 1.3110 - val_acc: 0.5649\n",
      "Epoch 7/60\n",
      "64/64 [==============================] - 101s 2s/step - loss: 1.1524 - acc: 0.5980 - val_loss: 1.3020 - val_acc: 0.5679\n",
      "Epoch 8/60\n",
      "64/64 [==============================] - 98s 2s/step - loss: 1.1515 - acc: 0.5989 - val_loss: 1.2971 - val_acc: 0.5656\n",
      "Epoch 9/60\n",
      "64/64 [==============================] - 92s 1s/step - loss: 1.1659 - acc: 0.5950 - val_loss: 1.3076 - val_acc: 0.5691\n",
      "Epoch 10/60\n",
      "64/64 [==============================] - 93s 1s/step - loss: 1.1313 - acc: 0.6041 - val_loss: 1.2923 - val_acc: 0.5619\n",
      "Epoch 11/60\n",
      "64/64 [==============================] - 96s 1s/step - loss: 1.1472 - acc: 0.6007 - val_loss: 1.2926 - val_acc: 0.5807\n",
      "Epoch 12/60\n",
      "64/64 [==============================] - 99s 2s/step - loss: 1.1604 - acc: 0.5978 - val_loss: 1.3141 - val_acc: 0.5659\n",
      "Epoch 13/60\n",
      "64/64 [==============================] - 97s 2s/step - loss: 1.1473 - acc: 0.6001 - val_loss: 1.3007 - val_acc: 0.5692\n",
      "Epoch 14/60\n",
      "64/64 [==============================] - 97s 2s/step - loss: 1.1555 - acc: 0.5955 - val_loss: 1.2751 - val_acc: 0.5743\n",
      "Epoch 15/60\n",
      "64/64 [==============================] - 93s 1s/step - loss: 1.1459 - acc: 0.5938 - val_loss: 1.2795 - val_acc: 0.5757\n",
      "Epoch 16/60\n",
      "64/64 [==============================] - 92s 1s/step - loss: 1.1364 - acc: 0.5986 - val_loss: 1.2744 - val_acc: 0.5710\n",
      "Epoch 17/60\n",
      "64/64 [==============================] - 95s 1s/step - loss: 1.1438 - acc: 0.6058 - val_loss: 1.2798 - val_acc: 0.5753\n",
      "Epoch 18/60\n",
      "64/64 [==============================] - 92s 1s/step - loss: 1.1370 - acc: 0.6052 - val_loss: 1.2603 - val_acc: 0.5791\n",
      "Epoch 19/60\n",
      "64/64 [==============================] - 93s 1s/step - loss: 1.1439 - acc: 0.6038 - val_loss: 1.2977 - val_acc: 0.5730\n",
      "Epoch 20/60\n",
      "64/64 [==============================] - 95s 1s/step - loss: 1.1265 - acc: 0.6108 - val_loss: 1.2847 - val_acc: 0.5737\n",
      "Epoch 21/60\n",
      "64/64 [==============================] - 97s 2s/step - loss: 1.1376 - acc: 0.6011 - val_loss: 1.2882 - val_acc: 0.5735\n",
      "Epoch 22/60\n",
      "64/64 [==============================] - 92s 1s/step - loss: 1.1353 - acc: 0.6042 - val_loss: 1.3283 - val_acc: 0.5729\n",
      "Epoch 23/60\n",
      "64/64 [==============================] - 92s 1s/step - loss: 1.1345 - acc: 0.6038 - val_loss: 1.2723 - val_acc: 0.5591\n",
      "Epoch 24/60\n",
      "64/64 [==============================] - 94s 1s/step - loss: 1.1067 - acc: 0.6185 - val_loss: 1.2830 - val_acc: 0.5807\n",
      "Epoch 25/60\n",
      "64/64 [==============================] - 98s 2s/step - loss: 1.1327 - acc: 0.6084 - val_loss: 1.2245 - val_acc: 0.5802\n",
      "Epoch 26/60\n",
      "64/64 [==============================] - 97s 2s/step - loss: 1.1451 - acc: 0.6061 - val_loss: 1.2658 - val_acc: 0.5752\n",
      "Epoch 27/60\n",
      "64/64 [==============================] - 95s 1s/step - loss: 1.1471 - acc: 0.6046 - val_loss: 1.2490 - val_acc: 0.5745\n",
      "Epoch 28/60\n",
      "64/64 [==============================] - 101s 2s/step - loss: 1.1306 - acc: 0.6124 - val_loss: 1.2591 - val_acc: 0.5703\n",
      "Epoch 29/60\n",
      "64/64 [==============================] - 96s 2s/step - loss: 1.1321 - acc: 0.6040 - val_loss: 1.2910 - val_acc: 0.5729\n",
      "Epoch 30/60\n",
      "64/64 [==============================] - 95s 1s/step - loss: 1.1472 - acc: 0.5999 - val_loss: 1.2624 - val_acc: 0.5662\n",
      "Epoch 31/60\n",
      "64/64 [==============================] - 95s 1s/step - loss: 1.1192 - acc: 0.6064 - val_loss: 1.2863 - val_acc: 0.5729\n",
      "Epoch 32/60\n",
      "64/64 [==============================] - 93s 1s/step - loss: 1.1232 - acc: 0.6116 - val_loss: 1.2716 - val_acc: 0.5751\n",
      "Epoch 33/60\n",
      "64/64 [==============================] - 96s 2s/step - loss: 1.1024 - acc: 0.6117 - val_loss: 1.2900 - val_acc: 0.5823\n",
      "Epoch 34/60\n",
      "64/64 [==============================] - 94s 1s/step - loss: 1.1321 - acc: 0.6136 - val_loss: 1.2321 - val_acc: 0.5839\n",
      "Epoch 35/60\n",
      "64/64 [==============================] - 96s 1s/step - loss: 1.0948 - acc: 0.6154 - val_loss: 1.2592 - val_acc: 0.5781\n",
      "Epoch 36/60\n",
      "64/64 [==============================] - 96s 2s/step - loss: 1.1299 - acc: 0.6071 - val_loss: 1.2877 - val_acc: 0.5721\n",
      "Epoch 37/60\n",
      "64/64 [==============================] - 95s 1s/step - loss: 1.1238 - acc: 0.6115 - val_loss: 1.3025 - val_acc: 0.5682\n",
      "Epoch 38/60\n",
      "64/64 [==============================] - 96s 1s/step - loss: 1.1128 - acc: 0.6145 - val_loss: 1.2875 - val_acc: 0.5831\n",
      "Epoch 39/60\n",
      "64/64 [==============================] - 94s 1s/step - loss: 1.1043 - acc: 0.6083 - val_loss: 1.2897 - val_acc: 0.5714\n",
      "Epoch 40/60\n",
      "64/64 [==============================] - 97s 2s/step - loss: 1.0872 - acc: 0.6172 - val_loss: 1.2793 - val_acc: 0.5800\n",
      "Epoch 41/60\n",
      "64/64 [==============================] - 98s 2s/step - loss: 1.1079 - acc: 0.6124 - val_loss: 1.2703 - val_acc: 0.5782\n",
      "Epoch 42/60\n",
      "64/64 [==============================] - 99s 2s/step - loss: 1.0975 - acc: 0.6211 - val_loss: 1.2878 - val_acc: 0.5756\n",
      "Epoch 43/60\n",
      "64/64 [==============================] - 93s 1s/step - loss: 1.1159 - acc: 0.6112 - val_loss: 1.2938 - val_acc: 0.5693\n",
      "Epoch 44/60\n",
      "64/64 [==============================] - 94s 1s/step - loss: 1.1188 - acc: 0.6071 - val_loss: 1.2490 - val_acc: 0.5806\n",
      "Epoch 45/60\n",
      "64/64 [==============================] - 90s 1s/step - loss: 1.1206 - acc: 0.6055 - val_loss: 1.2668 - val_acc: 0.5706\n",
      "Epoch 46/60\n",
      "64/64 [==============================] - 96s 2s/step - loss: 1.1014 - acc: 0.6134 - val_loss: 1.2980 - val_acc: 0.5690\n",
      "Epoch 47/60\n",
      "64/64 [==============================] - 93s 1s/step - loss: 1.0879 - acc: 0.6211 - val_loss: 1.2871 - val_acc: 0.5774\n",
      "Epoch 48/60\n",
      "64/64 [==============================] - 97s 2s/step - loss: 1.0974 - acc: 0.6179 - val_loss: 1.2612 - val_acc: 0.5844\n",
      "Epoch 49/60\n",
      "64/64 [==============================] - 99s 2s/step - loss: 1.1072 - acc: 0.6187 - val_loss: 1.2725 - val_acc: 0.5793\n",
      "Epoch 50/60\n",
      "64/64 [==============================] - 97s 2s/step - loss: 1.0910 - acc: 0.6205 - val_loss: 1.2775 - val_acc: 0.5752\n",
      "Epoch 51/60\n",
      "64/64 [==============================] - 94s 1s/step - loss: 1.1012 - acc: 0.6163 - val_loss: 1.2603 - val_acc: 0.5865\n",
      "Epoch 52/60\n",
      "64/64 [==============================] - 92s 1s/step - loss: 1.1003 - acc: 0.6151 - val_loss: 1.2962 - val_acc: 0.5713\n",
      "Epoch 54/60\n",
      "64/64 [==============================] - 98s 2s/step - loss: 1.1168 - acc: 0.6100 - val_loss: 1.2823 - val_acc: 0.5842\n",
      "Epoch 55/60\n",
      "64/64 [==============================] - 95s 1s/step - loss: 1.0989 - acc: 0.6149 - val_loss: 1.2837 - val_acc: 0.5814\n",
      "Epoch 56/60\n",
      "64/64 [==============================] - 98s 2s/step - loss: 1.0773 - acc: 0.6234 - val_loss: 1.2707 - val_acc: 0.5815\n",
      "Epoch 57/60\n",
      "64/64 [==============================] - 92s 1s/step - loss: 1.0875 - acc: 0.6206 - val_loss: 1.2623 - val_acc: 0.5807\n",
      "Epoch 58/60\n",
      "64/64 [==============================] - 90s 1s/step - loss: 1.0897 - acc: 0.6168 - val_loss: 1.3164 - val_acc: 0.5814\n",
      "Epoch 59/60\n",
      "64/64 [==============================] - 92s 1s/step - loss: 1.0634 - acc: 0.6274 - val_loss: 1.2950 - val_acc: 0.5736\n",
      "Epoch 60/60\n",
      "64/64 [==============================] - 91s 1s/step - loss: 1.0856 - acc: 0.6213 - val_loss: 1.3135 - val_acc: 0.5626\n"
     ]
    }
   ],
   "source": [
    "mod1 = model_medium_lr.fit_generator(generator=training_generator, steps_per_epoch=64,\n",
    "                    validation_data=validation_generator, validation_steps=64,\n",
    "                    use_multiprocessing=True,\n",
    "                    workers=2, epochs=60,\n",
    "                    verbose=1)"
   ]
  },
  {
   "cell_type": "code",
   "execution_count": 8,
   "metadata": {},
   "outputs": [],
   "source": [
    "model_medium_lr.save_weights('../../data/weights/model_10_class_255_epochs.hdf5')"
   ]
  },
  {
   "cell_type": "code",
   "execution_count": 10,
   "metadata": {},
   "outputs": [
    {
     "data": {
      "text/plain": [
       "list"
      ]
     },
     "execution_count": 10,
     "metadata": {},
     "output_type": "execute_result"
    }
   ],
   "source": [
    "type(mod1.history['acc'])"
   ]
  },
  {
   "cell_type": "code",
   "execution_count": null,
   "metadata": {},
   "outputs": [],
   "source": []
  }
 ],
 "metadata": {
  "kernelspec": {
   "display_name": "Environment (conda_tensorflow_p36)",
   "language": "python",
   "name": "conda_tensorflow_p36"
  },
  "language_info": {
   "codemirror_mode": {
    "name": "ipython",
    "version": 3
   },
   "file_extension": ".py",
   "mimetype": "text/x-python",
   "name": "python",
   "nbconvert_exporter": "python",
   "pygments_lexer": "ipython3",
   "version": "3.6.4"
  }
 },
 "nbformat": 4,
 "nbformat_minor": 2
}
