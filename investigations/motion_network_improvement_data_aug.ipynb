{
 "cells": [
  {
   "cell_type": "markdown",
   "metadata": {},
   "source": [
    "# Idea to improve motion network accuracy\n",
    "\n",
    "Essentially I've done two things I've used a simple CIFAR style network (i.e. small convolution network of the internet that scores over 90% on CIFAR) which gave me 25% accuracy. Then I attempted using VGG16 which is quite a powerful network but I fudged the input layer weights using a trick call network modality. \n",
    "In theory this mean fine scale structures are potentially going into further on layers looking like garbage. I still got some decent results. But the training was quite slow. \n",
    "\n",
    "I do feel perhaps I'm not being patient with the training. 10 classes is one thing (CIFAR), a 101 is another. And then 1000 classes is definitely something else. Learning more fine grained differences may simply take quite a long time of learnning. I'm considering a much longer amount of training to see how it evolves. "
   ]
  },
  {
   "cell_type": "code",
   "execution_count": 1,
   "metadata": {},
   "outputs": [],
   "source": [
    "import os\n",
    "import sys\n",
    "\n",
    "\n",
    "up1 = os.path.abspath('../utils/') \n",
    "up2 = os.path.abspath('../models/') \n",
    "sys.path.insert(0, up1)\n",
    "sys.path.insert(0, up2)"
   ]
  },
  {
   "cell_type": "code",
   "execution_count": 2,
   "metadata": {},
   "outputs": [
    {
     "name": "stderr",
     "output_type": "stream",
     "text": [
      "/home/ubuntu/anaconda3/envs/tensorflow_p36/lib/python3.6/site-packages/h5py/__init__.py:36: FutureWarning: Conversion of the second argument of issubdtype from `float` to `np.floating` is deprecated. In future, it will be treated as `np.float64 == np.dtype(float).type`.\n",
      "  from ._conv import register_converters as _register_converters\n",
      "Using TensorFlow backend.\n",
      "/home/ubuntu/anaconda3/envs/tensorflow_p36/lib/python3.6/site-packages/matplotlib/__init__.py:1067: UserWarning: Duplicate key in file \"/home/ubuntu/.config/matplotlib/matplotlibrc\", line #2\n",
      "  (fname, cnt))\n",
      "/home/ubuntu/anaconda3/envs/tensorflow_p36/lib/python3.6/site-packages/matplotlib/__init__.py:1067: UserWarning: Duplicate key in file \"/home/ubuntu/.config/matplotlib/matplotlibrc\", line #3\n",
      "  (fname, cnt))\n"
     ]
    }
   ],
   "source": [
    "from optical_flow_data_gen import DataGenerator\n",
    "from ucf101_data_utils import get_test_data_opt_flow, get_train_data_opt_flow\n",
    "from motion_network import getKerasCifarMotionModel2, getKerasCifarMotionModelOnly\n",
    "from keras.optimizers import SGD\n",
    "from matplotlib import pyplot as plt\n",
    "from keras.optimizers import SGD\n",
    "import cv2 \n",
    "import numpy as np\n",
    "\n"
   ]
  },
  {
   "cell_type": "code",
   "execution_count": 3,
   "metadata": {},
   "outputs": [],
   "source": [
    "from keras.callbacks import ModelCheckpoint, Callback\n",
    "\n",
    "def get_callbacks(filepath):\n",
    "    msave = ModelCheckpoint(filepath, save_best_only=True)\n",
    "    return [msave]\n",
    "file_path = \"/data/su_buildup/two_stream_part2/data/weights/motion_model_weights_inv2_data_aug.hdf5\"\n",
    "callbacks = get_callbacks(filepath=file_path)"
   ]
  },
  {
   "cell_type": "code",
   "execution_count": 4,
   "metadata": {},
   "outputs": [
    {
     "name": "stdout",
     "output_type": "stream",
     "text": [
      "_________________________________________________________________\n",
      "Layer (type)                 Output Shape              Param #   \n",
      "=================================================================\n",
      "conv2d_1 (Conv2D)            (None, 224, 224, 32)      608       \n",
      "_________________________________________________________________\n",
      "activation_1 (Activation)    (None, 224, 224, 32)      0         \n",
      "_________________________________________________________________\n",
      "batch_normalization_1 (Batch (None, 224, 224, 32)      128       \n",
      "_________________________________________________________________\n",
      "conv2d_2 (Conv2D)            (None, 224, 224, 32)      9248      \n",
      "_________________________________________________________________\n",
      "activation_2 (Activation)    (None, 224, 224, 32)      0         \n",
      "_________________________________________________________________\n",
      "batch_normalization_2 (Batch (None, 224, 224, 32)      128       \n",
      "_________________________________________________________________\n",
      "max_pooling2d_1 (MaxPooling2 (None, 112, 112, 32)      0         \n",
      "_________________________________________________________________\n",
      "conv2d_3 (Conv2D)            (None, 112, 112, 64)      18496     \n",
      "_________________________________________________________________\n",
      "activation_3 (Activation)    (None, 112, 112, 64)      0         \n",
      "_________________________________________________________________\n",
      "batch_normalization_3 (Batch (None, 112, 112, 64)      256       \n",
      "_________________________________________________________________\n",
      "conv2d_4 (Conv2D)            (None, 112, 112, 64)      36928     \n",
      "_________________________________________________________________\n",
      "activation_4 (Activation)    (None, 112, 112, 64)      0         \n",
      "_________________________________________________________________\n",
      "batch_normalization_4 (Batch (None, 112, 112, 64)      256       \n",
      "_________________________________________________________________\n",
      "max_pooling2d_2 (MaxPooling2 (None, 56, 56, 64)        0         \n",
      "_________________________________________________________________\n",
      "conv2d_5 (Conv2D)            (None, 56, 56, 128)       73856     \n",
      "_________________________________________________________________\n",
      "activation_5 (Activation)    (None, 56, 56, 128)       0         \n",
      "_________________________________________________________________\n",
      "batch_normalization_5 (Batch (None, 56, 56, 128)       512       \n",
      "_________________________________________________________________\n",
      "conv2d_6 (Conv2D)            (None, 56, 56, 128)       147584    \n",
      "_________________________________________________________________\n",
      "activation_6 (Activation)    (None, 56, 56, 128)       0         \n",
      "_________________________________________________________________\n",
      "batch_normalization_6 (Batch (None, 56, 56, 128)       512       \n",
      "_________________________________________________________________\n",
      "max_pooling2d_3 (MaxPooling2 (None, 28, 28, 128)       0         \n",
      "_________________________________________________________________\n",
      "flatten_1 (Flatten)          (None, 100352)            0         \n",
      "_________________________________________________________________\n",
      "dense_1 (Dense)              (None, 512)               51380736  \n",
      "_________________________________________________________________\n",
      "activation_7 (Activation)    (None, 512)               0         \n",
      "_________________________________________________________________\n",
      "dense_2 (Dense)              (None, 101)               51813     \n",
      "=================================================================\n",
      "Total params: 51,721,061\n",
      "Trainable params: 51,720,165\n",
      "Non-trainable params: 896\n",
      "_________________________________________________________________\n"
     ]
    }
   ],
   "source": [
    "motion_model=getKerasCifarMotionModel2((224,224,2), 101, dropout=0)"
   ]
  },
  {
   "cell_type": "code",
   "execution_count": 5,
   "metadata": {},
   "outputs": [],
   "source": [
    "\n",
    "training_options = { 'rescale' : 1./255, \n",
    "                            'shear_range' : 0.2, \n",
    "                            'zoom_range' : 0.2, \n",
    "                            'horizontal_flip' : True,\n",
    "                             'rotation_range':20,\n",
    "                             'width_shift_range':0.2,\n",
    "                             'height_shift_range':0.2,\n",
    "                             'shear_range':0.2}\n",
    "\n",
    "validation_options = { 'rescale' : 1./255 }\n",
    "\n",
    "\n",
    "\n",
    "\n",
    "params_train = { 'data_dir' : \"/data/tvl1_flow\",\n",
    "          'dim': (224,224),\n",
    "          'batch_size': 32,\n",
    "          'n_frames': 1,\n",
    "          'n_frequency': 1,\n",
    "          'shuffle': True, \n",
    "           'validation' : False,\n",
    "               'training_opts' : training_options }\n",
    "\n",
    "params_valid = { 'data_dir' : \"/data/tvl1_flow\",\n",
    "          'dim': (224,224),\n",
    "          'batch_size': 32,\n",
    "          'n_frames': 1,\n",
    "          'n_frequency': 1,\n",
    "          'shuffle': True, \n",
    "           'validation' : True,\n",
    "               'validation_opts' : validation_options}"
   ]
  },
  {
   "cell_type": "code",
   "execution_count": 6,
   "metadata": {},
   "outputs": [],
   "source": [
    "id_labels_train = get_train_data_opt_flow('../data/ucf101_splits/trainlist01.txt')\n",
    "labels = id_labels_train[1]\n",
    "id_test = get_test_data_opt_flow('../data/ucf101_splits/testlist01.txt', \\\n",
    "                       '../data/ucf101_splits/classInd.txt')\n",
    "\n",
    "training_generator = DataGenerator(*id_labels_train, **params_train)\n",
    "\n",
    "\n",
    "validation_generator = DataGenerator(id_test[0], id_test[1], **params_valid)"
   ]
  },
  {
   "cell_type": "code",
   "execution_count": 7,
   "metadata": {},
   "outputs": [],
   "source": [
    "mypotim = SGD(lr=1e-3, momentum=0.9)\n",
    "motion_model.compile(loss='categorical_crossentropy',\n",
    "              optimizer=mypotim,\n",
    "              metrics=['accuracy'])"
   ]
  },
  {
   "cell_type": "code",
   "execution_count": 8,
   "metadata": {},
   "outputs": [
    {
     "name": "stdout",
     "output_type": "stream",
     "text": [
      "Epoch 1/2\n",
      "298/298 [==============================] - 131s 440ms/step - loss: 4.7024 - acc: 0.0365 - val_loss: 4.9782 - val_acc: 0.0387\n",
      "Epoch 2/2\n",
      "298/298 [==============================] - 127s 426ms/step - loss: 4.3208 - acc: 0.0622 - val_loss: 5.1799 - val_acc: 0.0519\n"
     ]
    }
   ],
   "source": [
    "mod1 = motion_model.fit_generator(generator=training_generator,\n",
    "                    validation_data=validation_generator,\n",
    "                    use_multiprocessing=True,\n",
    "                    workers=4, epochs=2,\n",
    "                    verbose=1)"
   ]
  },
  {
   "cell_type": "markdown",
   "metadata": {},
   "source": [
    "    Its pretty clear cut that the excessive dropout  used by the motion_model_dropout causes a much slower learning rate. And  \n",
    "    In theory one can expect that this model in the long term may converge with a higher accuracy. But can you wait  that long and is it worth it? Will you run out of money for the quicker model (with little or no dropout)"
   ]
  },
  {
   "cell_type": "markdown",
   "metadata": {},
   "source": [
    "# Train for a long time "
   ]
  },
  {
   "cell_type": "code",
   "execution_count": 9,
   "metadata": {},
   "outputs": [
    {
     "name": "stdout",
     "output_type": "stream",
     "text": [
      "Epoch 1/20\n",
      "297/298 [============================>.] - ETA: 0s - loss: 4.1320 - acc: 0.0904Epoch 1/20\n",
      "298/298 [==============================] - 127s 427ms/step - loss: 4.1317 - acc: 0.0906 - val_loss: 4.9662 - val_acc: 0.0575\n",
      "Epoch 2/20\n",
      "298/298 [==============================] - 128s 429ms/step - loss: 3.9409 - acc: 0.1207 - val_loss: 4.7903 - val_acc: 0.0792\n",
      "Epoch 3/20\n",
      "298/298 [==============================] - 127s 428ms/step - loss: 3.8055 - acc: 0.1419 - val_loss: 4.8007 - val_acc: 0.0797\n",
      "Epoch 4/20\n",
      "298/298 [==============================] - 128s 428ms/step - loss: 3.6686 - acc: 0.1660 - val_loss: 4.4453 - val_acc: 0.0900\n",
      "Epoch 5/20\n",
      "298/298 [==============================] - 128s 428ms/step - loss: 3.5174 - acc: 0.1909 - val_loss: 4.5883 - val_acc: 0.1057\n",
      "Epoch 6/20\n",
      "298/298 [==============================] - 128s 428ms/step - loss: 3.3881 - acc: 0.2165 - val_loss: 4.4053 - val_acc: 0.1186\n",
      "Epoch 7/20\n",
      "298/298 [==============================] - 128s 428ms/step - loss: 3.2076 - acc: 0.2588 - val_loss: 4.7911 - val_acc: 0.1149\n",
      "Epoch 9/20\n",
      "298/298 [==============================] - 128s 430ms/step - loss: 3.1003 - acc: 0.2734 - val_loss: 4.4106 - val_acc: 0.1332\n",
      "Epoch 10/20\n",
      "298/298 [==============================] - 128s 428ms/step - loss: 3.0398 - acc: 0.2818 - val_loss: 4.4795 - val_acc: 0.1208\n",
      "Epoch 11/20\n",
      "298/298 [==============================] - 128s 430ms/step - loss: 2.9465 - acc: 0.3117 - val_loss: 4.3707 - val_acc: 0.1412\n",
      "Epoch 12/20\n",
      "298/298 [==============================] - 128s 429ms/step - loss: 2.8625 - acc: 0.3212 - val_loss: 4.4492 - val_acc: 0.1457\n",
      "Epoch 13/20\n",
      "298/298 [==============================] - 128s 430ms/step - loss: 2.8302 - acc: 0.3327 - val_loss: 4.3514 - val_acc: 0.1592\n",
      "Epoch 14/20\n",
      "298/298 [==============================] - 128s 428ms/step - loss: 2.6912 - acc: 0.3553 - val_loss: 4.3784 - val_acc: 0.1557\n",
      "Epoch 15/20\n",
      "298/298 [==============================] - 128s 428ms/step - loss: 2.6518 - acc: 0.3633 - val_loss: 4.5564 - val_acc: 0.1494\n",
      "Epoch 16/20\n",
      "298/298 [==============================] - 127s 428ms/step - loss: 2.6258 - acc: 0.3820 - val_loss: 4.2528 - val_acc: 0.1655\n",
      "Epoch 17/20\n",
      "298/298 [==============================] - 128s 428ms/step - loss: 2.5271 - acc: 0.3940 - val_loss: 4.5794 - val_acc: 0.1547\n",
      "Epoch 18/20\n",
      "298/298 [==============================] - 128s 429ms/step - loss: 2.4507 - acc: 0.4121 - val_loss: 4.7075 - val_acc: 0.1576\n",
      "Epoch 19/20\n",
      "298/298 [==============================] - 128s 428ms/step - loss: 2.4596 - acc: 0.4195 - val_loss: 4.5509 - val_acc: 0.1663\n",
      "Epoch 20/20\n",
      "298/298 [==============================] - 128s 430ms/step - loss: 2.3590 - acc: 0.4322 - val_loss: 4.5767 - val_acc: 0.1610\n"
     ]
    }
   ],
   "source": [
    "mod1 = motion_model.fit_generator(generator=training_generator,\n",
    "                    validation_data=validation_generator,\n",
    "                    use_multiprocessing=True,\n",
    "                    workers=4, epochs=20,\n",
    "                    verbose=1, callbacks=callbacks)"
   ]
  },
  {
   "cell_type": "code",
   "execution_count": 10,
   "metadata": {},
   "outputs": [
    {
     "name": "stdout",
     "output_type": "stream",
     "text": [
      "Epoch 1/20\n",
      "298/298 [==============================] - 128s 431ms/step - loss: 2.2977 - acc: 0.4487 - val_loss: 4.2723 - val_acc: 0.1822\n",
      "Epoch 2/20\n",
      "298/298 [==============================] - 128s 429ms/step - loss: 2.2851 - acc: 0.4518 - val_loss: 4.1917 - val_acc: 0.1798\n",
      "Epoch 3/20\n",
      "298/298 [==============================] - 128s 429ms/step - loss: 2.2193 - acc: 0.4576 - val_loss: 4.4324 - val_acc: 0.1801\n",
      "Epoch 4/20\n",
      "298/298 [==============================] - 128s 429ms/step - loss: 2.1813 - acc: 0.4742 - val_loss: 4.2086 - val_acc: 0.1931\n",
      "Epoch 5/20\n",
      "298/298 [==============================] - 127s 428ms/step - loss: 2.1551 - acc: 0.4724 - val_loss: 4.2695 - val_acc: 0.1947\n",
      "Epoch 6/20\n",
      "298/298 [==============================] - 128s 428ms/step - loss: 2.0713 - acc: 0.4906 - val_loss: 4.3254 - val_acc: 0.1801\n",
      "Epoch 7/20\n",
      "298/298 [==============================] - 128s 429ms/step - loss: 2.0371 - acc: 0.5027 - val_loss: 4.4223 - val_acc: 0.1962\n",
      "Epoch 8/20\n",
      "298/298 [==============================] - 128s 429ms/step - loss: 1.9898 - acc: 0.5155 - val_loss: 4.4840 - val_acc: 0.1896\n",
      "Epoch 9/20\n",
      "298/298 [==============================] - 128s 429ms/step - loss: 1.9535 - acc: 0.5227 - val_loss: 4.3707 - val_acc: 0.1896\n",
      "Epoch 10/20\n",
      "298/298 [==============================] - 127s 428ms/step - loss: 1.8976 - acc: 0.5364 - val_loss: 4.6241 - val_acc: 0.1947\n",
      "Epoch 11/20\n",
      "298/298 [==============================] - 128s 429ms/step - loss: 1.8725 - acc: 0.5434 - val_loss: 4.3023 - val_acc: 0.1962\n",
      "Epoch 12/20\n",
      "298/298 [==============================] - 128s 429ms/step - loss: 1.8702 - acc: 0.5411 - val_loss: 4.2163 - val_acc: 0.2063\n",
      "Epoch 13/20\n",
      "298/298 [==============================] - 127s 428ms/step - loss: 1.8177 - acc: 0.5499 - val_loss: 4.3673 - val_acc: 0.2103\n",
      "Epoch 14/20\n",
      "298/298 [==============================] - 128s 429ms/step - loss: 1.7892 - acc: 0.5580 - val_loss: 4.2100 - val_acc: 0.2082\n",
      "Epoch 15/20\n",
      "298/298 [==============================] - 128s 429ms/step - loss: 1.6791 - acc: 0.5801 - val_loss: 4.2808 - val_acc: 0.2240\n",
      "Epoch 16/20\n",
      "298/298 [==============================] - 128s 430ms/step - loss: 1.6880 - acc: 0.5822 - val_loss: 4.4981 - val_acc: 0.1989\n",
      "Epoch 17/20\n",
      "298/298 [==============================] - 128s 429ms/step - loss: 1.6602 - acc: 0.5876 - val_loss: 4.3832 - val_acc: 0.2153\n",
      "Epoch 18/20\n",
      "298/298 [==============================] - 128s 429ms/step - loss: 1.6135 - acc: 0.6030 - val_loss: 4.8335 - val_acc: 0.2100\n",
      "Epoch 19/20\n",
      "298/298 [==============================] - 128s 429ms/step - loss: 1.6168 - acc: 0.6012 - val_loss: 4.3619 - val_acc: 0.2280\n",
      "Epoch 20/20\n",
      "298/298 [==============================] - 128s 428ms/step - loss: 1.5811 - acc: 0.6152 - val_loss: 4.3388 - val_acc: 0.2304\n"
     ]
    }
   ],
   "source": [
    "mod1 = motion_model.fit_generator(generator=training_generator,\n",
    "                    validation_data=validation_generator,\n",
    "                    use_multiprocessing=True,\n",
    "                    workers=4, epochs=20,\n",
    "                    verbose=1, callbacks=callbacks)"
   ]
  },
  {
   "cell_type": "code",
   "execution_count": 12,
   "metadata": {
    "scrolled": true
   },
   "outputs": [
    {
     "name": "stdout",
     "output_type": "stream",
     "text": [
      "Epoch 1/20\n",
      "298/298 [==============================] - 127s 427ms/step - loss: 1.5534 - acc: 0.6169 - val_loss: 4.4499 - val_acc: 0.2097\n",
      "Epoch 2/20\n",
      "298/298 [==============================] - 128s 429ms/step - loss: 1.5191 - acc: 0.6251 - val_loss: 4.3403 - val_acc: 0.2193\n",
      "Epoch 3/20\n",
      "298/298 [==============================] - 128s 429ms/step - loss: 1.4688 - acc: 0.6358 - val_loss: 4.2652 - val_acc: 0.2415\n",
      "Epoch 4/20\n",
      "298/298 [==============================] - 128s 429ms/step - loss: 1.4501 - acc: 0.6381 - val_loss: 4.4917 - val_acc: 0.2267\n",
      "Epoch 5/20\n",
      "298/298 [==============================] - 128s 429ms/step - loss: 1.4236 - acc: 0.6438 - val_loss: 4.3053 - val_acc: 0.2315\n",
      "Epoch 6/20\n",
      "298/298 [==============================] - 128s 429ms/step - loss: 1.4197 - acc: 0.6432 - val_loss: 4.5125 - val_acc: 0.2299\n",
      "Epoch 7/20\n",
      "298/298 [==============================] - 130s 435ms/step - loss: 1.4170 - acc: 0.6469 - val_loss: 4.4238 - val_acc: 0.2248\n",
      "Epoch 8/20\n",
      "298/298 [==============================] - 128s 429ms/step - loss: 1.3511 - acc: 0.6696 - val_loss: 4.2502 - val_acc: 0.2426\n",
      "Epoch 9/20\n",
      "298/298 [==============================] - 128s 429ms/step - loss: 1.3567 - acc: 0.6689 - val_loss: 4.3166 - val_acc: 0.2331\n",
      "Epoch 10/20\n",
      "298/298 [==============================] - 128s 430ms/step - loss: 1.3157 - acc: 0.6754 - val_loss: 4.3686 - val_acc: 0.2331\n",
      "Epoch 11/20\n",
      "298/298 [==============================] - 128s 429ms/step - loss: 1.3077 - acc: 0.6714 - val_loss: 4.4816 - val_acc: 0.2312\n",
      "Epoch 12/20\n",
      "298/298 [==============================] - 128s 428ms/step - loss: 1.2787 - acc: 0.6740 - val_loss: 4.2333 - val_acc: 0.2378\n",
      "Epoch 13/20\n",
      "298/298 [==============================] - 128s 429ms/step - loss: 1.2421 - acc: 0.6897 - val_loss: 4.3414 - val_acc: 0.2256\n",
      "Epoch 14/20\n",
      "298/298 [==============================] - 128s 429ms/step - loss: 1.2105 - acc: 0.6968 - val_loss: 4.2563 - val_acc: 0.2407\n",
      "Epoch 15/20\n",
      "298/298 [==============================] - 128s 429ms/step - loss: 1.1883 - acc: 0.7008 - val_loss: 4.4339 - val_acc: 0.2391\n",
      "Epoch 16/20\n",
      "298/298 [==============================] - 128s 428ms/step - loss: 1.1899 - acc: 0.7039 - val_loss: 4.1314 - val_acc: 0.2532\n",
      "Epoch 17/20\n",
      "298/298 [==============================] - 128s 428ms/step - loss: 1.1553 - acc: 0.7126 - val_loss: 4.4577 - val_acc: 0.2471\n",
      "Epoch 18/20\n",
      "298/298 [==============================] - 129s 432ms/step - loss: 1.1585 - acc: 0.7057 - val_loss: 4.4056 - val_acc: 0.2325\n",
      "Epoch 19/20\n",
      "298/298 [==============================] - 128s 428ms/step - loss: 1.1253 - acc: 0.7172 - val_loss: 4.3453 - val_acc: 0.2428\n"
     ]
    }
   ],
   "source": [
    "mod1 = motion_model.fit_generator(generator=training_generator,\n",
    "                    validation_data=validation_generator,\n",
    "                    use_multiprocessing=True,\n",
    "                    workers=4, epochs=20,\n",
    "                    verbose=1, callbacks=callbacks)"
   ]
  },
  {
   "cell_type": "code",
   "execution_count": 13,
   "metadata": {},
   "outputs": [
    {
     "name": "stdout",
     "output_type": "stream",
     "text": [
      "Epoch 1/1\n",
      "298/298 [==============================] - 127s 427ms/step - loss: 1.1062 - acc: 0.7281 - val_loss: 4.3732 - val_acc: 0.2383\n"
     ]
    }
   ],
   "source": [
    "mod2 = motion_model.fit_generator(generator=training_generator,\n",
    "                    validation_data=validation_generator,\n",
    "                    use_multiprocessing=True,\n",
    "                    workers=4, epochs=1,\n",
    "                    verbose=1, callbacks=callbacks)"
   ]
  },
  {
   "cell_type": "code",
   "execution_count": 14,
   "metadata": {},
   "outputs": [
    {
     "name": "stdout",
     "output_type": "stream",
     "text": [
      "Populating the interactive namespace from numpy and matplotlib\n"
     ]
    },
    {
     "name": "stderr",
     "output_type": "stream",
     "text": [
      "/home/ubuntu/anaconda3/envs/tensorflow_p36/lib/python3.6/site-packages/IPython/core/magics/pylab.py:160: UserWarning: pylab import has clobbered these variables: ['legend']\n",
      "`%matplotlib` prevents importing * from pylab and numpy\n",
      "  \"\\n`%matplotlib` prevents importing * from pylab and numpy\"\n"
     ]
    }
   ],
   "source": [
    "%pylab inline\n",
    "pylab.rcParams['figure.figsize'] = (20, 20)"
   ]
  },
  {
   "cell_type": "code",
   "execution_count": 15,
   "metadata": {},
   "outputs": [
    {
     "data": {
      "image/png": "[encoded data removed]",
      "text/plain": [
       "<Figure size 1440x1440 with 1 Axes>"
      ]
     },
     "metadata": {},
     "output_type": "display_data"
    }
   ],
   "source": [
    "\n",
    "fig, ax = plt.subplots()\n",
    "ax.plot(mod1.history['acc'], label='train acc')\n",
    "ax.plot(mod1.history['val_acc'], label='val acc')\n",
    "legend = ax.legend(loc='best', shadow=True)"
   ]
  },
  {
   "cell_type": "markdown",
   "metadata": {},
   "source": [
    "You can see that the  train accuracy has far outpaced the validation accuracy which only means one thing.  Over fitting. The next question then is  what is it overfitting (i.e. getting wrong)? The best way to figure this out is probably a confusion matrix."
   ]
  },
  {
   "cell_type": "markdown",
   "metadata": {},
   "source": [
    "# Low LR\n",
    "\n",
    "I'll now decrease  the LR and see if this helps in improving the validation accuracy "
   ]
  },
  {
   "cell_type": "code",
   "execution_count": 17,
   "metadata": {},
   "outputs": [],
   "source": [
    "motion_model2=getKerasCifarMotionModel2((224,224,2), 101, dropout=0, printmod=0)"
   ]
  },
  {
   "cell_type": "code",
   "execution_count": 18,
   "metadata": {},
   "outputs": [],
   "source": [
    "motion_model2.load_weights('/data/su_buildup/two_stream_part2/data/weights/motion_model_weights_inv2_data_aug.hdf5')"
   ]
  },
  {
   "cell_type": "code",
   "execution_count": 19,
   "metadata": {},
   "outputs": [],
   "source": [
    "mypotim = SGD(lr=1e-4, momentum=0.9)\n",
    "motion_model2.compile(loss='categorical_crossentropy',\n",
    "              optimizer=mypotim,\n",
    "              metrics=['accuracy'])"
   ]
  },
  {
   "cell_type": "code",
   "execution_count": 21,
   "metadata": {},
   "outputs": [
    {
     "name": "stdout",
     "output_type": "stream",
     "text": [
      "Epoch 1/5\n",
      "298/298 [==============================] - 127s 428ms/step - loss: 1.0888 - acc: 0.7260 - val_loss: 4.0546 - val_acc: 0.2659\n",
      "Epoch 2/5\n",
      "298/298 [==============================] - 126s 421ms/step - loss: 1.0439 - acc: 0.7378 - val_loss: 4.1425 - val_acc: 0.2672\n",
      "Epoch 3/5\n",
      "298/298 [==============================] - 126s 422ms/step - loss: 1.0250 - acc: 0.7473 - val_loss: 4.1381 - val_acc: 0.2675\n",
      "Epoch 4/5\n",
      "298/298 [==============================] - 126s 423ms/step - loss: 0.9895 - acc: 0.7526 - val_loss: 4.1805 - val_acc: 0.2699\n",
      "Epoch 5/5\n",
      "298/298 [==============================] - 126s 423ms/step - loss: 1.0004 - acc: 0.7487 - val_loss: 4.2332 - val_acc: 0.2646\n"
     ]
    }
   ],
   "source": [
    "mod3 = motion_model2.fit_generator(generator=training_generator,\n",
    "                    validation_data=validation_generator,\n",
    "                    use_multiprocessing=True,\n",
    "                    workers=4, epochs=5,\n",
    "                    verbose=1)"
   ]
  },
  {
   "cell_type": "code",
   "execution_count": 22,
   "metadata": {},
   "outputs": [
    {
     "name": "stdout",
     "output_type": "stream",
     "text": [
      "Epoch 1/10\n",
      "298/298 [==============================] - 126s 422ms/step - loss: 0.9739 - acc: 0.7579 - val_loss: 4.2464 - val_acc: 0.2564\n",
      "Epoch 2/10\n",
      "298/298 [==============================] - 126s 421ms/step - loss: 0.9500 - acc: 0.7600 - val_loss: 4.1771 - val_acc: 0.2651\n",
      "Epoch 3/10\n",
      "298/298 [==============================] - 126s 422ms/step - loss: 0.9600 - acc: 0.7538 - val_loss: 4.2210 - val_acc: 0.2622\n",
      "Epoch 4/10\n",
      "298/298 [==============================] - 126s 422ms/step - loss: 0.9380 - acc: 0.7690 - val_loss: 4.2094 - val_acc: 0.2707\n",
      "Epoch 5/10\n",
      "298/298 [==============================] - 126s 424ms/step - loss: 0.9388 - acc: 0.7615 - val_loss: 4.1706 - val_acc: 0.2688\n",
      "Epoch 6/10\n",
      "298/298 [==============================] - 126s 423ms/step - loss: 0.9263 - acc: 0.7720 - val_loss: 4.2139 - val_acc: 0.2683\n",
      "Epoch 7/10\n",
      "298/298 [==============================] - 126s 423ms/step - loss: 0.9496 - acc: 0.7614 - val_loss: 4.2084 - val_acc: 0.2603\n",
      "Epoch 8/10\n",
      "298/298 [==============================] - 126s 423ms/step - loss: 0.9288 - acc: 0.7689 - val_loss: 4.1772 - val_acc: 0.2632\n",
      "Epoch 9/10\n",
      "298/298 [==============================] - 126s 423ms/step - loss: 0.9257 - acc: 0.7700 - val_loss: 4.1272 - val_acc: 0.2643\n",
      "Epoch 10/10\n",
      "298/298 [==============================] - 126s 424ms/step - loss: 0.9200 - acc: 0.7685 - val_loss: 4.2171 - val_acc: 0.2662\n"
     ]
    }
   ],
   "source": [
    "mod3 = motion_model2.fit_generator(generator=training_generator,\n",
    "                    validation_data=validation_generator,\n",
    "                    use_multiprocessing=True,\n",
    "                    workers=4, epochs=10,\n",
    "                    verbose=1)"
   ]
  },
  {
   "cell_type": "code",
   "execution_count": 23,
   "metadata": {},
   "outputs": [],
   "source": [
    "motion_model2.save_weights('/data/su_buildup/two_stream_part2/data/weights/motion_model_weights_inv2_data_aug2.hdf5')"
   ]
  },
  {
   "cell_type": "code",
   "execution_count": null,
   "metadata": {},
   "outputs": [],
   "source": []
  }
 ],
 "metadata": {
  "kernelspec": {
   "display_name": "Environment (conda_tensorflow_p36)",
   "language": "python",
   "name": "conda_tensorflow_p36"
  },
  "language_info": {
   "codemirror_mode": {
    "name": "ipython",
    "version": 3
   },
   "file_extension": ".py",
   "mimetype": "text/x-python",
   "name": "python",
   "nbconvert_exporter": "python",
   "pygments_lexer": "ipython3",
   "version": "3.6.4"
  }
 },
 "nbformat": 4,
 "nbformat_minor": 2
}
