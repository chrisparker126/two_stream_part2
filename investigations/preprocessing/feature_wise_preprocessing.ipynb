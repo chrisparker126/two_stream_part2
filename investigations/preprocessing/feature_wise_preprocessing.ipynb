{
 "cells": [
  {
   "cell_type": "markdown",
   "metadata": {},
   "source": [
    "Something that's made me think he's how much sample_wise_preprocessing helped with improving the learning rate. \n",
    "My thoughts are now on how much feature wise preprocessing might help  "
   ]
  },
  {
   "cell_type": "code",
   "execution_count": 1,
   "metadata": {},
   "outputs": [],
   "source": [
    "import os\n",
    "import sys\n",
    "\n",
    "\n",
    "up1 = os.path.abspath('../../utils/') \n",
    "up2 = os.path.abspath('../../models/') \n",
    "sys.path.insert(0, up1)\n",
    "sys.path.insert(0, up2)"
   ]
  },
  {
   "cell_type": "code",
   "execution_count": 2,
   "metadata": {},
   "outputs": [
    {
     "name": "stderr",
     "output_type": "stream",
     "text": [
      "/home/ubuntu/anaconda3/envs/tensorflow_p36/lib/python3.6/site-packages/h5py/__init__.py:36: FutureWarning: Conversion of the second argument of issubdtype from `float` to `np.floating` is deprecated. In future, it will be treated as `np.float64 == np.dtype(float).type`.\n",
      "  from ._conv import register_converters as _register_converters\n",
      "Using TensorFlow backend.\n",
      "/home/ubuntu/anaconda3/envs/tensorflow_p36/lib/python3.6/site-packages/matplotlib/__init__.py:1067: UserWarning: Duplicate key in file \"/home/ubuntu/.config/matplotlib/matplotlibrc\", line #2\n",
      "  (fname, cnt))\n",
      "/home/ubuntu/anaconda3/envs/tensorflow_p36/lib/python3.6/site-packages/matplotlib/__init__.py:1067: UserWarning: Duplicate key in file \"/home/ubuntu/.config/matplotlib/matplotlibrc\", line #3\n",
      "  (fname, cnt))\n"
     ]
    }
   ],
   "source": [
    "from ucf101_data_utils import get_test_data_opt_flow, get_train_data_opt_flow\n",
    "from motion_network import getKerasCifarMotionModel2, getKerasCifarMotionModelOnly\n",
    "from keras.optimizers import SGD\n",
    "from matplotlib import pyplot as plt\n",
    "from keras.optimizers import SGD\n",
    "import cv2 \n",
    "import numpy as np\n",
    "import keras"
   ]
  },
  {
   "cell_type": "code",
   "execution_count": 20,
   "metadata": {},
   "outputs": [],
   "source": [
    "from optical_flow_data_gen import DataGenerator\n",
    "from ucf101_data_utils import get_test_data_opt_flow, get_train_data_opt_flow\n",
    "\n",
    "training_options_1 = { 'rescale' : 1./255, \n",
    "                     'samplewise_center': False, \n",
    "                         'samplewise_std_normalization':False,\n",
    "                            'zoom_range' : 0.2, \n",
    "                            'horizontal_flip' : True}\n",
    "\n",
    "validation_options_1 = { 'rescale' : 1./255,\n",
    "                     'samplewise_center': False, \n",
    "                         'samplewise_std_normalization':False}\n",
    "\n",
    "\n",
    "\n",
    "\n",
    "params_train_1 = { 'data_dir' : \"/data/tvl1_flow\",\n",
    "          'dim': (224,224),\n",
    "          'batch_size': 64,\n",
    "          'n_frames': 1,\n",
    "          'n_frequency': 1,\n",
    "          'shuffle': True, \n",
    "                'n_classes' : 10,\n",
    "           'validation' : False,\n",
    "                'enable_augmentation' : True,\n",
    "               'training_opts' : training_options_1}\n",
    "\n",
    "params_valid_1 = { 'data_dir' : \"/data/tvl1_flow\",\n",
    "          'dim': (224,224),\n",
    "          'batch_size':64,\n",
    "          'n_frames': 1,\n",
    "          'n_frequency': 1,\n",
    "          'shuffle': True, \n",
    "                'n_classes' : 10,\n",
    "           'validation' : True,\n",
    "               'validation_opts' : validation_options_1}\n",
    "\n",
    "id_labels_train = get_train_data_opt_flow('../../data/ucf101_splits/trainlist01_small.txt')\n",
    "labels = id_labels_train[1]\n",
    "id_test = get_test_data_opt_flow('../../data/ucf101_splits/testlist01_small.txt', \\\n",
    "                       '../../data/ucf101_splits/classInd_small.txt')\n",
    "\n",
    "training_gen_no_standardization = DataGenerator(*id_labels_train, **params_train_1)\n",
    "\n",
    "\n",
    "validation_gen_no_standardization = DataGenerator(id_test[0], id_test[1], **params_valid_1)"
   ]
  },
  {
   "cell_type": "code",
   "execution_count": 21,
   "metadata": {},
   "outputs": [],
   "source": [
    "from keras.models import Sequential\n",
    "from keras.layers import Conv2D, MaxPooling2D\n",
    "from keras.layers import Activation, Dropout, Flatten, Dense\n",
    "from keras.initializers import Ones\n",
    "from keras import optimizers\n",
    "\n",
    "def getModel(lr=1e-2):\n",
    "    model = Sequential()\n",
    "    model.add(Conv2D(32, (3, 3), input_shape=(224, 224, 2)))\n",
    "    model.add(Activation('relu'))\n",
    "    model.add(MaxPooling2D(pool_size=(2, 2)))\n",
    "\n",
    "    model.add(Conv2D(32, (3, 3)))\n",
    "    model.add(Activation('relu'))\n",
    "    model.add(MaxPooling2D(pool_size=(2, 2)))\n",
    "\n",
    "    model.add(Conv2D(64, (3, 3)))\n",
    "    model.add(Activation('relu'))\n",
    "    model.add(MaxPooling2D(pool_size=(2, 2)))\n",
    "\n",
    "    model.add(Flatten())  # this converts our 3D feature maps to 1D feature vectors\n",
    "    model.add(Dense(64))\n",
    "    model.add(Activation('relu'))\n",
    "    model.add(Dropout(0.5))\n",
    "    model.add(Dense(10))\n",
    "    model.add(Activation('sigmoid'))\n",
    "\n",
    "    optimizers.SGD(lr=lr)\n",
    "    model.compile(loss='categorical_crossentropy',\n",
    "                  optimizer='sgd',\n",
    "                  metrics=['accuracy'])\n",
    "    return model"
   ]
  },
  {
   "cell_type": "code",
   "execution_count": 22,
   "metadata": {},
   "outputs": [],
   "source": [
    "model_no_std = getModel(lr=1e-2)"
   ]
  },
  {
   "cell_type": "code",
   "execution_count": 23,
   "metadata": {},
   "outputs": [
    {
     "name": "stdout",
     "output_type": "stream",
     "text": [
      "Epoch 1/5\n",
      "14/32 [============>.................] - ETA: 7s - loss: 2.3049 - acc: 0.1083\n",
      "32/32 [==============================] - 22s 702ms/step - loss: 2.3039 - acc: 0.0967 - val_loss: 2.3003 - val_acc: 0.1206\n",
      "Epoch 2/5\n",
      "32/32 [==============================] - 19s 590ms/step - loss: 2.3022 - acc: 0.0933 - val_loss: 2.2999 - val_acc: 0.1201\n",
      "Epoch 3/5\n",
      "32/32 [==============================] - 19s 588ms/step - loss: 2.2999 - acc: 0.1201 - val_loss: 2.2985 - val_acc: 0.1230\n",
      "Epoch 4/5\n",
      "32/32 [==============================] - 19s 591ms/step - loss: 2.2992 - acc: 0.1143 - val_loss: 2.2976 - val_acc: 0.1216\n",
      "Epoch 5/5\n",
      "32/32 [==============================] - 19s 608ms/step - loss: 2.2990 - acc: 0.1108 - val_loss: 2.2971 - val_acc: 0.1221\n"
     ]
    }
   ],
   "source": [
    "mod1 = model_no_std.fit_generator(generator=training_gen_no_standardization, steps_per_epoch=32,\n",
    "                    validation_data=validation_gen_no_standardization, validation_steps=32,\n",
    "                    use_multiprocessing=True,\n",
    "                    workers=4, epochs=5,\n",
    "                    verbose=1)"
   ]
  },
  {
   "cell_type": "code",
   "execution_count": 31,
   "metadata": {},
   "outputs": [],
   "source": [
    "\n",
    "\n",
    "training_options_2 = { 'rescale' : 1./255, \n",
    "                     'samplewise_center': True, \n",
    "                         'samplewise_std_normalization':True,\n",
    "                            'zoom_range' : 0.2, \n",
    "                            'horizontal_flip' : True}\n",
    "\n",
    "validation_options_2 = { 'rescale' : 1./255,\n",
    "                     'samplewise_center': True, \n",
    "                         'samplewise_std_normalization':True}\n",
    "\n",
    "\n",
    "\n",
    "\n",
    "params_train_2 = { 'data_dir' : \"/data/tvl1_flow\",\n",
    "          'dim': (224,224),\n",
    "          'batch_size': 128,\n",
    "          'n_frames': 1,\n",
    "          'n_frequency': 1,\n",
    "          'shuffle': True, \n",
    "                'n_classes' : 10,\n",
    "           'validation' : False,\n",
    "                'enable_augmentation' : True,\n",
    "               'training_opts' : training_options_2}\n",
    "\n",
    "params_valid_2 = { 'data_dir' : \"/data/tvl1_flow\",\n",
    "          'dim': (224,224),\n",
    "          'batch_size':128,\n",
    "          'n_frames': 1,\n",
    "          'n_frequency': 1,\n",
    "          'shuffle': True, \n",
    "                'n_classes' : 10,\n",
    "           'validation' : True,\n",
    "               'validation_opts' : validation_options_2}\n",
    "\n",
    "id_labels_train = get_train_data_opt_flow('../../data/ucf101_splits/trainlist01_small.txt')\n",
    "labels = id_labels_train[1]\n",
    "id_test = get_test_data_opt_flow('../../data/ucf101_splits/testlist01_small.txt', \\\n",
    "                       '../../data/ucf101_splits/classInd_small.txt')\n",
    "\n",
    "training_gen_with_standardization = DataGenerator(*id_labels_train, **params_train_2)\n",
    "\n",
    "\n",
    "validation_gen_with_standardization = DataGenerator(id_test[0], id_test[1], **params_valid_2)"
   ]
  },
  {
   "cell_type": "code",
   "execution_count": 32,
   "metadata": {},
   "outputs": [],
   "source": [
    "model_with_std = getModel(lr=1e-2)"
   ]
  },
  {
   "cell_type": "code",
   "execution_count": 30,
   "metadata": {},
   "outputs": [
    {
     "name": "stdout",
     "output_type": "stream",
     "text": [
      "Epoch 1/5\n",
      "14/32 [============>.................] - ETA: 7s - loss: 2.2929 - acc: 0.1116\n",
      "32/32 [==============================] - 25s 775ms/step - loss: 2.2819 - acc: 0.1279 - val_loss: 2.2654 - val_acc: 0.1436\n",
      "Epoch 2/5\n",
      "32/32 [==============================] - 21s 670ms/step - loss: 2.2550 - acc: 0.1489 - val_loss: 2.2433 - val_acc: 0.1675\n",
      "Epoch 3/5\n",
      "32/32 [==============================] - 21s 657ms/step - loss: 2.2179 - acc: 0.1865 - val_loss: 2.2151 - val_acc: 0.2368\n",
      "Epoch 4/5\n",
      "32/32 [==============================] - 21s 653ms/step - loss: 2.2004 - acc: 0.2310 - val_loss: 2.1978 - val_acc: 0.2217\n",
      "Epoch 5/5\n",
      "32/32 [==============================] - 21s 654ms/step - loss: 2.1748 - acc: 0.2192 - val_loss: 2.1636 - val_acc: 0.2671\n"
     ]
    }
   ],
   "source": [
    "mod2 = model_with_std.fit_generator(generator=training_gen_with_standardization, steps_per_epoch=32,\n",
    "                    validation_data=validation_gen_with_standardization, validation_steps=32,\n",
    "                    use_multiprocessing=True,\n",
    "                    workers=4, epochs=5,\n",
    "                    verbose=1)"
   ]
  },
  {
   "cell_type": "code",
   "execution_count": 33,
   "metadata": {},
   "outputs": [
    {
     "name": "stdout",
     "output_type": "stream",
     "text": [
      "Epoch 1/5\n",
      " 6/32 [====>.........................] - ETA: 31s - loss: 2.2768 - acc: 0.1146\n",
      "32/32 [==============================] - 51s 2s/step - loss: 2.2606 - acc: 0.1130 - val_loss: 2.2481 - val_acc: 0.1450\n",
      "Epoch 2/5\n",
      "32/32 [==============================] - 50s 2s/step - loss: 2.2188 - acc: 0.1501 - val_loss: 2.2220 - val_acc: 0.1533\n",
      "Epoch 3/5\n",
      "32/32 [==============================] - 45s 1s/step - loss: 2.1899 - acc: 0.1819 - val_loss: 2.2161 - val_acc: 0.2434\n",
      "Epoch 4/5\n",
      "32/32 [==============================] - 49s 2s/step - loss: 2.1768 - acc: 0.2273 - val_loss: 2.1788 - val_acc: 0.2756\n",
      "Epoch 5/5\n",
      "32/32 [==============================] - 45s 1s/step - loss: 2.1424 - acc: 0.2493 - val_loss: 2.1577 - val_acc: 0.2886\n"
     ]
    }
   ],
   "source": [
    "mod2_ = model_with_std.fit_generator(generator=training_gen_with_standardization, steps_per_epoch=32,\n",
    "                    validation_data=validation_gen_with_standardization, validation_steps=32,\n",
    "                    use_multiprocessing=True,\n",
    "                    workers=4, epochs=5,\n",
    "                    verbose=1)"
   ]
  },
  {
   "cell_type": "markdown",
   "metadata": {},
   "source": [
    "So its obvious standardization offers a huge benefit. My feeling though is that with a small batch sample you are essentially getting goodish scaling, but you are not improving the search within the feature space globally."
   ]
  },
  {
   "cell_type": "markdown",
   "metadata": {},
   "source": [
    "## Data generator with Feature scaling "
   ]
  },
  {
   "cell_type": "code",
   "execution_count": 15,
   "metadata": {},
   "outputs": [],
   "source": [
    "\n",
    "\n",
    "training_options_3 = { 'rescale' : 1./255,\n",
    "                            'zoom_range' : 0.2, \n",
    "                            'horizontal_flip' : True }\n",
    "\n",
    "validation_options_3 = { 'rescale' : 1./255 }\n",
    "\n",
    "\n",
    "\n",
    "\n",
    "params_train_3 = { 'data_dir' : \"/data/tvl1_flow\",\n",
    "          'dim': (224,224),\n",
    "          'batch_size': 64,\n",
    "          'n_frames': 1,\n",
    "          'n_frequency': 1,\n",
    "          'shuffle': True, \n",
    "                'n_classes' : 10,\n",
    "           'validation' : False,\n",
    "                'enable_augmentation' : False,\n",
    "                  'feature_wise_standardization' : True,\n",
    "               'training_opts' : training_options_3}\n",
    "\n",
    "params_valid_3 = { 'data_dir' : \"/data/tvl1_flow\",\n",
    "          'dim': (224,224),\n",
    "          'batch_size':64,\n",
    "          'n_frames': 1,\n",
    "          'n_frequency': 1,\n",
    "          'shuffle': True, \n",
    "                  'feature_wise_standardization' : True,\n",
    "                'n_classes' : 10,\n",
    "           'validation' : True,\n",
    "               'validation_opts' : validation_options_3}\n",
    "\n",
    "id_labels_train = get_train_data_opt_flow('../../data/ucf101_splits/trainlist01_small.txt')\n",
    "labels = id_labels_train[1]\n",
    "id_test = get_test_data_opt_flow('../../data/ucf101_splits/testlist01_small.txt', \\\n",
    "                       '../../data/ucf101_splits/classInd_small.txt')\n",
    "\n",
    "training_gen_with_feature_std = DataGenerator(*id_labels_train, **params_train_3)\n",
    "\n",
    "\n",
    "validation_gen_with_feature_std = DataGenerator(id_test[0], id_test[1], **params_valid_3)"
   ]
  },
  {
   "cell_type": "code",
   "execution_count": 16,
   "metadata": {},
   "outputs": [],
   "source": [
    "training_gen_with_feature_std.fit()"
   ]
  },
  {
   "cell_type": "code",
   "execution_count": 17,
   "metadata": {},
   "outputs": [],
   "source": [
    "validation_gen_with_feature_std.fit()"
   ]
  },
  {
   "cell_type": "code",
   "execution_count": 18,
   "metadata": {},
   "outputs": [],
   "source": [
    "model_with_fw_std = getModel(lr=1e-2)"
   ]
  },
  {
   "cell_type": "code",
   "execution_count": 19,
   "metadata": {},
   "outputs": [
    {
     "name": "stdout",
     "output_type": "stream",
     "text": [
      "Epoch 1/10\n",
      "14/32 [============>.................] - ETA: 4s - loss: 2.4058 - acc: 0.1038\n",
      "32/32 [==============================] - 16s 513ms/step - loss: 2.3483 - acc: 0.1006 - val_loss: 2.3038 - val_acc: 0.0913\n",
      "Epoch 2/10\n",
      "32/32 [==============================] - 15s 463ms/step - loss: 2.3034 - acc: 0.1099 - val_loss: 2.3000 - val_acc: 0.1226\n",
      "Epoch 3/10\n",
      "32/32 [==============================] - 15s 467ms/step - loss: 2.3021 - acc: 0.1035 - val_loss: 2.2986 - val_acc: 0.1230\n",
      "Epoch 4/10\n",
      "32/32 [==============================] - 14s 449ms/step - loss: 2.3021 - acc: 0.1040 - val_loss: 2.2993 - val_acc: 0.1255\n",
      "Epoch 5/10\n",
      "32/32 [==============================] - 15s 456ms/step - loss: 2.3022 - acc: 0.1079 - val_loss: 2.2986 - val_acc: 0.1064\n",
      "Epoch 6/10\n",
      "32/32 [==============================] - 14s 450ms/step - loss: 2.2999 - acc: 0.1104 - val_loss: 2.2983 - val_acc: 0.1245\n",
      "Epoch 7/10\n",
      "32/32 [==============================] - 14s 443ms/step - loss: 2.2969 - acc: 0.1182 - val_loss: 2.2953 - val_acc: 0.1226\n",
      "Epoch 8/10\n",
      "32/32 [==============================] - 16s 487ms/step - loss: 2.2983 - acc: 0.1147 - val_loss: 2.2957 - val_acc: 0.1055\n",
      "Epoch 9/10\n",
      "32/32 [==============================] - 15s 482ms/step - loss: 2.3004 - acc: 0.1060 - val_loss: 2.2976 - val_acc: 0.1226\n",
      "Epoch 10/10\n",
      "32/32 [==============================] - 15s 463ms/step - loss: 2.3002 - acc: 0.0977 - val_loss: 2.2976 - val_acc: 0.1245\n"
     ]
    }
   ],
   "source": [
    "mod3 = model_with_fw_std.fit_generator(generator=training_gen_with_feature_std, steps_per_epoch=32,\n",
    "                    validation_data=validation_gen_with_feature_std, validation_steps=32,\n",
    "                    use_multiprocessing=True,\n",
    "                    workers=4, epochs=10,\n",
    "                    verbose=1)"
   ]
  },
  {
   "cell_type": "code",
   "execution_count": 10,
   "metadata": {},
   "outputs": [],
   "source": [
    "\n",
    "\n",
    "\n",
    "training_options_4 = { 'rescale' : 1./255, \n",
    "                     'samplewise_center': True, \n",
    "                         'samplewise_std_normalization':True,\n",
    "                            'zoom_range' : 0.2, \n",
    "                            'horizontal_flip' : True}\n",
    "\n",
    "validation_options_4 = { 'rescale' : 1./255,\n",
    "                     'samplewise_center': True, \n",
    "                         'samplewise_std_normalization':True}\n",
    "\n",
    "\n",
    "\n",
    "params_train_4 = { 'data_dir' : \"/data/tvl1_flow\",\n",
    "          'dim': (224,224),\n",
    "          'batch_size': 64,\n",
    "          'n_frames': 1,\n",
    "          'n_frequency': 1,\n",
    "          'shuffle': True, \n",
    "                'n_classes' : 10,\n",
    "           'validation' : False,\n",
    "                'enable_augmentation' : True,\n",
    "                  'feature_wise_standardization' : True,\n",
    "               'training_opts' : training_options_4}\n",
    "\n",
    "params_valid_4 = { 'data_dir' : \"/data/tvl1_flow\",\n",
    "          'dim': (224,224),\n",
    "          'batch_size':64,\n",
    "          'n_frames': 1,\n",
    "          'n_frequency': 1,\n",
    "          'shuffle': True, \n",
    "                  'feature_wise_standardization' : True,\n",
    "                'n_classes' : 10,\n",
    "           'validation' : True,\n",
    "               'validation_opts' : validation_options_4}\n",
    "\n",
    "id_labels_train = get_train_data_opt_flow('../../data/ucf101_splits/trainlist01_small.txt')\n",
    "labels = id_labels_train[1]\n",
    "id_test = get_test_data_opt_flow('../../data/ucf101_splits/testlist01_small.txt', \\\n",
    "                       '../../data/ucf101_splits/classInd_small.txt')\n",
    "\n",
    "training_gen_with_fw_std_sample = DataGenerator(*id_labels_train, **params_train_4)\n",
    "\n",
    "\n",
    "validation_gen_with_fw_std_sample = DataGenerator(id_test[0], id_test[1], **params_valid_4)"
   ]
  },
  {
   "cell_type": "code",
   "execution_count": 11,
   "metadata": {},
   "outputs": [],
   "source": [
    "training_gen_with_fw_std_sample.fit()"
   ]
  },
  {
   "cell_type": "code",
   "execution_count": 12,
   "metadata": {},
   "outputs": [],
   "source": [
    "validation_gen_with_fw_std_sample.fit()"
   ]
  },
  {
   "cell_type": "code",
   "execution_count": 13,
   "metadata": {},
   "outputs": [],
   "source": [
    "model_with_fw_std_sample = getModel(lr=1e-2)"
   ]
  },
  {
   "cell_type": "code",
   "execution_count": 14,
   "metadata": {},
   "outputs": [
    {
     "name": "stdout",
     "output_type": "stream",
     "text": [
      "Epoch 1/10\n",
      " 5/32 [===>..........................] - ETA: 11s - loss: 2.4074 - acc: 0.0719\n",
      "32/32 [==============================] - 26s 798ms/step - loss: 2.3198 - acc: 0.1011 - val_loss: 2.3046 - val_acc: 0.1113\n",
      "Epoch 2/10\n",
      "32/32 [==============================] - 25s 792ms/step - loss: 2.3032 - acc: 0.1143 - val_loss: 2.3024 - val_acc: 0.1138\n",
      "Epoch 3/10\n",
      "32/32 [==============================] - 27s 839ms/step - loss: 2.3023 - acc: 0.1235 - val_loss: 2.3023 - val_acc: 0.1133\n",
      "Epoch 4/10\n",
      "32/32 [==============================] - 25s 797ms/step - loss: 2.3021 - acc: 0.1260 - val_loss: 2.3022 - val_acc: 0.1138\n",
      "Epoch 5/10\n",
      "32/32 [==============================] - 26s 807ms/step - loss: 2.3020 - acc: 0.1206 - val_loss: 2.3021 - val_acc: 0.1138\n",
      "Epoch 6/10\n",
      "32/32 [==============================] - 27s 838ms/step - loss: 2.3018 - acc: 0.1255 - val_loss: 2.3019 - val_acc: 0.1167\n",
      "Epoch 7/10\n",
      "32/32 [==============================] - 25s 781ms/step - loss: 2.3017 - acc: 0.1245 - val_loss: 2.3019 - val_acc: 0.1123\n",
      "Epoch 8/10\n",
      "32/32 [==============================] - 25s 789ms/step - loss: 2.3015 - acc: 0.1245 - val_loss: 2.3018 - val_acc: 0.1113\n",
      "Epoch 9/10\n",
      "32/32 [==============================] - 26s 811ms/step - loss: 2.3014 - acc: 0.1230 - val_loss: 2.3017 - val_acc: 0.1118\n",
      "Epoch 10/10\n",
      "32/32 [==============================] - 25s 791ms/step - loss: 2.3012 - acc: 0.1260 - val_loss: 2.3016 - val_acc: 0.1118\n"
     ]
    }
   ],
   "source": [
    "mod4 = model_with_fw_std_sample.fit_generator(generator=validation_gen_with_fw_std_sample, steps_per_epoch=32,\n",
    "                    validation_data=training_gen_with_fw_std_sample, validation_steps=32,\n",
    "                    use_multiprocessing=True,\n",
    "                    workers=4, epochs=10,\n",
    "                    verbose=1)"
   ]
  },
  {
   "cell_type": "code",
   "execution_count": null,
   "metadata": {},
   "outputs": [],
   "source": []
  }
 ],
 "metadata": {
  "kernelspec": {
   "display_name": "Environment (conda_tensorflow_p36)",
   "language": "python",
   "name": "conda_tensorflow_p36"
  },
  "language_info": {
   "codemirror_mode": {
    "name": "ipython",
    "version": 3
   },
   "file_extension": ".py",
   "mimetype": "text/x-python",
   "name": "python",
   "nbconvert_exporter": "python",
   "pygments_lexer": "ipython3",
   "version": "3.6.4"
  }
 },
 "nbformat": 4,
 "nbformat_minor": 2
}
